{
 "cells": [
  {
   "cell_type": "markdown",
   "id": "ebb40ccd",
   "metadata": {},
   "source": [
    "# Reproduce Experiments in section H.1"
   ]
  },
  {
   "cell_type": "code",
   "execution_count": null,
   "id": "269b46d0",
   "metadata": {},
   "outputs": [],
   "source": [
    "# import packages\n",
    "import numpy as np\n",
    "import matplotlib.pyplot as plt\n",
    "\n",
    "from Source.agent import H1_DualMirrorDescentOGD\n",
    "from Source.env import H1_OnlineLinearEnv"
   ]
  },
  {
   "cell_type": "code",
   "execution_count": null,
   "id": "132ebe87",
   "metadata": {},
   "outputs": [],
   "source": [
    "m = 4\n",
    "T = 10\n",
    "d = 4\n",
    "random_seed = 0\n",
    "s = 1.0\n",
    "\n",
    "env = H1_OnlineLinearEnv(m=m, T=T, d=d, random_seed=random_seed)\n",
    "agent = H1_DualMirrorDescentOGD(m=m, T=T, d=d, b=env.b, rho=env.rho, eta=s / np.sqrt(T * m))\n",
    "while not env.if_stop():\n",
    "    r_t, c_t = env.deal()\n",
    "    action = agent.action(r_t=r_t, c_t=c_t)\n",
    "    env.observe(action)\n",
    "\n",
    "# calculate the upper bound\n",
    "mu_mean = np.cumsum(agent.mu_, axis=1) / np.arange(1, T + 1)\n",
    "reward_upper_bound = np.zeros(T)\n",
    "for tt in range(0, T):\n",
    "    for tt_ in range(0, tt + 1):\n",
    "        reward_upper_bound[tt] += np.max(agent.r_t[:, tt_] - mu_mean[:, tt] @ agent.c_t[:, :, tt_])\n",
    "    reward_upper_bound[tt] += (tt + 1) * agent.rho @ mu_mean[:, tt]\n",
    "\n",
    "reward_upper_bound_temp = np.zeros(T)\n",
    "for tt in range(0, T):\n",
    "    reward_upper_bound_temp[tt] = np.sum(np.max(agent.r_t[:, 0 : tt + 1] - np.einsum(\"i,ijk->jk\", mu_mean[:, tt], agent.c_t[:, :, 0 : tt + 1]), axis=0))\n",
    "    reward_upper_bound_temp[tt] += (tt + 1) * agent.rho @ mu_mean[:, tt]\n",
    "print(np.abs(np.max(reward_upper_bound_temp - reward_upper_bound)))\n",
    "\n",
    "reward_agent = np.cumsum(agent.reward)\n",
    "\n",
    "plt.plot(reward_upper_bound - reward_agent)\n",
    "plt.show()"
   ]
  }
 ],
 "metadata": {
  "kernelspec": {
   "display_name": "Python 3",
   "language": "python",
   "name": "python3"
  },
  "language_info": {
   "codemirror_mode": {
    "name": "ipython",
    "version": 3
   },
   "file_extension": ".py",
   "mimetype": "text/x-python",
   "name": "python",
   "nbconvert_exporter": "python",
   "pygments_lexer": "ipython3",
   "version": "3.8.8"
  }
 },
 "nbformat": 4,
 "nbformat_minor": 5
}
