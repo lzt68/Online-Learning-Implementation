{
 "cells": [
  {
   "cell_type": "markdown",
   "id": "b2eff9f9",
   "metadata": {},
   "source": [
    "# First Set of Experiments\n",
    "+ 6 arms, with mean reward $\\{1, 4/5, 3/5, 2/5, 1/5, 0\\}$\n",
    "+ Gaussian Rewand with variance $1/4$\n",
    "+ $\\delta=0.1$, $\\epsilon=0.01$"
   ]
  },
  {
   "cell_type": "code",
   "execution_count": 1,
   "id": "017240d3",
   "metadata": {
    "code_folding": [
     0
    ]
   },
   "outputs": [],
   "source": [
    "# import packages\n",
    "import numpy as np\n",
    "import matplotlib.pyplot as plt\n",
    "import time\n",
    "from tqdm import tqdm\n",
    "\n",
    "from Source.agent import ActionElimination_agent, UCB_agent, LUCB_agent\n",
    "from Source.env import Environment_Gaussian"
   ]
  },
  {
   "cell_type": "code",
   "execution_count": 2,
   "id": "9c67a5de",
   "metadata": {
    "code_folding": [
     0
    ]
   },
   "outputs": [
    {
     "name": "stdout",
     "output_type": "stream",
     "text": [
      "H1 is 36.59027777777779\n"
     ]
    }
   ],
   "source": [
    "# numeric setting\n",
    "K = 6\n",
    "rlist = np.linspace(1.0, 0.0, K)\n",
    "H1 = np.sum(1 / (rlist[1:] - rlist[0])**2)\n",
    "print(f\"H1 is {H1}\")\n",
    "\n",
    "delta = 0.1\n",
    "epsilon = 0.01\n",
    "n_experiment = 5000\n",
    "\n",
    "T = 75 * int(H1)"
   ]
  },
  {
   "cell_type": "markdown",
   "id": "e08c7202",
   "metadata": {
    "heading_collapsed": true
   },
   "source": [
    "## Figure for Action Elimination"
   ]
  },
  {
   "cell_type": "code",
   "execution_count": 3,
   "id": "98ef48f9",
   "metadata": {
    "code_folding": [
     0
    ],
    "hidden": true
   },
   "outputs": [
    {
     "name": "stderr",
     "output_type": "stream",
     "text": [
      "100%|██████████████████████████████████████████████████████████████████████████████| 5000/5000 [01:54<00:00, 43.72it/s]\n"
     ]
    }
   ],
   "source": [
    "# conduct the experiment\n",
    "agent_class = ActionElimination_agent\n",
    "\n",
    "action_history_ = []\n",
    "prediction_ = np.zeros(n_experiment)\n",
    "\n",
    "for exp_index in tqdm(range(n_experiment)):\n",
    "    env = Environment_Gaussian(rlist=rlist, K=K, random_seed=exp_index)\n",
    "    agent = agent_class(K=K)\n",
    "    action_history = []\n",
    "    for tt in range(T):\n",
    "        arm = agent.action()\n",
    "        reward = env.response(arm)\n",
    "        agent.observe(reward)\n",
    "        action_history.append(arm)\n",
    "        if agent.if_stop():\n",
    "            break\n",
    "    action_history_.append(np.array(action_history))\n",
    "    if agent.if_stop():\n",
    "        prediction_[exp_index] = agent.predict()"
   ]
  },
  {
   "cell_type": "code",
   "execution_count": 4,
   "id": "9df93acc",
   "metadata": {
    "code_folding": [
     0
    ],
    "hidden": true,
    "scrolled": true
   },
   "outputs": [
    {
     "data": {
      "image/png": "[encoded data removed]",
      "text/plain": [
       "<Figure size 432x288 with 1 Axes>"
      ]
     },
     "metadata": {
      "needs_background": "light"
     },
     "output_type": "display_data"
    }
   ],
   "source": [
    "# plot the figure\n",
    "\n",
    "# define auxiliary function to calculate the proportion of indices\n",
    "def rolling_mean(arr, n=6):\n",
    "    ret = np.cumsum(arr)\n",
    "    ret[n:] = ret[n:]-ret[:-n]\n",
    "    return ret[n-1:] / n\n",
    "    # example: \n",
    "    # rolling_mean(arr=np.arange(1, 10), n=4) will return\n",
    "    # array([2.5, 3.5, 4.5, 5.5, 6.5, 7.5])\n",
    "\n",
    "# If the experiment terminates earlier than count_max, adopt prediction as action in the empty tail\n",
    "action_history_np = np.zeros((n_experiment, T))\n",
    "for exp_index in range(n_experiment):\n",
    "    length = len(action_history_[exp_index])\n",
    "    action_history_np[exp_index, 0:length] = action_history_[exp_index]\n",
    "    action_history_np[exp_index, length:] = prediction_[exp_index]\n",
    "\n",
    "# split the record of each arm\n",
    "action_bool_ = list() # each element in this list is a boolean 2d array, correpsonds to each arm\n",
    "for kk in range(1, K+1):\n",
    "    action_bool_.append(action_history_np==kk)\n",
    "\n",
    "# calculate the proportion of indices\n",
    "action_average_ = list()\n",
    "for kk in range(K):\n",
    "    temp_array = np.zeros((n_experiment, T-K+1))\n",
    "    for exp_index in range(n_experiment):\n",
    "        temp_array[exp_index] = rolling_mean(arr=action_bool_[kk][exp_index], n=K)\n",
    "    action_average_.append(temp_array)\n",
    "\n",
    "# plot the figure\n",
    "plt.figure()\n",
    "for kk in range(K):\n",
    "    action_kk_average_ = np.mean(action_average_[kk], axis=0)\n",
    "    plt.plot(np.arange(1, T+1-K+1), action_kk_average_, label=f\"arm {kk+1}\")\n",
    "    \n",
    "plt.xlabel(\"Round Index\")\n",
    "plt.ylabel(r\"$\\mathbb{P}(I_t=i)$\")\n",
    "plt.title(f\"{agent_class.__name__}\")\n",
    "plt.legend()\n",
    "plt.show()"
   ]
  },
  {
   "cell_type": "markdown",
   "id": "7a1b431c",
   "metadata": {
    "heading_collapsed": true
   },
   "source": [
    "## Figure for UCB"
   ]
  },
  {
   "cell_type": "code",
   "execution_count": 5,
   "id": "5997e81a",
   "metadata": {
    "code_folding": [
     0
    ],
    "hidden": true
   },
   "outputs": [
    {
     "name": "stderr",
     "output_type": "stream",
     "text": [
      "100%|██████████████████████████████████████████████████████████████████████████████| 5000/5000 [03:53<00:00, 21.41it/s]\n"
     ]
    }
   ],
   "source": [
    "# conduct the experiment\n",
    "agent_class = UCB_agent\n",
    "\n",
    "action_history_ = []\n",
    "prediction_ = np.zeros(n_experiment)\n",
    "\n",
    "for exp_index in tqdm(range(n_experiment)):\n",
    "    env = Environment_Gaussian(rlist=rlist, K=K, random_seed=exp_index)\n",
    "    agent = agent_class(K=K)\n",
    "    action_history = []\n",
    "    for tt in range(T):\n",
    "        arm = agent.action()\n",
    "        reward = env.response(arm)\n",
    "        agent.observe(reward)\n",
    "        action_history.append(arm)\n",
    "        if agent.if_stop():\n",
    "            break\n",
    "    action_history_.append(np.array(action_history))\n",
    "    if agent.if_stop():\n",
    "        prediction_[exp_index] = agent.predict()"
   ]
  },
  {
   "cell_type": "code",
   "execution_count": 6,
   "id": "019e1e92",
   "metadata": {
    "code_folding": [
     0
    ],
    "hidden": true,
    "scrolled": false
   },
   "outputs": [
    {
     "name": "stdout",
     "output_type": "stream",
     "text": [
      "length of longest experiment 2700\n"
     ]
    },
    {
     "data": {
      "image/png": "[encoded data removed]",
      "text/plain": [
       "<Figure size 432x288 with 1 Axes>"
      ]
     },
     "metadata": {
      "needs_background": "light"
     },
     "output_type": "display_data"
    }
   ],
   "source": [
    "# plot the figure\n",
    "\n",
    "# define auxiliary function to calculate the proportion of indices\n",
    "def rolling_mean(arr, n=6):\n",
    "    ret = np.cumsum(arr)\n",
    "    ret[n:] = ret[n:]-ret[:-n]\n",
    "    return ret[n-1:] / n\n",
    "    # example: \n",
    "    # rolling_mean(arr=np.arange(1, 10), n=4) will return\n",
    "    # array([2.5, 3.5, 4.5, 5.5, 6.5, 7.5])\n",
    "    \n",
    "# get the length of longest experiment\n",
    "count_max = 0\n",
    "for exp_index in range(n_experiment):\n",
    "    if count_max < len(action_history_[exp_index]):\n",
    "        count_max = len(action_history_[exp_index])\n",
    "print(f\"length of longest experiment {count_max}\")\n",
    "\n",
    "# If the experiment terminates earlier than count_max, adopt prediction as action in the empty tail\n",
    "action_history_np = np.zeros((n_experiment, count_max))\n",
    "for exp_index in range(n_experiment):\n",
    "    length = len(action_history_[exp_index])\n",
    "    action_history_np[exp_index, 0:length] = action_history_[exp_index]\n",
    "    action_history_np[exp_index, length:] = prediction_[exp_index]\n",
    "\n",
    "# split the record of each arm\n",
    "action_bool_ = list() # each element in this list is a boolean 2d array, correpsonds to each arm\n",
    "for kk in range(1, K+1):\n",
    "    action_bool_.append(action_history_np==kk)\n",
    "\n",
    "# calculate the proportion of indices\n",
    "action_average_ = list()\n",
    "for kk in range(K):\n",
    "    temp_array = np.zeros((n_experiment, count_max-K+1))\n",
    "    for exp_index in range(n_experiment):\n",
    "        temp_array[exp_index] = rolling_mean(arr=action_bool_[kk][exp_index], n=K)\n",
    "    action_average_.append(temp_array)\n",
    "\n",
    "# plot the figure\n",
    "plt.figure()\n",
    "for kk in range(K):\n",
    "    action_kk_average_ = np.mean(action_average_[kk], axis=0)\n",
    "    plt.plot(np.arange(1, count_max+1-K+1), action_kk_average_, label=f\"arm {kk+1}\")\n",
    "    \n",
    "plt.xlabel(\"Round Index\")\n",
    "plt.ylabel(r\"$\\mathbb{P}(I_t=i)$\")\n",
    "plt.title(f\"{agent_class.__name__}\")\n",
    "plt.legend()\n",
    "plt.show()"
   ]
  },
  {
   "cell_type": "markdown",
   "id": "6189d7df",
   "metadata": {},
   "source": [
    "## Figure for LUCB"
   ]
  },
  {
   "cell_type": "code",
   "execution_count": 7,
   "id": "db25bf6e",
   "metadata": {
    "code_folding": []
   },
   "outputs": [
    {
     "name": "stderr",
     "output_type": "stream",
     "text": [
      "100%|██████████████████████████████████████████████████████████████████████████████| 5000/5000 [04:34<00:00, 18.19it/s]\n"
     ]
    }
   ],
   "source": [
    "# conduct the experiment\n",
    "agent_class = LUCB_agent\n",
    "\n",
    "action_history_ = []\n",
    "prediction_ = np.zeros(n_experiment)\n",
    "\n",
    "for exp_index in tqdm(range(n_experiment)):\n",
    "    env = Environment_Gaussian(rlist=rlist, K=K, random_seed=exp_index)\n",
    "    agent = agent_class(K=K)\n",
    "    action_history = []\n",
    "    for tt in range(T):\n",
    "        arm = agent.action()\n",
    "        reward = env.response(arm)\n",
    "        agent.observe(reward)\n",
    "        action_history.append(arm)\n",
    "        if agent.if_stop():\n",
    "            break\n",
    "    action_history_.append(np.array(action_history))\n",
    "    if agent.if_stop():\n",
    "        prediction_[exp_index] = agent.predict()"
   ]
  },
  {
   "cell_type": "code",
   "execution_count": 8,
   "id": "e892bee7",
   "metadata": {
    "code_folding": [
     0
    ],
    "scrolled": true
   },
   "outputs": [
    {
     "name": "stdout",
     "output_type": "stream",
     "text": [
      "length of longest experiment 2077\n"
     ]
    },
    {
     "data": {
      "image/png": "[encoded data removed]",
      "text/plain": [
       "<Figure size 432x288 with 1 Axes>"
      ]
     },
     "metadata": {
      "needs_background": "light"
     },
     "output_type": "display_data"
    }
   ],
   "source": [
    "# plot the figure\n",
    "\n",
    "# define auxiliary function to calculate the proportion of indices\n",
    "def rolling_mean(arr, n=6):\n",
    "    ret = np.cumsum(arr)\n",
    "    ret[n:] = ret[n:]-ret[:-n]\n",
    "    return ret[n-1:] / n\n",
    "    # example: \n",
    "    # rolling_mean(arr=np.arange(1, 10), n=4) will return\n",
    "    # array([2.5, 3.5, 4.5, 5.5, 6.5, 7.5])\n",
    "    \n",
    "# get the length of longest experiment\n",
    "count_max = 0\n",
    "for exp_index in range(n_experiment):\n",
    "    if count_max < len(action_history_[exp_index]):\n",
    "        count_max = len(action_history_[exp_index])\n",
    "print(f\"length of longest experiment {count_max}\")\n",
    "\n",
    "# If the experiment terminates earlier than count_max, adopt prediction as action in the empty tail\n",
    "action_history_np = np.zeros((n_experiment, count_max))\n",
    "for exp_index in range(n_experiment):\n",
    "    length = len(action_history_[exp_index])\n",
    "    action_history_np[exp_index, 0:length] = action_history_[exp_index]\n",
    "    action_history_np[exp_index, length:] = prediction_[exp_index]\n",
    "\n",
    "# split the record of each arm\n",
    "action_bool_ = list() # each element in this list is a boolean 2d array, correpsonds to each arm\n",
    "for kk in range(1, K+1):\n",
    "    action_bool_.append(action_history_np==kk)\n",
    "\n",
    "# calculate the proportion of indices\n",
    "action_average_ = list()\n",
    "for kk in range(K):\n",
    "    temp_array = np.zeros((n_experiment, count_max-K+1))\n",
    "    for exp_index in range(n_experiment):\n",
    "        temp_array[exp_index] = rolling_mean(arr=action_bool_[kk][exp_index], n=K)\n",
    "    action_average_.append(temp_array)\n",
    "\n",
    "# plot the figure\n",
    "plt.figure()\n",
    "for kk in range(K):\n",
    "    action_kk_average_ = np.mean(action_average_[kk], axis=0)\n",
    "    plt.plot(np.arange(1, count_max+1-K+1), action_kk_average_, label=f\"arm {kk+1}\")\n",
    "    \n",
    "plt.xlabel(\"Round Index\")\n",
    "plt.ylabel(r\"$\\mathbb{P}(I_t=i)$\")\n",
    "plt.title(f\"{agent_class.__name__}\")\n",
    "plt.legend()\n",
    "plt.show()"
   ]
  },
  {
   "cell_type": "code",
   "execution_count": null,
   "id": "80529942",
   "metadata": {},
   "outputs": [],
   "source": []
  }
 ],
 "metadata": {
  "kernelspec": {
   "display_name": "Python 3",
   "language": "python",
   "name": "python3"
  },
  "language_info": {
   "codemirror_mode": {
    "name": "ipython",
    "version": 3
   },
   "file_extension": ".py",
   "mimetype": "text/x-python",
   "name": "python",
   "nbconvert_exporter": "python",
   "pygments_lexer": "ipython3",
   "version": "3.8.8"
  }
 },
 "nbformat": 4,
 "nbformat_minor": 5
}
