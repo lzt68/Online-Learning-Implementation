{
 "cells": [
  {
   "cell_type": "markdown",
   "id": "205689e1",
   "metadata": {},
   "source": [
    "# First Set of Experiments\n",
    "+ 6 arms, with mean reward $\\{1, 4/5, 3/5, 2/5, 1/5, 0\\}$\n",
    "+ Gaussian Rewand with variance $1/4$\n",
    "+ $\\delta=0.1$, $\\epsilon=0.01$"
   ]
  },
  {
   "cell_type": "code",
   "execution_count": 1,
   "id": "54c12872",
   "metadata": {
    "code_folding": []
   },
   "outputs": [],
   "source": [
    "# import packages\n",
    "import numpy as np\n",
    "import matplotlib.pyplot as plt\n",
    "import time\n",
    "from tqdm import tqdm\n",
    "\n",
    "from Source.agent import ActionElimination_agent, UCB_agent, LUCB_agent\n",
    "from Source.env import Environment_Gaussian"
   ]
  },
  {
   "cell_type": "code",
   "execution_count": 2,
   "id": "56db5702",
   "metadata": {
    "code_folding": []
   },
   "outputs": [
    {
     "name": "stdout",
     "output_type": "stream",
     "text": [
      "H1 is 36.59027777777779\n"
     ]
    }
   ],
   "source": [
    "# numeric setting\n",
    "K = 6\n",
    "rlist = np.linspace(1.0, 0.0, K)\n",
    "H1 = np.sum(1 / (rlist[1:] - rlist[0])**2)\n",
    "print(f\"H1 is {H1}\")\n",
    "\n",
    "delta = 0.1\n",
    "epsilon = 0.01\n",
    "n_experiment = 5000\n",
    "\n",
    "T = 70 * int(H1)"
   ]
  },
  {
   "cell_type": "markdown",
   "id": "981e237a",
   "metadata": {},
   "source": [
    "## Figure for Action Elimination"
   ]
  },
  {
   "cell_type": "code",
   "execution_count": 3,
   "id": "2710e632",
   "metadata": {},
   "outputs": [
    {
     "name": "stderr",
     "output_type": "stream",
     "text": [
      "100%|██████████████████████████████████████████████████████████████████████████████| 5000/5000 [01:58<00:00, 42.12it/s]\n"
     ]
    }
   ],
   "source": [
    "# conduct the experiment\n",
    "action_history_AE = []\n",
    "prediction_AE = np.zeros(n_experiment)\n",
    "\n",
    "for exp_index in tqdm(range(n_experiment)):\n",
    "    env = Environment_Gaussian(rlist=rlist, K=K, random_seed=exp_index)\n",
    "    agent = ActionElimination_agent(K=K)\n",
    "    action_history = []\n",
    "    for tt in range(T):\n",
    "        arm = agent.action()\n",
    "        reward = env.response(arm)\n",
    "        agent.observe(reward)\n",
    "        action_history.append(arm)\n",
    "        if agent.if_stop():\n",
    "            break\n",
    "    action_history_AE.append(np.array(action_history))\n",
    "    prediction_AE[exp_index] = agent.predict()"
   ]
  },
  {
   "cell_type": "code",
   "execution_count": 4,
   "id": "4e9b96aa",
   "metadata": {
    "code_folding": []
   },
   "outputs": [
    {
     "name": "stdout",
     "output_type": "stream",
     "text": [
      "length of longest experiment 2117\n"
     ]
    },
    {
     "data": {
      "image/png": "[encoded data removed]",
      "text/plain": [
       "<Figure size 432x288 with 1 Axes>"
      ]
     },
     "metadata": {
      "needs_background": "light"
     },
     "output_type": "display_data"
    }
   ],
   "source": [
    "# plot the figure\n",
    "\n",
    "# define auxiliary function to calculate the proportion of indices\n",
    "def rolling_mean(arr, n=6):\n",
    "    ret = np.cumsum(arr)\n",
    "    ret[n:] = ret[n:]-ret[:-n]\n",
    "    return ret[n-1:] / n\n",
    "    # example: \n",
    "    # rolling_mean(arr=np.arange(1, 10), n=4) will return\n",
    "    # array([2.5, 3.5, 4.5, 5.5, 6.5, 7.5])\n",
    "\n",
    "# split the record of each arm\n",
    "AE_arm_bool = list() # each element in this list is a boolean 2d array, correpsonds to each arm\n",
    "for kk in range(1, K+1):\n",
    "    temp_list = list()\n",
    "    for exp_index in range(n_experiment):\n",
    "        temp_list.append(action_history_AE[exp_index]==kk)\n",
    "    AE_arm_bool.append(temp_list)\n",
    "\n",
    "# calculate the proportion of indices\n",
    "AE_arm_average = list()\n",
    "for kk in range(K):\n",
    "    temp_list = list()\n",
    "    for exp_index in range(n_experiment):\n",
    "        temp_list.append(rolling_mean(arr=AE_arm_bool[kk][exp_index], n=K))\n",
    "    AE_arm_average.append(temp_list)\n",
    "    \n",
    "# get the length of longest experiment\n",
    "count_max = 0\n",
    "for exp_index in range(n_experiment):\n",
    "    if count_max < len(AE_arm_average[0][exp_index]):\n",
    "        count_max = len(AE_arm_average[0][exp_index])\n",
    "print(f\"length of longest experiment {count_max}\")\n",
    "\n",
    "# plot the figure\n",
    "plt.figure()\n",
    "for kk in range(K):\n",
    "    AE_arm_average_np = np.zeros((n_experiment, count_max))\n",
    "    for exp_index in range(n_experiment):\n",
    "        length = len(AE_arm_average[kk][exp_index])\n",
    "        AE_arm_average_np[exp_index, 0:length] = AE_arm_average[kk][exp_index]\n",
    "        AE_arm_average_np[exp_index, length:] = (prediction_AE[exp_index]==kk+1).astype(np.float64)\n",
    "    AE_arm_average_np = np.mean(AE_arm_average_np, axis=0)\n",
    "    plt.plot(np.arange(1, count_max+1), AE_arm_average_np, label=f\"arm {kk+1}\")\n",
    "    \n",
    "plt.xlabel(\"Round Index\")\n",
    "plt.ylabel(r\"$\\mathbb{P}(I_t=i)$\")\n",
    "plt.title(\"Action Elimination\")\n",
    "plt.legend()\n",
    "plt.show()"
   ]
  },
  {
   "cell_type": "code",
   "execution_count": null,
   "id": "1a4b1b15",
   "metadata": {},
   "outputs": [],
   "source": []
  }
 ],
 "metadata": {
  "kernelspec": {
   "display_name": "Python 3",
   "language": "python",
   "name": "python3"
  },
  "language_info": {
   "codemirror_mode": {
    "name": "ipython",
    "version": 3
   },
   "file_extension": ".py",
   "mimetype": "text/x-python",
   "name": "python",
   "nbconvert_exporter": "python",
   "pygments_lexer": "ipython3",
   "version": "3.8.8"
  }
 },
 "nbformat": 4,
 "nbformat_minor": 5
}
