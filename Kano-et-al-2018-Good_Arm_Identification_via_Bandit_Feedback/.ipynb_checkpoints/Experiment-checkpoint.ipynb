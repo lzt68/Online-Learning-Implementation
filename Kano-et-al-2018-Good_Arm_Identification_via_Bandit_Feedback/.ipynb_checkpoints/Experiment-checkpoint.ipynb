{
 "cells": [
  {
   "cell_type": "markdown",
   "id": "a7b172f3-6ac3-41f3-afb2-2343f6523067",
   "metadata": {},
   "source": [
    "# Reproduce Table 2"
   ]
  },
  {
   "cell_type": "code",
   "execution_count": 1,
   "id": "ee30c4c1-f448-4b64-b40c-e97a5de8d8e8",
   "metadata": {},
   "outputs": [],
   "source": [
    "import numpy as np\n",
    "from Source.agent import HDoC_Kano, LUCB_G_Kano, APT_G_Kano\n",
    "from Source.env import Environment_Bernoulli\n",
    "from tqdm import tqdm"
   ]
  },
  {
   "cell_type": "markdown",
   "id": "890303d7-2cb7-4623-a03d-ba2eefe2bd8f",
   "metadata": {},
   "source": [
    "## Threshold 1"
   ]
  },
  {
   "cell_type": "code",
   "execution_count": 2,
   "id": "5003ebde-6042-4cb2-8dd5-acf92ae11c88",
   "metadata": {},
   "outputs": [
    {
     "name": "stderr",
     "output_type": "stream",
     "text": [
      "100%|██████████████████████████████████████████████████████████████████████████████| 1000/1000 [02:02<00:00,  8.15it/s]\n"
     ]
    },
    {
     "name": "stdout",
     "output_type": "stream",
     "text": [
      "For algorithm <method-wrapper '__str__' of HDoC_Kano object at 0x0000019B3175B750>, \n",
      "output time is [ 112.693  148.261  182.284  728.    5579.467], mean stop time is 10281.5\n",
      "var of output time is [ 0.85210255  0.88134606  0.94371995  6.93004935 48.35434422], var of stop time is 65.85288066592075\n",
      "mean correctness rate is 1.0\n"
     ]
    },
    {
     "name": "stderr",
     "output_type": "stream",
     "text": [
      "100%|██████████████████████████████████████████████████████████████████████████████| 1000/1000 [02:26<00:00,  6.82it/s]\n"
     ]
    },
    {
     "name": "stdout",
     "output_type": "stream",
     "text": [
      "For algorithm <method-wrapper '__str__' of LUCB_G_Kano object at 0x0000019B3174DF90>, \n",
      "output time is [ 127.152  162.75   194.604  813.982 5789.618], mean stop time is 10230.766\n",
      "var of output time is [ 0.91268992  0.92602889  1.00150646  7.78748764 50.19773352], var of stop time is 65.84916676195682\n",
      "mean correctness rate is 1.0\n"
     ]
    },
    {
     "name": "stderr",
     "output_type": "stream",
     "text": [
      "100%|██████████████████████████████████████████████████████████████████████████████| 1000/1000 [01:55<00:00,  8.69it/s]"
     ]
    },
    {
     "name": "stdout",
     "output_type": "stream",
     "text": [
      "For algorithm <method-wrapper '__str__' of APT_G_Kano object at 0x0000019B31142490>, \n",
      "output time is [ 6124.561  6331.86   6532.885  8273.74  10188.843], mean stop time is 10266.644\n",
      "var of output time is [45.09232385 45.10903449 45.74690971 53.53435955 65.00402056], var of stop time is 65.09744012834913\n",
      "mean correctness rate is 1.0\n"
     ]
    },
    {
     "name": "stderr",
     "output_type": "stream",
     "text": [
      "\n"
     ]
    }
   ],
   "source": [
    "# use Threshold 1 setting, \n",
    "K = 10\n",
    "rlist = np.ones(10)\n",
    "rlist[0:3] = 0.1\n",
    "rlist[3:7] = 0.35 + 0.1 * np.arange(4)\n",
    "rlist[7:10] = 0.9\n",
    "xi = 0.5\n",
    "delta = 0.05\n",
    "qualified_arm_num = np.sum(rlist > xi)\n",
    "\n",
    "n_exp = 1000\n",
    "\n",
    "for agent_alg in [HDoC_Kano, LUCB_G_Kano, APT_G_Kano]:\n",
    "    output_time_ = np.zeros(\n",
    "        (n_exp, K)\n",
    "    )  # if correct, there should be only 5 output (not include stop)\n",
    "    stop_time_ = np.zeros(n_exp)\n",
    "    correctness_ = np.ones(n_exp)\n",
    "    for exp_id in tqdm(range(n_exp)):\n",
    "        env = Environment_Bernoulli(rlist=rlist, K=K, random_seed=exp_id)\n",
    "        agent = agent_alg(K=K, delta=delta, xi=xi)\n",
    "        count_stop = 0\n",
    "        output_list = []\n",
    "        while not agent.stop:\n",
    "            arm = agent.action()\n",
    "            reward = env.response(arm)\n",
    "            output_arm = agent.observe(reward)\n",
    "            if output_arm is not None:\n",
    "                output_list.append(output_arm)\n",
    "                output_time_[exp_id, count_stop] = agent.t\n",
    "                count_stop += 1\n",
    "        stop_time_[exp_id] = agent.t\n",
    "        if np.any(np.sort(output_list) != np.arange(6, 11)):\n",
    "            correctness_[exp_id] = 0\n",
    "\n",
    "    mean_output_time = np.mean(output_time_, axis=0)[0:qualified_arm_num]\n",
    "    var_output_time = np.sqrt(np.var(output_time_, axis=0) / n_exp)[0:qualified_arm_num]\n",
    "    mean_stop_time = np.mean(stop_time_)\n",
    "    var_stop_time = np.sqrt(np.var(stop_time_) / n_exp)\n",
    "    mean_success = np.mean(correctness_)\n",
    "    algname = agent.__str__\n",
    "    print(f\"For algorithm {algname}, \")\n",
    "    print(f\"output time is {mean_output_time}, mean stop time is {mean_stop_time}\")\n",
    "    print(f\"var of output time is {var_output_time}, var of stop time is {var_stop_time}\")\n",
    "    print(f\"mean correctness rate is {mean_success}\")"
   ]
  },
  {
   "cell_type": "markdown",
   "id": "2902a7b5-d7eb-4ea4-ab93-a32bb4749b78",
   "metadata": {},
   "source": [
    "## Threshold 2"
   ]
  },
  {
   "cell_type": "code",
   "execution_count": 3,
   "id": "11af133f-7d40-49cc-b5d1-d42e3a325fd9",
   "metadata": {},
   "outputs": [
    {
     "name": "stderr",
     "output_type": "stream",
     "text": [
      "100%|██████████████████████████████████████████████████████████████████████████████| 1000/1000 [01:57<00:00,  8.49it/s]\n"
     ]
    },
    {
     "name": "stdout",
     "output_type": "stream",
     "text": [
      "For algorithm HDoC_Kano, \n",
      "output time is [ 230.14   680.486 5273.337], mean stop time is 9929.466\n",
      "var of output time is [ 3.49516672  7.40935488 49.10695706], var of stop time is 64.79306310743458\n",
      "mean correctness rate is 1.0\n"
     ]
    },
    {
     "name": "stderr",
     "output_type": "stream",
     "text": [
      "100%|██████████████████████████████████████████████████████████████████████████████| 1000/1000 [02:21<00:00,  7.07it/s]\n"
     ]
    },
    {
     "name": "stdout",
     "output_type": "stream",
     "text": [
      "For algorithm LUCB_G_Kano, \n",
      "output time is [ 259.131  750.624 5505.389], mean stop time is 9946.794\n",
      "var of output time is [ 3.68766292  8.20783532 51.33596657], var of stop time is 66.25230131522979\n",
      "mean correctness rate is 1.0\n"
     ]
    },
    {
     "name": "stderr",
     "output_type": "stream",
     "text": [
      "100%|██████████████████████████████████████████████████████████████████████████████| 1000/1000 [01:50<00:00,  9.03it/s]"
     ]
    },
    {
     "name": "stdout",
     "output_type": "stream",
     "text": [
      "For algorithm APT_G_Kano, \n",
      "output time is [6812.782 7905.858 9874.331], mean stop time is 9958.161\n",
      "var of output time is [49.43517016 52.7293842  63.59084519], var of stop time is 63.192374611807395\n",
      "mean correctness rate is 1.0\n"
     ]
    },
    {
     "name": "stderr",
     "output_type": "stream",
     "text": [
      "\n"
     ]
    }
   ],
   "source": [
    "# use Threshold 2 setting, \n",
    "K = 6\n",
    "rlist = np.arange(1, K+1) * 0.1\n",
    "xi = 0.35\n",
    "delta = 0.05\n",
    "qualified_arm_num = np.sum(rlist > xi)\n",
    "\n",
    "n_exp = 1000\n",
    "\n",
    "for agent_alg in [HDoC_Kano, LUCB_G_Kano, APT_G_Kano]:\n",
    "    output_time_ = np.zeros(\n",
    "        (n_exp, K)\n",
    "    )  # if correct, there should be only 5 output (not include stop)\n",
    "    stop_time_ = np.zeros(n_exp)\n",
    "    correctness_ = np.ones(n_exp)\n",
    "    for exp_id in tqdm(range(n_exp)):\n",
    "        env = Environment_Bernoulli(rlist=rlist, K=K, random_seed=exp_id)\n",
    "        agent = agent_alg(K=K, delta=delta, xi=xi)\n",
    "        count_stop = 0\n",
    "        output_list = []\n",
    "        while not agent.stop:\n",
    "            arm = agent.action()\n",
    "            reward = env.response(arm)\n",
    "            output_arm = agent.observe(reward)\n",
    "            if output_arm is not None:\n",
    "                output_list.append(output_arm)\n",
    "                output_time_[exp_id, count_stop] = agent.t\n",
    "                count_stop += 1\n",
    "        stop_time_[exp_id] = agent.t\n",
    "        if np.any(np.sort(output_list) != np.arange(4, 7)):\n",
    "            correctness_[exp_id] = 0\n",
    "\n",
    "    mean_output_time = np.mean(output_time_, axis=0)[0:qualified_arm_num]\n",
    "    var_output_time = np.sqrt(np.var(output_time_, axis=0) / n_exp)[0:qualified_arm_num]\n",
    "    mean_stop_time = np.mean(stop_time_)\n",
    "    var_stop_time = np.sqrt(np.var(stop_time_) / n_exp)\n",
    "    mean_success = np.mean(correctness_)\n",
    "    algname = type(agent).__name__\n",
    "    print(f\"For algorithm {algname}, \")\n",
    "    print(f\"output time is {mean_output_time}, mean stop time is {mean_stop_time}\")\n",
    "    print(f\"var of output time is {var_output_time}, var of stop time is {var_stop_time}\")\n",
    "    print(f\"mean correctness rate is {mean_success}\")"
   ]
  },
  {
   "cell_type": "markdown",
   "id": "f43d64e7-5e70-45bc-b0d5-daf649e47d12",
   "metadata": {},
   "source": [
    "## Threshold 3"
   ]
  },
  {
   "cell_type": "code",
   "execution_count": 4,
   "id": "cfd44d69-ba5c-4edd-83a5-2df69d6f13f5",
   "metadata": {},
   "outputs": [
    {
     "name": "stderr",
     "output_type": "stream",
     "text": [
      "100%|██████████████████████████████████████████████████████████████████████████████| 1000/1000 [09:09<00:00,  1.82it/s]\n"
     ]
    },
    {
     "name": "stdout",
     "output_type": "stream",
     "text": [
      "For algorithm HDoC_Kano, \n",
      "output time is [ 9000.185 12827.323 15959.258], mean stop time is 46020.593\n",
      "var of output time is [98.61865932 97.04073004 87.65625422], var of stop time is 146.28277242844078\n",
      "mean correctness rate is 1.0\n"
     ]
    },
    {
     "name": "stderr",
     "output_type": "stream",
     "text": [
      "100%|██████████████████████████████████████████████████████████████████████████████| 1000/1000 [10:56<00:00,  1.52it/s]\n"
     ]
    },
    {
     "name": "stdout",
     "output_type": "stream",
     "text": [
      "For algorithm LUCB_G_Kano, \n",
      "output time is [10360.627 14094.633 17075.395], mean stop time is 46008.908\n",
      "var of output time is [109.47195518 101.20323873  93.1899427 ], var of stop time is 146.31635826364734\n",
      "mean correctness rate is 1.0\n"
     ]
    },
    {
     "name": "stderr",
     "output_type": "stream",
     "text": [
      "100%|██████████████████████████████████████████████████████████████████████████████| 1000/1000 [08:37<00:00,  1.93it/s]"
     ]
    },
    {
     "name": "stdout",
     "output_type": "stream",
     "text": [
      "For algorithm APT_G_Kano, \n",
      "output time is [44595.747 45492.469 45896.278], mean stop time is 46051.473\n",
      "var of output time is [147.29192121 146.59083598 146.27782723], var of stop time is 146.12555674238166\n",
      "mean correctness rate is 1.0\n"
     ]
    },
    {
     "name": "stderr",
     "output_type": "stream",
     "text": [
      "\n"
     ]
    }
   ],
   "source": [
    "# use Threshold 3 setting, \n",
    "K = 10\n",
    "rlist = np.ones(10)\n",
    "rlist[0:3] = 0.55\n",
    "rlist[3:10] = 0.45\n",
    "xi = 0.5\n",
    "delta = 0.05\n",
    "qualified_arm_num = np.sum(rlist > xi)\n",
    "\n",
    "n_exp = 1000\n",
    "\n",
    "for agent_alg in [HDoC_Kano, LUCB_G_Kano, APT_G_Kano]:\n",
    "    output_time_ = np.zeros(\n",
    "        (n_exp, K)\n",
    "    )  # if correct, there should be only 5 output (not include stop)\n",
    "    stop_time_ = np.zeros(n_exp)\n",
    "    correctness_ = np.ones(n_exp)\n",
    "    for exp_id in tqdm(range(n_exp)):\n",
    "        env = Environment_Bernoulli(rlist=rlist, K=K, random_seed=exp_id)\n",
    "        agent = agent_alg(K=K, delta=delta, xi=xi)\n",
    "        count_stop = 0\n",
    "        output_list = []\n",
    "        while not agent.stop:\n",
    "            arm = agent.action()\n",
    "            reward = env.response(arm)\n",
    "            output_arm = agent.observe(reward)\n",
    "            if output_arm is not None:\n",
    "                output_list.append(output_arm)\n",
    "                output_time_[exp_id, count_stop] = agent.t\n",
    "                count_stop += 1\n",
    "        stop_time_[exp_id] = agent.t\n",
    "        if np.any(np.sort(output_list) != np.arange(1, 4)):\n",
    "            correctness_[exp_id] = 0\n",
    "\n",
    "    mean_output_time = np.mean(output_time_, axis=0)[0:qualified_arm_num]\n",
    "    var_output_time = np.sqrt(np.var(output_time_, axis=0) / n_exp)[0:qualified_arm_num]\n",
    "    mean_stop_time = np.mean(stop_time_)\n",
    "    var_stop_time = np.sqrt(np.var(stop_time_) / n_exp)\n",
    "    mean_success = np.mean(correctness_)\n",
    "    algname = type(agent).__name__\n",
    "    print(f\"For algorithm {algname}, \")\n",
    "    print(f\"output time is {mean_output_time}, mean stop time is {mean_stop_time}\")\n",
    "    print(f\"var of output time is {var_output_time}, var of stop time is {var_stop_time}\")\n",
    "    print(f\"mean correctness rate is {mean_success}\")"
   ]
  },
  {
   "cell_type": "code",
   "execution_count": null,
   "id": "8dbc1057-b83e-43b7-ac8d-9a526fce4f94",
   "metadata": {},
   "outputs": [],
   "source": []
  },
  {
   "cell_type": "code",
   "execution_count": null,
   "id": "dd67ebfe-f1f3-4159-852e-ac686f61b65d",
   "metadata": {},
   "outputs": [],
   "source": []
  }
 ],
 "metadata": {
  "kernelspec": {
   "display_name": "Python 3 (ipykernel)",
   "language": "python",
   "name": "python3"
  },
  "language_info": {
   "codemirror_mode": {
    "name": "ipython",
    "version": 3
   },
   "file_extension": ".py",
   "mimetype": "text/x-python",
   "name": "python",
   "nbconvert_exporter": "python",
   "pygments_lexer": "ipython3",
   "version": "3.11.7"
  }
 },
 "nbformat": 4,
 "nbformat_minor": 5
}
