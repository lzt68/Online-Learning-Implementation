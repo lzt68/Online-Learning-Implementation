{
 "cells": [
  {
   "cell_type": "markdown",
   "id": "43591e3a",
   "metadata": {},
   "source": [
    "# Demo for using the source file\n",
    "\n",
    "This notebook aims to reproduce the figure 2 in Abbasi yadkori et.al 2011\n",
    "\n",
    "Reminds: I cannot find the setting of regularization coefficient $\\lambda$ in the paper. I just set it as 0.1"
   ]
  },
  {
   "cell_type": "code",
   "execution_count": 1,
   "id": "655cff4a",
   "metadata": {
    "code_folding": []
   },
   "outputs": [],
   "source": [
    "# import pacakges\n",
    "%reset -f\n",
    "import numpy as np\n",
    "import matplotlib.pyplot as plt\n",
    "from tqdm import tqdm\n",
    "import time\n",
    "\n",
    "from Source.env import Env_FixedActionSpace\n",
    "from Source.agent import OFUL_Agent, ConfidenceBall_Agent"
   ]
  },
  {
   "cell_type": "code",
   "execution_count": 2,
   "id": "dadad4b7",
   "metadata": {
    "code_folding": []
   },
   "outputs": [],
   "source": [
    "# setting of the numeric experiment\n",
    "T = 5000\n",
    "n_experiment = 5\n",
    "\n",
    "R = 0.1\n",
    "L = 1\n",
    "S = 1\n",
    "delta = 0.0001\n",
    "lambda_ = 0.1"
   ]
  },
  {
   "cell_type": "code",
   "execution_count": 3,
   "id": "a103dff1",
   "metadata": {
    "code_folding": [
     0
    ]
   },
   "outputs": [
    {
     "name": "stdout",
     "output_type": "stream",
     "text": [
      "theta [0.60878196 0.79333759]\n",
      "1-begins\n"
     ]
    },
    {
     "name": "stderr",
     "output_type": "stream",
     "text": [
      "100%|█████████████████████████████████████████████████████████████████████████████| 5000/5000 [00:19<00:00, 258.61it/s]\n",
      "100%|█████████████████████████████████████████████████████████████████████████████| 5000/5000 [00:14<00:00, 353.98it/s]\n"
     ]
    },
    {
     "name": "stdout",
     "output_type": "stream",
     "text": [
      "theta [0.5010291  0.86543043]\n",
      "2-begins\n"
     ]
    },
    {
     "name": "stderr",
     "output_type": "stream",
     "text": [
      "100%|█████████████████████████████████████████████████████████████████████████████| 5000/5000 [00:23<00:00, 212.55it/s]\n",
      "100%|█████████████████████████████████████████████████████████████████████████████| 5000/5000 [00:14<00:00, 347.69it/s]\n"
     ]
    },
    {
     "name": "stdout",
     "output_type": "stream",
     "text": [
      "theta [0.99823666 0.05935967]\n",
      "3-begins\n"
     ]
    },
    {
     "name": "stderr",
     "output_type": "stream",
     "text": [
      "100%|█████████████████████████████████████████████████████████████████████████████| 5000/5000 [00:19<00:00, 252.13it/s]\n",
      "100%|█████████████████████████████████████████████████████████████████████████████| 5000/5000 [00:11<00:00, 435.34it/s]\n"
     ]
    },
    {
     "name": "stdout",
     "output_type": "stream",
     "text": [
      "theta [0.61395191 0.78934343]\n",
      "4-begins\n"
     ]
    },
    {
     "name": "stderr",
     "output_type": "stream",
     "text": [
      "100%|█████████████████████████████████████████████████████████████████████████████| 5000/5000 [00:20<00:00, 241.74it/s]\n",
      "100%|█████████████████████████████████████████████████████████████████████████████| 5000/5000 [00:13<00:00, 370.07it/s]\n"
     ]
    },
    {
     "name": "stdout",
     "output_type": "stream",
     "text": [
      "theta [0.87031207 0.49250066]\n",
      "5-begins\n"
     ]
    },
    {
     "name": "stderr",
     "output_type": "stream",
     "text": [
      "100%|█████████████████████████████████████████████████████████████████████████████| 5000/5000 [00:18<00:00, 274.00it/s]\n",
      "100%|█████████████████████████████████████████████████████████████████████████████| 5000/5000 [00:14<00:00, 352.38it/s]\n"
     ]
    }
   ],
   "source": [
    "# conduct the experiment\n",
    "reward_oful = np.zeros((n_experiment, T))\n",
    "reward_confidenceball = np.zeros((n_experiment, T))\n",
    "for exp_index in range(n_experiment):\n",
    "    np.random.seed(exp_index)\n",
    "        \n",
    "    # generate theta, we assume the theta is always inside the unitball of 2-d space\n",
    "    theta = np.random.uniform(low=0.0, high=1.0, size=2)\n",
    "    theta = theta / np.linalg.norm(theta)\n",
    "    print(f\"theta {theta}\")\n",
    "    print(f\"{exp_index+1}-begins\")\n",
    "    time.sleep(1)\n",
    "    \n",
    "    # conduct the experiment, OFUL\n",
    "    oful_agent = OFUL_Agent(R=R, L=L, S=S, delta=delta, lambda_=lambda_)\n",
    "    env = Env_FixedActionSpace(theta=theta, R=R, random_seed=exp_index)\n",
    "    for round_index in tqdm(range(T)):\n",
    "        action = oful_agent.action()\n",
    "        reward_mean, reward_real = env.response(action)\n",
    "        oful_agent.update(reward_real)\n",
    "        reward_oful[exp_index, round_index] = reward_mean\n",
    "        \n",
    "    # conduct the experiment, confidence ball\n",
    "    confidenceball_agent = ConfidenceBall_Agent(delta=delta)\n",
    "    env = Env_FixedActionSpace(theta=theta, R=R, random_seed=exp_index)\n",
    "    for round_index in tqdm(range(T)):\n",
    "        action = confidenceball_agent.action()\n",
    "        reward_mean, reward_real = env.response(action)\n",
    "        confidenceball_agent.update(reward_real)\n",
    "        reward_confidenceball[exp_index, round_index] = reward_mean"
   ]
  },
  {
   "cell_type": "code",
   "execution_count": 4,
   "id": "d216dd6a",
   "metadata": {},
   "outputs": [
    {
     "data": {
      "image/png": "[encoded data removed]",
      "text/plain": [
       "<Figure size 432x288 with 1 Axes>"
      ]
     },
     "metadata": {
      "needs_background": "light"
     },
     "output_type": "display_data"
    }
   ],
   "source": [
    "# plot the result\n",
    "reward_oful_average = np.mean(reward_oful, axis=0)\n",
    "reward_confidenceball_average = np.mean(reward_confidenceball, axis=0)\n",
    "regret_oful = np.arange(1, T+1) - np.cumsum(reward_oful_average)\n",
    "regret_confidenceball = np.arange(1, T+1) - np.cumsum(reward_confidenceball_average)\n",
    "\n",
    "plt.figure()\n",
    "plt.plot(regret_oful, label=\"OFUL\")\n",
    "plt.plot(regret_confidenceball, label=\"ConfidenceBall_2\")\n",
    "plt.title(\"Growing Trend of Regret\")\n",
    "plt.xlabel(\"Round Index\")\n",
    "plt.ylabel(\"Regret\")\n",
    "plt.legend()\n",
    "plt.show()"
   ]
  },
  {
   "cell_type": "code",
   "execution_count": 5,
   "id": "cca38cdf",
   "metadata": {},
   "outputs": [
    {
     "data": {
      "image/png": "[encoded data removed]",
      "text/plain": [
       "<Figure size 432x288 with 1 Axes>"
      ]
     },
     "metadata": {
      "needs_background": "light"
     },
     "output_type": "display_data"
    }
   ],
   "source": [
    "# plot the result\n",
    "plt.figure()\n",
    "plt.plot(regret_oful / np.arange(1, T+1), label=\"OFUL\")\n",
    "plt.plot(regret_confidenceball / np.arange(1, T+1), label=\"ConfidenceBall_2\")\n",
    "\n",
    "plt.title(\"Decreasing Speed of Regret/T\")\n",
    "plt.xlabel(\"Round Index\")\n",
    "plt.ylabel(\"Regret / t\")\n",
    "\n",
    "plt.legend()\n",
    "plt.show()"
   ]
  },
  {
   "cell_type": "code",
   "execution_count": null,
   "id": "8bf33ef3",
   "metadata": {},
   "outputs": [],
   "source": []
  }
 ],
 "metadata": {
  "kernelspec": {
   "display_name": "Python 3",
   "language": "python",
   "name": "python3"
  },
  "language_info": {
   "codemirror_mode": {
    "name": "ipython",
    "version": 3
   },
   "file_extension": ".py",
   "mimetype": "text/x-python",
   "name": "python",
   "nbconvert_exporter": "python",
   "pygments_lexer": "ipython3",
   "version": "3.8.8"
  }
 },
 "nbformat": 4,
 "nbformat_minor": 5
}
