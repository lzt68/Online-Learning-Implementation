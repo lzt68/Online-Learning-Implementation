{
 "cells": [
  {
   "cell_type": "code",
   "execution_count": 1,
   "id": "e99f57cc-3757-4d59-94b1-c5041076644f",
   "metadata": {},
   "outputs": [],
   "source": [
    "# import packages\n",
    "import sys\n",
    "sys.path.append('./source/')\n",
    "\n",
    "from Source.agent import Sticky_TaS_fast\n",
    "from Source.env import Environment_Gaussian\n",
    "\n",
    "from tqdm import tqdm\n",
    "from time import time\n",
    "import numpy as np"
   ]
  },
  {
   "cell_type": "code",
   "execution_count": 2,
   "id": "7142a2a1-0cf3-4394-9080-e3d2ae665848",
   "metadata": {},
   "outputs": [],
   "source": [
    "# K=10\n",
    "K = 10\n",
    "xi = 0.5\n",
    "Delta = 0.01\n",
    "rlist = np.ones(K) * xi\n",
    "rlist[-1] = 1.0\n",
    "\n",
    "delta = 0.001\n",
    "n_exp = 1\n",
    "round_length = 10000\n",
    "\n",
    "rlist_temp = rlist.copy()\n",
    "answer_set = list(np.where(rlist_temp > xi)[0] + 1)\n",
    "\n",
    "env = Environment_Gaussian(rlist=rlist_temp, K=K, random_seed=1)\n",
    "agent = Sticky_TaS_fast(K=K, delta=delta, xi=xi)\n",
    "count_round = 0\n",
    "time_interval_ = list()\n",
    "while not agent.stop:\n",
    "    if (agent.t-1) % round_length == 0:\n",
    "        start_time = time()\n",
    "    if agent.t % round_length == 0 and agent.t != 0:\n",
    "        end_time = time()\n",
    "        time_interval_.append(end_time-start_time)\n",
    "        print(f\"from round {agent.t-round_length} to round {agent.t}, time consumption is {end_time-start_time}\")\n",
    "    arm = agent.action()\n",
    "    if arm == K:\n",
    "        reward = rlist[-1]\n",
    "    else:\n",
    "        reward = env.response(arm)\n",
    "    agent.observe(reward)"
   ]
  },
  {
   "cell_type": "code",
   "execution_count": 3,
   "id": "b4a57c20-68ac-483b-b36e-6e2ccea34c6b",
   "metadata": {},
   "outputs": [
    {
     "data": {
      "text/plain": [
       "array([203., 195., 195., 195., 195., 195., 195., 195., 195., 195.])"
      ]
     },
     "execution_count": 3,
     "metadata": {},
     "output_type": "execute_result"
    }
   ],
   "source": [
    "agent.pulling_times_"
   ]
  },
  {
   "cell_type": "code",
   "execution_count": 4,
   "id": "9504410a-bde3-47a5-9978-0734bc6dd1a0",
   "metadata": {},
   "outputs": [
    {
     "name": "stdout",
     "output_type": "stream",
     "text": [
      "from round 0 to round 10000, time consumption is 0.30329203605651855\n",
      "from round 10000 to round 20000, time consumption is 0.35399937629699707\n"
     ]
    }
   ],
   "source": [
    "# K=100\n",
    "K = 100\n",
    "xi = 0.5\n",
    "Delta = 0.01\n",
    "rlist = np.ones(K) * xi\n",
    "rlist[-1] = 1.0\n",
    "\n",
    "delta = 0.001\n",
    "n_exp = 1\n",
    "round_length = 10000\n",
    "\n",
    "rlist_temp = rlist.copy()\n",
    "answer_set = list(np.where(rlist_temp > xi)[0] + 1)\n",
    "\n",
    "env = Environment_Gaussian(rlist=rlist_temp, K=K, random_seed=1)\n",
    "agent = Sticky_TaS_fast(K=K, delta=delta, xi=xi)\n",
    "count_round = 0\n",
    "time_interval_ = list()\n",
    "while not agent.stop:\n",
    "    if (agent.t-1) % round_length == 0:\n",
    "        start_time = time()\n",
    "    if agent.t % round_length == 0 and agent.t != 0:\n",
    "        end_time = time()\n",
    "        time_interval_.append(end_time-start_time)\n",
    "        print(f\"from round {agent.t-round_length} to round {agent.t}, time consumption is {end_time-start_time}\")\n",
    "    arm = agent.action()\n",
    "    if arm == K:\n",
    "        reward = rlist[-1]\n",
    "    else:\n",
    "        reward = env.response(arm)\n",
    "    agent.observe(reward)"
   ]
  },
  {
   "cell_type": "code",
   "execution_count": 5,
   "id": "01f9be3e-ab36-4236-b7b0-ddd4a19aaa80",
   "metadata": {},
   "outputs": [
    {
     "name": "stdout",
     "output_type": "stream",
     "text": [
      "pulling times of first 10 arms,  [1073.  236.  236.  236.  236.  236.  236.  236.  236.  236.]\n",
      "pulling times of the last arm,  236.0\n"
     ]
    }
   ],
   "source": [
    "print(\"pulling times of first 10 arms, \", agent.pulling_times_[0:10])\n",
    "print(\"pulling times of the last arm, \", agent.pulling_times_[-1])"
   ]
  },
  {
   "cell_type": "code",
   "execution_count": 7,
   "id": "f89aa2ce-381c-454a-97f6-b84a6bc7fba0",
   "metadata": {},
   "outputs": [
    {
     "name": "stdout",
     "output_type": "stream",
     "text": [
      "from round 0 to round 10000, time consumption is 0.6759331226348877\n",
      "from round 10000 to round 20000, time consumption is 0.36589741706848145\n",
      "from round 20000 to round 30000, time consumption is 0.3792297840118408\n",
      "from round 30000 to round 40000, time consumption is 0.3594841957092285\n",
      "from round 40000 to round 50000, time consumption is 0.3825721740722656\n",
      "from round 50000 to round 60000, time consumption is 1.2590067386627197\n",
      "from round 60000 to round 70000, time consumption is 0.3737037181854248\n",
      "from round 70000 to round 80000, time consumption is 0.35744142532348633\n",
      "from round 80000 to round 90000, time consumption is 0.3692336082458496\n",
      "from round 90000 to round 100000, time consumption is 0.38096022605895996\n",
      "from round 100000 to round 110000, time consumption is 0.36600208282470703\n",
      "from round 110000 to round 120000, time consumption is 0.4052715301513672\n",
      "from round 120000 to round 130000, time consumption is 0.38071250915527344\n"
     ]
    }
   ],
   "source": [
    "# K=500\n",
    "K = 500\n",
    "xi = 0.5\n",
    "Delta = 0.01\n",
    "rlist = np.ones(K) * xi\n",
    "rlist[-1] = 1.0\n",
    "\n",
    "delta = 0.001\n",
    "n_exp = 1\n",
    "round_length = 10000\n",
    "\n",
    "rlist_temp = rlist.copy()\n",
    "answer_set = list(np.where(rlist_temp > xi)[0] + 1)\n",
    "\n",
    "env = Environment_Gaussian(rlist=rlist_temp, K=K, random_seed=1)\n",
    "agent = Sticky_TaS_fast(K=K, delta=delta, xi=xi)\n",
    "count_round = 0\n",
    "time_interval_ = list()\n",
    "while not agent.stop:\n",
    "    if (agent.t-1) % round_length == 0:\n",
    "        start_time = time()\n",
    "    if agent.t % round_length == 0 and agent.t != 0:\n",
    "        end_time = time()\n",
    "        time_interval_.append(end_time-start_time)\n",
    "        print(f\"from round {agent.t-round_length} to round {agent.t}, time consumption is {end_time-start_time}\")\n",
    "    arm = agent.action()\n",
    "    if arm == K:\n",
    "        reward = rlist[-1]\n",
    "    else:\n",
    "        reward = env.response(arm)\n",
    "    agent.observe(reward)"
   ]
  },
  {
   "cell_type": "code",
   "execution_count": 8,
   "id": "bd44508e-af87-4ea4-8169-1dfffe824fe1",
   "metadata": {},
   "outputs": [
    {
     "name": "stdout",
     "output_type": "stream",
     "text": [
      "pulling times of first 10 arms,  [589. 263. 263. 263. 263. 263. 263. 263. 263. 263.]\n",
      "pulling times of the last arm,  263.0\n"
     ]
    }
   ],
   "source": [
    "print(\"pulling times of first 10 arms, \", agent.pulling_times_[0:10])\n",
    "print(\"pulling times of the last arm, \", agent.pulling_times_[-1])"
   ]
  },
  {
   "cell_type": "code",
   "execution_count": 9,
   "id": "a35b3bd2-42ad-47b1-a6f2-38366b6e0aff",
   "metadata": {},
   "outputs": [
    {
     "name": "stdout",
     "output_type": "stream",
     "text": [
      "from round 0 to round 10000, time consumption is 0.45595884323120117\n",
      "from round 10000 to round 20000, time consumption is 0.4640533924102783\n",
      "from round 20000 to round 30000, time consumption is 0.4556734561920166\n",
      "from round 30000 to round 40000, time consumption is 0.47183823585510254\n",
      "from round 40000 to round 50000, time consumption is 0.44258975982666016\n",
      "from round 50000 to round 60000, time consumption is 0.4813096523284912\n",
      "from round 60000 to round 70000, time consumption is 0.487471342086792\n",
      "from round 70000 to round 80000, time consumption is 0.44792628288269043\n",
      "from round 80000 to round 90000, time consumption is 0.4753596782684326\n",
      "from round 90000 to round 100000, time consumption is 0.45136308670043945\n",
      "from round 100000 to round 110000, time consumption is 0.47666001319885254\n",
      "from round 110000 to round 120000, time consumption is 0.5021657943725586\n",
      "from round 120000 to round 130000, time consumption is 0.46181797981262207\n",
      "from round 130000 to round 140000, time consumption is 0.46135497093200684\n",
      "from round 140000 to round 150000, time consumption is 0.4458744525909424\n",
      "from round 150000 to round 160000, time consumption is 0.4682161808013916\n",
      "from round 160000 to round 170000, time consumption is 0.4672737121582031\n",
      "from round 170000 to round 180000, time consumption is 0.46844482421875\n",
      "from round 180000 to round 190000, time consumption is 0.48174333572387695\n",
      "from round 190000 to round 200000, time consumption is 0.45911359786987305\n",
      "from round 200000 to round 210000, time consumption is 0.46900129318237305\n",
      "from round 210000 to round 220000, time consumption is 0.47003936767578125\n",
      "from round 220000 to round 230000, time consumption is 0.5121474266052246\n",
      "from round 230000 to round 240000, time consumption is 0.45888805389404297\n",
      "from round 240000 to round 250000, time consumption is 0.46022820472717285\n",
      "from round 250000 to round 260000, time consumption is 0.46890902519226074\n",
      "from round 260000 to round 270000, time consumption is 0.49420762062072754\n",
      "predict arm is 1000\n"
     ]
    }
   ],
   "source": [
    "# K=1000\n",
    "K = 1000\n",
    "xi = 0.5\n",
    "Delta = 0.01\n",
    "rlist = np.ones(K) * xi\n",
    "rlist[-1] = 1.0\n",
    "\n",
    "delta = 0.001\n",
    "n_exp = 1\n",
    "round_length = 10000\n",
    "\n",
    "rlist_temp = rlist.copy()\n",
    "answer_set = list(np.where(rlist_temp > xi)[0] + 1)\n",
    "\n",
    "env = Environment_Gaussian(rlist=rlist_temp, K=K, random_seed=0)\n",
    "agent = Sticky_TaS_fast(K=K, delta=delta, xi=xi)\n",
    "count_round = 0\n",
    "time_interval_ = list()\n",
    "while not agent.stop:\n",
    "    if (agent.t-1) % round_length == 0:\n",
    "        start_time = time()\n",
    "    if agent.t % round_length == 0 and agent.t != 0:\n",
    "        end_time = time()\n",
    "        time_interval_.append(end_time-start_time)\n",
    "        print(f\"from round {agent.t-round_length} to round {agent.t}, time consumption is {end_time-start_time}\")\n",
    "    if agent.t > round_length * 50:\n",
    "        break\n",
    "    \n",
    "    arm = agent.action()\n",
    "    if arm == K:\n",
    "        reward = rlist[-1]\n",
    "    else:\n",
    "        reward = env.response(arm)\n",
    "    predict_arm = agent.observe(reward)\n",
    "    if predict_arm is not None:\n",
    "        print(f\"predict arm is {predict_arm}\")\n",
    "        break"
   ]
  },
  {
   "cell_type": "code",
   "execution_count": 10,
   "id": "46b26742-eebd-48ab-93ee-c71764500462",
   "metadata": {},
   "outputs": [
    {
     "name": "stdout",
     "output_type": "stream",
     "text": [
      "pulling times of first 10 arms,  [277. 275. 275. 275. 275. 275. 275. 275. 275. 275.]\n",
      "pulling times of the last arm,  275.0\n"
     ]
    }
   ],
   "source": [
    "print(\"pulling times of first 10 arms, \", agent.pulling_times_[0:10])\n",
    "print(\"pulling times of the last arm, \", agent.pulling_times_[-1])"
   ]
  },
  {
   "cell_type": "code",
   "execution_count": 11,
   "id": "7dfd5f43-98dd-458f-bf36-ac2fb08ea539",
   "metadata": {},
   "outputs": [
    {
     "name": "stdout",
     "output_type": "stream",
     "text": [
      "from round 0 to round 10000, time consumption is 2.8167994022369385\n",
      "from round 10000 to round 20000, time consumption is 0.4953627586364746\n",
      "from round 20000 to round 30000, time consumption is 0.5320653915405273\n",
      "from round 30000 to round 40000, time consumption is 1.54421067237854\n",
      "from round 40000 to round 50000, time consumption is 1.270326852798462\n",
      "from round 50000 to round 60000, time consumption is 0.5344152450561523\n",
      "from round 60000 to round 70000, time consumption is 0.4662806987762451\n",
      "from round 70000 to round 80000, time consumption is 1.9820325374603271\n",
      "from round 80000 to round 90000, time consumption is 0.5033590793609619\n",
      "from round 90000 to round 100000, time consumption is 0.47031140327453613\n",
      "from round 100000 to round 110000, time consumption is 0.48104190826416016\n",
      "from round 110000 to round 120000, time consumption is 0.4770042896270752\n",
      "from round 120000 to round 130000, time consumption is 0.4756183624267578\n",
      "from round 130000 to round 140000, time consumption is 0.4956245422363281\n",
      "from round 140000 to round 150000, time consumption is 0.4589879512786865\n",
      "from round 150000 to round 160000, time consumption is 0.4588909149169922\n",
      "from round 160000 to round 170000, time consumption is 0.46909379959106445\n",
      "from round 170000 to round 180000, time consumption is 0.4747457504272461\n",
      "from round 180000 to round 190000, time consumption is 0.47033143043518066\n",
      "predict arm is 1000\n"
     ]
    }
   ],
   "source": [
    "# K=1000\n",
    "K = 1000\n",
    "xi = 0.5\n",
    "Delta = 0.01\n",
    "rlist = np.ones(K) * xi\n",
    "rlist[-1] = 1.0\n",
    "\n",
    "delta = 0.001\n",
    "n_exp = 1\n",
    "round_length = 10000\n",
    "\n",
    "rlist_temp = rlist.copy()\n",
    "answer_set = list(np.where(rlist_temp > xi)[0] + 1)\n",
    "\n",
    "env = Environment_Gaussian(rlist=rlist_temp, K=K, random_seed=0)\n",
    "agent = Sticky_TaS_fast(K=K, delta=delta, xi=xi)\n",
    "count_round = 0\n",
    "time_interval_ = list()\n",
    "while not agent.stop:\n",
    "    if (agent.t-1) % round_length == 0:\n",
    "        start_time = time()\n",
    "    if agent.t % round_length == 0 and agent.t != 0:\n",
    "        end_time = time()\n",
    "        time_interval_.append(end_time-start_time)\n",
    "        print(f\"from round {agent.t-round_length} to round {agent.t}, time consumption is {end_time-start_time}\")\n",
    "    if agent.t > round_length * 50:\n",
    "        break\n",
    "    \n",
    "    arm = agent.action()\n",
    "    # if arm == K:\n",
    "    #     reward = rlist[-1]\n",
    "    # else:\n",
    "    #     reward = env.response(arm)\n",
    "    reward = env.response(arm)\n",
    "    predict_arm = agent.observe(reward)\n",
    "    if predict_arm is not None:\n",
    "        print(f\"predict arm is {predict_arm}\")\n",
    "        break"
   ]
  },
  {
   "cell_type": "code",
   "execution_count": 12,
   "id": "0e93d720-c475-4b1e-a948-61f2c9ae757f",
   "metadata": {},
   "outputs": [
    {
     "name": "stdout",
     "output_type": "stream",
     "text": [
      "pulling times of first 10 arms,  [392. 194. 194. 194. 194. 194. 194. 194. 194. 194.]\n",
      "pulling times of the last arm,  194.0\n"
     ]
    }
   ],
   "source": [
    "print(\"pulling times of first 10 arms, \", agent.pulling_times_[0:10])\n",
    "print(\"pulling times of the last arm, \", agent.pulling_times_[-1])"
   ]
  },
  {
   "cell_type": "code",
   "execution_count": null,
   "id": "199bc70f-abc0-468b-8325-8bae10dd7698",
   "metadata": {},
   "outputs": [],
   "source": []
  }
 ],
 "metadata": {
  "kernelspec": {
   "display_name": "Python 3 (ipykernel)",
   "language": "python",
   "name": "python3"
  },
  "language_info": {
   "codemirror_mode": {
    "name": "ipython",
    "version": 3
   },
   "file_extension": ".py",
   "mimetype": "text/x-python",
   "name": "python",
   "nbconvert_exporter": "python",
   "pygments_lexer": "ipython3",
   "version": "3.11.7"
  }
 },
 "nbformat": 4,
 "nbformat_minor": 5
}
