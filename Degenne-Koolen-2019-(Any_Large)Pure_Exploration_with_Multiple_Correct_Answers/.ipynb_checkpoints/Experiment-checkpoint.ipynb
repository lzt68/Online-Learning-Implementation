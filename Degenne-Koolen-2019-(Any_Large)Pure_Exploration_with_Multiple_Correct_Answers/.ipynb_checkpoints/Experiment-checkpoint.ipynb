{
 "cells": [
  {
   "cell_type": "markdown",
   "id": "0fa6121e",
   "metadata": {},
   "source": [
    "# Affect of mean reward permutation\n",
    "\n",
    "The S-TaS algorithm always prefers to pull arms with smaller index. Here we are going to the impact of the position of the qualified arm.\n",
    "\n",
    "In the following, we will set $C = e$, which means $\\log C = 1$. This value cannot fulfill the requirement in the paper. But a larger $C$ will only make the stopping times larger."
   ]
  },
  {
   "cell_type": "markdown",
   "id": "5cd9f8ab",
   "metadata": {},
   "source": [
    "## Unique Qualified\n",
    "In the following experiment, we will set only one qualifided arm. And we will record the emprical stopping times of S-TaS when the position of the unique qualified arm is changed."
   ]
  },
  {
   "cell_type": "code",
   "execution_count": 3,
   "id": "193cebd0",
   "metadata": {},
   "outputs": [],
   "source": [
    "# import package\n",
    "import sys  \n",
    "sys.path.append('./Source/')\n",
    "\n",
    "from Source.agent import Sticky_TaS_fast\n",
    "from Source.env import Environment_Gaussian\n",
    "from tqdm import tqdm\n",
    "from time import time\n",
    "import numpy as np\n",
    "\n",
    "# define parameters\n",
    "K = 10\n",
    "xi = 0.5\n",
    "\n",
    "delta = 0.0001 # useless\n",
    "log1_over_delta = 100\n",
    "n_exp = 100"
   ]
  },
  {
   "cell_type": "code",
   "execution_count": 4,
   "id": "e09a7ce8",
   "metadata": {},
   "outputs": [
    {
     "name": "stderr",
     "output_type": "stream",
     "text": [
      "100%|████████████████████████████████████████████████████████████████████████████████| 100/100 [00:01<00:00, 89.46it/s]\n",
      "100%|████████████████████████████████████████████████████████████████████████████████| 100/100 [00:02<00:00, 40.74it/s]\n",
      "100%|████████████████████████████████████████████████████████████████████████████████| 100/100 [00:02<00:00, 38.48it/s]\n",
      "100%|████████████████████████████████████████████████████████████████████████████████| 100/100 [00:02<00:00, 37.17it/s]\n",
      "100%|████████████████████████████████████████████████████████████████████████████████| 100/100 [00:02<00:00, 36.06it/s]\n",
      "100%|████████████████████████████████████████████████████████████████████████████████| 100/100 [00:02<00:00, 34.92it/s]\n",
      "100%|████████████████████████████████████████████████████████████████████████████████| 100/100 [00:02<00:00, 33.88it/s]\n",
      "100%|████████████████████████████████████████████████████████████████████████████████| 100/100 [00:02<00:00, 34.16it/s]\n",
      "100%|████████████████████████████████████████████████████████████████████████████████| 100/100 [00:03<00:00, 33.32it/s]\n",
      "100%|████████████████████████████████████████████████████████████████████████████████| 100/100 [00:02<00:00, 34.43it/s]\n"
     ]
    }
   ],
   "source": [
    "pos_stopping = np.zeros(K)\n",
    "for pos_opt_arm in range(K):\n",
    "    rlist = np.zeros(K)\n",
    "    rlist[pos_opt_arm] = 2\n",
    "    \n",
    "    stop_time_ = np.zeros(n_exp)\n",
    "    for exp_id in tqdm(range(n_exp)):\n",
    "        env = Environment_Gaussian(rlist=rlist, K=K, random_seed=exp_id)\n",
    "        agent = Sticky_TaS_fast(K=K, delta=delta, xi=xi, logC=1, log1_over_delta=log1_over_delta)\n",
    "        \n",
    "        round_count = 0\n",
    "        while not agent.stop:\n",
    "            arm = agent.action()\n",
    "            reward = env.response(arm)\n",
    "            output_arm = agent.observe(reward)\n",
    "            round_count += 1\n",
    "            if output_arm is not None:\n",
    "                break\n",
    "        stop_time_[exp_id] = round_count\n",
    "\n",
    "    pos_stopping[pos_opt_arm] = np.mean(stop_time_)"
   ]
  },
  {
   "cell_type": "code",
   "execution_count": 5,
   "id": "8fa9fa7c",
   "metadata": {},
   "outputs": [
    {
     "data": {
      "image/png": "[encoded data removed]",
      "text/plain": [
       "<Figure size 500x300 with 1 Axes>"
      ]
     },
     "metadata": {},
     "output_type": "display_data"
    }
   ],
   "source": [
    "# plot the figure\n",
    "import matplotlib.pyplot as plt\n",
    "plt.figure(figsize=(5, 3))\n",
    "plt.plot(np.arange(1, K+1), pos_stopping)\n",
    "plt.xlabel(\"Position of Qualified Arm\")\n",
    "plt.xticks(np.arange(1, K+1))\n",
    "plt.ylabel(\"Empirical Stopping Time\")\n",
    "plt.show()"
   ]
  },
  {
   "cell_type": "markdown",
   "id": "17006585",
   "metadata": {},
   "source": [
    "# Convergence Speed\n",
    "In the following cells, I am going to test the convergence speed of S-TaS"
   ]
  },
  {
   "cell_type": "code",
   "execution_count": 18,
   "id": "72990204",
   "metadata": {},
   "outputs": [],
   "source": [
    "# define parameters\n",
    "K = 5\n",
    "xi = 0.5\n",
    "\n",
    "delta = 0.0001 # useless\n",
    "log1_over_delta_ = np.arange(100, 1000, 200)\n",
    "n_exp = 100"
   ]
  },
  {
   "cell_type": "code",
   "execution_count": 28,
   "id": "52d8e2a8",
   "metadata": {},
   "outputs": [
    {
     "name": "stderr",
     "output_type": "stream",
     "text": [
      "100%|████████████████████████████████████████████████████████████████████████████████| 100/100 [00:11<00:00,  8.60it/s]\n"
     ]
    },
    {
     "name": "stdout",
     "output_type": "stream",
     "text": [
      "3547.82\n"
     ]
    },
    {
     "name": "stderr",
     "output_type": "stream",
     "text": [
      "100%|████████████████████████████████████████████████████████████████████████████████| 100/100 [00:22<00:00,  4.44it/s]\n"
     ]
    },
    {
     "name": "stdout",
     "output_type": "stream",
     "text": [
      "5245.88\n"
     ]
    },
    {
     "name": "stderr",
     "output_type": "stream",
     "text": [
      "100%|████████████████████████████████████████████████████████████████████████████████| 100/100 [00:32<00:00,  3.04it/s]\n"
     ]
    },
    {
     "name": "stdout",
     "output_type": "stream",
     "text": [
      "6933.72\n"
     ]
    },
    {
     "name": "stderr",
     "output_type": "stream",
     "text": [
      "100%|████████████████████████████████████████████████████████████████████████████████| 100/100 [00:43<00:00,  2.28it/s]\n"
     ]
    },
    {
     "name": "stdout",
     "output_type": "stream",
     "text": [
      "8612.14\n"
     ]
    },
    {
     "name": "stderr",
     "output_type": "stream",
     "text": [
      "100%|████████████████████████████████████████████████████████████████████████████████| 100/100 [00:58<00:00,  1.71it/s]"
     ]
    },
    {
     "name": "stdout",
     "output_type": "stream",
     "text": [
      "10287.18\n"
     ]
    },
    {
     "name": "stderr",
     "output_type": "stream",
     "text": [
      "\n"
     ]
    }
   ],
   "source": [
    "# conduct the experiment\n",
    "rlist = np.zeros(K)\n",
    "rlist[-1] = 1\n",
    "\n",
    "inverse_delta_stopping_ = np.zeros(len(log1_over_delta_))\n",
    "for delta_id in range(len(log1_over_delta_)):\n",
    "    stop_time_ = np.zeros(n_exp)\n",
    "    for exp_id in tqdm(range(n_exp)):\n",
    "        env = Environment_Gaussian(rlist=rlist, K=K, random_seed=exp_id)\n",
    "        agent = Sticky_TaS_fast(K=K, delta=delta, xi=xi, logC=1, log1_over_delta=log1_over_delta_[delta_id])\n",
    "        \n",
    "        round_count = 0\n",
    "        while not agent.stop:\n",
    "            arm = agent.action()\n",
    "            reward = env.response(arm)\n",
    "            output_arm = agent.observe(reward)\n",
    "            round_count += 1\n",
    "            if output_arm is not None:\n",
    "                break\n",
    "        stop_time_[exp_id] = round_count\n",
    "    print(np.mean(stop_time_))\n",
    "    inverse_delta_stopping_[delta_id] = np.mean(stop_time_)"
   ]
  },
  {
   "cell_type": "code",
   "execution_count": 29,
   "id": "f47ea0aa",
   "metadata": {},
   "outputs": [
    {
     "data": {
      "image/png": "[encoded data removed]",
      "text/plain": [
       "<Figure size 500x300 with 1 Axes>"
      ]
     },
     "metadata": {},
     "output_type": "display_data"
    }
   ],
   "source": [
    "# plot the figure\n",
    "import matplotlib.pyplot as plt\n",
    "plt.figure(figsize=(5, 3))\n",
    "plt.plot(log1_over_delta_, inverse_delta_stopping_ / log1_over_delta_)\n",
    "plt.xlabel(r\"$\\log \\frac{1}{\\delta}$\")\n",
    "plt.xticks(log1_over_delta_)\n",
    "plt.ylabel(r\"$\\frac{E\\tau}{\\log \\frac{1}{\\delta} }$\")\n",
    "plt.axhline(y=2 / (np.max(rlist)-xi)**2, color='r', linestyle='-')\n",
    "plt.show()"
   ]
  },
  {
   "cell_type": "markdown",
   "id": "3f016a9b",
   "metadata": {},
   "source": [
    "We can see the convergence speed is very slow, as the ration is close to the $T^*$ only when $\\delta<\\exp(-100)$."
   ]
  },
  {
   "cell_type": "code",
   "execution_count": null,
   "id": "aae71500",
   "metadata": {},
   "outputs": [],
   "source": []
  }
 ],
 "metadata": {
  "kernelspec": {
   "display_name": "Python 3 (ipykernel)",
   "language": "python",
   "name": "python3"
  },
  "language_info": {
   "codemirror_mode": {
    "name": "ipython",
    "version": 3
   },
   "file_extension": ".py",
   "mimetype": "text/x-python",
   "name": "python",
   "nbconvert_exporter": "python",
   "pygments_lexer": "ipython3",
   "version": "3.11.7"
  },
  "varInspector": {
   "cols": {
    "lenName": 16,
    "lenType": 16,
    "lenVar": 40
   },
   "kernels_config": {
    "python": {
     "delete_cmd_postfix": "",
     "delete_cmd_prefix": "del ",
     "library": "var_list.py",
     "varRefreshCmd": "print(var_dic_list())"
    },
    "r": {
     "delete_cmd_postfix": ") ",
     "delete_cmd_prefix": "rm(",
     "library": "var_list.r",
     "varRefreshCmd": "cat(var_dic_list()) "
    }
   },
   "types_to_exclude": [
    "module",
    "function",
    "builtin_function_or_method",
    "instance",
    "_Feature"
   ],
   "window_display": false
  }
 },
 "nbformat": 4,
 "nbformat_minor": 5
}
