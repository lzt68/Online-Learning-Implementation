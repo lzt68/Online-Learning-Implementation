{
 "cells": [
  {
   "cell_type": "markdown",
   "id": "52a0e43c",
   "metadata": {},
   "source": [
    "# Affect of mean reward permutation\n",
    "\n",
    "The Sticky Track and Stop algorithm always prefers to pull arms with smaller index. We firstly check the impact of permutation of arms.\n",
    "+ In group 1, the arm with smaller index has a smaller mean reward\n",
    "+ In group 2, the arm with smaller index has a bigger mean reward\n",
    "\n",
    "Here we assume the reward vector is an arithmetic sequence."
   ]
  },
  {
   "cell_type": "code",
   "execution_count": 1,
   "id": "f2d20396",
   "metadata": {},
   "outputs": [],
   "source": [
    "# import package\n",
    "from Source.agent import Sticky_TaS\n",
    "from Source.env import Environment_Gaussian\n",
    "from tqdm import tqdm\n",
    "from time import time\n",
    "import numpy as np\n",
    "\n",
    "# define parameters\n",
    "n_exp = 1\n",
    "xi = 0.5\n",
    "\n",
    "K_ = [10, 50, 250]\n",
    "delta_ = [0.1, 0.05, 0.025]"
   ]
  },
  {
   "cell_type": "code",
   "execution_count": 2,
   "id": "fb464941",
   "metadata": {
    "code_folding": []
   },
   "outputs": [
    {
     "name": "stderr",
     "output_type": "stream",
     "text": [
      "100%|████████████████████████████████████████████████████████████████████████████████████| 1/1 [00:00<00:00, 38.55it/s]\n",
      "100%|████████████████████████████████████████████████████████████████████████████████████| 1/1 [00:00<00:00, 32.34it/s]\n",
      "100%|████████████████████████████████████████████████████████████████████████████████████| 1/1 [00:00<00:00, 38.56it/s]\n",
      "100%|████████████████████████████████████████████████████████████████████████████████████| 1/1 [00:00<00:00,  4.26it/s]\n",
      "100%|████████████████████████████████████████████████████████████████████████████████████| 1/1 [00:00<00:00,  4.28it/s]\n",
      "100%|████████████████████████████████████████████████████████████████████████████████████| 1/1 [00:00<00:00,  4.66it/s]\n",
      "  0%|                                                                                            | 0/1 [00:09<?, ?it/s]\n"
     ]
    },
    {
     "ename": "KeyboardInterrupt",
     "evalue": "",
     "output_type": "error",
     "traceback": [
      "\u001b[1;31m---------------------------------------------------------------------------\u001b[0m",
      "\u001b[1;31mKeyboardInterrupt\u001b[0m                         Traceback (most recent call last)",
      "Cell \u001b[1;32mIn[2], line 21\u001b[0m\n\u001b[0;32m     19\u001b[0m arm \u001b[38;5;241m=\u001b[39m agent\u001b[38;5;241m.\u001b[39maction()\n\u001b[0;32m     20\u001b[0m reward \u001b[38;5;241m=\u001b[39m env\u001b[38;5;241m.\u001b[39mresponse(arm)\n\u001b[1;32m---> 21\u001b[0m output_arm \u001b[38;5;241m=\u001b[39m agent\u001b[38;5;241m.\u001b[39mobserve(reward)\n\u001b[0;32m     22\u001b[0m \u001b[38;5;28;01mif\u001b[39;00m output_arm \u001b[38;5;129;01mis\u001b[39;00m \u001b[38;5;129;01mnot\u001b[39;00m \u001b[38;5;28;01mNone\u001b[39;00m:\n\u001b[0;32m     23\u001b[0m     \u001b[38;5;28;01mbreak\u001b[39;00m\n",
      "File \u001b[1;32mD:\\Research\\Online-Learning-Implementation\\Degenne-Koolen-2019-(Any_Large)Pure_Exploration_with_Multiple_Correct_Answers\\Source\\agent.py:216\u001b[0m, in \u001b[0;36mSticky_TaS.observe\u001b[1;34m(self, reward)\u001b[0m\n\u001b[0;32m    214\u001b[0m     projected_w \u001b[38;5;241m=\u001b[39m \u001b[38;5;28mself\u001b[39m\u001b[38;5;241m.\u001b[39mget_projection(wt, epsilon)\n\u001b[0;32m    215\u001b[0m     \u001b[38;5;28mself\u001b[39m\u001b[38;5;241m.\u001b[39msum_pulling_fraction \u001b[38;5;241m=\u001b[39m \u001b[38;5;28mself\u001b[39m\u001b[38;5;241m.\u001b[39msum_pulling_fraction \u001b[38;5;241m+\u001b[39m projected_w\n\u001b[1;32m--> 216\u001b[0m     arm \u001b[38;5;241m=\u001b[39m np\u001b[38;5;241m.\u001b[39margmax(\u001b[38;5;28mself\u001b[39m\u001b[38;5;241m.\u001b[39msum_pulling_fraction \u001b[38;5;241m-\u001b[39m \u001b[38;5;28mself\u001b[39m\u001b[38;5;241m.\u001b[39mpulling_times_) \u001b[38;5;241m+\u001b[39m \u001b[38;5;241m1\u001b[39m\n\u001b[0;32m    217\u001b[0m     \u001b[38;5;28mself\u001b[39m\u001b[38;5;241m.\u001b[39mpulling_list\u001b[38;5;241m.\u001b[39mappend(arm)\n\u001b[0;32m    219\u001b[0m \u001b[38;5;66;03m# determine whether to stop\u001b[39;00m\n",
      "File \u001b[1;32m<__array_function__ internals>:200\u001b[0m, in \u001b[0;36margmax\u001b[1;34m(*args, **kwargs)\u001b[0m\n",
      "File \u001b[1;32mD:\\Software\\Anaconda\\Lib\\site-packages\\numpy\\core\\fromnumeric.py:1242\u001b[0m, in \u001b[0;36margmax\u001b[1;34m(a, axis, out, keepdims)\u001b[0m\n\u001b[0;32m   1155\u001b[0m \u001b[38;5;250m\u001b[39m\u001b[38;5;124;03m\"\"\"\u001b[39;00m\n\u001b[0;32m   1156\u001b[0m \u001b[38;5;124;03mReturns the indices of the maximum values along an axis.\u001b[39;00m\n\u001b[0;32m   1157\u001b[0m \n\u001b[1;32m   (...)\u001b[0m\n\u001b[0;32m   1239\u001b[0m \u001b[38;5;124;03m(2, 1, 4)\u001b[39;00m\n\u001b[0;32m   1240\u001b[0m \u001b[38;5;124;03m\"\"\"\u001b[39;00m\n\u001b[0;32m   1241\u001b[0m kwds \u001b[38;5;241m=\u001b[39m {\u001b[38;5;124m'\u001b[39m\u001b[38;5;124mkeepdims\u001b[39m\u001b[38;5;124m'\u001b[39m: keepdims} \u001b[38;5;28;01mif\u001b[39;00m keepdims \u001b[38;5;129;01mis\u001b[39;00m \u001b[38;5;129;01mnot\u001b[39;00m np\u001b[38;5;241m.\u001b[39m_NoValue \u001b[38;5;28;01melse\u001b[39;00m {}\n\u001b[1;32m-> 1242\u001b[0m \u001b[38;5;28;01mreturn\u001b[39;00m _wrapfunc(a, \u001b[38;5;124m'\u001b[39m\u001b[38;5;124margmax\u001b[39m\u001b[38;5;124m'\u001b[39m, axis\u001b[38;5;241m=\u001b[39maxis, out\u001b[38;5;241m=\u001b[39mout, \u001b[38;5;241m*\u001b[39m\u001b[38;5;241m*\u001b[39mkwds)\n",
      "File \u001b[1;32mD:\\Software\\Anaconda\\Lib\\site-packages\\numpy\\core\\fromnumeric.py:57\u001b[0m, in \u001b[0;36m_wrapfunc\u001b[1;34m(obj, method, *args, **kwds)\u001b[0m\n\u001b[0;32m     54\u001b[0m     \u001b[38;5;28;01mreturn\u001b[39;00m _wrapit(obj, method, \u001b[38;5;241m*\u001b[39margs, \u001b[38;5;241m*\u001b[39m\u001b[38;5;241m*\u001b[39mkwds)\n\u001b[0;32m     56\u001b[0m \u001b[38;5;28;01mtry\u001b[39;00m:\n\u001b[1;32m---> 57\u001b[0m     \u001b[38;5;28;01mreturn\u001b[39;00m bound(\u001b[38;5;241m*\u001b[39margs, \u001b[38;5;241m*\u001b[39m\u001b[38;5;241m*\u001b[39mkwds)\n\u001b[0;32m     58\u001b[0m \u001b[38;5;28;01mexcept\u001b[39;00m \u001b[38;5;167;01mTypeError\u001b[39;00m:\n\u001b[0;32m     59\u001b[0m     \u001b[38;5;66;03m# A TypeError occurs if the object does have such a method in its\u001b[39;00m\n\u001b[0;32m     60\u001b[0m     \u001b[38;5;66;03m# class, but its signature is not identical to that of NumPy's. This\u001b[39;00m\n\u001b[1;32m   (...)\u001b[0m\n\u001b[0;32m     64\u001b[0m     \u001b[38;5;66;03m# Call _wrapit from within the except clause to ensure a potential\u001b[39;00m\n\u001b[0;32m     65\u001b[0m     \u001b[38;5;66;03m# exception has a traceback chain.\u001b[39;00m\n\u001b[0;32m     66\u001b[0m     \u001b[38;5;28;01mreturn\u001b[39;00m _wrapit(obj, method, \u001b[38;5;241m*\u001b[39margs, \u001b[38;5;241m*\u001b[39m\u001b[38;5;241m*\u001b[39mkwds)\n",
      "\u001b[1;31mKeyboardInterrupt\u001b[0m: "
     ]
    }
   ],
   "source": [
    "# conduct experiments on the group 1\n",
    "result_K_delta = dict() # the K and delta is the key\n",
    "for K in K_:\n",
    "    for delta in delta_:\n",
    "        rlist = np.linspace(1.0, 0.0, K)\n",
    "        \n",
    "        stop_time_ = np.zeros(n_exp)\n",
    "        correctness_ = np.ones(n_exp)\n",
    "        \n",
    "        for exp_id in tqdm(range(n_exp)):\n",
    "            rlist_temp = rlist.copy()\n",
    "            \n",
    "            answer_set = list(np.where(rlist_temp > xi)[0] + 1)\n",
    "            env = Environment_Gaussian(rlist=rlist_temp, K=K, random_seed=exp_id)\n",
    "            agent = Sticky_TaS(K=K, delta=delta, xi=xi)\n",
    "            \n",
    "            output_arm = None\n",
    "            while not agent.stop:\n",
    "                arm = agent.action()\n",
    "                reward = env.response(arm)\n",
    "                output_arm = agent.observe(reward)\n",
    "                if output_arm is not None:\n",
    "                    break\n",
    "            stop_time_[exp_id] = agent.t\n",
    "            if output_arm not in answer_set:\n",
    "                correctness_[exp_id] = 0\n",
    "        \n",
    "        mean_stop_time = np.mean(stop_time_)\n",
    "        std_stop_time = np.std(stop_time_) / np.sqrt(n_exp)\n",
    "        mean_success = np.mean(correctness_)\n",
    "        result_K_delta[(K,delta)] = (mean_stop_time,std_stop_time,mean_success)"
   ]
  },
  {
   "cell_type": "code",
   "execution_count": null,
   "id": "16efb578",
   "metadata": {},
   "outputs": [],
   "source": [
    "import matplotlib.pyplot as plt\n",
    "\n",
    "plt.figure(figsize=(10,6))\n",
    "for delta in delta_:\n",
    "    stop_time_ = [result_K_delta[(K,delta)][0] for K in K_]\n",
    "    # plt.plot(K_, stop_time_, label=f\"delta {delta}\")\n",
    "    yerr_ = [result_K_delta[(K,delta)][1] for K in K_]\n",
    "    plt.errorbar(K_, stop_time_, yerr=yerr_, capsize=3, fmt=\"--o\", label=f\"delta {delta}\")\n",
    "plt.xlabel(\"K\")\n",
    "plt.xscale('log')\n",
    "plt.ylabel(\"stopping time\")\n",
    "plt.legend()\n",
    "plt.show()"
   ]
  },
  {
   "cell_type": "code",
   "execution_count": 6,
   "id": "9aad0bd5",
   "metadata": {},
   "outputs": [
    {
     "name": "stderr",
     "output_type": "stream",
     "text": [
      "100%|████████████████████████████████████████████████████████████████████████████████████| 1/1 [00:00<00:00,  7.71it/s]\n",
      "100%|████████████████████████████████████████████████████████████████████████████████████| 1/1 [00:00<00:00,  8.02it/s]\n",
      "100%|████████████████████████████████████████████████████████████████████████████████████| 1/1 [00:00<00:00,  6.77it/s]\n",
      "100%|███████████████████████████████████████████████████████████████████████████████████| 1/1 [08:39<00:00, 519.11s/it]\n",
      "  0%|                                                                                            | 0/1 [00:25<?, ?it/s]\n"
     ]
    },
    {
     "ename": "KeyboardInterrupt",
     "evalue": "",
     "output_type": "error",
     "traceback": [
      "\u001b[1;31m---------------------------------------------------------------------------\u001b[0m",
      "\u001b[1;31mKeyboardInterrupt\u001b[0m                         Traceback (most recent call last)",
      "Cell \u001b[1;32mIn[6], line 21\u001b[0m\n\u001b[0;32m     19\u001b[0m arm \u001b[38;5;241m=\u001b[39m agent\u001b[38;5;241m.\u001b[39maction()\n\u001b[0;32m     20\u001b[0m reward \u001b[38;5;241m=\u001b[39m env\u001b[38;5;241m.\u001b[39mresponse(arm)\n\u001b[1;32m---> 21\u001b[0m output_arm \u001b[38;5;241m=\u001b[39m agent\u001b[38;5;241m.\u001b[39mobserve(reward)\n\u001b[0;32m     22\u001b[0m \u001b[38;5;28;01mif\u001b[39;00m output_arm \u001b[38;5;129;01mis\u001b[39;00m \u001b[38;5;129;01mnot\u001b[39;00m \u001b[38;5;28;01mNone\u001b[39;00m:\n\u001b[0;32m     23\u001b[0m     \u001b[38;5;28;01mbreak\u001b[39;00m\n",
      "File \u001b[1;32mD:\\Research\\Online-Learning-Implementation\\Degenne-Koolen-2019-(Any_Large)Pure_Exploration_with_Multiple_Correct_Answers\\Source\\agent.py:211\u001b[0m, in \u001b[0;36mSticky_TaS.observe\u001b[1;34m(self, reward)\u001b[0m\n\u001b[0;32m    206\u001b[0m \u001b[38;5;66;03m# calculate the arm to be pulled in the next round\u001b[39;00m\n\u001b[0;32m    207\u001b[0m \u001b[38;5;28;01mif\u001b[39;00m \u001b[38;5;28mlen\u001b[39m(\u001b[38;5;28mself\u001b[39m\u001b[38;5;241m.\u001b[39mpulling_list) \u001b[38;5;241m==\u001b[39m \u001b[38;5;241m0\u001b[39m:\n\u001b[0;32m    208\u001b[0m     \u001b[38;5;66;03m# It = self.Get_It(self.mean_reward_, self.pulling_times_)\u001b[39;00m\n\u001b[0;32m    209\u001b[0m     \u001b[38;5;66;03m# it = It[0]\u001b[39;00m\n\u001b[0;32m    210\u001b[0m     \u001b[38;5;66;03m# wt = self.Get_wt(self.mean_reward_, it=it)\u001b[39;00m\n\u001b[1;32m--> 211\u001b[0m     wt \u001b[38;5;241m=\u001b[39m \u001b[38;5;28mself\u001b[39m\u001b[38;5;241m.\u001b[39mGet_wt(\u001b[38;5;28mself\u001b[39m\u001b[38;5;241m.\u001b[39mmean_reward_, \u001b[38;5;28mself\u001b[39m\u001b[38;5;241m.\u001b[39mpulling_times_)\n\u001b[0;32m    212\u001b[0m     \u001b[38;5;66;03m## C-Track\u001b[39;00m\n\u001b[0;32m    213\u001b[0m     epsilon \u001b[38;5;241m=\u001b[39m \u001b[38;5;241m1\u001b[39m \u001b[38;5;241m/\u001b[39m np\u001b[38;5;241m.\u001b[39msqrt(\u001b[38;5;28mself\u001b[39m\u001b[38;5;241m.\u001b[39mK\u001b[38;5;241m*\u001b[39m\u001b[38;5;241m*\u001b[39m\u001b[38;5;241m2\u001b[39m \u001b[38;5;241m+\u001b[39m \u001b[38;5;28mself\u001b[39m\u001b[38;5;241m.\u001b[39mt)\n",
      "File \u001b[1;32mD:\\Research\\Online-Learning-Implementation\\Degenne-Koolen-2019-(Any_Large)Pure_Exploration_with_Multiple_Correct_Answers\\Source\\agent.py:261\u001b[0m, in \u001b[0;36mSticky_TaS.Get_wt\u001b[1;34m(self, hatmu, pulling)\u001b[0m\n\u001b[0;32m    259\u001b[0m     \u001b[38;5;28;01mreturn\u001b[39;00m wt\n\u001b[0;32m    260\u001b[0m \u001b[38;5;28;01melse\u001b[39;00m:  \u001b[38;5;66;03m# max_mean \\geq self.xi\u001b[39;00m\n\u001b[1;32m--> 261\u001b[0m     it \u001b[38;5;241m=\u001b[39m \u001b[38;5;28mself\u001b[39m\u001b[38;5;241m.\u001b[39mGet_it(hatmu, pulling)\n\u001b[0;32m    262\u001b[0m     \u001b[38;5;28;01mif\u001b[39;00m hatmu[it \u001b[38;5;241m-\u001b[39m \u001b[38;5;241m1\u001b[39m] \u001b[38;5;241m>\u001b[39m \u001b[38;5;28mself\u001b[39m\u001b[38;5;241m.\u001b[39mxi:\n\u001b[0;32m    263\u001b[0m         wt \u001b[38;5;241m=\u001b[39m np\u001b[38;5;241m.\u001b[39mzeros(\u001b[38;5;28mself\u001b[39m\u001b[38;5;241m.\u001b[39mK)\n",
      "File \u001b[1;32mD:\\Research\\Online-Learning-Implementation\\Degenne-Koolen-2019-(Any_Large)Pure_Exploration_with_Multiple_Correct_Answers\\Source\\agent.py:304\u001b[0m, in \u001b[0;36mSticky_TaS.Get_it\u001b[1;34m(self, hatmu, pulling)\u001b[0m\n\u001b[0;32m    300\u001b[0m         Nt \u001b[38;5;241m=\u001b[39m pulling[index_better_than_arm]\n\u001b[0;32m    302\u001b[0m         f \u001b[38;5;241m=\u001b[39m \u001b[38;5;28;01mlambda\u001b[39;00m x: np\u001b[38;5;241m.\u001b[39msum(N_arm_t \u001b[38;5;241m*\u001b[39m (x \u001b[38;5;241m-\u001b[39m hat_mu_arm_t) \u001b[38;5;241m*\u001b[39m\u001b[38;5;241m*\u001b[39m \u001b[38;5;241m2\u001b[39m \u001b[38;5;241m+\u001b[39m Nt \u001b[38;5;241m*\u001b[39m (np\u001b[38;5;241m.\u001b[39mmaximum(mu_temp \u001b[38;5;241m-\u001b[39m x, \u001b[38;5;241m0\u001b[39m) \u001b[38;5;241m*\u001b[39m\u001b[38;5;241m*\u001b[39m \u001b[38;5;241m2\u001b[39m))\n\u001b[1;32m--> 304\u001b[0m         \u001b[38;5;28;01mif\u001b[39;00m gss(f, \u001b[38;5;28mself\u001b[39m\u001b[38;5;241m.\u001b[39mxi, best_emp, ft):\n\u001b[0;32m    305\u001b[0m             \u001b[38;5;28;01mreturn\u001b[39;00m arm\n\u001b[0;32m    307\u001b[0m \u001b[38;5;66;03m# if the algorithm doesn't return any value\u001b[39;00m\n\u001b[0;32m    308\u001b[0m \u001b[38;5;66;03m# then best_emp_arm is the minimum arm index that's in I_t\u001b[39;00m\n",
      "File \u001b[1;32mD:\\Research\\Online-Learning-Implementation\\Degenne-Koolen-2019-(Any_Large)Pure_Exploration_with_Multiple_Correct_Answers\\Source\\agent.py:13\u001b[0m, in \u001b[0;36mgss\u001b[1;34m(f, a, b, threshold, ftoloerance)\u001b[0m\n\u001b[0;32m     11\u001b[0m c \u001b[38;5;241m=\u001b[39m b \u001b[38;5;241m-\u001b[39m (b \u001b[38;5;241m-\u001b[39m a) \u001b[38;5;241m*\u001b[39m invphi\n\u001b[0;32m     12\u001b[0m d \u001b[38;5;241m=\u001b[39m a \u001b[38;5;241m+\u001b[39m (b \u001b[38;5;241m-\u001b[39m a) \u001b[38;5;241m*\u001b[39m invphi\n\u001b[1;32m---> 13\u001b[0m fc \u001b[38;5;241m=\u001b[39m f(c)\n\u001b[0;32m     14\u001b[0m fd \u001b[38;5;241m=\u001b[39m f(d)\n\u001b[0;32m     16\u001b[0m \u001b[38;5;28;01mif\u001b[39;00m fc \u001b[38;5;241m<\u001b[39m\u001b[38;5;241m=\u001b[39m threshold \u001b[38;5;129;01mor\u001b[39;00m fd \u001b[38;5;241m<\u001b[39m\u001b[38;5;241m=\u001b[39m threshold:\n",
      "File \u001b[1;32mD:\\Research\\Online-Learning-Implementation\\Degenne-Koolen-2019-(Any_Large)Pure_Exploration_with_Multiple_Correct_Answers\\Source\\agent.py:302\u001b[0m, in \u001b[0;36mSticky_TaS.Get_it.<locals>.<lambda>\u001b[1;34m(x)\u001b[0m\n\u001b[0;32m    299\u001b[0m mu_temp \u001b[38;5;241m=\u001b[39m hatmu[index_better_than_arm]\n\u001b[0;32m    300\u001b[0m Nt \u001b[38;5;241m=\u001b[39m pulling[index_better_than_arm]\n\u001b[1;32m--> 302\u001b[0m f \u001b[38;5;241m=\u001b[39m \u001b[38;5;28;01mlambda\u001b[39;00m x: np\u001b[38;5;241m.\u001b[39msum(N_arm_t \u001b[38;5;241m*\u001b[39m (x \u001b[38;5;241m-\u001b[39m hat_mu_arm_t) \u001b[38;5;241m*\u001b[39m\u001b[38;5;241m*\u001b[39m \u001b[38;5;241m2\u001b[39m \u001b[38;5;241m+\u001b[39m Nt \u001b[38;5;241m*\u001b[39m (np\u001b[38;5;241m.\u001b[39mmaximum(mu_temp \u001b[38;5;241m-\u001b[39m x, \u001b[38;5;241m0\u001b[39m) \u001b[38;5;241m*\u001b[39m\u001b[38;5;241m*\u001b[39m \u001b[38;5;241m2\u001b[39m))\n\u001b[0;32m    304\u001b[0m \u001b[38;5;28;01mif\u001b[39;00m gss(f, \u001b[38;5;28mself\u001b[39m\u001b[38;5;241m.\u001b[39mxi, best_emp, ft):\n\u001b[0;32m    305\u001b[0m     \u001b[38;5;28;01mreturn\u001b[39;00m arm\n",
      "File \u001b[1;32m<__array_function__ internals>:177\u001b[0m, in \u001b[0;36msum\u001b[1;34m(*args, **kwargs)\u001b[0m\n",
      "\u001b[1;31mKeyboardInterrupt\u001b[0m: "
     ]
    }
   ],
   "source": [
    "# conduct experiments on the group 2\n",
    "result_K_delta = dict() # the K and delta is the key\n",
    "for K in K_:\n",
    "    for delta in delta_:\n",
    "        rlist = np.linspace(1.0, 0.0, K)\n",
    "        \n",
    "        stop_time_ = np.zeros(n_exp)\n",
    "        correctness_ = np.ones(n_exp)\n",
    "        \n",
    "        for exp_id in tqdm(range(n_exp)):\n",
    "            rlist_temp = rlist[::-1].copy()\n",
    "            \n",
    "            answer_set = list(np.where(rlist_temp > xi)[0] + 1)\n",
    "            env = Environment_Gaussian(rlist=rlist_temp, K=K, random_seed=exp_id)\n",
    "            agent = Sticky_TaS(K=K, delta=delta, xi=xi)\n",
    "            \n",
    "            output_arm = None\n",
    "            while not agent.stop:\n",
    "                arm = agent.action()\n",
    "                reward = env.response(arm)\n",
    "                output_arm = agent.observe(reward)\n",
    "                if output_arm is not None:\n",
    "                    break\n",
    "            stop_time_[exp_id] = agent.t\n",
    "            if output_arm not in answer_set:\n",
    "                correctness_[exp_id] = 0\n",
    "        \n",
    "        mean_stop_time = np.mean(stop_time_)\n",
    "        std_stop_time = np.std(stop_time_) / np.sqrt(n_exp)\n",
    "        mean_success = np.mean(correctness_)\n",
    "        result_K_delta[(K,delta)] = (mean_stop_time,std_stop_time,mean_success)"
   ]
  },
  {
   "cell_type": "code",
   "execution_count": null,
   "id": "b2bcdb66",
   "metadata": {},
   "outputs": [],
   "source": []
  }
 ],
 "metadata": {
  "kernelspec": {
   "display_name": "Python 3 (ipykernel)",
   "language": "python",
   "name": "python3"
  },
  "language_info": {
   "codemirror_mode": {
    "name": "ipython",
    "version": 3
   },
   "file_extension": ".py",
   "mimetype": "text/x-python",
   "name": "python",
   "nbconvert_exporter": "python",
   "pygments_lexer": "ipython3",
   "version": "3.11.3"
  },
  "varInspector": {
   "cols": {
    "lenName": 16,
    "lenType": 16,
    "lenVar": 40
   },
   "kernels_config": {
    "python": {
     "delete_cmd_postfix": "",
     "delete_cmd_prefix": "del ",
     "library": "var_list.py",
     "varRefreshCmd": "print(var_dic_list())"
    },
    "r": {
     "delete_cmd_postfix": ") ",
     "delete_cmd_prefix": "rm(",
     "library": "var_list.r",
     "varRefreshCmd": "cat(var_dic_list()) "
    }
   },
   "types_to_exclude": [
    "module",
    "function",
    "builtin_function_or_method",
    "instance",
    "_Feature"
   ],
   "window_display": false
  }
 },
 "nbformat": 4,
 "nbformat_minor": 5
}
