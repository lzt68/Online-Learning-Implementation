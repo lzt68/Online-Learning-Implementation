{
 "cells": [
  {
   "cell_type": "markdown",
   "id": "06b2c15a",
   "metadata": {},
   "source": [
    "# Sticky_TaS_fast, Sticky_TaS, Sticky_TaS_old"
   ]
  },
  {
   "cell_type": "markdown",
   "id": "dc516407",
   "metadata": {},
   "source": [
    "This notebook conducts comparison between three implementations of the sam Algorithm Sticky_TaS. The comparison mainly focuses on two parts.\n",
    "\n",
    "1. Check whether their action is always the same, given the same environment\n",
    "2. Compare the running speed of these implementations"
   ]
  },
  {
   "cell_type": "markdown",
   "id": "45944f5a",
   "metadata": {},
   "source": [
    "## Check whether their actions are the same"
   ]
  },
  {
   "cell_type": "code",
   "execution_count": 1,
   "id": "d887b295-d326-41d9-b51b-9f1dd6eeb388",
   "metadata": {},
   "outputs": [],
   "source": [
    "from agent import Sticky_TaS_fast, Sticky_TaS, Sticky_TaS_old\n",
    "from env import Environment_Gaussian\n",
    "from tqdm import tqdm\n",
    "from time import time\n",
    "import numpy as np"
   ]
  },
  {
   "cell_type": "code",
   "execution_count": 2,
   "id": "9209fd34-2b68-4746-b6f3-1b5db6230d10",
   "metadata": {},
   "outputs": [
    {
     "name": "stderr",
     "output_type": "stream",
     "text": [
      "100%|████████████████████████████████████████████████████████████████████████████████| 100/100 [11:15<00:00,  6.75s/it]"
     ]
    },
    {
     "name": "stdout",
     "output_type": "stream",
     "text": [
      "Didn't detect inconsistent action\n"
     ]
    },
    {
     "name": "stderr",
     "output_type": "stream",
     "text": [
      "\n"
     ]
    }
   ],
   "source": [
    "# run the implementations with the same reward vector, different permutation\n",
    "K = 20\n",
    "xi = 0.5\n",
    "Delta = 4\n",
    "rlist = np.zeros(K)\n",
    "rlist[-1] = xi + Delta\n",
    "delta = 0.0001\n",
    "\n",
    "n_exp = 100\n",
    "for exp_id in tqdm(range(n_exp)):\n",
    "    rlist_temp = rlist.copy()\n",
    "    np.random.seed(exp_id)\n",
    "    np.random.shuffle(rlist_temp)\n",
    "    answer_set = list(np.where(rlist_temp > xi)[0] + 1)\n",
    "\n",
    "    env = Environment_Gaussian(rlist=rlist_temp, K=K, random_seed=exp_id)\n",
    "    agent_sas = Sticky_TaS(K=K, delta=delta, xi=xi, logC=1, log1_over_delta=1000)\n",
    "    agent_sas_fast = Sticky_TaS_fast(K=K, delta=delta, xi=xi, logC=1, log1_over_delta=1000)\n",
    "    agent_sas_old = Sticky_TaS_old(K=K, delta=delta, xi=xi, logC=1, log1_over_delta=1000)\n",
    "\n",
    "    while (not agent_sas.stop) or (not agent_sas_fast.stop) or (not agent_sas_old.stop):\n",
    "        arm_sas_fast = agent_sas_fast.action()\n",
    "        arm_sas = agent_sas.action()\n",
    "        arm_sas_old = agent_sas_old.action()\n",
    "        assert arm_sas_fast == arm_sas, f\"exp {exp_id}, round {agent_sas.t} inconsistent\"\n",
    "        assert arm_sas_old == arm_sas, f\"exp {exp_id}, round {agent_sas.t} inconsistent\"\n",
    "        assert agent_sas.stop == agent_sas_fast.stop, f\"exp {exp_id}, round {agent_sas.t} inconsistent\"\n",
    "        assert agent_sas_old.stop == agent_sas_fast.stop, f\"exp {exp_id}, round {agent_sas.t} inconsistent\"\n",
    "\n",
    "        reward = env.response(arm_sas_fast)\n",
    "\n",
    "        agent_sas.observe(reward)\n",
    "        agent_sas_fast.observe(reward)\n",
    "        agent_sas_old.observe(reward)\n",
    "\n",
    "print(\"Didn't detect inconsistent action\")"
   ]
  },
  {
   "cell_type": "code",
   "execution_count": 4,
   "id": "5e2d88c2-f6a1-4a21-92b0-907d2221ed39",
   "metadata": {},
   "outputs": [
    {
     "name": "stderr",
     "output_type": "stream",
     "text": [
      "100%|████████████████████████████████████████████████████████████████████████████████| 100/100 [03:36<00:00,  2.16s/it]"
     ]
    },
    {
     "name": "stdout",
     "output_type": "stream",
     "text": [
      "Didn't detect inconsistent action\n"
     ]
    },
    {
     "name": "stderr",
     "output_type": "stream",
     "text": [
      "\n"
     ]
    }
   ],
   "source": [
    "# run the implementations with randomly generalized reward vector\n",
    "K = 10\n",
    "xi = 0.5\n",
    "Delta = 4\n",
    "delta = 0.0001\n",
    "\n",
    "n_exp = 100\n",
    "for exp_id in tqdm(range(n_exp)):\n",
    "    np.random.seed(exp_id)\n",
    "    rlist_temp = np.random.uniform(low=0.0, high=1.0, size=K)\n",
    "    rlist_temp[np.random.randint(low=0,high=K)] = xi + Delta \n",
    "    answer_set = list(np.where(rlist_temp > xi)[0] + 1)\n",
    "\n",
    "    env = Environment_Gaussian(rlist=rlist_temp, K=K, random_seed=exp_id)\n",
    "    agent_sas = Sticky_TaS(K=K, delta=delta, xi=xi, logC=1, log1_over_delta=1000)\n",
    "    agent_sas_fast = Sticky_TaS_fast(K=K, delta=delta, xi=xi, logC=1, log1_over_delta=1000)\n",
    "    agent_sas_old = Sticky_TaS_old(K=K, delta=delta, xi=xi, logC=1, log1_over_delta=1000)\n",
    "\n",
    "    while (not agent_sas.stop) or (not agent_sas_fast.stop) or (not agent_sas_old.stop):\n",
    "        arm_sas_fast = agent_sas_fast.action()\n",
    "        arm_sas = agent_sas.action()\n",
    "        arm_sas_old = agent_sas_old.action()\n",
    "        assert arm_sas_fast == arm_sas, f\"exp {exp_id}, round {agent_sas.t} inconsistent\"\n",
    "        assert arm_sas_old == arm_sas, f\"exp {exp_id}, round {agent_sas.t} inconsistent\"\n",
    "        assert agent_sas.stop == agent_sas_fast.stop, f\"exp {exp_id}, round {agent_sas.t} inconsistent\"\n",
    "        assert agent_sas_old.stop == agent_sas_fast.stop, f\"exp {exp_id}, round {agent_sas.t} inconsistent\"\n",
    "\n",
    "        reward = env.response(arm_sas_fast)\n",
    "\n",
    "        output_arm = agent_sas.observe(reward)\n",
    "        output_arm_fast = agent_sas_fast.observe(reward)\n",
    "        output_arm_old = agent_sas_old.observe(reward)\n",
    "        \n",
    "    assert output_arm == output_arm_fast, f\"exp {exp_id}, output different arms\"\n",
    "    assert output_arm_old == output_arm_fast, f\"exp {exp_id}, output different arms\"\n",
    "\n",
    "print(\"Didn't detect inconsistent action\")"
   ]
  },
  {
   "cell_type": "markdown",
   "id": "a5ffac4a",
   "metadata": {},
   "source": [
    "## Compare the execution speed of these three implementations\n",
    "\n",
    "In the following, we will record the execution time of each implementation. Instead of passing $\\delta$ to each algorithm, we directly pass $\\log\\frac{1}{\\delta}$ to the algorithm. If $K$ is not large and $\\delta$ is not small enough(below $\\delta=\\exp(-100)$), there isn't significant difference between the running speed of these implementations."
   ]
  },
  {
   "cell_type": "code",
   "execution_count": 6,
   "id": "b7888d44-a451-4b7d-89c2-35ee9378659e",
   "metadata": {},
   "outputs": [
    {
     "name": "stderr",
     "output_type": "stream",
     "text": [
      "100%|████████████████████████████████████████████████████████████████████████████████| 100/100 [00:07<00:00, 13.47it/s]\n"
     ]
    },
    {
     "name": "stdout",
     "output_type": "stream",
     "text": [
      "For algorithm Sticky_TaS_fast, \n",
      "mean stop time is 601.14\n",
      "correctness rate is 1.0\n",
      "execution time is 0.07271615743637085\n"
     ]
    },
    {
     "name": "stderr",
     "output_type": "stream",
     "text": [
      "100%|████████████████████████████████████████████████████████████████████████████████| 100/100 [00:17<00:00,  5.80it/s]\n"
     ]
    },
    {
     "name": "stdout",
     "output_type": "stream",
     "text": [
      "For algorithm Sticky_TaS, \n",
      "mean stop time is 601.14\n",
      "correctness rate is 1.0\n",
      "execution time is 0.1690439486503601\n"
     ]
    },
    {
     "name": "stderr",
     "output_type": "stream",
     "text": [
      "100%|████████████████████████████████████████████████████████████████████████████████| 100/100 [00:52<00:00,  1.92it/s]"
     ]
    },
    {
     "name": "stdout",
     "output_type": "stream",
     "text": [
      "For algorithm Sticky_TaS_old, \n",
      "mean stop time is 601.14\n",
      "correctness rate is 1.0\n",
      "execution time is 0.5171171426773071\n"
     ]
    },
    {
     "name": "stderr",
     "output_type": "stream",
     "text": [
      "\n"
     ]
    }
   ],
   "source": [
    "from env import Environment_Gaussian\n",
    "from tqdm import tqdm\n",
    "from time import time\n",
    "\n",
    "K = 100\n",
    "xi = 0.5\n",
    "Delta = 4\n",
    "rlist = np.zeros(K)\n",
    "rlist[-1] = xi + Delta\n",
    "\n",
    "delta = 0.0001 # useless here\n",
    "n_exp = 100\n",
    "\n",
    "result_dict = dict()\n",
    "for alg_class in [Sticky_TaS_fast, Sticky_TaS, Sticky_TaS_old]:\n",
    "    stop_time_ = np.zeros(n_exp)\n",
    "    output_arm_ = list()\n",
    "    correctness_ = np.ones(n_exp)\n",
    "    exectution_time_ = np.zeros(n_exp)\n",
    "    # for exp_id in tqdm(range(n_exp)):\n",
    "    for exp_id in tqdm(range(n_exp)):\n",
    "        rlist_temp = rlist[::-1].copy()\n",
    "        # rlist_temp = rlist[::-1].copy()\n",
    "        # np.random.seed(exp_id)\n",
    "        # np.random.shuffle(rlist_temp)\n",
    "        answer_set = list(np.where(rlist_temp > xi)[0] + 1)\n",
    "\n",
    "        env = Environment_Gaussian(rlist=rlist_temp, K=K, random_seed=exp_id)\n",
    "        agent = alg_class(K=K, delta=delta, xi=xi, logC=1, log1_over_delta=100)\n",
    "\n",
    "        time_start = time()\n",
    "        while not agent.stop:\n",
    "            arm = agent.action()\n",
    "            reward = env.response(arm)\n",
    "            output_arm = agent.observe(reward)\n",
    "            if output_arm is not None:\n",
    "                output_arm_.append(output_arm)\n",
    "                break\n",
    "        time_end = time()\n",
    "        stop_time_[exp_id] = agent.t\n",
    "        exectution_time_[exp_id] = time_end - time_start\n",
    "        if output_arm not in answer_set:\n",
    "            correctness_[exp_id] = 0\n",
    "    mean_stop_time = np.mean(stop_time_)\n",
    "    mean_success = np.mean(correctness_)\n",
    "    mean_execution_time = np.mean(exectution_time_)\n",
    "\n",
    "    algname = type(agent).__name__\n",
    "    result_dict[algname] = stop_time_\n",
    "    print(f\"For algorithm {algname}, \")\n",
    "    print(f\"mean stop time is {mean_stop_time}\")\n",
    "    print(f\"correctness rate is {mean_success}\")\n",
    "    print(f\"execution time is {mean_execution_time}\")"
   ]
  },
  {
   "cell_type": "code",
   "execution_count": null,
   "id": "c61348ab-0218-41d3-b9da-5d7d2a441b90",
   "metadata": {},
   "outputs": [],
   "source": []
  }
 ],
 "metadata": {
  "kernelspec": {
   "display_name": "Python 3 (ipykernel)",
   "language": "python",
   "name": "python3"
  },
  "language_info": {
   "codemirror_mode": {
    "name": "ipython",
    "version": 3
   },
   "file_extension": ".py",
   "mimetype": "text/x-python",
   "name": "python",
   "nbconvert_exporter": "python",
   "pygments_lexer": "ipython3",
   "version": "3.11.3"
  },
  "varInspector": {
   "cols": {
    "lenName": 16,
    "lenType": 16,
    "lenVar": 40
   },
   "kernels_config": {
    "python": {
     "delete_cmd_postfix": "",
     "delete_cmd_prefix": "del ",
     "library": "var_list.py",
     "varRefreshCmd": "print(var_dic_list())"
    },
    "r": {
     "delete_cmd_postfix": ") ",
     "delete_cmd_prefix": "rm(",
     "library": "var_list.r",
     "varRefreshCmd": "cat(var_dic_list()) "
    }
   },
   "types_to_exclude": [
    "module",
    "function",
    "builtin_function_or_method",
    "instance",
    "_Feature"
   ],
   "window_display": false
  }
 },
 "nbformat": 4,
 "nbformat_minor": 5
}
