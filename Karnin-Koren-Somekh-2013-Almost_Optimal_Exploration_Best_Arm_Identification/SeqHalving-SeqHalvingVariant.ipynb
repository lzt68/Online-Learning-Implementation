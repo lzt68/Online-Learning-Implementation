{
 "cells": [
  {
   "cell_type": "markdown",
   "id": "7348324d",
   "metadata": {
    "heading_collapsed": true,
    "papermill": {
     "duration": 0.273732,
     "end_time": "2022-11-30T09:41:45.642655",
     "exception": false,
     "start_time": "2022-11-30T09:41:45.368923",
     "status": "completed"
    },
    "tags": []
   },
   "source": [
    "# Sequential Halving - Round Robin"
   ]
  },
  {
   "cell_type": "code",
   "execution_count": 1,
   "id": "7131ba51",
   "metadata": {
    "code_folding": [],
    "hidden": true
   },
   "outputs": [],
   "source": [
    "# import pacakges\n",
    "%reset -f\n",
    "import numpy as np\n",
    "from Source.source import *\n",
    "from sklearn.model_selection import ParameterGrid\n",
    "from tqdm import tqdm\n",
    "import pandas as pd\n",
    "import os"
   ]
  },
  {
   "cell_type": "code",
   "execution_count": 2,
   "id": "977da95d",
   "metadata": {
    "code_folding": [],
    "hidden": true
   },
   "outputs": [],
   "source": [
    "# numeric setting\n",
    "K = 20\n",
    "n_experiment = 3000\n",
    "C = 7600\n",
    "\n",
    "reward_hh, _, _ = OneSubOptimal_H_H(K)\n",
    "demand_hh = np.ones(K)"
   ]
  },
  {
   "cell_type": "code",
   "execution_count": 3,
   "id": "ee4ea7ab",
   "metadata": {
    "code_folding": [],
    "hidden": true
   },
   "outputs": [
    {
     "name": "stderr",
     "output_type": "stream",
     "text": [
      "100%|██████████████████████████████████████████████████████████████████████████████| 3000/3000 [04:41<00:00, 10.65it/s]"
     ]
    },
    {
     "name": "stdout",
     "output_type": "stream",
     "text": [
      "success rate is 0.6296666666666667, the standard deviation is 0.008816396761254102\n"
     ]
    },
    {
     "name": "stderr",
     "output_type": "stream",
     "text": [
      "\n"
     ]
    }
   ],
   "source": [
    "# experiment for Sequential Halving - Round Robin\n",
    "success_rate, std_success_rate, pulling_times_, _, _ = Experiment(\n",
    "    reward=reward_hh,\n",
    "    demand=demand_hh,\n",
    "    env_class=Env_FixedConsumption,\n",
    "    env_para=dict(),\n",
    "    agent_class=SequentialHalving_Agent,\n",
    "    agent_para=dict(),\n",
    "    n_experiment=n_experiment,\n",
    "    K=K,\n",
    "    C=C,\n",
    ")\n",
    "print(f\"success rate is {success_rate}, the standard deviation is {std_success_rate}\")"
   ]
  },
  {
   "cell_type": "markdown",
   "id": "04bcbe90",
   "metadata": {},
   "source": [
    "# Sequential Halving - Pre-calculated pulling times"
   ]
  },
  {
   "cell_type": "code",
   "execution_count": 1,
   "id": "087c5a79",
   "metadata": {},
   "outputs": [],
   "source": [
    "# import pacakges\n",
    "%reset -f\n",
    "import numpy as np\n",
    "from Source.source import *\n",
    "from sklearn.model_selection import ParameterGrid\n",
    "from tqdm import tqdm\n",
    "import pandas as pd\n",
    "import os"
   ]
  },
  {
   "cell_type": "code",
   "execution_count": 2,
   "id": "d29df82f",
   "metadata": {},
   "outputs": [],
   "source": [
    "# numeric setting\n",
    "K = 20\n",
    "n_experiment = 3000\n",
    "C = 7600\n",
    "\n",
    "reward_hh, _, _ = OneSubOptimal_H_H(K)\n",
    "demand_hh = np.ones(K)"
   ]
  },
  {
   "cell_type": "code",
   "execution_count": 3,
   "id": "b36cabc7",
   "metadata": {},
   "outputs": [
    {
     "name": "stderr",
     "output_type": "stream",
     "text": [
      "100%|██████████████████████████████████████████████████████████████████████████████| 3000/3000 [03:15<00:00, 15.34it/s]"
     ]
    },
    {
     "name": "stdout",
     "output_type": "stream",
     "text": [
      "success rate is 0.6093333333333333, the standard deviation is 0.008907791013530838\n"
     ]
    },
    {
     "name": "stderr",
     "output_type": "stream",
     "text": [
      "\n"
     ]
    }
   ],
   "source": [
    "# experiment for Sequential Halving - Round Robin\n",
    "success_rate, std_success_rate, pulling_times_, _, _ = Experiment(\n",
    "    reward=reward_hh,\n",
    "    demand=demand_hh,\n",
    "    env_class=Env_FixedConsumption,\n",
    "    env_para=dict(),\n",
    "    agent_class=SequentialHalving_Agent_Variant,\n",
    "    agent_para=dict(),\n",
    "    n_experiment=n_experiment,\n",
    "    K=K,\n",
    "    C=C,\n",
    ")\n",
    "print(f\"success rate is {success_rate}, the standard deviation is {std_success_rate}\")"
   ]
  },
  {
   "cell_type": "code",
   "execution_count": null,
   "id": "b5abcc59",
   "metadata": {},
   "outputs": [],
   "source": []
  }
 ],
 "metadata": {
  "kernelspec": {
   "display_name": "Python 3",
   "language": "python",
   "name": "python3"
  },
  "language_info": {
   "codemirror_mode": {
    "name": "ipython",
    "version": 3
   },
   "file_extension": ".py",
   "mimetype": "text/x-python",
   "name": "python",
   "nbconvert_exporter": "python",
   "pygments_lexer": "ipython3",
   "version": "3.8.8"
  },
  "papermill": {
   "default_parameters": {},
   "duration": 580.122824,
   "end_time": "2022-11-30T09:41:46.637187",
   "environment_variables": {},
   "exception": null,
   "input_path": "__notebook__.ipynb",
   "output_path": "__notebook__.ipynb",
   "parameters": {},
   "start_time": "2022-11-30T09:32:06.514363",
   "version": "2.3.4"
  }
 },
 "nbformat": 4,
 "nbformat_minor": 5
}
