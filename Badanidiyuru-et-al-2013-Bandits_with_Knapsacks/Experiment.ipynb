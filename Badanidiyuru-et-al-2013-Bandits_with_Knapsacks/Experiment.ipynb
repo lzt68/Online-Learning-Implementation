{
 "cells": [
  {
   "cell_type": "markdown",
   "id": "062cde16",
   "metadata": {},
   "source": [
    "# Test PrimalDualBwK"
   ]
  },
  {
   "cell_type": "code",
   "execution_count": 45,
   "id": "46ca2b75",
   "metadata": {
    "code_folding": []
   },
   "outputs": [
    {
     "name": "stderr",
     "output_type": "stream",
     "text": [
      "100%|██████████████████████████████████████████████████████████████████████████████| 1000/1000 [01:15<00:00, 13.16it/s]\n"
     ]
    },
    {
     "data": {
      "image/png": "[encoded data removed]",
      "text/plain": [
       "<Figure size 432x288 with 1 Axes>"
      ]
     },
     "metadata": {
      "needs_background": "light"
     },
     "output_type": "display_data"
    }
   ],
   "source": [
    "# conduct the experiment once\n",
    "from Source.env import Env_FixedConsumption\n",
    "from Source.agent import PrimalDualBwK\n",
    "from scipy.optimize import linprog\n",
    "import matplotlib.pyplot as plt\n",
    "from tqdm import tqdm\n",
    "import numpy as np\n",
    "\n",
    "random_seed = 12345\n",
    "np.random.seed(random_seed)\n",
    "\n",
    "d = 5\n",
    "m = 5\n",
    "B = 1000\n",
    "r_list = np.random.uniform(low=0.0, high=1.0, size=m)\n",
    "d_list = np.random.uniform(low=0.0, high=1.0, size=(d, m))\n",
    "\n",
    "# calculate the OPT_LP\n",
    "res = linprog(c=-r_list, A_ub=d_list, b_ub=1 * np.ones(d))\n",
    "reward_OPT_LP = np.cumsum(np.ones(B) * (-res.fun))\n",
    "\n",
    "reward_ = list()\n",
    "for T in tqdm(range(1, B + 1)):\n",
    "    env = Env_FixedConsumption(r_list=r_list, d_list=d_list, m=m, B=T, d=d, random_seed=random_seed)\n",
    "    agent = PrimalDualBwK(d=d, m=m, B=T, Crad=np.log(d * T * m))\n",
    "    reward_T = list()\n",
    "    while not env.if_stop():\n",
    "        arm = agent.action()\n",
    "        consumption, reward = env.response(arm=arm)\n",
    "        agent.observe(reward=reward, consumption=consumption)\n",
    "        reward_T.append(reward)\n",
    "    reward_.append(np.sum(reward_T))\n",
    "reward_ = np.array(reward_)\n",
    "\n",
    "plt.plot(np.arange(1, B + 1), reward_OPT_LP[:B] - reward_[:B], label=\"regret\")\n",
    "plt.show()"
   ]
  },
  {
   "cell_type": "code",
   "execution_count": 46,
   "id": "50500d9e",
   "metadata": {},
   "outputs": [
    {
     "name": "stdout",
     "output_type": "stream",
     "text": [
      "1, pulling times 915, pulling fraction 0.6412053258584443, opt pulling times 1231.6958931480756, opt pulling fraction 1.2316958931480755\n",
      "2, pulling times 57, pulling fraction 0.039943938332165384, opt pulling times 1.8404397847460347e-06, opt pulling fraction 1.8404397847460347e-09\n",
      "3, pulling times 66, pulling fraction 0.046250875963559916, opt pulling times 3.8954775318586805e-08, opt pulling fraction 3.8954775318586806e-11\n",
      "4, pulling times 59, pulling fraction 0.04134548002803083, opt pulling times 9.434441740020237e-07, opt pulling fraction 9.434441740020236e-10\n",
      "5, pulling times 330, pulling fraction 0.2312543798177996, opt pulling times 264.61921046100537, opt pulling fraction 0.26461921046100534\n"
     ]
    }
   ],
   "source": [
    "action_history = np.array(agent.action_)\n",
    "for arm_index in range(1, m+1):\n",
    "    pulling_times = np.sum(action_history==arm_index)\n",
    "    pulling_fraction = pulling_times / len(action_history)\n",
    "    print(f\"{arm_index}, pulling times {pulling_times}, pulling fraction {pulling_fraction}, opt pulling times {res.x[arm_index-1]*B}, opt pulling fraction {res.x[arm_index-1]}\")"
   ]
  },
  {
   "cell_type": "code",
   "execution_count": null,
   "id": "b8dbd3ab",
   "metadata": {},
   "outputs": [],
   "source": []
  }
 ],
 "metadata": {
  "kernelspec": {
   "display_name": "Python 3",
   "language": "python",
   "name": "python3"
  },
  "language_info": {
   "codemirror_mode": {
    "name": "ipython",
    "version": 3
   },
   "file_extension": ".py",
   "mimetype": "text/x-python",
   "name": "python",
   "nbconvert_exporter": "python",
   "pygments_lexer": "ipython3",
   "version": "3.8.8"
  }
 },
 "nbformat": 4,
 "nbformat_minor": 5
}
