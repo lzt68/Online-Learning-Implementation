{
 "cells": [
  {
   "cell_type": "markdown",
   "id": "7f1af3ec",
   "metadata": {},
   "source": [
    "# Experiments with Changing $C_{rad}$\n",
    "\n",
    "We use numeric experiments to test whether the Regret is sublinear.\n",
    "\n",
    "In this section, we take the $C_{rad}=\\log(d*T*m)$ as T changing"
   ]
  },
  {
   "cell_type": "code",
   "execution_count": 1,
   "id": "ed52a651",
   "metadata": {},
   "outputs": [],
   "source": [
    "import warnings\n",
    "warnings.filterwarnings('ignore')"
   ]
  },
  {
   "cell_type": "code",
   "execution_count": 2,
   "id": "828ce360",
   "metadata": {
    "code_folding": []
   },
   "outputs": [
    {
     "name": "stderr",
     "output_type": "stream",
     "text": [
      "100%|██████████████████████████████████████████████████████████████████████████████| 1000/1000 [01:01<00:00, 16.32it/s]\n",
      "100%|██████████████████████████████████████████████████████████████████████████████| 1000/1000 [01:01<00:00, 16.26it/s]\n",
      "100%|██████████████████████████████████████████████████████████████████████████████| 1000/1000 [01:01<00:00, 16.35it/s]\n",
      "100%|██████████████████████████████████████████████████████████████████████████████| 1000/1000 [01:01<00:00, 16.37it/s]\n",
      "100%|██████████████████████████████████████████████████████████████████████████████| 1000/1000 [01:00<00:00, 16.41it/s]\n"
     ]
    }
   ],
   "source": [
    "# conduct the experiment once\n",
    "from Source.env import Env_FixedConsumption\n",
    "from Source.agent import PrimalDualBwK\n",
    "from scipy.optimize import linprog\n",
    "import matplotlib.pyplot as plt\n",
    "from tqdm import tqdm\n",
    "import numpy as np\n",
    "\n",
    "random_seed = 12345\n",
    "np.random.seed(random_seed)\n",
    "\n",
    "# generate parameter setting\n",
    "d = 5\n",
    "m = 5\n",
    "B = 1000\n",
    "n_experiments = 5\n",
    "r_list = np.random.uniform(low=0.0, high=1.0, size=m)\n",
    "d_list = np.random.uniform(low=0.0, high=1.0, size=(d, m))\n",
    "\n",
    "# calculate the OPT_LP\n",
    "res = linprog(c=-r_list, A_ub=d_list, b_ub=1 * np.ones(d))\n",
    "\n",
    "reward_ = list()\n",
    "for exp_index in range(n_experiments):\n",
    "    reward_exp_ = list()\n",
    "    for T in tqdm(range(1, B + 1)):\n",
    "        env = Env_FixedConsumption(r_list=r_list, d_list=d_list, m=m, B=T, d=d, random_seed=random_seed + exp_index)\n",
    "        agent = PrimalDualBwK(d=d, m=m, B=T, Crad=np.log(d * T * m))\n",
    "        reward_T = list()\n",
    "        while not env.if_stop():\n",
    "            arm = agent.action()\n",
    "            consumption, reward = env.response(arm=arm)\n",
    "            agent.observe(reward=reward, consumption=consumption)\n",
    "            reward_T.append(reward)\n",
    "        reward_exp_.append(np.sum(reward_T))\n",
    "    reward_.append(np.array(reward_exp_))"
   ]
  },
  {
   "cell_type": "code",
   "execution_count": 3,
   "id": "42a18d50",
   "metadata": {},
   "outputs": [
    {
     "data": {
      "image/png": "[encoded data removed]",
      "text/plain": [
       "<Figure size 432x288 with 1 Axes>"
      ]
     },
     "metadata": {
      "needs_background": "light"
     },
     "output_type": "display_data"
    }
   ],
   "source": [
    "# get the experiments with minimum length and truncate others\n",
    "reward_ = np.array(reward_)\n",
    "reward_ = np.mean(reward_, axis=0)\n",
    "\n",
    "# plot the figure\n",
    "reward_OPT_LP = np.cumsum(np.ones(B) * (-res.fun)) # LP benchmark\n",
    "plt.plot(np.arange(1, B + 1), reward_OPT_LP[:B] - reward_[:B], label=\"regret\")\n",
    "plt.xlabel(\"T\")\n",
    "plt.ylabel(\"Cumulative Regret\")\n",
    "plt.show()"
   ]
  },
  {
   "cell_type": "markdown",
   "id": "b6730a54",
   "metadata": {},
   "source": [
    "It seems that the curve is sublinear."
   ]
  },
  {
   "cell_type": "markdown",
   "id": "171a47cd",
   "metadata": {},
   "source": [
    "# Experiments with Fixed $C_{rad}$\n",
    "\n",
    "In this section, we use numeric experiments to test whether the sublinear Regret is sensitive to $C_{rad}$. \n",
    "\n",
    "In other words, we will use a fixed $C_{rad}$ no matter what $T$ is. And we want to see whether the cumulative regret of a single run is still sublinear. "
   ]
  },
  {
   "cell_type": "code",
   "execution_count": 4,
   "id": "a1f118ee",
   "metadata": {},
   "outputs": [],
   "source": [
    "import warnings\n",
    "warnings.filterwarnings('ignore')"
   ]
  },
  {
   "cell_type": "code",
   "execution_count": 5,
   "id": "f412af91",
   "metadata": {
    "code_folding": [
     0
    ]
   },
   "outputs": [],
   "source": [
    "# conduct the experiment once\n",
    "from Source.env import Env_FixedConsumption\n",
    "from Source.agent import PrimalDualBwK\n",
    "from scipy.optimize import linprog\n",
    "import matplotlib.pyplot as plt\n",
    "from tqdm import tqdm\n",
    "import numpy as np\n",
    "\n",
    "random_seed = 12345\n",
    "np.random.seed(random_seed)\n",
    "\n",
    "# generate parameter setting\n",
    "d = 5\n",
    "m = 5\n",
    "B = 1000\n",
    "n_experiments = 5\n",
    "r_list = np.random.uniform(low=0.0, high=1.0, size=m)\n",
    "d_list = np.random.uniform(low=0.0, high=1.0, size=(d, m))\n",
    "\n",
    "# calculate the OPT_LP\n",
    "res = linprog(c=-r_list, A_ub=d_list, b_ub=1 * np.ones(d))\n",
    "\n",
    "reward_ = list()\n",
    "for exp_index in range(n_experiments):\n",
    "    env = Env_FixedConsumption(r_list=r_list, d_list=d_list, m=m, B=T, d=d, random_seed=random_seed + exp_index)\n",
    "    agent = PrimalDualBwK(d=d, m=m, B=T, Crad=np.log(d * T * m))\n",
    "    reward_T = list()\n",
    "    while not env.if_stop():\n",
    "        arm = agent.action()\n",
    "        consumption, reward = env.response(arm=arm)\n",
    "        agent.observe(reward=reward, consumption=consumption)\n",
    "        reward_T.append(reward)\n",
    "    reward_.append(np.array(reward_T))"
   ]
  },
  {
   "cell_type": "code",
   "execution_count": 6,
   "id": "e3ed1cef",
   "metadata": {
    "collapsed": true
   },
   "outputs": [
    {
     "data": {
      "image/png": "[encoded data removed]",
      "text/plain": [
       "<Figure size 432x288 with 1 Axes>"
      ]
     },
     "metadata": {
      "needs_background": "light"
     },
     "output_type": "display_data"
    }
   ],
   "source": [
    "# get the minimum length of experiments and truncate others\n",
    "minimum_length = 99999\n",
    "for exp_index in range(n_experiments):\n",
    "    if len(reward_[exp_index]) < minimum_length:\n",
    "        minimum_length = len(reward_[exp_index])\n",
    "reward_ = [reward_record[:minimum_length] for reward_record in reward_]\n",
    "reward_ = np.array(reward_)\n",
    "reward_ = np.mean(reward_, axis=0)\n",
    "\n",
    "# plot the figure\n",
    "reward_OPT_LP = np.cumsum(np.ones(minimum_length) * (-res.fun)) # LP benchmark\n",
    "plt.plot(np.arange(1, minimum_length + 1), reward_OPT_LP[:minimum_length] - reward_[:minimum_length], label=\"regret\")\n",
    "plt.xlabel(\"T\")\n",
    "plt.ylabel(\"Cumulative Regret\")\n",
    "plt.show()"
   ]
  },
  {
   "cell_type": "markdown",
   "id": "0bee23c9",
   "metadata": {},
   "source": [
    "The figure implies we can not use a large $C_{rad}$ when the T is small."
   ]
  },
  {
   "cell_type": "markdown",
   "id": "deafb3b2",
   "metadata": {},
   "source": [
    "# Experiments with stochastic independent consumptions"
   ]
  },
  {
   "cell_type": "code",
   "execution_count": 1,
   "id": "ff925624",
   "metadata": {},
   "outputs": [],
   "source": [
    "import warnings\n",
    "warnings.filterwarnings('ignore')"
   ]
  },
  {
   "cell_type": "code",
   "execution_count": 3,
   "id": "e154f00d",
   "metadata": {},
   "outputs": [
    {
     "name": "stderr",
     "output_type": "stream",
     "text": [
      "100%|██████████████████████████████████████████████████████████████████████████████| 1000/1000 [01:23<00:00, 12.04it/s]\n",
      "100%|██████████████████████████████████████████████████████████████████████████████| 1000/1000 [01:23<00:00, 11.92it/s]\n",
      "100%|██████████████████████████████████████████████████████████████████████████████| 1000/1000 [01:23<00:00, 11.91it/s]\n",
      "100%|██████████████████████████████████████████████████████████████████████████████| 1000/1000 [01:25<00:00, 11.69it/s]\n",
      "100%|██████████████████████████████████████████████████████████████████████████████| 1000/1000 [01:25<00:00, 11.73it/s]\n"
     ]
    }
   ],
   "source": [
    "# conduct the experiment once\n",
    "from Source.env import Env_Uncorrelated_Reward, Env_Correlated_Uniform\n",
    "from Source.agent import PrimalDualBwK\n",
    "from scipy.optimize import linprog\n",
    "import matplotlib.pyplot as plt\n",
    "from tqdm import tqdm\n",
    "import numpy as np\n",
    "\n",
    "random_seed = 12345\n",
    "np.random.seed(random_seed)\n",
    "\n",
    "# generate parameter setting\n",
    "d = 5\n",
    "m = 5\n",
    "B = 1000\n",
    "n_experiments = 5\n",
    "r_list = np.random.uniform(low=0.0, high=1.0, size=m)\n",
    "d_list = np.random.uniform(low=0.0, high=1.0, size=(d, m))\n",
    "\n",
    "# calculate the OPT_LP\n",
    "res = linprog(c=-r_list, A_ub=d_list, b_ub=1 * np.ones(d))\n",
    "\n",
    "reward_ = list()\n",
    "for exp_index in range(n_experiments):\n",
    "    reward_exp_ = list()\n",
    "    for T in tqdm(range(1, B + 1)):\n",
    "        env = Env_Uncorrelated_Reward(r_list=r_list, d_list=d_list, m=m, B=T, d=d, random_seed=random_seed + exp_index)\n",
    "        agent = PrimalDualBwK(d=d, m=m, B=T, Crad=np.log(d * T * m))\n",
    "        reward_T = list()\n",
    "        while not env.if_stop():\n",
    "            arm = agent.action()\n",
    "            consumption, reward = env.response(arm=arm)\n",
    "            agent.observe(reward=reward, consumption=consumption)\n",
    "            reward_T.append(reward)\n",
    "        reward_exp_.append(np.sum(reward_T))\n",
    "    reward_.append(np.array(reward_exp_))"
   ]
  },
  {
   "cell_type": "code",
   "execution_count": 4,
   "id": "8be30985",
   "metadata": {},
   "outputs": [
    {
     "data": {
      "image/png": "[encoded data removed]",
      "text/plain": [
       "<Figure size 432x288 with 1 Axes>"
      ]
     },
     "metadata": {
      "needs_background": "light"
     },
     "output_type": "display_data"
    }
   ],
   "source": [
    "# get the experiments with minimum length and truncate others\n",
    "reward_ = np.array(reward_)\n",
    "reward_ = np.mean(reward_, axis=0)\n",
    "\n",
    "# plot the figure\n",
    "reward_OPT_LP = np.cumsum(np.ones(B) * (-res.fun)) # LP benchmark\n",
    "plt.plot(np.arange(1, B + 1), reward_OPT_LP[:B] - reward_[:B], label=\"regret\")\n",
    "plt.xlabel(\"T\")\n",
    "plt.ylabel(\"Cumulative Regret\")\n",
    "plt.title(\"Stochastic and Independent Consumptions\")\n",
    "plt.show()"
   ]
  },
  {
   "cell_type": "markdown",
   "id": "c9d3bf22",
   "metadata": {},
   "source": [
    "# Experiments with Correlated consumptions"
   ]
  },
  {
   "cell_type": "code",
   "execution_count": 5,
   "id": "d1e83fe4",
   "metadata": {},
   "outputs": [],
   "source": [
    "import warnings\n",
    "warnings.filterwarnings('ignore')"
   ]
  },
  {
   "cell_type": "code",
   "execution_count": 6,
   "id": "ceec0562",
   "metadata": {},
   "outputs": [
    {
     "name": "stderr",
     "output_type": "stream",
     "text": [
      "100%|██████████████████████████████████████████████████████████████████████████████| 1000/1000 [01:03<00:00, 15.87it/s]\n",
      "100%|██████████████████████████████████████████████████████████████████████████████| 1000/1000 [01:04<00:00, 15.40it/s]\n",
      "100%|██████████████████████████████████████████████████████████████████████████████| 1000/1000 [01:02<00:00, 15.94it/s]\n",
      "100%|██████████████████████████████████████████████████████████████████████████████| 1000/1000 [01:06<00:00, 14.97it/s]\n",
      "100%|██████████████████████████████████████████████████████████████████████████████| 1000/1000 [01:04<00:00, 15.39it/s]\n"
     ]
    }
   ],
   "source": [
    "# conduct the experiment once\n",
    "from Source.env import Env_Uncorrelated_Reward, Env_Correlated_Uniform\n",
    "from Source.agent import PrimalDualBwK\n",
    "from scipy.optimize import linprog\n",
    "import matplotlib.pyplot as plt\n",
    "from tqdm import tqdm\n",
    "import numpy as np\n",
    "\n",
    "random_seed = 12345\n",
    "np.random.seed(random_seed)\n",
    "\n",
    "# generate parameter setting\n",
    "d = 5\n",
    "m = 5\n",
    "B = 1000\n",
    "n_experiments = 5\n",
    "r_list = np.random.uniform(low=0.0, high=1.0, size=m)\n",
    "d_list = np.random.uniform(low=0.0, high=1.0, size=(d, m))\n",
    "\n",
    "# calculate the OPT_LP\n",
    "res = linprog(c=-r_list, A_ub=d_list, b_ub=1 * np.ones(d))\n",
    "\n",
    "reward_ = list()\n",
    "for exp_index in range(n_experiments):\n",
    "    reward_exp_ = list()\n",
    "    for T in tqdm(range(1, B + 1)):\n",
    "        env = Env_Correlated_Uniform(r_list=r_list, d_list=d_list, m=m, B=T, d=d, random_seed=random_seed + exp_index)\n",
    "        agent = PrimalDualBwK(d=d, m=m, B=T, Crad=np.log(d * T * m))\n",
    "        reward_T = list()\n",
    "        while not env.if_stop():\n",
    "            arm = agent.action()\n",
    "            consumption, reward = env.response(arm=arm)\n",
    "            agent.observe(reward=reward, consumption=consumption)\n",
    "            reward_T.append(reward)\n",
    "        reward_exp_.append(np.sum(reward_T))\n",
    "    reward_.append(np.array(reward_exp_))"
   ]
  },
  {
   "cell_type": "code",
   "execution_count": 7,
   "id": "9736f8ea",
   "metadata": {},
   "outputs": [
    {
     "data": {
      "image/png": "[encoded data removed]",
      "text/plain": [
       "<Figure size 432x288 with 1 Axes>"
      ]
     },
     "metadata": {
      "needs_background": "light"
     },
     "output_type": "display_data"
    }
   ],
   "source": [
    "# get the experiments with minimum length and truncate others\n",
    "reward_ = np.array(reward_)\n",
    "reward_ = np.mean(reward_, axis=0)\n",
    "\n",
    "# plot the figure\n",
    "reward_OPT_LP = np.cumsum(np.ones(B) * (-res.fun)) # LP benchmark\n",
    "plt.plot(np.arange(1, B + 1), reward_OPT_LP[:B] - reward_[:B], label=\"regret\")\n",
    "plt.xlabel(\"T\")\n",
    "plt.ylabel(\"Cumulative Regret\")\n",
    "plt.title(\"Correlated Consumptions\")\n",
    "plt.show()"
   ]
  },
  {
   "cell_type": "code",
   "execution_count": null,
   "id": "6f597180",
   "metadata": {},
   "outputs": [],
   "source": []
  }
 ],
 "metadata": {
  "kernelspec": {
   "display_name": "Python 3",
   "language": "python",
   "name": "python3"
  },
  "language_info": {
   "codemirror_mode": {
    "name": "ipython",
    "version": 3
   },
   "file_extension": ".py",
   "mimetype": "text/x-python",
   "name": "python",
   "nbconvert_exporter": "python",
   "pygments_lexer": "ipython3",
   "version": "3.8.8"
  }
 },
 "nbformat": 4,
 "nbformat_minor": 5
}
