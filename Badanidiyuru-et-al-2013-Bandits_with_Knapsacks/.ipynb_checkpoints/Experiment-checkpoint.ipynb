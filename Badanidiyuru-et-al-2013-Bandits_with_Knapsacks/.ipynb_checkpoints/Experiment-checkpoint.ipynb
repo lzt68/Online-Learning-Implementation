{
 "cells": [
  {
   "cell_type": "markdown",
   "id": "062cde16",
   "metadata": {},
   "source": [
    "# Test PrimalDualBwK"
   ]
  },
  {
   "cell_type": "code",
   "execution_count": 1,
   "id": "46ca2b75",
   "metadata": {
    "code_folding": [
     0
    ]
   },
   "outputs": [
    {
     "name": "stderr",
     "output_type": "stream",
     "text": [
      "  0%|                                                                                         | 0/1000 [00:00<?, ?it/s]E:\\工作事务\\个人工作\\学术研究\\Online-Learning-Implementation\\Badanidiyuru-et-al-2013-Bandits_with_Knapsacks\\Source\\agent.py:79: RuntimeWarning: divide by zero encountered in true_divide\n",
      "  x = np.argmax(ucb / EstCost) + 1\n",
      "100%|██████████████████████████████████████████████████████████████████████████████| 1000/1000 [00:48<00:00, 20.51it/s]\n"
     ]
    },
    {
     "data": {
      "image/png": "[encoded data removed]",
      "text/plain": [
       "<Figure size 432x288 with 1 Axes>"
      ]
     },
     "metadata": {
      "needs_background": "light"
     },
     "output_type": "display_data"
    }
   ],
   "source": [
    "# conduct the experiment once\n",
    "from Source.env import Env_FixedConsumption\n",
    "from Source.agent import PrimalDualBwK\n",
    "from scipy.optimize import linprog\n",
    "import matplotlib.pyplot as plt\n",
    "from tqdm import tqdm\n",
    "import numpy as np\n",
    "\n",
    "random_seed = 12345\n",
    "np.random.seed(random_seed)\n",
    "\n",
    "d = 3\n",
    "m = 3\n",
    "B = 1000\n",
    "r_list = np.random.uniform(low=0.0, high=1.0, size=m)\n",
    "d_list = np.random.uniform(low=0.0, high=1.0, size=(d + 1, m))\n",
    "# d_list = np.eye(d)\n",
    "# res = linprog(c=-r_list, A_ub=d_list, b_ub=1 * np.ones(d))\n",
    "d_list[-1, :] = np.ones(m)\n",
    "d += 1\n",
    "\n",
    "# calculate the OPT_LP\n",
    "res = linprog(c=-r_list, A_ub=d_list, b_ub=1 * np.ones(d))\n",
    "reward_OPT_LP = np.cumsum(np.ones(B) * (-res.fun))\n",
    "\n",
    "reward_ = list()\n",
    "for T in tqdm(range(1, B + 1)):\n",
    "    env = Env_FixedConsumption(r_list=r_list, d_list=d_list, m=m, B=T, d=d, random_seed=random_seed)\n",
    "    agent = PrimalDualBwK(d=d, m=m, B=T, Crad=np.log(d * T * m))\n",
    "    reward_T = list()\n",
    "    while not env.if_stop():\n",
    "        arm = agent.action()\n",
    "        consumption, reward = env.response(arm=arm)\n",
    "        agent.observe(reward=reward, consumption=consumption)\n",
    "        reward_T.append(reward)\n",
    "    reward_.append(np.sum(reward_T))\n",
    "reward_ = np.array(reward_)\n",
    "\n",
    "plt.plot(np.arange(1, B + 1), reward_OPT_LP[:B] - reward_[:B], label=\"regret\")\n",
    "plt.show()"
   ]
  },
  {
   "cell_type": "code",
   "execution_count": 2,
   "id": "50500d9e",
   "metadata": {},
   "outputs": [
    {
     "name": "stdout",
     "output_type": "stream",
     "text": [
      "1, pulling times 862, pulling fraction 0.862, opt pulling times 1000.000000000602, opt pulling fraction 1.000000000000602\n",
      "2, pulling times 80, pulling fraction 0.08, opt pulling times 3.879270423744442e-10, opt pulling fraction 3.879270423744442e-13\n",
      "3, pulling times 58, pulling fraction 0.058, opt pulling times 2.95216445894205e-12, opt pulling fraction 2.95216445894205e-15\n"
     ]
    }
   ],
   "source": [
    "action_history = np.array(agent.action_)\n",
    "for arm_index in range(1, m+1):\n",
    "    pulling_times = np.sum(action_history==arm_index)\n",
    "    pulling_fraction = pulling_times / len(action_history)\n",
    "    print(f\"{arm_index}, pulling times {pulling_times}, pulling fraction {pulling_fraction}, opt pulling times {res.x[arm_index-1]*B}, opt pulling fraction {res.x[arm_index-1]}\")"
   ]
  },
  {
   "cell_type": "code",
   "execution_count": null,
   "id": "f3014570",
   "metadata": {},
   "outputs": [],
   "source": []
  }
 ],
 "metadata": {
  "kernelspec": {
   "display_name": "Python 3",
   "language": "python",
   "name": "python3"
  },
  "language_info": {
   "codemirror_mode": {
    "name": "ipython",
    "version": 3
   },
   "file_extension": ".py",
   "mimetype": "text/x-python",
   "name": "python",
   "nbconvert_exporter": "python",
   "pygments_lexer": "ipython3",
   "version": "3.8.8"
  }
 },
 "nbformat": 4,
 "nbformat_minor": 5
}
