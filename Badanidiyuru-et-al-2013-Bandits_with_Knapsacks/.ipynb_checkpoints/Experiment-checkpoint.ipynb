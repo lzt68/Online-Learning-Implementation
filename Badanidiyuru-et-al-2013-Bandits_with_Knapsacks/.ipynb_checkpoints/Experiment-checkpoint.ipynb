{
 "cells": [
  {
   "cell_type": "markdown",
   "id": "062cde16",
   "metadata": {},
   "source": [
    "# Test PrimalDualBwK"
   ]
  },
  {
   "cell_type": "code",
   "execution_count": 44,
   "id": "46ca2b75",
   "metadata": {
    "code_folding": []
   },
   "outputs": [
    {
     "data": {
      "image/png": "[encoded data removed]",
      "text/plain": [
       "<Figure size 432x288 with 1 Axes>"
      ]
     },
     "metadata": {
      "needs_background": "light"
     },
     "output_type": "display_data"
    }
   ],
   "source": [
    "# conduct the experiment once\n",
    "from Source.env import Env_FixedConsumption\n",
    "from Source.agent import PrimalDualBwK\n",
    "from scipy.optimize import linprog\n",
    "import matplotlib.pyplot as plt\n",
    "from tqdm import tqdm\n",
    "import numpy as np\n",
    "\n",
    "random_seed = 12345\n",
    "np.random.seed(random_seed)\n",
    "\n",
    "d = 5\n",
    "m = 5\n",
    "B = 1000\n",
    "r_list = np.random.uniform(low=0.0, high=1.0, size=m)\n",
    "d_list = np.random.uniform(low=0.0, high=1.0, size=(d, m))\n",
    "# d_list = np.eye(d)\n",
    "# res = linprog(c=-r_list, A_ub=d_list, b_ub=1 * np.ones(d))\n",
    "# d_list[-1, :] = np.ones(m)\n",
    "# d += 1\n",
    "\n",
    "# calculate the OPT_LP\n",
    "res = linprog(c=-r_list, A_ub=d_list, b_ub=1 * np.ones(d))\n",
    "reward_OPT_LP = np.cumsum(np.ones(B) * (-res.fun))\n",
    "\n",
    "reward_ = list()\n",
    "for T in tqdm(range(1, B + 1)):\n",
    "    env = Env_FixedConsumption(r_list=r_list, d_list=d_list, m=m, B=T, d=d, random_seed=random_seed)\n",
    "    agent = PrimalDualBwK(d=d, m=m, B=T, Crad=np.log(d * T * m))\n",
    "    reward_T = list()\n",
    "    while not env.if_stop():\n",
    "        arm = agent.action()\n",
    "        consumption, reward = env.response(arm=arm)\n",
    "        agent.observe(reward=reward, consumption=consumption)\n",
    "        reward_T.append(reward)\n",
    "    reward_.append(np.sum(reward_T))\n",
    "reward_ = np.array(reward_)\n",
    "\n",
    "plt.plot(np.arange(1, B + 1), reward_OPT_LP[:B] - reward_[:B], label=\"regret\")\n",
    "plt.show()"
   ]
  },
  {
   "cell_type": "code",
   "execution_count": 43,
   "id": "50500d9e",
   "metadata": {},
   "outputs": [
    {
     "name": "stdout",
     "output_type": "stream",
     "text": [
      "1, pulling times 5767, pulling fraction 0.7814363143631436, opt pulling times 6158.479465740377, opt pulling fraction 1.2316958931480755\n",
      "2, pulling times 92, pulling fraction 0.012466124661246613, opt pulling times 9.202198923730174e-06, opt pulling fraction 1.8404397847460347e-09\n",
      "3, pulling times 108, pulling fraction 0.014634146341463415, opt pulling times 1.9477387659293402e-07, opt pulling fraction 3.8954775318586806e-11\n",
      "4, pulling times 99, pulling fraction 0.013414634146341463, opt pulling times 4.717220870010118e-06, opt pulling fraction 9.434441740020236e-10\n",
      "5, pulling times 1314, pulling fraction 0.17804878048780487, opt pulling times 1323.0960523050267, opt pulling fraction 0.26461921046100534\n"
     ]
    }
   ],
   "source": [
    "action_history = np.array(agent.action_)\n",
    "for arm_index in range(1, m+1):\n",
    "    pulling_times = np.sum(action_history==arm_index)\n",
    "    pulling_fraction = pulling_times / len(action_history)\n",
    "    print(f\"{arm_index}, pulling times {pulling_times}, pulling fraction {pulling_fraction}, opt pulling times {res.x[arm_index-1]*B}, opt pulling fraction {res.x[arm_index-1]}\")"
   ]
  },
  {
   "cell_type": "code",
   "execution_count": 39,
   "id": "f3014570",
   "metadata": {},
   "outputs": [
    {
     "name": "stdout",
     "output_type": "stream",
     "text": [
      "1.2316958931480755\n",
      "[1.23169589e+00 1.84043978e-09 3.89547753e-11 9.43444174e-10\n",
      " 2.64619210e-01]\n"
     ]
    }
   ],
   "source": [
    "random_seed = 12345\n",
    "np.random.seed(random_seed)\n",
    "\n",
    "d = 5\n",
    "m = 5\n",
    "B = 1000\n",
    "r_list = np.random.uniform(low=0.0, high=1.0, size=m)\n",
    "d_list = np.random.uniform(low=0.0, high=1.0, size=(d, m))\n",
    "# d_list[:d, :d] = np.eye(d)\n",
    "# d_list[-1, :] = np.ones(m)\n",
    "p_list = np.random.uniform(low=0.0, high=1.0, size=d)\n",
    "# r_list = p_list @ d_list[:d, :d]\n",
    "# d_list[:d, :d] = d_list[:d, :d] + np.eye(d)\n",
    "# d_list[:d, :d] = np.minimum(d_list[:d, :d], np.ones((d,d)))\n",
    "# d_list = np.eye(d)\n",
    "# res = linprog(c=-r_list, A_ub=d_list, b_ub=1 * np.ones(d))\n",
    "\n",
    "# d += 1\n",
    "\n",
    "# calculate the OPT_LP\n",
    "res = linprog(c=-r_list, A_ub=d_list, b_ub=1 * np.ones(d))\n",
    "\n",
    "print(np.max(res.x))\n",
    "print(res.x)"
   ]
  },
  {
   "cell_type": "code",
   "execution_count": 28,
   "id": "6a2642b5",
   "metadata": {},
   "outputs": [
    {
     "data": {
      "text/plain": [
       "array([4.17022005e-01, 7.20324493e-01, 1.14374817e-04, 3.02332573e-01,\n",
       "       1.46755891e-01])"
      ]
     },
     "execution_count": 28,
     "metadata": {},
     "output_type": "execute_result"
    }
   ],
   "source": [
    "r_list"
   ]
  },
  {
   "cell_type": "code",
   "execution_count": 29,
   "id": "1f7c3ff6",
   "metadata": {},
   "outputs": [
    {
     "data": {
      "text/plain": [
       "array([[1., 0., 0., 0., 0.],\n",
       "       [0., 1., 0., 0., 0.],\n",
       "       [0., 0., 1., 0., 0.],\n",
       "       [0., 0., 0., 1., 0.],\n",
       "       [0., 0., 0., 0., 1.],\n",
       "       [1., 1., 1., 1., 1.]])"
      ]
     },
     "execution_count": 29,
     "metadata": {},
     "output_type": "execute_result"
    }
   ],
   "source": [
    "d_list"
   ]
  },
  {
   "cell_type": "code",
   "execution_count": null,
   "id": "2daf69f1",
   "metadata": {},
   "outputs": [],
   "source": []
  }
 ],
 "metadata": {
  "kernelspec": {
   "display_name": "Python 3",
   "language": "python",
   "name": "python3"
  },
  "language_info": {
   "codemirror_mode": {
    "name": "ipython",
    "version": 3
   },
   "file_extension": ".py",
   "mimetype": "text/x-python",
   "name": "python",
   "nbconvert_exporter": "python",
   "pygments_lexer": "ipython3",
   "version": "3.8.8"
  }
 },
 "nbformat": 4,
 "nbformat_minor": 5
}
