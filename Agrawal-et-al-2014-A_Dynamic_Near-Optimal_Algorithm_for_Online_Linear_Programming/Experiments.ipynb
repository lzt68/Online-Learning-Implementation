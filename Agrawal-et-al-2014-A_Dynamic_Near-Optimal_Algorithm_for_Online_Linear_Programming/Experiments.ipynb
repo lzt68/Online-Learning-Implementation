{
 "cells": [
  {
   "cell_type": "markdown",
   "id": "bdf9ef8e",
   "metadata": {},
   "source": [
    "# Test OneTimeLearning\n",
    "According to the paper, when $B=\\min_i b_i\\ge \\frac{6m \\log(\\frac{n}{\\epsilon})}{\\epsilon^3}$. The OneTimeLearning Algorithm is $1-6\\epsilon$ competitive. \n",
    "\n",
    "In fact, to $1-6\\epsilon > 0$ means $\\frac{6m \\log(\\frac{n}{\\epsilon})}{\\epsilon^3}\\ge 1296 m\\log(6n)\\ge 2592 \\log(6n)$. And we need to make sure $n>B$, or the best solution of primal offline linear programming is one for all the variables. That means we need to set $n\\ge 31000$, which is already a large number. If we want to set epsilon=0.1, $n \\ge 170000$ is required. The problem setting is too big to run it on a personal laptop. Reminds the size of matrix $a\\in\\mathbb{R}^{m\\times n}$.\n",
    "\n",
    "Thus we will turn to other parameter setting to check the performance of OneTimeLearning when $B=\\min_i b_i\\ge \\frac{6m \\log(\\frac{n}{\\epsilon})}{\\epsilon^3}$ doesn't hold."
   ]
  },
  {
   "cell_type": "code",
   "execution_count": 1,
   "id": "eace56da",
   "metadata": {
    "code_folding": [
     0
    ]
   },
   "outputs": [],
   "source": [
    "# import pacakges\n",
    "from Source.env import Env\n",
    "from Source.agent import OneTimeLearning\n",
    "import numpy as np\n",
    "from scipy.optimize import linprog"
   ]
  },
  {
   "cell_type": "code",
   "execution_count": 2,
   "id": "2f26a582",
   "metadata": {
    "code_folding": [
     0
    ]
   },
   "outputs": [
    {
     "name": "stdout",
     "output_type": "stream",
     "text": [
      "B is 1000\n",
      "offline optimal is 1364.2004331242583\n"
     ]
    }
   ],
   "source": [
    "# Offline linear programming as benchmark\n",
    "m = 4\n",
    "n = 3000\n",
    "epsilon = 0.1\n",
    "random_seed = 0\n",
    "# B = 6 * m * np.log(n / epsilon) / epsilon**3\n",
    "B = 1000\n",
    "print(f\"B is {B}\")\n",
    "b = B * np.ones(m)\n",
    "\n",
    "np.random.seed(random_seed)\n",
    "pi = np.random.uniform(low=0.0, high=1.0, size=(n))\n",
    "a = np.random.uniform(low=0.0, high=1.0, size=(m, n))\n",
    "opt_res = linprog(c=-pi, A_ub=a, b_ub=b, bounds=[(0.0, 1.0)] * n)\n",
    "print(f\"offline optimal is {-opt_res.fun}\")"
   ]
  },
  {
   "cell_type": "code",
   "execution_count": 4,
   "id": "57ce3ba2",
   "metadata": {
    "code_folding": []
   },
   "outputs": [
    {
     "name": "stderr",
     "output_type": "stream",
     "text": [
      "100%|██████████████████████████████████████████████████████████████████████████████| 1000/1000 [01:34<00:00, 10.56it/s]"
     ]
    },
    {
     "name": "stdout",
     "output_type": "stream",
     "text": [
      "mean online reward 1163.1932210182342\n"
     ]
    },
    {
     "name": "stderr",
     "output_type": "stream",
     "text": [
      "\n"
     ]
    }
   ],
   "source": [
    "# conduct the experiments\n",
    "from tqdm import tqdm\n",
    "n_experiments = 1000\n",
    "\n",
    "reward_experiments_ = np.zeros(n_experiments)\n",
    "\n",
    "for exp_id in tqdm(range(n_experiments)):\n",
    "    env = Env(m=m, n=n, b=b, pi=pi, a=a, random_seed=random_seed+exp_id)\n",
    "    agent = OneTimeLearning(m=m, n=n, epsilon=epsilon, b=b)\n",
    "    while not env.if_stop():\n",
    "        pi_t, a_t = env.deal()\n",
    "        agent.action(pi_t=pi_t, a_t=a_t)\n",
    "    reward_experiments_[exp_id] = np.sum(agent.reward_)\n",
    "\n",
    "print(f\"mean online reward {np.mean(reward_experiments_)}\")"
   ]
  },
  {
   "cell_type": "markdown",
   "id": "000fa4d9",
   "metadata": {},
   "source": [
    "# Test DynamicLearning\n",
    "\n",
    "We use the same parameter setting as above to check whether the Dynamic Learning algorithm will be better"
   ]
  },
  {
   "cell_type": "code",
   "execution_count": 1,
   "id": "ac8de90f",
   "metadata": {},
   "outputs": [],
   "source": [
    "# import pacakges\n",
    "from Source.env import Env\n",
    "from Source.agent import DynamicLearning\n",
    "import numpy as np\n",
    "from scipy.optimize import linprog"
   ]
  },
  {
   "cell_type": "code",
   "execution_count": 2,
   "id": "e42971d9",
   "metadata": {},
   "outputs": [
    {
     "name": "stdout",
     "output_type": "stream",
     "text": [
      "B is 40\n"
     ]
    }
   ],
   "source": [
    "# parameters of Offline linear programming\n",
    "m = 4\n",
    "n = 100\n",
    "epsilon = 0.1\n",
    "random_seed = 0\n",
    "# B = 6 * m * np.log(n / epsilon) / epsilon**3\n",
    "B = 40\n",
    "print(f\"B is {B}\")\n",
    "b = B * np.ones(m)\n",
    "\n",
    "np.random.seed(random_seed)\n",
    "pi = np.random.uniform(low=0.0, high=1.0, size=(n))\n",
    "a = np.random.uniform(low=0.0, high=1.0, size=(m, n))"
   ]
  },
  {
   "cell_type": "code",
   "execution_count": 4,
   "id": "fa38f353",
   "metadata": {},
   "outputs": [
    {
     "name": "stdout",
     "output_type": "stream",
     "text": [
      "offline optimal is 45.29927538403864\n"
     ]
    }
   ],
   "source": [
    "opt_res = linprog(c=-pi, A_ub=a, b_ub=b, bounds=[(0.0, 1.0)] * n)\n",
    "print(f\"offline optimal is {-opt_res.fun}\")"
   ]
  },
  {
   "cell_type": "code",
   "execution_count": 3,
   "id": "878f4872",
   "metadata": {},
   "outputs": [
    {
     "name": "stderr",
     "output_type": "stream",
     "text": [
      "100%|██████████████████████████████████████████████████████████████████████████████| 1000/1000 [00:28<00:00, 35.21it/s]"
     ]
    },
    {
     "name": "stdout",
     "output_type": "stream",
     "text": [
      "mean online reward 1.5089851290228125\n"
     ]
    },
    {
     "name": "stderr",
     "output_type": "stream",
     "text": [
      "\n"
     ]
    }
   ],
   "source": [
    "# conduct the experiments\n",
    "from tqdm import tqdm\n",
    "n_experiments = 1000\n",
    "\n",
    "reward_experiments_ = np.zeros(n_experiments)\n",
    "\n",
    "for exp_id in tqdm(range(n_experiments)):\n",
    "    env = Env(m=m, n=n, b=b, pi=pi, a=a, random_seed=random_seed+exp_id)\n",
    "    agent = DynamicLearning(m=m, n=n, epsilon=epsilon, b=b)\n",
    "    while not env.if_stop():\n",
    "        pi_t, a_t = env.deal()\n",
    "        agent.action(pi_t=pi_t, a_t=a_t)\n",
    "    reward_experiments_[exp_id] = np.sum(agent.reward_)\n",
    "\n",
    "print(f\"mean online reward {np.mean(reward_experiments_)}\")"
   ]
  },
  {
   "cell_type": "code",
   "execution_count": null,
   "id": "d6e94ac0",
   "metadata": {},
   "outputs": [],
   "source": []
  }
 ],
 "metadata": {
  "kernelspec": {
   "display_name": "Python 3",
   "language": "python",
   "name": "python3"
  },
  "language_info": {
   "codemirror_mode": {
    "name": "ipython",
    "version": 3
   },
   "file_extension": ".py",
   "mimetype": "text/x-python",
   "name": "python",
   "nbconvert_exporter": "python",
   "pygments_lexer": "ipython3",
   "version": "3.8.8"
  }
 },
 "nbformat": 4,
 "nbformat_minor": 5
}
