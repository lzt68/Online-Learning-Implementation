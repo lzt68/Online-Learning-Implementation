{
 "cells": [
  {
   "cell_type": "markdown",
   "id": "8a1776d9",
   "metadata": {},
   "source": [
    "# Validate the Changing Trend of $\\frac{\\mathbb{E}{\\tau_{\\delta}}}{T^*}$"
   ]
  },
  {
   "cell_type": "code",
   "execution_count": 1,
   "id": "77c8155f",
   "metadata": {
    "code_folding": []
   },
   "outputs": [],
   "source": [
    "# import packages\n",
    "import sys  \n",
    "sys.path.append('./Source/')\n",
    "\n",
    "from Source.agent import D_Tracking, C_Tracking\n",
    "from Source.env import Env__Deterministic_Consumption\n",
    "from Source.utils import Get_Lower_Bound_pulling\n",
    "\n",
    "import numpy as np\n",
    "import matplotlib.pyplot as plt\n",
    "from tqdm import tqdm"
   ]
  },
  {
   "cell_type": "code",
   "execution_count": 2,
   "id": "46d7aeff",
   "metadata": {},
   "outputs": [
    {
     "name": "stderr",
     "output_type": "stream",
     "text": [
      "100%|██████████████████████████████████████████████████████████████████████████████████| 10/10 [01:27<00:00,  8.73s/it]\n",
      "100%|██████████████████████████████████████████████████████████████████████████████████| 10/10 [02:25<00:00, 14.52s/it]\n",
      "100%|██████████████████████████████████████████████████████████████████████████████████| 10/10 [03:20<00:00, 20.09s/it]\n",
      "100%|██████████████████████████████████████████████████████████████████████████████████| 10/10 [01:37<00:00,  9.75s/it]\n"
     ]
    }
   ],
   "source": [
    "# conduct the experiment\n",
    "n_experiments = 100\n",
    "delta_ = [0.1, 0.05, 0.01, 0.005, 0.001]\n",
    "# delta_ = [0.1, 0.09, 0.08, 0.07]\n",
    "\n",
    "# container of numeric record\n",
    "pulling_times = dict()\n",
    "predicted_arm = dict()\n",
    "best_arm = dict()\n",
    "\n",
    "pulling_times[\"D-Tracking\"] = np.zeros((len(delta_), n_experiments))\n",
    "predicted_arm[\"D-Tracking\"] = np.zeros((len(delta_), n_experiments))\n",
    "best_arm[\"D-Tracking\"] = np.zeros((len(delta_), n_experiments))\n",
    "\n",
    "# synthesis setting\n",
    "mu = np.array([0.5, 0.2, 0.3, 0.4])\n",
    "K = 4\n",
    "\n",
    "# run the algorithm\n",
    "np.random.seed(12345)\n",
    "for (ii, delta) in enumerate(delta_):\n",
    "    for exp_id in tqdm(range(n_experiments)):\n",
    "        # shuffle the best arm\n",
    "        mu_temp = mu.copy()\n",
    "        np.random.shuffle(mu_temp)\n",
    "        best_arm[\"D-Tracking\"][ii, exp_id] = np.argmax(mu_temp) + 1\n",
    "        \n",
    "        # create the agent instance and run the experiment\n",
    "        env = Env__Deterministic_Consumption(K=K, d=np.ones(K), r=mu_temp, random_seed=exp_id)\n",
    "        agent = D_Tracking(K=K, delta=delta)\n",
    "        while not agent.if_stop:\n",
    "            action = agent.action()\n",
    "            reward, demand = env.response(action=action)\n",
    "            agent.observe(r=reward, d=demand)\n",
    "        predicted_arm[\"D-Tracking\"][ii, exp_id] = agent.predict()\n",
    "        pulling_times[\"D-Tracking\"][ii, exp_id] = agent.t - 1"
   ]
  },
  {
   "cell_type": "code",
   "execution_count": 3,
   "id": "22a5b47e",
   "metadata": {},
   "outputs": [
    {
     "name": "stdout",
     "output_type": "stream",
     "text": [
      "delta: 0.1, accuracy: 1.0\n",
      "delta: 0.09, accuracy: 0.9\n",
      "delta: 0.08, accuracy: 1.0\n",
      "delta: 0.07, accuracy: 0.7\n"
     ]
    },
    {
     "data": {
      "image/png": "[encoded data removed]",
      "text/plain": [
       "<Figure size 640x480 with 1 Axes>"
      ]
     },
     "metadata": {},
     "output_type": "display_data"
    }
   ],
   "source": [
    "# plot plot the result\n",
    "x = np.array(delta_)\n",
    "y = np.zeros(len(delta_))\n",
    "for (ii, delta) in enumerate(delta_):\n",
    "    lower_bound = Get_Lower_Bound_pulling(mu, delta)\n",
    "    y[ii] = np.mean(pulling_times[\"D-Tracking\"][ii, :]) / lower_bound\n",
    "plt.plot(x, y, \"*-\")\n",
    "plt.xlabel(\"delta\")\n",
    "plt.ylabel(\"ratio\")\n",
    "\n",
    "for (ii, delta) in enumerate(delta_):\n",
    "    accr = np.sum(predicted_arm[\"D-Tracking\"][ii, :] == best_arm[\"D-Tracking\"][ii, :]) / n_experiments\n",
    "    print(f\"delta: {delta}, accuracy: {accr}\")"
   ]
  },
  {
   "cell_type": "code",
   "execution_count": 6,
   "id": "bdf9fef3",
   "metadata": {},
   "outputs": [],
   "source": [
    "# # save the numeric record\n",
    "# np.save(\"delta.npy\", np.array(delta_))\n",
    "# np.save(\"pulling_times-D.npy\", pulling_times[\"D-Tracking\"])\n",
    "# np.save(\"predicted_arm-D.npy\", predicted_arm[\"D-Tracking\"])\n",
    "# np.save(\"best_arm-D.npy\", best_arm[\"D-Tracking\"])"
   ]
  },
  {
   "cell_type": "code",
   "execution_count": 4,
   "id": "4690a33e",
   "metadata": {},
   "outputs": [
    {
     "data": {
      "text/plain": [
       "array([[1., 3., 1., 1., 1., 1., 2., 1., 1., 1.],\n",
       "       [2., 1., 3., 3., 1., 2., 3., 3., 3., 4.],\n",
       "       [3., 2., 4., 4., 2., 2., 1., 3., 4., 1.],\n",
       "       [4., 2., 4., 4., 2., 3., 2., 4., 2., 1.]])"
      ]
     },
     "execution_count": 4,
     "metadata": {},
     "output_type": "execute_result"
    }
   ],
   "source": [
    "# predicted_arm[\"D-Tracking\"]"
   ]
  },
  {
   "cell_type": "code",
   "execution_count": 5,
   "id": "4f3eac35",
   "metadata": {},
   "outputs": [
    {
     "data": {
      "text/plain": [
       "array([[1., 3., 1., 1., 1., 1., 2., 1., 1., 1.],\n",
       "       [2., 1., 3., 3., 1., 2., 3., 3., 3., 3.],\n",
       "       [3., 2., 4., 4., 2., 2., 1., 3., 4., 1.],\n",
       "       [4., 1., 4., 4., 2., 3., 2., 1., 2., 4.]])"
      ]
     },
     "execution_count": 5,
     "metadata": {},
     "output_type": "execute_result"
    }
   ],
   "source": [
    "# best_arm[\"D-Tracking\"]"
   ]
  },
  {
   "cell_type": "code",
   "execution_count": 7,
   "id": "f414a054",
   "metadata": {},
   "outputs": [
    {
     "name": "stdout",
     "output_type": "stream",
     "text": [
      "[[1. 3. 1. 1. 1. 1. 2. 1. 1. 1.]\n",
      " [2. 1. 3. 3. 1. 2. 3. 3. 3. 4.]\n",
      " [3. 2. 4. 4. 2. 2. 1. 3. 4. 1.]\n",
      " [4. 2. 4. 4. 2. 3. 2. 4. 2. 1.]]\n",
      "[[1. 3. 1. 1. 1. 1. 2. 1. 1. 1.]\n",
      " [2. 1. 3. 3. 1. 2. 3. 3. 3. 3.]\n",
      " [3. 2. 4. 4. 2. 2. 1. 3. 4. 1.]\n",
      " [4. 1. 4. 4. 2. 3. 2. 1. 2. 4.]]\n"
     ]
    }
   ],
   "source": [
    "# # save the numeric record\n",
    "# print(np.load(\"predicted_arm-D.npy\"))\n",
    "# print(np.load(\"best_arm-D.npy\"))"
   ]
  },
  {
   "cell_type": "code",
   "execution_count": null,
   "id": "4d790717",
   "metadata": {},
   "outputs": [],
   "source": []
  }
 ],
 "metadata": {
  "kernelspec": {
   "display_name": "Python 3 (ipykernel)",
   "language": "python",
   "name": "python3"
  },
  "language_info": {
   "codemirror_mode": {
    "name": "ipython",
    "version": 3
   },
   "file_extension": ".py",
   "mimetype": "text/x-python",
   "name": "python",
   "nbconvert_exporter": "python",
   "pygments_lexer": "ipython3",
   "version": "3.11.3"
  },
  "varInspector": {
   "cols": {
    "lenName": 16,
    "lenType": 16,
    "lenVar": 40
   },
   "kernels_config": {
    "python": {
     "delete_cmd_postfix": "",
     "delete_cmd_prefix": "del ",
     "library": "var_list.py",
     "varRefreshCmd": "print(var_dic_list())"
    },
    "r": {
     "delete_cmd_postfix": ") ",
     "delete_cmd_prefix": "rm(",
     "library": "var_list.r",
     "varRefreshCmd": "cat(var_dic_list()) "
    }
   },
   "types_to_exclude": [
    "module",
    "function",
    "builtin_function_or_method",
    "instance",
    "_Feature"
   ],
   "window_display": false
  }
 },
 "nbformat": 4,
 "nbformat_minor": 5
}
