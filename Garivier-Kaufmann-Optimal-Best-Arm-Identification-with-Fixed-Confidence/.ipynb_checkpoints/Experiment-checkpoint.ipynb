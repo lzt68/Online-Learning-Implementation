{
 "cells": [
  {
   "cell_type": "markdown",
   "id": "8a1776d9",
   "metadata": {},
   "source": [
    "# Validate the Changing Trend of $\\frac{\\mathbb{E}{\\tau_{\\delta}}}{T^*}$"
   ]
  },
  {
   "cell_type": "code",
   "execution_count": null,
   "id": "18868c53",
   "metadata": {
    "code_folding": []
   },
   "outputs": [],
   "source": [
    "# import packages\n",
    "import sys  \n",
    "sys.path.append('./Source/')\n",
    "\n",
    "from Source.agent import D_Tracking, C_Tracking\n",
    "from Source.env import Env__Deterministic_Consumption\n",
    "from Source.utils import Get_Lower_Bound_pulling\n",
    "\n",
    "import numpy as np\n",
    "import matplotlib.pyplot as plt\n",
    "from tqdm import tqdm"
   ]
  },
  {
   "cell_type": "markdown",
   "id": "238d51fa",
   "metadata": {},
   "source": [
    "## D-Tracking"
   ]
  },
  {
   "cell_type": "code",
   "execution_count": 2,
   "id": "dd2a8068",
   "metadata": {
    "code_folding": [
     0
    ]
   },
   "outputs": [
    {
     "name": "stderr",
     "output_type": "stream",
     "text": [
      "100%|████████████████████████████████████████████████████████████████████████████████| 100/100 [20:24<00:00, 12.24s/it]\n",
      "100%|████████████████████████████████████████████████████████████████████████████████| 100/100 [22:12<00:00, 13.32s/it]\n",
      "100%|████████████████████████████████████████████████████████████████████████████████| 100/100 [27:01<00:00, 16.22s/it]\n",
      "100%|████████████████████████████████████████████████████████████████████████████████| 100/100 [31:07<00:00, 18.67s/it]\n",
      "100%|████████████████████████████████████████████████████████████████████████████████| 100/100 [36:52<00:00, 22.13s/it]\n"
     ]
    }
   ],
   "source": [
    "# conduct the experiment\n",
    "n_experiments = 100\n",
    "delta_ = [0.1, 0.05, 0.01, 0.005, 0.001]\n",
    "# delta_ = [0.1, 0.09, 0.08, 0.07]\n",
    "# delta_ = [0.1]\n",
    "\n",
    "# container of numeric record\n",
    "pulling_times = dict()\n",
    "predicted_arm = dict()\n",
    "best_arm = dict()\n",
    "\n",
    "pulling_times[\"D-Tracking\"] = np.zeros((len(delta_), n_experiments))\n",
    "predicted_arm[\"D-Tracking\"] = np.zeros((len(delta_), n_experiments))\n",
    "best_arm[\"D-Tracking\"] = np.zeros((len(delta_), n_experiments))\n",
    "\n",
    "# synthesis setting\n",
    "mu = np.array([0.5, 0.2, 0.3, 0.4])\n",
    "K = 4\n",
    "\n",
    "# run the algorithm\n",
    "np.random.seed(12345)\n",
    "for (ii, delta) in enumerate(delta_):\n",
    "    for exp_id in tqdm(range(n_experiments)):\n",
    "        # shuffle the best arm\n",
    "        mu_temp = mu.copy()\n",
    "        np.random.shuffle(mu_temp)\n",
    "        best_arm[\"D-Tracking\"][ii, exp_id] = np.argmax(mu_temp) + 1\n",
    "        \n",
    "        # create the agent instance and run the experiment\n",
    "        env = Env__Deterministic_Consumption(K=K, d=np.ones(K), r=mu_temp, random_seed=exp_id)\n",
    "        agent = D_Tracking(K=K, delta=delta)\n",
    "        while not agent.if_stop:\n",
    "            action = agent.action()\n",
    "            reward, demand = env.response(action=action)\n",
    "            agent.observe(r=reward, d=demand)\n",
    "        predicted_arm[\"D-Tracking\"][ii, exp_id] = agent.predict()\n",
    "        pulling_times[\"D-Tracking\"][ii, exp_id] = agent.t - 1"
   ]
  },
  {
   "cell_type": "code",
   "execution_count": 3,
   "id": "8a4ec45c",
   "metadata": {
    "code_folding": [
     0
    ]
   },
   "outputs": [
    {
     "name": "stdout",
     "output_type": "stream",
     "text": [
      "delta: 0.1, accuracy: 0.96\n",
      "delta: 0.05, accuracy: 0.91\n",
      "delta: 0.01, accuracy: 0.97\n",
      "delta: 0.005, accuracy: 0.96\n",
      "delta: 0.001, accuracy: 0.98\n"
     ]
    },
    {
     "data": {
      "image/png": "[encoded data removed]",
      "text/plain": [
       "<Figure size 640x480 with 1 Axes>"
      ]
     },
     "metadata": {},
     "output_type": "display_data"
    }
   ],
   "source": [
    "# plot plot the result\n",
    "x = np.array(delta_)\n",
    "y = np.zeros(len(delta_))\n",
    "for (ii, delta) in enumerate(delta_):\n",
    "    lower_bound = Get_Lower_Bound_pulling(mu, delta)\n",
    "    y[ii] = np.mean(pulling_times[\"D-Tracking\"][ii, :]) / lower_bound\n",
    "plt.plot(x, y, \"*-\")\n",
    "plt.xlabel(\"delta\")\n",
    "plt.ylabel(\"ratio\")\n",
    "\n",
    "for (ii, delta) in enumerate(delta_):\n",
    "    accr = np.sum(predicted_arm[\"D-Tracking\"][ii, :] == best_arm[\"D-Tracking\"][ii, :]) / n_experiments\n",
    "    print(f\"delta: {delta}, accuracy: {accr}\")"
   ]
  },
  {
   "cell_type": "code",
   "execution_count": 4,
   "id": "afd40875",
   "metadata": {
    "code_folding": []
   },
   "outputs": [],
   "source": [
    "# save the numeric record\n",
    "np.save(\"delta.npy\", np.array(delta_))\n",
    "np.save(\"pulling_times-D.npy\", pulling_times[\"D-Tracking\"])\n",
    "np.save(\"predicted_arm-D.npy\", predicted_arm[\"D-Tracking\"])\n",
    "np.save(\"best_arm-D.npy\", best_arm[\"D-Tracking\"])"
   ]
  },
  {
   "cell_type": "markdown",
   "id": "dbb3da9e",
   "metadata": {},
   "source": [
    "## C-Tracking"
   ]
  },
  {
   "cell_type": "code",
   "execution_count": 1,
   "id": "714806a4",
   "metadata": {
    "code_folding": [
     0
    ]
   },
   "outputs": [],
   "source": [
    "# import packages\n",
    "import sys  \n",
    "sys.path.append('./Source/')\n",
    "\n",
    "from Source.agent import D_Tracking, C_Tracking\n",
    "from Source.env import Env__Deterministic_Consumption\n",
    "from Source.utils import Get_Lower_Bound_pulling\n",
    "\n",
    "import numpy as np\n",
    "import matplotlib.pyplot as plt\n",
    "from tqdm import tqdm"
   ]
  },
  {
   "cell_type": "code",
   "execution_count": 2,
   "id": "173417c9",
   "metadata": {
    "code_folding": [
     0
    ]
   },
   "outputs": [
    {
     "name": "stderr",
     "output_type": "stream",
     "text": [
      "100%|████████████████████████████████████████████████████████████████████████████████| 100/100 [11:57<00:00,  7.17s/it]\n",
      "100%|████████████████████████████████████████████████████████████████████████████████| 100/100 [13:55<00:00,  8.36s/it]\n",
      "100%|████████████████████████████████████████████████████████████████████████████████| 100/100 [15:51<00:00,  9.51s/it]\n",
      "100%|████████████████████████████████████████████████████████████████████████████████| 100/100 [20:47<00:00, 12.48s/it]\n",
      "100%|████████████████████████████████████████████████████████████████████████████████| 100/100 [23:52<00:00, 14.33s/it]\n"
     ]
    }
   ],
   "source": [
    "# conduct the experiment\n",
    "n_experiments = 100\n",
    "delta_ = [0.1, 0.05, 0.01, 0.005, 0.001]\n",
    "# delta_ = [0.1, 0.09, 0.08, 0.07]\n",
    "# delta_ = [0.1]\n",
    "\n",
    "# container of numeric record\n",
    "pulling_times = dict()\n",
    "predicted_arm = dict()\n",
    "best_arm = dict()\n",
    "\n",
    "pulling_times[\"C-Tracking\"] = np.zeros((len(delta_), n_experiments))\n",
    "predicted_arm[\"C-Tracking\"] = np.zeros((len(delta_), n_experiments))\n",
    "best_arm[\"C-Tracking\"] = np.zeros((len(delta_), n_experiments))\n",
    "\n",
    "# synthesis setting\n",
    "mu = np.array([0.5, 0.2, 0.3, 0.4])\n",
    "K = 4\n",
    "\n",
    "# run the algorithm\n",
    "np.random.seed(12345)\n",
    "for (ii, delta) in enumerate(delta_):\n",
    "    for exp_id in tqdm(range(n_experiments)):\n",
    "        # shuffle the best arm\n",
    "        mu_temp = mu.copy()\n",
    "        np.random.shuffle(mu_temp)\n",
    "        best_arm[\"C-Tracking\"][ii, exp_id] = np.argmax(mu_temp) + 1\n",
    "        \n",
    "        # create the agent instance and run the experiment\n",
    "        env = Env__Deterministic_Consumption(K=K, d=np.ones(K), r=mu_temp, random_seed=exp_id)\n",
    "        agent = C_Tracking(K=K, delta=delta)\n",
    "        while not agent.if_stop:\n",
    "            action = agent.action()\n",
    "            reward, demand = env.response(action=action)\n",
    "            agent.observe(r=reward, d=demand)\n",
    "        predicted_arm[\"C-Tracking\"][ii, exp_id] = agent.predict()\n",
    "        pulling_times[\"C-Tracking\"][ii, exp_id] = agent.t - 1"
   ]
  },
  {
   "cell_type": "code",
   "execution_count": 3,
   "id": "cea47c0b",
   "metadata": {},
   "outputs": [
    {
     "name": "stdout",
     "output_type": "stream",
     "text": [
      "delta: 0.1, accuracy: 0.98\n",
      "delta: 0.05, accuracy: 0.96\n",
      "delta: 0.01, accuracy: 0.99\n",
      "delta: 0.005, accuracy: 1.0\n",
      "delta: 0.001, accuracy: 1.0\n"
     ]
    },
    {
     "data": {
      "image/png": "[encoded data removed]",
      "text/plain": [
       "<Figure size 640x480 with 1 Axes>"
      ]
     },
     "metadata": {},
     "output_type": "display_data"
    }
   ],
   "source": [
    "# plot plot the result\n",
    "x = np.array(delta_)\n",
    "y = np.zeros(len(delta_))\n",
    "for (ii, delta) in enumerate(delta_):\n",
    "    lower_bound = Get_Lower_Bound_pulling(mu, delta)\n",
    "    y[ii] = np.mean(pulling_times[\"C-Tracking\"][ii, :]) / lower_bound\n",
    "plt.plot(x, y, \"*-\")\n",
    "plt.xlabel(\"delta\")\n",
    "plt.ylabel(\"ratio\")\n",
    "\n",
    "for (ii, delta) in enumerate(delta_):\n",
    "    accr = np.sum(predicted_arm[\"C-Tracking\"][ii, :] == best_arm[\"C-Tracking\"][ii, :]) / n_experiments\n",
    "    print(f\"delta: {delta}, accuracy: {accr}\")"
   ]
  },
  {
   "cell_type": "code",
   "execution_count": 4,
   "id": "b3b1f94b",
   "metadata": {},
   "outputs": [],
   "source": [
    "# save the numeric record\n",
    "np.save(\"pulling_times-C.npy\", pulling_times[\"C-Tracking\"])\n",
    "np.save(\"predicted_arm-C.npy\", predicted_arm[\"C-Tracking\"])\n",
    "np.save(\"best_arm-C.npy\", best_arm[\"C-Tracking\"])"
   ]
  }
 ],
 "metadata": {
  "kernelspec": {
   "display_name": "Python 3 (ipykernel)",
   "language": "python",
   "name": "python3"
  },
  "language_info": {
   "codemirror_mode": {
    "name": "ipython",
    "version": 3
   },
   "file_extension": ".py",
   "mimetype": "text/x-python",
   "name": "python",
   "nbconvert_exporter": "python",
   "pygments_lexer": "ipython3",
   "version": "3.11.3"
  },
  "varInspector": {
   "cols": {
    "lenName": 16,
    "lenType": 16,
    "lenVar": 40
   },
   "kernels_config": {
    "python": {
     "delete_cmd_postfix": "",
     "delete_cmd_prefix": "del ",
     "library": "var_list.py",
     "varRefreshCmd": "print(var_dic_list())"
    },
    "r": {
     "delete_cmd_postfix": ") ",
     "delete_cmd_prefix": "rm(",
     "library": "var_list.r",
     "varRefreshCmd": "cat(var_dic_list()) "
    }
   },
   "types_to_exclude": [
    "module",
    "function",
    "builtin_function_or_method",
    "instance",
    "_Feature"
   ],
   "window_display": false
  }
 },
 "nbformat": 4,
 "nbformat_minor": 5
}
