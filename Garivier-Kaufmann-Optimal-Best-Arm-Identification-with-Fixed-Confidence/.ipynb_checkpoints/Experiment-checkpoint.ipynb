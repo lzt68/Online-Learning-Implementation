{
 "cells": [
  {
   "cell_type": "markdown",
   "id": "8a1776d9",
   "metadata": {},
   "source": [
    "# Validate the Changing Trend of $\\frac{\\mathbb{E}{\\tau_{\\delta}}}{T^*}$"
   ]
  },
  {
   "cell_type": "code",
   "execution_count": null,
   "id": "18868c53",
   "metadata": {
    "code_folding": []
   },
   "outputs": [],
   "source": [
    "# import packages\n",
    "import sys  \n",
    "sys.path.append('./Source/')\n",
    "\n",
    "from Source.agent import D_Tracking, C_Tracking\n",
    "from Source.env import Env__Deterministic_Consumption\n",
    "from Source.utils import Get_Lower_Bound_pulling\n",
    "\n",
    "import numpy as np\n",
    "import matplotlib.pyplot as plt\n",
    "from tqdm import tqdm"
   ]
  },
  {
   "cell_type": "markdown",
   "id": "238d51fa",
   "metadata": {},
   "source": [
    "## D-Tracking"
   ]
  },
  {
   "cell_type": "code",
   "execution_count": 2,
   "id": "dd2a8068",
   "metadata": {},
   "outputs": [
    {
     "name": "stderr",
     "output_type": "stream",
     "text": [
      "100%|████████████████████████████████████████████████████████████████████████████████| 100/100 [20:24<00:00, 12.24s/it]\n",
      "100%|████████████████████████████████████████████████████████████████████████████████| 100/100 [22:12<00:00, 13.32s/it]\n",
      "100%|████████████████████████████████████████████████████████████████████████████████| 100/100 [27:01<00:00, 16.22s/it]\n",
      "100%|████████████████████████████████████████████████████████████████████████████████| 100/100 [31:07<00:00, 18.67s/it]\n",
      "100%|████████████████████████████████████████████████████████████████████████████████| 100/100 [36:52<00:00, 22.13s/it]\n"
     ]
    }
   ],
   "source": [
    "# conduct the experiment\n",
    "n_experiments = 100\n",
    "delta_ = [0.1, 0.05, 0.01, 0.005, 0.001]\n",
    "# delta_ = [0.1, 0.09, 0.08, 0.07]\n",
    "# delta_ = [0.1]\n",
    "\n",
    "# container of numeric record\n",
    "pulling_times = dict()\n",
    "predicted_arm = dict()\n",
    "best_arm = dict()\n",
    "\n",
    "pulling_times[\"D-Tracking\"] = np.zeros((len(delta_), n_experiments))\n",
    "predicted_arm[\"D-Tracking\"] = np.zeros((len(delta_), n_experiments))\n",
    "best_arm[\"D-Tracking\"] = np.zeros((len(delta_), n_experiments))\n",
    "\n",
    "# synthesis setting\n",
    "mu = np.array([0.5, 0.2, 0.3, 0.4])\n",
    "K = 4\n",
    "\n",
    "# run the algorithm\n",
    "np.random.seed(12345)\n",
    "for (ii, delta) in enumerate(delta_):\n",
    "    for exp_id in tqdm(range(n_experiments)):\n",
    "        # shuffle the best arm\n",
    "        mu_temp = mu.copy()\n",
    "        np.random.shuffle(mu_temp)\n",
    "        best_arm[\"D-Tracking\"][ii, exp_id] = np.argmax(mu_temp) + 1\n",
    "        \n",
    "        # create the agent instance and run the experiment\n",
    "        env = Env__Deterministic_Consumption(K=K, d=np.ones(K), r=mu_temp, random_seed=exp_id)\n",
    "        agent = D_Tracking(K=K, delta=delta)\n",
    "        while not agent.if_stop:\n",
    "            action = agent.action()\n",
    "            reward, demand = env.response(action=action)\n",
    "            agent.observe(r=reward, d=demand)\n",
    "        predicted_arm[\"D-Tracking\"][ii, exp_id] = agent.predict()\n",
    "        pulling_times[\"D-Tracking\"][ii, exp_id] = agent.t - 1"
   ]
  },
  {
   "cell_type": "code",
   "execution_count": 3,
   "id": "8a4ec45c",
   "metadata": {
    "code_folding": []
   },
   "outputs": [
    {
     "name": "stdout",
     "output_type": "stream",
     "text": [
      "delta: 0.1, accuracy: 0.96\n",
      "delta: 0.05, accuracy: 0.91\n",
      "delta: 0.01, accuracy: 0.97\n",
      "delta: 0.005, accuracy: 0.96\n",
      "delta: 0.001, accuracy: 0.98\n"
     ]
    },
    {
     "data": {
      "image/png": "[encoded data removed]",
      "text/plain": [
       "<Figure size 640x480 with 1 Axes>"
      ]
     },
     "metadata": {},
     "output_type": "display_data"
    }
   ],
   "source": [
    "# plot plot the result\n",
    "x = np.array(delta_)\n",
    "y = np.zeros(len(delta_))\n",
    "for (ii, delta) in enumerate(delta_):\n",
    "    lower_bound = Get_Lower_Bound_pulling(mu, delta)\n",
    "    y[ii] = np.mean(pulling_times[\"D-Tracking\"][ii, :]) / lower_bound\n",
    "plt.plot(x, y, \"*-\")\n",
    "plt.xlabel(\"delta\")\n",
    "plt.ylabel(\"ratio\")\n",
    "\n",
    "for (ii, delta) in enumerate(delta_):\n",
    "    accr = np.sum(predicted_arm[\"D-Tracking\"][ii, :] == best_arm[\"D-Tracking\"][ii, :]) / n_experiments\n",
    "    print(f\"delta: {delta}, accuracy: {accr}\")"
   ]
  },
  {
   "cell_type": "code",
   "execution_count": 4,
   "id": "afd40875",
   "metadata": {
    "code_folding": []
   },
   "outputs": [],
   "source": [
    "# save the numeric record\n",
    "np.save(\"delta.npy\", np.array(delta_))\n",
    "np.save(\"pulling_times-D.npy\", pulling_times[\"D-Tracking\"])\n",
    "np.save(\"predicted_arm-D.npy\", predicted_arm[\"D-Tracking\"])\n",
    "np.save(\"best_arm-D.npy\", best_arm[\"D-Tracking\"])"
   ]
  },
  {
   "cell_type": "code",
   "execution_count": null,
   "id": "7ffbe33a",
   "metadata": {},
   "outputs": [],
   "source": [
    "# # save the numeric record\n",
    "# print(np.load(\"predicted_arm-D.npy\"))\n",
    "# print(np.load(\"best_arm-D.npy\"))"
   ]
  },
  {
   "cell_type": "markdown",
   "id": "dbb3da9e",
   "metadata": {},
   "source": [
    "## C-Tracking"
   ]
  },
  {
   "cell_type": "code",
   "execution_count": 10,
   "id": "173417c9",
   "metadata": {},
   "outputs": [
    {
     "name": "stderr",
     "output_type": "stream",
     "text": [
      "100%|████████████████████████████████████████████████████████████████████████████████| 100/100 [11:49<00:00,  7.10s/it]\n",
      "100%|████████████████████████████████████████████████████████████████████████████████| 100/100 [14:03<00:00,  8.43s/it]\n",
      " 29%|███████████████████████▍                                                         | 29/100 [04:48<11:45,  9.94s/it]\n"
     ]
    },
    {
     "ename": "KeyboardInterrupt",
     "evalue": "",
     "output_type": "error",
     "traceback": [
      "\u001b[1;31m---------------------------------------------------------------------------\u001b[0m",
      "\u001b[1;31mKeyboardInterrupt\u001b[0m                         Traceback (most recent call last)",
      "Cell \u001b[1;32mIn[10], line 23\u001b[0m\n\u001b[0;32m     21\u001b[0m np\u001b[38;5;241m.\u001b[39mrandom\u001b[38;5;241m.\u001b[39mseed(\u001b[38;5;241m12345\u001b[39m)\n\u001b[0;32m     22\u001b[0m \u001b[38;5;28;01mfor\u001b[39;00m (ii, delta) \u001b[38;5;129;01min\u001b[39;00m \u001b[38;5;28menumerate\u001b[39m(delta_):\n\u001b[1;32m---> 23\u001b[0m     \u001b[38;5;28;01mfor\u001b[39;00m exp_id \u001b[38;5;129;01min\u001b[39;00m tqdm(\u001b[38;5;28mrange\u001b[39m(n_experiments)):\n\u001b[0;32m     24\u001b[0m         \u001b[38;5;66;03m# shuffle the best arm\u001b[39;00m\n\u001b[0;32m     25\u001b[0m         mu_temp \u001b[38;5;241m=\u001b[39m mu\u001b[38;5;241m.\u001b[39mcopy()\n\u001b[0;32m     26\u001b[0m         np\u001b[38;5;241m.\u001b[39mrandom\u001b[38;5;241m.\u001b[39mshuffle(mu_temp)\n",
      "File \u001b[1;32mD:\\Software\\Anaconda\\Lib\\site-packages\\tqdm\\std.py:1188\u001b[0m, in \u001b[0;36mtqdm.__iter__\u001b[1;34m(self)\u001b[0m\n\u001b[0;32m   1186\u001b[0m dt \u001b[38;5;241m=\u001b[39m cur_t \u001b[38;5;241m-\u001b[39m last_print_t\n\u001b[0;32m   1187\u001b[0m \u001b[38;5;28;01mif\u001b[39;00m dt \u001b[38;5;241m>\u001b[39m\u001b[38;5;241m=\u001b[39m mininterval \u001b[38;5;129;01mand\u001b[39;00m cur_t \u001b[38;5;241m>\u001b[39m\u001b[38;5;241m=\u001b[39m min_start_t:\n\u001b[1;32m-> 1188\u001b[0m     \u001b[38;5;28mself\u001b[39m\u001b[38;5;241m.\u001b[39mupdate(n \u001b[38;5;241m-\u001b[39m last_print_n)\n\u001b[0;32m   1189\u001b[0m     last_print_n \u001b[38;5;241m=\u001b[39m \u001b[38;5;28mself\u001b[39m\u001b[38;5;241m.\u001b[39mlast_print_n\n\u001b[0;32m   1190\u001b[0m     last_print_t \u001b[38;5;241m=\u001b[39m \u001b[38;5;28mself\u001b[39m\u001b[38;5;241m.\u001b[39mlast_print_t\n",
      "File \u001b[1;32mD:\\Software\\Anaconda\\Lib\\site-packages\\tqdm\\std.py:1239\u001b[0m, in \u001b[0;36mtqdm.update\u001b[1;34m(self, n)\u001b[0m\n\u001b[0;32m   1237\u001b[0m     \u001b[38;5;28mself\u001b[39m\u001b[38;5;241m.\u001b[39m_ema_dn(dn)\n\u001b[0;32m   1238\u001b[0m     \u001b[38;5;28mself\u001b[39m\u001b[38;5;241m.\u001b[39m_ema_dt(dt)\n\u001b[1;32m-> 1239\u001b[0m \u001b[38;5;28mself\u001b[39m\u001b[38;5;241m.\u001b[39mrefresh(lock_args\u001b[38;5;241m=\u001b[39m\u001b[38;5;28mself\u001b[39m\u001b[38;5;241m.\u001b[39mlock_args)\n\u001b[0;32m   1240\u001b[0m \u001b[38;5;28;01mif\u001b[39;00m \u001b[38;5;28mself\u001b[39m\u001b[38;5;241m.\u001b[39mdynamic_miniters:\n\u001b[0;32m   1241\u001b[0m     \u001b[38;5;66;03m# If no `miniters` was specified, adjust automatically to the\u001b[39;00m\n\u001b[0;32m   1242\u001b[0m     \u001b[38;5;66;03m# maximum iteration rate seen so far between two prints.\u001b[39;00m\n\u001b[0;32m   1243\u001b[0m     \u001b[38;5;66;03m# e.g.: After running `tqdm.update(5)`, subsequent\u001b[39;00m\n\u001b[0;32m   1244\u001b[0m     \u001b[38;5;66;03m# calls to `tqdm.update()` will only cause an update after\u001b[39;00m\n\u001b[0;32m   1245\u001b[0m     \u001b[38;5;66;03m# at least 5 more iterations.\u001b[39;00m\n\u001b[0;32m   1246\u001b[0m     \u001b[38;5;28;01mif\u001b[39;00m \u001b[38;5;28mself\u001b[39m\u001b[38;5;241m.\u001b[39mmaxinterval \u001b[38;5;129;01mand\u001b[39;00m dt \u001b[38;5;241m>\u001b[39m\u001b[38;5;241m=\u001b[39m \u001b[38;5;28mself\u001b[39m\u001b[38;5;241m.\u001b[39mmaxinterval:\n",
      "File \u001b[1;32mD:\\Software\\Anaconda\\Lib\\site-packages\\tqdm\\std.py:1344\u001b[0m, in \u001b[0;36mtqdm.refresh\u001b[1;34m(self, nolock, lock_args)\u001b[0m\n\u001b[0;32m   1342\u001b[0m     \u001b[38;5;28;01melse\u001b[39;00m:\n\u001b[0;32m   1343\u001b[0m         \u001b[38;5;28mself\u001b[39m\u001b[38;5;241m.\u001b[39m_lock\u001b[38;5;241m.\u001b[39macquire()\n\u001b[1;32m-> 1344\u001b[0m \u001b[38;5;28mself\u001b[39m\u001b[38;5;241m.\u001b[39mdisplay()\n\u001b[0;32m   1345\u001b[0m \u001b[38;5;28;01mif\u001b[39;00m \u001b[38;5;129;01mnot\u001b[39;00m nolock:\n\u001b[0;32m   1346\u001b[0m     \u001b[38;5;28mself\u001b[39m\u001b[38;5;241m.\u001b[39m_lock\u001b[38;5;241m.\u001b[39mrelease()\n",
      "File \u001b[1;32mD:\\Software\\Anaconda\\Lib\\site-packages\\tqdm\\std.py:1492\u001b[0m, in \u001b[0;36mtqdm.display\u001b[1;34m(self, msg, pos)\u001b[0m\n\u001b[0;32m   1490\u001b[0m \u001b[38;5;28;01mif\u001b[39;00m pos:\n\u001b[0;32m   1491\u001b[0m     \u001b[38;5;28mself\u001b[39m\u001b[38;5;241m.\u001b[39mmoveto(pos)\n\u001b[1;32m-> 1492\u001b[0m \u001b[38;5;28mself\u001b[39m\u001b[38;5;241m.\u001b[39msp(\u001b[38;5;28mself\u001b[39m\u001b[38;5;241m.\u001b[39m\u001b[38;5;21m__str__\u001b[39m() \u001b[38;5;28;01mif\u001b[39;00m msg \u001b[38;5;129;01mis\u001b[39;00m \u001b[38;5;28;01mNone\u001b[39;00m \u001b[38;5;28;01melse\u001b[39;00m msg)\n\u001b[0;32m   1493\u001b[0m \u001b[38;5;28;01mif\u001b[39;00m pos:\n\u001b[0;32m   1494\u001b[0m     \u001b[38;5;28mself\u001b[39m\u001b[38;5;241m.\u001b[39mmoveto(\u001b[38;5;241m-\u001b[39mpos)\n",
      "File \u001b[1;32mD:\\Software\\Anaconda\\Lib\\site-packages\\tqdm\\std.py:347\u001b[0m, in \u001b[0;36mtqdm.status_printer.<locals>.print_status\u001b[1;34m(s)\u001b[0m\n\u001b[0;32m    345\u001b[0m \u001b[38;5;28;01mdef\u001b[39;00m \u001b[38;5;21mprint_status\u001b[39m(s):\n\u001b[0;32m    346\u001b[0m     len_s \u001b[38;5;241m=\u001b[39m disp_len(s)\n\u001b[1;32m--> 347\u001b[0m     fp_write(\u001b[38;5;124m'\u001b[39m\u001b[38;5;130;01m\\r\u001b[39;00m\u001b[38;5;124m'\u001b[39m \u001b[38;5;241m+\u001b[39m s \u001b[38;5;241m+\u001b[39m (\u001b[38;5;124m'\u001b[39m\u001b[38;5;124m \u001b[39m\u001b[38;5;124m'\u001b[39m \u001b[38;5;241m*\u001b[39m \u001b[38;5;28mmax\u001b[39m(last_len[\u001b[38;5;241m0\u001b[39m] \u001b[38;5;241m-\u001b[39m len_s, \u001b[38;5;241m0\u001b[39m)))\n\u001b[0;32m    348\u001b[0m     last_len[\u001b[38;5;241m0\u001b[39m] \u001b[38;5;241m=\u001b[39m len_s\n",
      "File \u001b[1;32mD:\\Software\\Anaconda\\Lib\\site-packages\\tqdm\\std.py:340\u001b[0m, in \u001b[0;36mtqdm.status_printer.<locals>.fp_write\u001b[1;34m(s)\u001b[0m\n\u001b[0;32m    339\u001b[0m \u001b[38;5;28;01mdef\u001b[39;00m \u001b[38;5;21mfp_write\u001b[39m(s):\n\u001b[1;32m--> 340\u001b[0m     fp\u001b[38;5;241m.\u001b[39mwrite(\u001b[38;5;28mstr\u001b[39m(s))\n\u001b[0;32m    341\u001b[0m     fp_flush()\n",
      "File \u001b[1;32mD:\\Software\\Anaconda\\Lib\\site-packages\\tqdm\\utils.py:127\u001b[0m, in \u001b[0;36mDisableOnWriteError.disable_on_exception.<locals>.inner\u001b[1;34m(*args, **kwargs)\u001b[0m\n\u001b[0;32m    125\u001b[0m \u001b[38;5;28;01mdef\u001b[39;00m \u001b[38;5;21minner\u001b[39m(\u001b[38;5;241m*\u001b[39margs, \u001b[38;5;241m*\u001b[39m\u001b[38;5;241m*\u001b[39mkwargs):\n\u001b[0;32m    126\u001b[0m     \u001b[38;5;28;01mtry\u001b[39;00m:\n\u001b[1;32m--> 127\u001b[0m         \u001b[38;5;28;01mreturn\u001b[39;00m func(\u001b[38;5;241m*\u001b[39margs, \u001b[38;5;241m*\u001b[39m\u001b[38;5;241m*\u001b[39mkwargs)\n\u001b[0;32m    128\u001b[0m     \u001b[38;5;28;01mexcept\u001b[39;00m \u001b[38;5;167;01mOSError\u001b[39;00m \u001b[38;5;28;01mas\u001b[39;00m e:\n\u001b[0;32m    129\u001b[0m         \u001b[38;5;28;01mif\u001b[39;00m e\u001b[38;5;241m.\u001b[39merrno \u001b[38;5;241m!=\u001b[39m \u001b[38;5;241m5\u001b[39m:\n",
      "File \u001b[1;32mD:\\Software\\Anaconda\\Lib\\site-packages\\ipykernel\\iostream.py:563\u001b[0m, in \u001b[0;36mOutStream.write\u001b[1;34m(self, string)\u001b[0m\n\u001b[0;32m    561\u001b[0m         \u001b[38;5;28mself\u001b[39m\u001b[38;5;241m.\u001b[39mpub_thread\u001b[38;5;241m.\u001b[39mschedule(\u001b[38;5;28mself\u001b[39m\u001b[38;5;241m.\u001b[39m_flush)\n\u001b[0;32m    562\u001b[0m     \u001b[38;5;28;01melse\u001b[39;00m:\n\u001b[1;32m--> 563\u001b[0m         \u001b[38;5;28mself\u001b[39m\u001b[38;5;241m.\u001b[39m_schedule_flush()\n\u001b[0;32m    565\u001b[0m \u001b[38;5;28;01mreturn\u001b[39;00m \u001b[38;5;28mlen\u001b[39m(string)\n",
      "File \u001b[1;32mD:\\Software\\Anaconda\\Lib\\site-packages\\ipykernel\\iostream.py:469\u001b[0m, in \u001b[0;36mOutStream._schedule_flush\u001b[1;34m(self)\u001b[0m\n\u001b[0;32m    466\u001b[0m \u001b[38;5;28;01mdef\u001b[39;00m \u001b[38;5;21m_schedule_in_thread\u001b[39m():\n\u001b[0;32m    467\u001b[0m     \u001b[38;5;28mself\u001b[39m\u001b[38;5;241m.\u001b[39m_io_loop\u001b[38;5;241m.\u001b[39mcall_later(\u001b[38;5;28mself\u001b[39m\u001b[38;5;241m.\u001b[39mflush_interval, \u001b[38;5;28mself\u001b[39m\u001b[38;5;241m.\u001b[39m_flush)\n\u001b[1;32m--> 469\u001b[0m \u001b[38;5;28mself\u001b[39m\u001b[38;5;241m.\u001b[39mpub_thread\u001b[38;5;241m.\u001b[39mschedule(_schedule_in_thread)\n",
      "File \u001b[1;32mD:\\Software\\Anaconda\\Lib\\site-packages\\ipykernel\\iostream.py:210\u001b[0m, in \u001b[0;36mIOPubThread.schedule\u001b[1;34m(self, f)\u001b[0m\n\u001b[0;32m    208\u001b[0m     \u001b[38;5;28mself\u001b[39m\u001b[38;5;241m.\u001b[39m_events\u001b[38;5;241m.\u001b[39mappend(f)\n\u001b[0;32m    209\u001b[0m     \u001b[38;5;66;03m# wake event thread (message content is ignored)\u001b[39;00m\n\u001b[1;32m--> 210\u001b[0m     \u001b[38;5;28mself\u001b[39m\u001b[38;5;241m.\u001b[39m_event_pipe\u001b[38;5;241m.\u001b[39msend(\u001b[38;5;124mb\u001b[39m\u001b[38;5;124m\"\u001b[39m\u001b[38;5;124m\"\u001b[39m)\n\u001b[0;32m    211\u001b[0m \u001b[38;5;28;01melse\u001b[39;00m:\n\u001b[0;32m    212\u001b[0m     f()\n",
      "File \u001b[1;32mD:\\Software\\Anaconda\\Lib\\site-packages\\zmq\\sugar\\socket.py:696\u001b[0m, in \u001b[0;36mSocket.send\u001b[1;34m(self, data, flags, copy, track, routing_id, group)\u001b[0m\n\u001b[0;32m    689\u001b[0m         data \u001b[38;5;241m=\u001b[39m zmq\u001b[38;5;241m.\u001b[39mFrame(\n\u001b[0;32m    690\u001b[0m             data,\n\u001b[0;32m    691\u001b[0m             track\u001b[38;5;241m=\u001b[39mtrack,\n\u001b[0;32m    692\u001b[0m             copy\u001b[38;5;241m=\u001b[39mcopy \u001b[38;5;129;01mor\u001b[39;00m \u001b[38;5;28;01mNone\u001b[39;00m,\n\u001b[0;32m    693\u001b[0m             copy_threshold\u001b[38;5;241m=\u001b[39m\u001b[38;5;28mself\u001b[39m\u001b[38;5;241m.\u001b[39mcopy_threshold,\n\u001b[0;32m    694\u001b[0m         )\n\u001b[0;32m    695\u001b[0m     data\u001b[38;5;241m.\u001b[39mgroup \u001b[38;5;241m=\u001b[39m group\n\u001b[1;32m--> 696\u001b[0m \u001b[38;5;28;01mreturn\u001b[39;00m \u001b[38;5;28msuper\u001b[39m()\u001b[38;5;241m.\u001b[39msend(data, flags\u001b[38;5;241m=\u001b[39mflags, copy\u001b[38;5;241m=\u001b[39mcopy, track\u001b[38;5;241m=\u001b[39mtrack)\n",
      "File \u001b[1;32mzmq/backend/cython/socket.pyx:742\u001b[0m, in \u001b[0;36mzmq.backend.cython.socket.Socket.send\u001b[1;34m()\u001b[0m\n",
      "File \u001b[1;32mzmq/backend/cython/socket.pyx:789\u001b[0m, in \u001b[0;36mzmq.backend.cython.socket.Socket.send\u001b[1;34m()\u001b[0m\n",
      "File \u001b[1;32mzmq/backend/cython/socket.pyx:250\u001b[0m, in \u001b[0;36mzmq.backend.cython.socket._send_copy\u001b[1;34m()\u001b[0m\n",
      "File \u001b[1;32mD:\\Software\\Anaconda\\Lib\\site-packages\\zmq\\backend\\cython\\checkrc.pxd:13\u001b[0m, in \u001b[0;36mzmq.backend.cython.checkrc._check_rc\u001b[1;34m()\u001b[0m\n",
      "\u001b[1;31mKeyboardInterrupt\u001b[0m: "
     ]
    }
   ],
   "source": [
    "# conduct the experiment\n",
    "n_experiments = 100\n",
    "delta_ = [0.1, 0.05, 0.01, 0.005, 0.001]\n",
    "# delta_ = [0.1, 0.09, 0.08, 0.07]\n",
    "# delta_ = [0.1]\n",
    "\n",
    "# container of numeric record\n",
    "pulling_times = dict()\n",
    "predicted_arm = dict()\n",
    "best_arm = dict()\n",
    "\n",
    "pulling_times[\"C-Tracking\"] = np.zeros((len(delta_), n_experiments))\n",
    "predicted_arm[\"C-Tracking\"] = np.zeros((len(delta_), n_experiments))\n",
    "best_arm[\"C-Tracking\"] = np.zeros((len(delta_), n_experiments))\n",
    "\n",
    "# synthesis setting\n",
    "mu = np.array([0.5, 0.2, 0.3, 0.4])\n",
    "K = 4\n",
    "\n",
    "# run the algorithm\n",
    "np.random.seed(12345)\n",
    "for (ii, delta) in enumerate(delta_):\n",
    "    for exp_id in tqdm(range(n_experiments)):\n",
    "        # shuffle the best arm\n",
    "        mu_temp = mu.copy()\n",
    "        np.random.shuffle(mu_temp)\n",
    "        best_arm[\"C-Tracking\"][ii, exp_id] = np.argmax(mu_temp) + 1\n",
    "        \n",
    "        # create the agent instance and run the experiment\n",
    "        env = Env__Deterministic_Consumption(K=K, d=np.ones(K), r=mu_temp, random_seed=exp_id)\n",
    "        agent = C_Tracking(K=K, delta=delta)\n",
    "        while not agent.if_stop:\n",
    "            action = agent.action()\n",
    "            reward, demand = env.response(action=action)\n",
    "            agent.observe(r=reward, d=demand)\n",
    "        predicted_arm[\"C-Tracking\"][ii, exp_id] = agent.predict()\n",
    "        pulling_times[\"C-Tracking\"][ii, exp_id] = agent.t - 1"
   ]
  },
  {
   "cell_type": "code",
   "execution_count": null,
   "id": "cea47c0b",
   "metadata": {},
   "outputs": [],
   "source": [
    "# plot plot the result\n",
    "x = np.array(delta_)\n",
    "y = np.zeros(len(delta_))\n",
    "for (ii, delta) in enumerate(delta_):\n",
    "    lower_bound = Get_Lower_Bound_pulling(mu, delta)\n",
    "    y[ii] = np.mean(pulling_times[\"C-Tracking\"][ii, :]) / lower_bound\n",
    "plt.plot(x, y, \"*-\")\n",
    "plt.xlabel(\"delta\")\n",
    "plt.ylabel(\"ratio\")\n",
    "\n",
    "for (ii, delta) in enumerate(delta_):\n",
    "    accr = np.sum(predicted_arm[\"C-Tracking\"][ii, :] == best_arm[\"C-Tracking\"][ii, :]) / n_experiments\n",
    "    print(f\"delta: {delta}, accuracy: {accr}\")"
   ]
  },
  {
   "cell_type": "code",
   "execution_count": null,
   "id": "b3b1f94b",
   "metadata": {},
   "outputs": [],
   "source": [
    "# save the numeric record\n",
    "# np.save(\"delta.npy\", np.array(delta_))\n",
    "np.save(\"pulling_times-C.npy\", pulling_times[\"C-Tracking\"])\n",
    "np.save(\"predicted_arm-C.npy\", predicted_arm[\"C-Tracking\"])\n",
    "np.save(\"best_arm-C.npy\", best_arm[\"C-Tracking\"])"
   ]
  }
 ],
 "metadata": {
  "kernelspec": {
   "display_name": "Python 3 (ipykernel)",
   "language": "python",
   "name": "python3"
  },
  "language_info": {
   "codemirror_mode": {
    "name": "ipython",
    "version": 3
   },
   "file_extension": ".py",
   "mimetype": "text/x-python",
   "name": "python",
   "nbconvert_exporter": "python",
   "pygments_lexer": "ipython3",
   "version": "3.11.3"
  },
  "varInspector": {
   "cols": {
    "lenName": 16,
    "lenType": 16,
    "lenVar": 40
   },
   "kernels_config": {
    "python": {
     "delete_cmd_postfix": "",
     "delete_cmd_prefix": "del ",
     "library": "var_list.py",
     "varRefreshCmd": "print(var_dic_list())"
    },
    "r": {
     "delete_cmd_postfix": ") ",
     "delete_cmd_prefix": "rm(",
     "library": "var_list.r",
     "varRefreshCmd": "cat(var_dic_list()) "
    }
   },
   "types_to_exclude": [
    "module",
    "function",
    "builtin_function_or_method",
    "instance",
    "_Feature"
   ],
   "window_display": false
  }
 },
 "nbformat": 4,
 "nbformat_minor": 5
}
