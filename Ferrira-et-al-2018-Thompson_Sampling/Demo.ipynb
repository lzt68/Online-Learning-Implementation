{
 "cells": [
  {
   "cell_type": "markdown",
   "id": "2a5133b7",
   "metadata": {},
   "source": [
    "# Ferreira et.al. 2018\n",
    "Following is its notation and description\n",
    "\n",
    "|      Parameter       | description                                                  |\n",
    "| :------------------: | :----------------------------------------------------------- |\n",
    "|         $K$          | Total number of available price vectors                      |\n",
    "|         $N$          | Total number of products                                    |\n",
    "|         $M$          | Total number of kinds of resource                            |\n",
    "|         $T$          | Total number of periods                                      |\n",
    "|        $[x]$         | We define $[x]$ as a set, $[x]=\\{1,2,\\cdots, x\\}$            |\n",
    "|         $i$          | Index of products                                            |\n",
    "|         $j$          | Index of resources                                           |\n",
    "|         $t$          | Index of period                                              |\n",
    "|     $I_j,I_j(t)$     | $I_j$ is the initial inventory for each resource $j\\in [M]$, $I_j(t)$ is the inventory at the end of period $t$. $I_j(0)=I_j$ |\n",
    "|       $a_{ij}$       | When we produced one unit item $i$, it would consume $a_{ij}$ unit $j$ |\n",
    "|        $c_j$         | we define $c_j=\\frac{I_j}{t}$                                |\n",
    "|        $p_k$         | We define $\\{p_1,p_2,\\cdots,p_K\\}$ as the admissible price vectors, each $p_k$ is a $N\\times 1$ vector, specifying the price of each product, $p_k=(p_{1k},\\cdots,p_{Nk})$, where $p_{ik}$ is the price of product $i$, for $i\\in [N]$. We define $p_{\\infty}$ as a \"shut-off\" price, such that the demand for any product under this price is zero. |\n",
    "|        $P(t)$        | We denote by $P(t)=(P_1(t),\\cdots,P_N(t))$ the prices chosen by the retailer in this period, and require that $P(t)\\in \\{p_1,p_2,\\cdots,p_K,p_{\\infty}\\}$ |\n",
    "|        $D(t)$        | We denote by $D(t) = (D_1(t),\\cdots,D_N(t))$ the demand of each product at period $t$. We assume that given $P(t)=p_k$, the demand $D(t)$ is sampled from a probability distribution on $\\mathbb{R}^{N}_+$ with joint cumulative distribution function (CDF) $F (x_1,\\cdots,x_N, pk, \\theta )$. $D(t)$ is independent of the history $\\mathcal{H}_{t-1}$, given $P(t)$ |\n",
    "|       $\\theta$       | $\\theta$ is the parameter of demand distribution, takes values in the parameter space $\\Theta\\subset\\mathbb{R}^l$. The nature would sample $\\theta$ from a prior distribution at the beginning form the process. The distribution is assumed to be subexponential; |\n",
    "|  $\\mathcal{H}_{t }$  | $\\mathcal{H}_{t}=(P(1),D(1),\\cdots,P(t),D(t))$               |\n",
    "|       $\\xi(t)$       | At the beginning of each period $t\\in[T]$, the retailer observes some context $\\xi(t)$, $\\xi(t)$ belongs to some discrete set $\\mathcal{X}$. We assume $\\xi(t)$ is sampled i.i.d from a known distribution. |\n",
    " | $d_{ik}(\\xi|\\theta)$ | The mean demand of product $i\\in [N]$ under price vector $p_k$, $\\forall k\\in[K]$, given context $\\xi$ and parameter $\\theta$ |\n"
   ]
  },
  {
   "cell_type": "markdown",
   "id": "bdb78e89",
   "metadata": {},
   "source": [
    "## 1 st algorithm\n",
    "\n",
    "We implement the 4th algorithm of Ferreira et.al. 2018\n",
    "\n",
    "<img src=\"./Figure/Algorithem_1_of_Ferreira_et_al_2018.png\" style=\"zoom:80%\" />\n",
    "\n",
    "The most challenging part of implementing this algorithm is how to sample $\\theta$ from the posterior distribution. Here we assume the prior distribution of theta is Uniform(0, 1), and the demand follows Bernoulli Distribution. Then we can implement the algorithm with following two ways\n",
    "\n",
    "1. Derive the explicit distribution of posterior distribution <br>\n",
    "    For each $k\\in [K], i\\in [N]$, the poseterior density function of $\\Theta_{k,i}$ is \n",
    "    $$\n",
    "    \\begin{align}\n",
    "    f(\\theta_{k,i} | (p^{(t_1)}_{k},d^{(t_1)}_k),\\cdots, (p^{(t_\\tau)}_{k},d^{(t_\\tau)}_k)) \n",
    "    & = \\frac{Pr(d^{(t_1)}_k,\\cdots, ,d^{(t_\\tau)}_k \\ | \\ \\theta_{k,i}) * 1}{\\int_{0}^{1}Pr(d^{(t_1)}_k,\\cdots, ,d^{(t_\\tau)}_k \\ | \\ \\theta)*1d\\theta}\\\\\n",
    "    &=\\frac{\\prod_{j=1}^\\tau Pr(d^{(t_j)}_k| \\ \\theta_{k,i}) * 1}{\\int_{0}^{1}\\prod_{j=1}^\\tau Pr(d^{(t_j)}_k| \\ \\theta)*1d\\theta}\\\\\n",
    "    &=\\frac{\\theta_{k,i}^{\\sum_{j=1}^\\tau d^{(t_j)}_k} (1-\\theta_{k,i})^{\\tau-\\sum_{j=1}^\\tau d^{(t_j)}_k}}{\\int_{0}^{1}\\theta^{\\sum_{j=1}^\\tau d^{(t_j)}_k} (1-\\theta)^{\\tau-\\sum_{j=1}^\\tau d^{(t_j)}_k}d\\theta}\\\\\n",
    "    &=beta(\\sum_{j=1}^\\tau d^{(t_j)}_k, \\tau-\\sum_{j=1}^\\tau d^{(t_j)}_k)\n",
    "    \\end{align}\n",
    "    $$<br>\n",
    "    Reminds $d^{(i)}_j$ is the demand of $j^{th}$ product in $i^{th}$ period<br>\n",
    "    Thus we can sample $\\theta$ from existing python packages(numpy, scipy.stat) which implement the Beta Distribution.<br>\n",
    "    <br>\n",
    "    Similarly, the convenience will occur if we assume the theta follows normal while the demand following normal. We can also assume the theta follows exponential distribution while the demand following Poisson. In this case, the posterior of $\\theta$ is Gamma distribution. <br>\n",
    "    \n",
    "    **But this is not a general solution.** The posterior distribution might not always show up as an well known distribution with existing pacakges to sample from it.\n",
    "    \n",
    "    \n",
    "    \n",
    "2. Use Metropolitan-Hastings Algorithm to sample value\n",
    "    The details of Metropolitan-Hastings Algorithm can be found in Sawyer_The Metropolitan-Hastings Algorithm and Extensions.pdf<br>\n",
    "    Metropolitan-Hastings Algorithm allows us to sample random variables from a distribution whose prob density function is $c g(x)$.<br> \n",
    "    If we can calculate the exact value of $g(x)$, we can conduct this algorithm without knowing $c$. <br>\n",
    "    \n",
    "    In our setting, $c$ can be seen as the denominator of the Bayesian Formula, which often shows up as an untractable integral, while $g(x)$ is the nominator which often has the explicit formula.<br>\n",
    "    The weakness of this algorithm is it might be time-consuming due to its \"warm up\" phase. This problem might become more serious when the dimension of $\\theta$ increase.\n",
    "    \n",
    "    \n",
    "Following is my demo showing how to use my implementation of above two algorithms to conduct numeric experiments."
   ]
  },
  {
   "cell_type": "code",
   "execution_count": 1,
   "id": "cf61fa01",
   "metadata": {},
   "outputs": [],
   "source": [
    "%reset -f\n",
    "import numpy as np\n",
    "import pandas as pd # we would restore our result in csv file .\\\\Result_Ferreira et.al. 2018 Algorithm 1\\\\\n",
    "import datetime\n",
    "from tqdm import tqdm\n",
    "from Source.agent import ThompsonAgent_Fixed_Beta, ThompsonAgent_Fixed_MH, UniformAgent\n",
    "from Source.env import Environment_Bernoulli\n",
    "\n",
    "import pyscipopt\n",
    "from pyscipopt import quicksum"
   ]
  },
  {
   "cell_type": "code",
   "execution_count": 2,
   "id": "d5cc97c6",
   "metadata": {
    "code_folding": [
     0
    ]
   },
   "outputs": [],
   "source": [
    "# Generate parameters\n",
    "# the maximum value of np.random.randint(low, high) would be high - 1\n",
    "# K = np.random.randint(low = 2, high = 10) # Total number of available price vectors, \n",
    "# N = np.random.randint(low = 2, high = 10) # Total number of products\n",
    "# M = np.random.randint(low = 2, high = 10) # Total number of kinds of resource\n",
    "# T = 1000 # Total number of periods\n",
    "K = 2 # Total number of available price vectors, \n",
    "N = 3 # Total number of products\n",
    "M = 1 # Total number of kinds of resource\n",
    "T = 10 # Total number of periods\n",
    "\n",
    "# each row represent an admissible pricing strategy\n",
    "P_list = np.float64(np.random.randint(low = 1, high = 10, size = (K, N)))\n",
    "\n",
    "# initialize inventory\n",
    "# c is the limitation of resources in each round\n",
    "c = np.random.randint(low = 10, high = 15, size = M)\n",
    "I_0 = c * T\n",
    "\n",
    "# initialize a_ij\n",
    "# A is the cost of each product\n",
    "A = np.float64(np.random.randint(low = 10, high = 15, size = (N,M)))\n",
    "\n",
    "# initialize real parameter theta\n",
    "theta = np.random.beta(a = 200, b = 100, size = (K,N))"
   ]
  },
  {
   "cell_type": "code",
   "execution_count": 4,
   "id": "b1220680",
   "metadata": {},
   "outputs": [
    {
     "name": "stderr",
     "output_type": "stream",
     "text": [
      "100%|██████████████████████████████████████████████████████████████████████████████████| 10/10 [00:00<00:00, 42.40it/s]\n",
      "100%|██████████████████████████████████████████████████████████████████████████████████| 10/10 [00:12<00:00,  1.27s/it]\n",
      "100%|████████████████████████████████████████████████████████████████████████████████| 10/10 [00:00<00:00, 5014.71it/s]\n"
     ]
    }
   ],
   "source": [
    "# Carry on experiments\n",
    "random_seed = 12345\n",
    "np.random.seed(random_seed)\n",
    "\n",
    "exp_num = 1\n",
    "\n",
    "reward_thompson_fixed = np.zeros(shape = (exp_num, T))\n",
    "reward_thompson_MH = np.zeros(shape = (exp_num, T))\n",
    "rewarduniform = np.zeros(shape = (exp_num, T))\n",
    "\n",
    "for exp_index in range(exp_num):\n",
    "    agent = ThompsonAgent_Fixed_Beta(K, N, M, T, P_list, A, I_0)\n",
    "    env = Environment_Bernoulli(theta, K, N)\n",
    "    for t in tqdm(range(1, T+1)):\n",
    "        price_offered_index = agent.action()\n",
    "        demand = env.response(price_offered_index)\n",
    "        agent.update(demand)\n",
    "    reward_thompson_fixed[exp_index, :] = agent.H_reward\n",
    "    \n",
    "    agent = ThompsonAgent_Fixed_MH(K, N, M, T, P_list, A, I_0)\n",
    "    env = Environment_Bernoulli(theta, K, N)\n",
    "    for t in tqdm(range(1, T+1)):\n",
    "        price_offered_index = agent.action()\n",
    "        demand = env.response(price_offered_index)\n",
    "        agent.update(demand)\n",
    "    reward_thompson_MH[exp_index, :] = agent.H_reward\n",
    "        \n",
    "    agent = UniformAgent(K, N, M, T, P_list, A, I_0)\n",
    "    env = Environment_Bernoulli(theta, K, N)\n",
    "    for t in tqdm(range(1, T+1)):\n",
    "        price_offered_index = agent.action()\n",
    "        demand = env.response(price_offered_index)\n",
    "        agent.update(demand)\n",
    "    rewarduniform[exp_index, :] = agent.H_reward\n",
    "\n",
    "reward_thompson_fixed = np.mean(reward_thompson_fixed, axis = 0)\n",
    "reward_thompson_MH = np.mean(reward_thompson_MH, axis = 0)\n",
    "rewarduniform = np.mean(rewarduniform, axis = 0)"
   ]
  },
  {
   "cell_type": "code",
   "execution_count": 5,
   "id": "e5e6d3dd",
   "metadata": {
    "code_folding": [
     0
    ]
   },
   "outputs": [],
   "source": [
    "# calculate the benchmark\n",
    "model = pyscipopt.Model(\"Optimization in Rount {:d}\".format(t))\n",
    "\n",
    "x = {}\n",
    "for xindex in range(1, K+1):\n",
    "    x[xindex] = model.addVar(vtype=\"C\", lb = 0, ub = 1, name=\"x{:d}\".format(xindex))\n",
    "\n",
    "# Generate object function\n",
    "demand_mean = theta\n",
    "obj_coefficient = np.sum(demand_mean *  P_list, axis = 1)# obj_coefficient[k] = $\\sum_{i=1}^N d_{i,k+1}(t)p_{i,k+1}$\n",
    "model.setObjective(quicksum(x[xindex]*obj_coefficient[xindex-1] for xindex in range(1, K+1)), \"maximize\")\n",
    "# objective = $\\sum_{k=1}^K(\\sum_{i=1}^N d_{i,k+1}(t)p_{i,k+1})x_{k}$\n",
    "\n",
    "# add constraint x_1+...+x_k<=1\n",
    "constraint_index = {}\n",
    "constraint_index[0] = model.addCons(quicksum(x[xindex] for xindex in range(1, K+1)) <= 1)\n",
    "\n",
    "# add, constraint for each resources, we require \\sum_{k=1}^K\\sum_{i=1}^N d_{i,k}a_{i,j}x_l<=c_j\n",
    "for jj in range(1, M+1):\n",
    "    con_coefficient = A[:, jj - 1].dot(np.transpose(demand_mean))# con_coefficient[k] = $\\sum_{i=1}^N a_{i,j}d_{i,k+1}$\n",
    "    constraint_index[jj] = model.addCons(quicksum(x[xindex] * con_coefficient[xindex - 1] for xindex in range(1, K+1)) <= c[jj - 1])\n",
    "\n",
    "# optimize the problem\n",
    "model.optimize()\n",
    "\n",
    "# get the best solution\n",
    "bestx = np.zeros(K+1) # p_{K+1} would force the demand be zero\n",
    "for xindex in range(1,K+1):\n",
    "    bestx[xindex - 1] = model.getVal(x[xindex])\n",
    "bestx[K] = 1 - np.sum(bestx[0:K])\n",
    "eliminate_error = lambda x: 0 if np.abs(x) < 1e-10 else x #there would be numerical error in the best solution\n",
    "bestx = np.array([eliminate_error(x) for x in bestx])\n",
    "bestx = bestx / np.sum(bestx)\n",
    "\n",
    "Opt = model.getObjVal()"
   ]
  },
  {
   "cell_type": "code",
   "execution_count": 9,
   "id": "7de127c7",
   "metadata": {},
   "outputs": [
    {
     "data": {
      "image/png": "[encoded data removed]",
      "text/plain": [
       "<Figure size 432x288 with 1 Axes>"
      ]
     },
     "metadata": {
      "needs_background": "light"
     },
     "output_type": "display_data"
    }
   ],
   "source": [
    "import matplotlib.pyplot as plt\n",
    "\n",
    "bestreward = Opt * np.ones(T)\n",
    "plt.figure()\n",
    "plt.plot(range(1, T + 1), np.cumsum(reward_thompson_fixed), label=\"ThompsonAgent_Fixed_Beta\")\n",
    "plt.plot(range(1, T + 1), np.cumsum(reward_thompson_MH), label=\"ThompsonAgent_Fixed_MH\")\n",
    "plt.plot(range(1, T + 1), np.cumsum(rewarduniform), label=\"Uniform\")\n",
    "plt.plot(range(1, T + 1), np.cumsum(bestreward), label=\"Best\")\n",
    "plt.xlabel(\"index of round\")\n",
    "plt.ylabel(\"total reward\")\n",
    "plt.legend()\n",
    "plt.show()"
   ]
  },
  {
   "cell_type": "code",
   "execution_count": null,
   "id": "0a7be160",
   "metadata": {},
   "outputs": [],
   "source": []
  }
 ],
 "metadata": {
  "kernelspec": {
   "display_name": "Python 3",
   "language": "python",
   "name": "python3"
  },
  "language_info": {
   "codemirror_mode": {
    "name": "ipython",
    "version": 3
   },
   "file_extension": ".py",
   "mimetype": "text/x-python",
   "name": "python",
   "nbconvert_exporter": "python",
   "pygments_lexer": "ipython3",
   "version": "3.8.8"
  }
 },
 "nbformat": 4,
 "nbformat_minor": 5
}
