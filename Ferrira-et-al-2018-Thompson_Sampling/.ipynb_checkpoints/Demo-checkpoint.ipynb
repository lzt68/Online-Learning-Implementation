{
 "cells": [
  {
   "cell_type": "markdown",
   "id": "2a5133b7",
   "metadata": {},
   "source": [
    "# Ferreira et.al. 2018\n",
    "Following is its notation and description\n",
    "\n",
    "|      Parameter       | description                                                  |\n",
    "| :------------------: | :----------------------------------------------------------- |\n",
    "|         $K$          | Total number of available price vectors                      |\n",
    "|         $N$          | Total number of products                                    |\n",
    "|         $M$          | Total number of kinds of resource                            |\n",
    "|         $T$          | Total number of periods                                      |\n",
    "|        $[x]$         | We define $[x]$ as a set, $[x]=\\{1,2,\\cdots, x\\}$            |\n",
    "|         $i$          | Index of products                                            |\n",
    "|         $j$          | Index of resources                                           |\n",
    "|         $t$          | Index of period                                              |\n",
    "|     $I_j,I_j(t)$     | $I_j$ is the initial inventory for each resource $j\\in [M]$, $I_j(t)$ is the inventory at the end of period $t$. $I_j(0)=I_j$ |\n",
    "|       $a_{ij}$       | When we produced one unit item $i$, it would consume $a_{ij}$ unit $j$ |\n",
    "|        $c_j$         | we define $c_j=\\frac{I_j}{t}$                                |\n",
    "|        $p_k$         | We define $\\{p_1,p_2,\\cdots,p_K\\}$ as the admissible price vectors, each $p_k$ is a $N\\times 1$ vector, specifying the price of each product, $p_k=(p_{1k},\\cdots,p_{Nk})$, where $p_{ik}$ is the price of product $i$, for $i\\in [N]$. We define $p_{\\infty}$ as a \"shut-off\" price, such that the demand for any product under this price is zero. |\n",
    "|        $P(t)$        | We denote by $P(t)=(P_1(t),\\cdots,P_N(t))$ the prices chosen by the retailer in this period, and require that $P(t)\\in \\{p_1,p_2,\\cdots,p_K,p_{\\infty}\\}$ |\n",
    "|        $D(t)$        | We denote by $D(t) = (D_1(t),\\cdots,D_N(t))$ the demand of each product at period $t$. We assume that given $P(t)=p_k$, the demand $D(t)$ is sampled from a probability distribution on $\\mathbb{R}^{N}_+$ with joint cumulative distribution function (CDF) $F (x_1,\\cdots,x_N, pk, \\theta )$. $D(t)$ is independent of the history $\\mathcal{H}_{t-1}$, given $P(t)$ |\n",
    "|       $\\theta$       | $\\theta$ is the parameter of demand distribution, takes values in the parameter space $\\Theta\\subset\\mathbb{R}^l$. The nature would sample $\\theta$ from a prior distribution at the beginning form the process. The distribution is assumed to be subexponential; |\n",
    "|  $\\mathcal{H}_{t }$  | $\\mathcal{H}_{t}=(P(1),D(1),\\cdots,P(t),D(t))$               |\n",
    "|       $\\xi(t)$       | At the beginning of each period $t\\in[T]$, the retailer observes some context $\\xi(t)$, $\\xi(t)$ belongs to some discrete set $\\mathcal{X}$. We assume $\\xi(t)$ is sampled i.i.d from a known distribution. |\n",
    " | $d_{ik}(\\xi|\\theta)$ | The mean demand of product $i\\in [N]$ under price vector $p_k$, $\\forall k\\in[K]$, given context $\\xi$ and parameter $\\theta$ |\n"
   ]
  },
  {
   "cell_type": "markdown",
   "id": "bdb78e89",
   "metadata": {
    "heading_collapsed": true
   },
   "source": [
    "## 1 st algorithm\n",
    "\n",
    "We implement the 4th algorithm of Ferreira et.al. 2018\n",
    "\n",
    "<img src=\"./Figure/Algorithem_1_of_Ferreira_et_al_2018.png\" style=\"zoom:80%\" />\n",
    "\n",
    "The most challenging part of implementing this algorithm is how to sample $\\theta$ from the posterior distribution. Here we assume the prior distribution of theta is Uniform(0, 1), and the demand follows Bernoulli Distribution. Then we can implement the algorithm with following two ways\n",
    "\n",
    "1. Derive the explicit distribution of posterior distribution <br>\n",
    "    For each $k\\in [K], i\\in [N]$, the poseterior density function of $\\Theta_{k,i}$ is \n",
    "    $$\n",
    "    \\begin{align}\n",
    "    f(\\theta_{k,i} | (p^{(t_1)}_{k},d^{(t_1)}_k),\\cdots, (p^{(t_\\tau)}_{k},d^{(t_\\tau)}_k)) \n",
    "    & = \\frac{Pr(d^{(t_1)}_k,\\cdots, ,d^{(t_\\tau)}_k \\ | \\ \\theta_{k,i}) * 1}{\\int_{0}^{1}Pr(d^{(t_1)}_k,\\cdots, ,d^{(t_\\tau)}_k \\ | \\ \\theta)*1d\\theta}\\\\\n",
    "    &=\\frac{\\prod_{j=1}^\\tau Pr(d^{(t_j)}_k| \\ \\theta_{k,i}) * 1}{\\int_{0}^{1}\\prod_{j=1}^\\tau Pr(d^{(t_j)}_k| \\ \\theta)*1d\\theta}\\\\\n",
    "    &=\\frac{\\theta_{k,i}^{\\sum_{j=1}^\\tau d^{(t_j)}_k} (1-\\theta_{k,i})^{\\tau-\\sum_{j=1}^\\tau d^{(t_j)}_k}}{\\int_{0}^{1}\\theta^{\\sum_{j=1}^\\tau d^{(t_j)}_k} (1-\\theta)^{\\tau-\\sum_{j=1}^\\tau d^{(t_j)}_k}d\\theta}\\\\\n",
    "    &=beta(\\sum_{j=1}^\\tau d^{(t_j)}_k, \\tau-\\sum_{j=1}^\\tau d^{(t_j)}_k)\n",
    "    \\end{align}\n",
    "    $$<br>\n",
    "    Reminds $d^{(i)}_j$ is the demand of $j^{th}$ product in $i^{th}$ period<br>\n",
    "    Thus we can sample $\\theta$ from existing python packages(numpy, scipy.stat) which implement the Beta Distribution.<br>\n",
    "    <br>\n",
    "    Similarly, the convenience will occur if we assume the theta follows normal while the demand following normal. We can also assume the theta follows exponential distribution while the demand following Poisson. In this case, the posterior of $\\theta$ is Gamma distribution. <br>\n",
    "    \n",
    "    **But this is not a general solution.** The posterior distribution might not always show up as an well known distribution with existing pacakges to sample from it.\n",
    "    \n",
    "    \n",
    "    \n",
    "2. Use Metropolitan-Hastings Algorithm to sample value\n",
    "    The details of Metropolitan-Hastings Algorithm can be found in Sawyer_The Metropolitan-Hastings Algorithm and Extensions.pdf<br>\n",
    "    Metropolitan-Hastings Algorithm allows us to sample random variables from a distribution whose prob density function is $c g(x)$.<br> \n",
    "    If we can calculate the exact value of $g(x)$, we can conduct this algorithm without knowing $c$. <br>\n",
    "    \n",
    "    In our setting, $c$ can be seen as the denominator of the Bayesian Formula, which often shows up as an untractable integral, while $g(x)$ is the nominator which often has the explicit formula.<br>\n",
    "    The weakness of this algorithm is it might be time-consuming due to its \"warm up\" phase. This problem might become more serious when the dimension of $\\theta$ increase.\n",
    "    \n",
    "    \n",
    "Following is my demo showing how to use my implementation of above two algorithms to conduct numeric experiments."
   ]
  },
  {
   "cell_type": "code",
   "execution_count": 1,
   "id": "cf61fa01",
   "metadata": {
    "hidden": true
   },
   "outputs": [],
   "source": [
    "%reset -f\n",
    "import numpy as np\n",
    "import pandas as pd\n",
    "import datetime\n",
    "from tqdm import tqdm\n",
    "from Source.agent import ThompsonAgent_Fixed_Beta, ThompsonAgent_Fixed_MH, UniformAgent\n",
    "from Source.env import Environment_Bernoulli"
   ]
  },
  {
   "cell_type": "code",
   "execution_count": 2,
   "id": "d5cc97c6",
   "metadata": {
    "code_folding": [
     0
    ],
    "hidden": true
   },
   "outputs": [],
   "source": [
    "# Generate parameters\n",
    "np.random.seed(12345)\n",
    "\n",
    "# the maximum value of np.random.randint(low, high) would be high - 1\n",
    "# K = np.random.randint(low = 2, high = 10) # Total number of available price vectors, \n",
    "# N = np.random.randint(low = 2, high = 10) # Total number of products\n",
    "# M = np.random.randint(low = 2, high = 10) # Total number of kinds of resource\n",
    "# T = 1000 # Total number of periods\n",
    "K = 4 # Total number of available price vectors, \n",
    "N = 1 # Total number of products\n",
    "M = 2 # Total number of resource\n",
    "T = 1000 # Total number of periods\n",
    "\n",
    "# each row represent an admissible pricing strategy\n",
    "P_list = np.float64(np.random.randint(low = 1, high = 10, size = (K, N)))\n",
    "\n",
    "# initialize inventory\n",
    "# c is the limitation of resources in each round\n",
    "c = np.random.randint(low = 10, high = 15, size = M)\n",
    "I_0 = c * T\n",
    "\n",
    "# initialize a_ij\n",
    "# A is the cost of each product\n",
    "A = np.float64(np.random.randint(low = 10, high = 15, size = (N,M)))\n",
    "\n",
    "# initialize real parameter theta\n",
    "theta = np.random.beta(a = 2, b = 1, size = (K,N))"
   ]
  },
  {
   "cell_type": "code",
   "execution_count": 3,
   "id": "b1220680",
   "metadata": {
    "code_folding": [
     0
    ],
    "collapsed": true,
    "hidden": true
   },
   "outputs": [
    {
     "name": "stderr",
     "output_type": "stream",
     "text": [
      "100%|█████████████████████████████████████████████████████████████████████████████| 1000/1000 [00:04<00:00, 229.50it/s]\n",
      " 20%|███████████████▍                                                               | 195/1000 [02:25<10:06,  1.33it/s]E:\\工作事务\\个人工作\\学术研究\\Online-Learning-Implementation\\Ferrira-et-al-2018-Thompson_Sampling\\Source\\agent.py:367: RuntimeWarning: overflow encountered in power\n",
      "  density *= np.prod(x ** self.H_alpha[self.t - 1, kk, :]) * np.prod((1.0 - x) ** self.H_beta[self.t - 1, kk, :])\n",
      "E:\\工作事务\\个人工作\\学术研究\\Online-Learning-Implementation\\Ferrira-et-al-2018-Thompson_Sampling\\Source\\agent.py:367: RuntimeWarning: invalid value encountered in double_scalars\n",
      "  density *= np.prod(x ** self.H_alpha[self.t - 1, kk, :]) * np.prod((1.0 - x) ** self.H_beta[self.t - 1, kk, :])\n",
      "E:\\工作事务\\个人工作\\学术研究\\Online-Learning-Implementation\\Ferrira-et-al-2018-Thompson_Sampling\\Source\\agent.py:367: RuntimeWarning: overflow encountered in double_scalars\n",
      "  density *= np.prod(x ** self.H_alpha[self.t - 1, kk, :]) * np.prod((1.0 - x) ** self.H_beta[self.t - 1, kk, :])\n",
      "100%|██████████████████████████████████████████████████████████████████████████████| 1000/1000 [12:31<00:00,  1.33it/s]\n",
      "100%|███████████████████████████████████████████████████████████████████████████| 1000/1000 [00:00<00:00, 11390.72it/s]\n"
     ]
    },
    {
     "name": "stdout",
     "output_type": "stream",
     "text": [
      "experiment 0 done\n"
     ]
    },
    {
     "name": "stderr",
     "output_type": "stream",
     "text": [
      "100%|█████████████████████████████████████████████████████████████████████████████| 1000/1000 [00:03<00:00, 257.76it/s]\n",
      "100%|██████████████████████████████████████████████████████████████████████████████| 1000/1000 [12:25<00:00,  1.34it/s]\n",
      "100%|███████████████████████████████████████████████████████████████████████████| 1000/1000 [00:00<00:00, 11521.52it/s]\n"
     ]
    },
    {
     "name": "stdout",
     "output_type": "stream",
     "text": [
      "experiment 1 done\n"
     ]
    },
    {
     "name": "stderr",
     "output_type": "stream",
     "text": [
      "100%|█████████████████████████████████████████████████████████████████████████████| 1000/1000 [00:03<00:00, 252.31it/s]\n",
      "100%|██████████████████████████████████████████████████████████████████████████████| 1000/1000 [12:40<00:00,  1.32it/s]\n",
      "100%|███████████████████████████████████████████████████████████████████████████| 1000/1000 [00:00<00:00, 12374.59it/s]\n"
     ]
    },
    {
     "name": "stdout",
     "output_type": "stream",
     "text": [
      "experiment 2 done\n"
     ]
    },
    {
     "name": "stderr",
     "output_type": "stream",
     "text": [
      "100%|█████████████████████████████████████████████████████████████████████████████| 1000/1000 [00:03<00:00, 257.82it/s]\n",
      "100%|██████████████████████████████████████████████████████████████████████████████| 1000/1000 [12:28<00:00,  1.34it/s]\n",
      "100%|███████████████████████████████████████████████████████████████████████████| 1000/1000 [00:00<00:00, 12223.87it/s]\n"
     ]
    },
    {
     "name": "stdout",
     "output_type": "stream",
     "text": [
      "experiment 3 done\n"
     ]
    },
    {
     "name": "stderr",
     "output_type": "stream",
     "text": [
      "100%|█████████████████████████████████████████████████████████████████████████████| 1000/1000 [00:03<00:00, 255.07it/s]\n",
      "100%|██████████████████████████████████████████████████████████████████████████████| 1000/1000 [12:31<00:00,  1.33it/s]\n",
      "100%|███████████████████████████████████████████████████████████████████████████| 1000/1000 [00:00<00:00, 12690.78it/s]\n"
     ]
    },
    {
     "name": "stdout",
     "output_type": "stream",
     "text": [
      "experiment 4 done\n"
     ]
    }
   ],
   "source": [
    "# conduct experiments\n",
    "import time\n",
    "\n",
    "exp_num = 5\n",
    "\n",
    "reward_thompson_fixed = np.zeros(shape = (exp_num, T))\n",
    "reward_thompson_MH = np.zeros(shape = (exp_num, T))\n",
    "rewarduniform = np.zeros(shape = (exp_num, T))\n",
    "\n",
    "for exp_index in range(exp_num):\n",
    "    agent = ThompsonAgent_Fixed_Beta(K, N, M, T, P_list, A, I_0, random_seed=exp_index)\n",
    "    env = Environment_Bernoulli(theta, K, N, random_seed=exp_index)\n",
    "    for t in tqdm(range(1, T+1)):\n",
    "        price_offered_index = agent.action()\n",
    "        demand = env.response(price_offered_index)\n",
    "        agent.update(demand)\n",
    "    reward_thompson_fixed[exp_index, :] = agent.H_reward\n",
    "    \n",
    "    agent = ThompsonAgent_Fixed_MH(K, N, M, T, P_list, A, I_0, random_seed=exp_index, MH_N=1000)\n",
    "    env = Environment_Bernoulli(theta, K, N, random_seed=exp_index)\n",
    "    for t in tqdm(range(1, T+1)):\n",
    "        price_offered_index = agent.action()\n",
    "        demand = env.response(price_offered_index)\n",
    "        agent.update(demand)\n",
    "    reward_thompson_MH[exp_index, :] = agent.H_reward\n",
    "        \n",
    "    agent = UniformAgent(K, N, M, T, P_list, A, I_0, random_seed=exp_index)\n",
    "    env = Environment_Bernoulli(theta, K, N, random_seed=exp_index)\n",
    "    for t in tqdm(range(1, T+1)):\n",
    "        price_offered_index = agent.action()\n",
    "        demand = env.response(price_offered_index)\n",
    "        agent.update(demand)\n",
    "    rewarduniform[exp_index, :] = agent.H_reward\n",
    "    \n",
    "    print(f\"experiment {exp_index} done\")\n",
    "    time.sleep(1) # pause the programme to output information\n",
    "\n",
    "reward_thompson_fixed = np.mean(reward_thompson_fixed, axis = 0)\n",
    "reward_thompson_MH = np.mean(reward_thompson_MH, axis = 0)\n",
    "rewarduniform = np.mean(rewarduniform, axis = 0)"
   ]
  },
  {
   "cell_type": "code",
   "execution_count": 4,
   "id": "9ae7b0b8",
   "metadata": {
    "code_folding": [
     0
    ],
    "hidden": true
   },
   "outputs": [],
   "source": [
    "# calculate the benchmark\n",
    "from scipy.optimize import linprog\n",
    "\n",
    "# generate coefficient of object function\n",
    "obj_c = -np.sum(P_list * theta, axis=1)\n",
    "\n",
    "# generate coefficient matrix of the constraints\n",
    "Aub = np.zeros((M + 1, K))\n",
    "Aub[: M, :] = (theta @ A).T  # demand @ self.A is a K*M matrix, each row represents the consumption of each resource\n",
    "Aub[M, :] = np.ones(K)\n",
    "bub = np.zeros(M + 1)\n",
    "bub[: M] = c\n",
    "bub[M] = 1\n",
    "\n",
    "# solve the problem\n",
    "result = linprog(c=obj_c, A_ub=Aub, b_ub=bub)\n",
    "\n",
    "# unzip the result\n",
    "Opt = -result.fun"
   ]
  },
  {
   "cell_type": "code",
   "execution_count": 15,
   "id": "330de173",
   "metadata": {
    "code_folding": [
     0
    ],
    "hidden": true
   },
   "outputs": [
    {
     "data": {
      "image/png": "[encoded data removed]",
      "text/plain": [
       "<Figure size 432x288 with 1 Axes>"
      ]
     },
     "metadata": {
      "needs_background": "light"
     },
     "output_type": "display_data"
    }
   ],
   "source": [
    "# plot the cumulative reward\n",
    "import matplotlib.pyplot as plt\n",
    "\n",
    "bestreward = Opt * np.ones(T)\n",
    "plt.figure()\n",
    "index = np.arange(1, T)\n",
    "\n",
    "plt.plot(index, np.cumsum(reward_thompson_fixed)[index], label=\"ThompsonAgent_Fixed_Beta\")\n",
    "plt.plot(index, np.cumsum(reward_thompson_MH)[index], label=\"ThompsonAgent_Fixed_MH\")\n",
    "plt.plot(index, np.cumsum(rewarduniform)[index], label=\"Uniform\")\n",
    "plt.plot(index, np.cumsum(bestreward)[index], label=\"Best\")\n",
    "plt.xlabel(\"index of round\")\n",
    "plt.ylabel(\"total reward\")\n",
    "plt.legend()\n",
    "plt.show()"
   ]
  },
  {
   "cell_type": "code",
   "execution_count": 18,
   "id": "8ebf21ed",
   "metadata": {
    "code_folding": [
     0
    ],
    "hidden": true
   },
   "outputs": [
    {
     "data": {
      "image/png": "[encoded data removed]",
      "text/plain": [
       "<Figure size 432x288 with 1 Axes>"
      ]
     },
     "metadata": {
      "needs_background": "light"
     },
     "output_type": "display_data"
    }
   ],
   "source": [
    "# plot the cumulative reward\n",
    "import matplotlib.pyplot as plt\n",
    "\n",
    "bestreward = Opt * np.ones(T)\n",
    "plt.figure()\n",
    "index = np.arange(T-10, T)\n",
    "\n",
    "plt.plot(index, np.cumsum(reward_thompson_fixed)[index], label=\"ThompsonAgent_Fixed_Beta\")\n",
    "plt.plot(index, np.cumsum(reward_thompson_MH)[index], label=\"ThompsonAgent_Fixed_MH\")\n",
    "# plt.plot(index, np.cumsum(rewarduniform)[index], label=\"Uniform\")\n",
    "plt.plot(index, np.cumsum(bestreward)[index], label=\"Best\")\n",
    "plt.xlabel(\"index of round\")\n",
    "plt.ylabel(\"total reward\")\n",
    "plt.legend()\n",
    "plt.show()"
   ]
  },
  {
   "cell_type": "markdown",
   "id": "e3eda794",
   "metadata": {},
   "source": [
    "## 2 nd algorithm\n",
    "\n",
    "We implement the 4th algorithm of Ferreira et.al. 2018\n",
    "\n",
    "<img src=\"./Figure/Algorithem_2_of_Ferreira_et_al_2018.png\" style=\"zoom:80%\" />\n",
    "\n",
    "$c_j(t) = \\frac{I_j(t-1)}{T-t+1}$"
   ]
  },
  {
   "cell_type": "code",
   "execution_count": 1,
   "id": "62a86a15",
   "metadata": {},
   "outputs": [],
   "source": [
    "# import packages\n",
    "%reset -f\n",
    "import numpy as np\n",
    "import pandas as pd\n",
    "import datetime\n",
    "from tqdm import tqdm\n",
    "from Source.agent import ThompsonAgent_Update_Beta, ThompsonAgent_Update_MH, UniformAgent\n",
    "from Source.env import Environment_Bernoulli"
   ]
  },
  {
   "cell_type": "code",
   "execution_count": 2,
   "id": "2febb011",
   "metadata": {
    "code_folding": [
     0
    ]
   },
   "outputs": [],
   "source": [
    "# Generate parameters\n",
    "np.random.seed(12345)\n",
    "\n",
    "# the maximum value of np.random.randint(low, high) would be high - 1\n",
    "K = 4 # Total number of available price vectors, \n",
    "N = 1 # Total number of products\n",
    "M = 2 # Total number of resource\n",
    "T = 1000 # Total number of periods\n",
    "\n",
    "# each row represent an admissible pricing strategy\n",
    "P_list = np.float64(np.random.randint(low = 1, high = 10, size = (K, N)))\n",
    "\n",
    "# initialize inventory\n",
    "# c is the limitation of resources in each round\n",
    "c = np.random.randint(low = 10, high = 15, size = M)\n",
    "I_0 = c * T\n",
    "\n",
    "# initialize a_ij\n",
    "# A is the cost of each product\n",
    "A = np.float64(np.random.randint(low = 10, high = 15, size = (N,M)))\n",
    "\n",
    "# initialize real parameter theta\n",
    "theta = np.random.beta(a = 2, b = 1, size = (K,N))"
   ]
  },
  {
   "cell_type": "code",
   "execution_count": 3,
   "id": "bb9351a8",
   "metadata": {
    "code_folding": [
     0
    ]
   },
   "outputs": [
    {
     "name": "stderr",
     "output_type": "stream",
     "text": [
      "100%|█████████████████████████████████████████████████████████████████████████████| 1000/1000 [00:04<00:00, 244.14it/s]\n",
      " 20%|███████████████▍                                                               | 195/1000 [02:25<10:06,  1.33it/s]E:\\工作事务\\个人工作\\学术研究\\Online-Learning-Implementation\\Ferrira-et-al-2018-Thompson_Sampling\\Source\\agent.py:788: RuntimeWarning: overflow encountered in power\n",
      "  density *= np.prod(x ** self.H_alpha[self.t - 1, kk, :]) * np.prod((1.0 - x) ** self.H_beta[self.t - 1, kk, :])\n",
      "E:\\工作事务\\个人工作\\学术研究\\Online-Learning-Implementation\\Ferrira-et-al-2018-Thompson_Sampling\\Source\\agent.py:788: RuntimeWarning: invalid value encountered in double_scalars\n",
      "  density *= np.prod(x ** self.H_alpha[self.t - 1, kk, :]) * np.prod((1.0 - x) ** self.H_beta[self.t - 1, kk, :])\n",
      "E:\\工作事务\\个人工作\\学术研究\\Online-Learning-Implementation\\Ferrira-et-al-2018-Thompson_Sampling\\Source\\agent.py:788: RuntimeWarning: overflow encountered in double_scalars\n",
      "  density *= np.prod(x ** self.H_alpha[self.t - 1, kk, :]) * np.prod((1.0 - x) ** self.H_beta[self.t - 1, kk, :])\n",
      "100%|██████████████████████████████████████████████████████████████████████████████| 1000/1000 [12:30<00:00,  1.33it/s]\n",
      "100%|███████████████████████████████████████████████████████████████████████████| 1000/1000 [00:00<00:00, 11525.12it/s]\n"
     ]
    },
    {
     "name": "stdout",
     "output_type": "stream",
     "text": [
      "experiment 0 done\n"
     ]
    },
    {
     "name": "stderr",
     "output_type": "stream",
     "text": [
      "100%|█████████████████████████████████████████████████████████████████████████████| 1000/1000 [00:03<00:00, 270.33it/s]\n",
      "100%|██████████████████████████████████████████████████████████████████████████████| 1000/1000 [12:31<00:00,  1.33it/s]\n",
      "100%|███████████████████████████████████████████████████████████████████████████| 1000/1000 [00:00<00:00, 11800.12it/s]\n"
     ]
    },
    {
     "name": "stdout",
     "output_type": "stream",
     "text": [
      "experiment 1 done\n"
     ]
    },
    {
     "name": "stderr",
     "output_type": "stream",
     "text": [
      "100%|█████████████████████████████████████████████████████████████████████████████| 1000/1000 [00:03<00:00, 264.07it/s]\n",
      "100%|██████████████████████████████████████████████████████████████████████████████| 1000/1000 [12:32<00:00,  1.33it/s]\n",
      "100%|███████████████████████████████████████████████████████████████████████████| 1000/1000 [00:00<00:00, 11521.55it/s]\n"
     ]
    },
    {
     "name": "stdout",
     "output_type": "stream",
     "text": [
      "experiment 2 done\n"
     ]
    },
    {
     "name": "stderr",
     "output_type": "stream",
     "text": [
      "100%|█████████████████████████████████████████████████████████████████████████████| 1000/1000 [00:03<00:00, 264.77it/s]\n",
      "100%|██████████████████████████████████████████████████████████████████████████████| 1000/1000 [12:40<00:00,  1.31it/s]\n",
      "100%|████████████████████████████████████████████████████████████████████████████| 1000/1000 [00:00<00:00, 3580.99it/s]\n"
     ]
    },
    {
     "name": "stdout",
     "output_type": "stream",
     "text": [
      "experiment 3 done\n"
     ]
    },
    {
     "name": "stderr",
     "output_type": "stream",
     "text": [
      "100%|█████████████████████████████████████████████████████████████████████████████| 1000/1000 [00:04<00:00, 233.34it/s]\n",
      "100%|██████████████████████████████████████████████████████████████████████████████| 1000/1000 [13:59<00:00,  1.19it/s]\n",
      "100%|███████████████████████████████████████████████████████████████████████████| 1000/1000 [00:00<00:00, 12532.24it/s]\n"
     ]
    },
    {
     "name": "stdout",
     "output_type": "stream",
     "text": [
      "experiment 4 done\n"
     ]
    }
   ],
   "source": [
    "# conduct experiments\n",
    "import time\n",
    "\n",
    "exp_num = 5\n",
    "\n",
    "reward_thompson_fixed = np.zeros(shape = (exp_num, T))\n",
    "reward_thompson_MH = np.zeros(shape = (exp_num, T))\n",
    "rewarduniform = np.zeros(shape = (exp_num, T))\n",
    "\n",
    "for exp_index in range(exp_num):\n",
    "    agent = ThompsonAgent_Update_Beta(K, N, M, T, P_list, A, I_0, random_seed=exp_index)\n",
    "    env = Environment_Bernoulli(theta, K, N, random_seed=exp_index)\n",
    "    for t in tqdm(range(1, T+1)):\n",
    "        price_offered_index = agent.action()\n",
    "        demand = env.response(price_offered_index)\n",
    "        agent.update(demand)\n",
    "    reward_thompson_fixed[exp_index, :] = agent.H_reward\n",
    "    \n",
    "    agent = ThompsonAgent_Update_MH(K, N, M, T, P_list, A, I_0, random_seed=exp_index, MH_N=1000)\n",
    "    env = Environment_Bernoulli(theta, K, N, random_seed=exp_index)\n",
    "    for t in tqdm(range(1, T+1)):\n",
    "        price_offered_index = agent.action()\n",
    "        demand = env.response(price_offered_index)\n",
    "        agent.update(demand)\n",
    "    reward_thompson_MH[exp_index, :] = agent.H_reward\n",
    "        \n",
    "    agent = UniformAgent(K, N, M, T, P_list, A, I_0, random_seed=exp_index)\n",
    "    env = Environment_Bernoulli(theta, K, N, random_seed=exp_index)\n",
    "    for t in tqdm(range(1, T+1)):\n",
    "        price_offered_index = agent.action()\n",
    "        demand = env.response(price_offered_index)\n",
    "        agent.update(demand)\n",
    "    rewarduniform[exp_index, :] = agent.H_reward\n",
    "    \n",
    "    print(f\"experiment {exp_index} done\")\n",
    "    time.sleep(1) # pause the programme to output information\n",
    "\n",
    "reward_thompson_fixed = np.mean(reward_thompson_fixed, axis = 0)\n",
    "reward_thompson_MH = np.mean(reward_thompson_MH, axis = 0)\n",
    "rewarduniform = np.mean(rewarduniform, axis = 0)"
   ]
  },
  {
   "cell_type": "code",
   "execution_count": 4,
   "id": "f72e5594",
   "metadata": {
    "code_folding": [
     0
    ]
   },
   "outputs": [],
   "source": [
    "# calculate the benchmark\n",
    "from scipy.optimize import linprog\n",
    "\n",
    "# generate coefficient of object function\n",
    "obj_c = -np.sum(P_list * theta, axis=1)\n",
    "\n",
    "# generate coefficient matrix of the constraints\n",
    "Aub = np.zeros((M + 1, K))\n",
    "Aub[: M, :] = (theta @ A).T  # demand @ self.A is a K*M matrix, each row represents the consumption of each resource\n",
    "Aub[M, :] = np.ones(K)\n",
    "bub = np.zeros(M + 1)\n",
    "bub[: M] = c\n",
    "bub[M] = 1\n",
    "\n",
    "# solve the problem\n",
    "result = linprog(c=obj_c, A_ub=Aub, b_ub=bub)\n",
    "\n",
    "# unzip the result\n",
    "Opt = -result.fun"
   ]
  },
  {
   "cell_type": "code",
   "execution_count": 5,
   "id": "64629aef",
   "metadata": {
    "code_folding": []
   },
   "outputs": [
    {
     "data": {
      "image/png": "[encoded data removed]",
      "text/plain": [
       "<Figure size 432x288 with 1 Axes>"
      ]
     },
     "metadata": {
      "needs_background": "light"
     },
     "output_type": "display_data"
    }
   ],
   "source": [
    "# plot the cumulative reward\n",
    "import matplotlib.pyplot as plt\n",
    "\n",
    "bestreward = Opt * np.ones(T)\n",
    "plt.figure()\n",
    "index = np.arange(1, T)\n",
    "\n",
    "plt.plot(index, np.cumsum(reward_thompson_fixed)[index], label=\"ThompsonAgent_Update_Beta\")\n",
    "plt.plot(index, np.cumsum(reward_thompson_MH)[index], label=\"ThompsonAgent_Update_MH\")\n",
    "plt.plot(index, np.cumsum(rewarduniform)[index], label=\"Uniform\")\n",
    "plt.plot(index, np.cumsum(bestreward)[index], label=\"Best\")\n",
    "plt.xlabel(\"index of round\")\n",
    "plt.ylabel(\"total reward\")\n",
    "plt.legend()\n",
    "plt.show()"
   ]
  },
  {
   "cell_type": "code",
   "execution_count": 6,
   "id": "8025a050",
   "metadata": {
    "code_folding": []
   },
   "outputs": [
    {
     "data": {
      "image/png": "[encoded data removed]",
      "text/plain": [
       "<Figure size 432x288 with 1 Axes>"
      ]
     },
     "metadata": {
      "needs_background": "light"
     },
     "output_type": "display_data"
    }
   ],
   "source": [
    "# plot the cumulative reward\n",
    "import matplotlib.pyplot as plt\n",
    "\n",
    "bestreward = Opt * np.ones(T)\n",
    "plt.figure()\n",
    "index = np.arange(T-10, T)\n",
    "\n",
    "plt.plot(index, np.cumsum(reward_thompson_fixed)[index], label=\"ThompsonAgent_Update_Beta\")\n",
    "plt.plot(index, np.cumsum(reward_thompson_MH)[index], label=\"ThompsonAgent_Update_MH\")\n",
    "# plt.plot(index, np.cumsum(rewarduniform)[index], label=\"Uniform\")\n",
    "plt.plot(index, np.cumsum(bestreward)[index], label=\"Best\")\n",
    "plt.xlabel(\"index of round\")\n",
    "plt.ylabel(\"total reward\")\n",
    "plt.legend()\n",
    "plt.show()"
   ]
  }
 ],
 "metadata": {
  "kernelspec": {
   "display_name": "Python 3",
   "language": "python",
   "name": "python3"
  },
  "language_info": {
   "codemirror_mode": {
    "name": "ipython",
    "version": 3
   },
   "file_extension": ".py",
   "mimetype": "text/x-python",
   "name": "python",
   "nbconvert_exporter": "python",
   "pygments_lexer": "ipython3",
   "version": "3.8.8"
  }
 },
 "nbformat": 4,
 "nbformat_minor": 5
}
