{
 "cells": [
  {
   "cell_type": "markdown",
   "id": "b18b8f39",
   "metadata": {},
   "source": [
    "# Ferreira et.al. 2018\n",
    "Following is its notation and description\n",
    "\n",
    "|      Parameter       | description                                                  |\n",
    "| :------------------: | :----------------------------------------------------------- |\n",
    "|         $K$          | Total number of available price vectors                      |\n",
    "|         $N$          | Total number of products                                    |\n",
    "|         $M$          | Total number of kinds of resource                            |\n",
    "|         $T$          | Total number of periods                                      |\n",
    "|        $[x]$         | We define $[x]$ as a set, $[x]=\\{1,2,\\cdots, x\\}$            |\n",
    "|         $i$          | Index of products                                            |\n",
    "|         $j$          | Index of resources                                           |\n",
    "|         $t$          | Index of period                                              |\n",
    "|     $I_j,I_j(t)$     | $I_j$ is the initial inventory for each resource $j\\in [M]$, $I_j(t)$ is the inventory at the end of period $t$. $I_j(0)=I_j$ |\n",
    "|       $a_{ij}$       | When we produced one unit item $i$, it would consume $a_{ij}$ unit $j$ |\n",
    "|        $c_j$         | we define $c_j=\\frac{I_j}{t}$                                |\n",
    "|        $p_k$         | We define $\\{p_1,p_2,\\cdots,p_K\\}$ as the admissible price vectors, each $p_k$ is a $N\\times 1$ vector, specifying the price of each product, $p_k=(p_{1k},\\cdots,p_{Nk})$, where $p_{ik}$ is the price of product $i$, for $i\\in [N]$. We define $p_{\\infty}$ as a \"shut-off\" price, such that the demand for any product under this price is zero. |\n",
    "|        $P(t)$        | We denote by $P(t)=(P_1(t),\\cdots,P_N(t))$ the prices chosen by the retailer in this period, and require that $P(t)\\in \\{p_1,p_2,\\cdots,p_K,p_{\\infty}\\}$ |\n",
    "|        $D(t)$        | We denote by $D(t) = (D_1(t),\\cdots,D_N(t))$ the demand of each product at period $t$. We assume that given $P(t)=p_k$, the demand $D(t)$ is sampled from a probability distribution on $\\mathbb{R}^{N}_+$ with joint cumulative distribution function (CDF) $F (x_1,\\cdots,x_N, pk, \\theta )$. $D(t)$ is independent of the history $\\mathcal{H}_{t-1}$, given $P(t)$ |\n",
    "|       $\\theta$       | $\\theta$ is the parameter of demand distribution, takes values in the parameter space $\\Theta\\subset\\mathbb{R}^l$. The nature would sample $\\theta$ from a prior distribution at the beginning form the process. The distribution is assumed to be subexponential; |\n",
    "|  $\\mathcal{H}_{t }$  | $\\mathcal{H}_{t}=(P(1),D(1),\\cdots,P(t),D(t))$               |\n",
    "|       $\\xi(t)$       | At the beginning of each period $t\\in[T]$, the retailer observes some context $\\xi(t)$, $\\xi(t)$ belongs to some discrete set $\\mathcal{X}$. We assume $\\xi(t)$ is sampled i.i.d from a known distribution. |\n",
    " | $d_{ik}(\\xi|\\theta)$ | The mean demand of product $i\\in [N]$ under price vector $p_k$, $\\forall k\\in[K]$, given context $\\xi$ and parameter $\\theta$ |\n"
   ]
  },
  {
   "cell_type": "markdown",
   "id": "89717344",
   "metadata": {},
   "source": [
    "## 1 st algorithm\n",
    "\n",
    "We implement the 4th algorithm of Ferreira et.al. 2018\n",
    "\n",
    "<img src=\"./Figure/Algorithem_1_of_Ferreira_et_al_2018.png\" style=\"zoom:80%\" />"
   ]
  },
  {
   "cell_type": "markdown",
   "id": "87a1342d",
   "metadata": {},
   "source": [
    "The most difficult task in the implementation of this algorithm is the update rule of posterior. In fact, for most of the prior distribution, it is nearly impossible to derive the explict expression of posterior distribution. Here, we would like to simplify this process.\n",
    "\n",
    "We generate K * N matrix from beta(1, 1), in other words, uniform distribution in $[0, 1]$. Each entry corresponds to a product in each pricing vector. We let $d_{k,i}$ denote the demand of $i^{th}$ product given $k^{th}$ pricing vector. We assume\n",
    "$$\n",
    "\\begin{align}\n",
    "Pr(d_{k,i} = 1) & = \\Theta_{k,i}\\\\\n",
    "Pr(d_{k,i} = 0) & = 1 - \\Theta_{k,i}\\\\\n",
    "\\end{align}\n",
    "$$\n",
    "\n",
    "In this case, it would be quite easy to update the posterior distribution. Assume we adopt $k^{th}$ price vector $p_k$ in period $t_1, t_2, \\cdots, t_\\tau$, \n",
    "\n",
    "For each $k\\in [K], i\\in [N]$, the poseterior density function of $\\Theta_{k,i}$ is \n",
    "$$\n",
    "\\begin{align}\n",
    "f(\\theta_{k,i} | (p^{(t_1)}_{k},d^{(t_1)}_k),\\cdots, (p^{(t_\\tau)}_{k},d^{(t_\\tau)}_k)) \n",
    "& = \\frac{Pr(d^{(t_1)}_k,\\cdots, ,d^{(t_\\tau)}_k \\ | \\ \\theta_{k,i}) * 1}{\\int_{0}^{1}Pr(d^{(t_1)}_k,\\cdots, ,d^{(t_\\tau)}_k \\ | \\ \\theta)*1d\\theta}\\\\\n",
    "&=\\frac{\\prod_{j=1}^\\tau Pr(d^{(t_j)}_k| \\ \\theta_{k,i}) * 1}{\\int_{0}^{1}\\prod_{j=1}^\\tau Pr(d^{(t_j)}_k| \\ \\theta)*1d\\theta}\\\\\n",
    "&=\\frac{\\theta_{k,i}^{\\sum_{j=1}^\\tau d^{(t_j)}_k} (1-\\theta_{k,i})^{\\tau-\\sum_{j=1}^\\tau d^{(t_j)}_k}}{\\int_{0}^{1}\\theta^{\\sum_{j=1}^\\tau d^{(t_j)}_k} (1-\\theta)^{\\tau-\\sum_{j=1}^\\tau d^{(t_j)}_k}d\\theta}\\\\\n",
    "&=beta(\\sum_{j=1}^\\tau d^{(t_j)}_k, \\tau-\\sum_{j=1}^\\tau d^{(t_j)}_k)\n",
    "\\end{align}\n",
    "$$\n",
    "\n",
    "$d^{(i)}_j$ is the demand of $j^{th}$ product in $i^{th}$ period\n",
    "\n",
    "Well, there are also tough problems. That is, there would be counter-intuitive random number. For example, **higher price lead to higher demand**. But anyway, I tried my best to find a suitable prior distribution, but I failed to do so. So I decided to just use this easier one."
   ]
  },
  {
   "cell_type": "code",
   "execution_count": 1,
   "id": "8435012b",
   "metadata": {},
   "outputs": [],
   "source": [
    "%reset -f\n",
    "import numpy as np\n",
    "import pandas as pd # we would restore our result in csv file .\\\\Result_Ferreira et.al. 2018 Algorithm 1\\\\\n",
    "import datetime\n",
    "\n",
    "import pyscipopt\n",
    "from pyscipopt import quicksum\n",
    "\n",
    "random_seed = 12345\n",
    "np.random.seed(random_seed)"
   ]
  },
  {
   "cell_type": "code",
   "execution_count": 2,
   "id": "d2fbdc91",
   "metadata": {
    "code_folding": []
   },
   "outputs": [],
   "source": [
    "# Generate parameters\n",
    "K = np.random.randint(low = 1, high = 5) # Total number of available price vectors\n",
    "N = np.random.randint(low = 1, high = 5) # Total number of products\n",
    "M = np.random.randint(low = 1, high = 5) # Total number of kinds of resource\n",
    "T = 1000 # Total number of periods\n",
    "\n",
    "# each row represent an admissible pricing strategy\n",
    "P_list = np.float64(np.random.randint(low = 1, high = 10, size = (K, N)))\n",
    "\n",
    "# initialize inventory\n",
    "I_0 = np.float64(np.random.randint(low = 9000, high = 11000, size = M))# 如果要改变T的话，这里也要对应改变\n",
    "# resource 应该和T有线性关系\n",
    "c = I_0 / T # c is the average cost of each resource\n",
    "\n",
    "# initialize a_ij\n",
    "A = np.float64(np.random.randint(low = 5, high = 15, size = (N,M)))\n",
    "\n",
    "# initialize real parameter theta\n",
    "theta = np.random.beta(a = 1, b = 1, size = (K,N))\n",
    "\n",
    "# initialize history\n",
    "H_P = np.zeros(shape = T) # the index of pricing vector we used in each period\n",
    "H_D = np.zeros(shape = (T, N)) # the demand of products in each period  \n",
    "\n",
    "H_I = np.zeros(shape = (T + 1, M)) # avaliable inventory in each period\n",
    "H_I[0, :] = np.float64(I_0)\n",
    "\n",
    "H_bestX = np.zeros(shape = (T, K + 1)) # the best solution in each optimization\n",
    "\n",
    "H_reward = np.zeros(T) # the reward in each period\n",
    "\n",
    "# each realization of price vector, index of period,\n",
    "# corresponds to a estimate of theta\n",
    "H_alpha = np.zeros(shape = (T + 1,K,N))\n",
    "H_beta = np.zeros(shape = (T + 1,K,N))\n",
    "H_alpha[0, :, :] = 1 * np.ones(shape = (K,N))\n",
    "H_beta[0, :, :] = 1 * np.ones(shape = (K,N))\n",
    "\n",
    "# initialize the constraint value in each round\n",
    "# M kinds of resources correspond to M constraints, and one more constraint is x1 + ... + xN <=1\n",
    "H_constraint_value = np.zeros(shape = (T, M + 1))\n",
    "\n",
    "# vectorize beta sample function to accelerate\n",
    "mybeta = np.vectorize(np.random.beta)\n",
    "H_theta = np.zeros(shape = (T,K,N))\n",
    "\n",
    "# vectorize binomial sample function to accelerate\n",
    "mybinomial = np.vectorize(np.random.binomial)"
   ]
  },
  {
   "cell_type": "code",
   "execution_count": 3,
   "id": "0d47dca1",
   "metadata": {
    "code_folding": [
     0
    ]
   },
   "outputs": [
    {
     "name": "stdout",
     "output_type": "stream",
     "text": [
      "Total reward of algorithm = 4279.000000\n"
     ]
    }
   ],
   "source": [
    "# implementation of algorithm 1\n",
    "for t in range(1, T+1):\n",
    "# for t in range(1, 2):\n",
    "    # first step, sample from posterior distribution\n",
    "    # H_alpha[t-1, :, :], H_beta[t-1, :, :] is the history data from 0 to t\n",
    "    # H_theta[t-1, :, :] is the sample theta we used in round t\n",
    "    H_theta[t-1, :, :] = mybeta(H_alpha[t-1, :, :], H_beta[t-1, :, :])\n",
    "\n",
    "    # first step, calculate the mean demand given sample theta\n",
    "    demand_mean = H_theta[t-1, :, :]\n",
    "\n",
    "    # second step, optimize a linear function\n",
    "    model = pyscipopt.Model(\"Optimization in Rount {:d}\".format(t))\n",
    "    # generate decision variable\n",
    "    x = {}\n",
    "    for xindex in range(1, K+1):\n",
    "        x[xindex] = model.addVar(vtype=\"C\", lb = 0, ub = 1, name=\"x{:d}\".format(xindex))\n",
    "\n",
    "    # second step, generate object function\n",
    "    obj_coefficient = np.sum(demand_mean *  P_list, axis = 1)# obj_coefficient[k] = $\\sum_{i=1}^N d_{i,k+1}(t)p_{i,k+1}$\n",
    "    model.setObjective(quicksum(x[xindex]*obj_coefficient[xindex-1] for xindex in range(1, K+1)), \"maximize\")\n",
    "    # objective = $\\sum_{k=1}^K(\\sum_{i=1}^N d_{i,k+1}(t)p_{i,k+1})x_{k}$\n",
    "\n",
    "    # second step, add constraint x_1+...+x_k<=1\n",
    "    constraint_index = {}\n",
    "    constraint_index[0] = model.addCons(quicksum(x[xindex] for xindex in range(1, K+1)) <= 1)\n",
    "\n",
    "    # second step, for each resources, we require \\sum_{k=1}^K\\sum_{i=1}^N d_{i,k}a_{i,j}x_l<=c_j\n",
    "    for jj in range(1, M+1):\n",
    "        # size(A) = [N, M], size(demand_mean) = [K, N]\n",
    "        con_coefficient = A[:, jj - 1].dot(np.transpose(demand_mean))# con_coefficient[k] = $\\sum_{i=1}^N a_{i,j}d_{i,k+1}$\n",
    "        constraint_index[jj] = model.addCons(quicksum(x[xindex] * con_coefficient[xindex - 1] for xindex in range(1, K+1)) <= c[jj - 1])\n",
    "\n",
    "    # second step, optimize the problem\n",
    "    model.optimize()\n",
    "    bestx = np.zeros(K+1) # p_{K+1} would force the demand be zero\n",
    "    for xindex in range(1,K+1):\n",
    "        bestx[xindex - 1] = model.getVal(x[xindex])\n",
    "    bestx[K] = 1 - np.sum(bestx[0:K])\n",
    "    eliminate_error = lambda x: 0 if np.abs(x) < 1e-10 else x #there would be numerical error in the best solution\n",
    "    bestx = np.array([eliminate_error(x) for x in bestx])\n",
    "    bestx = bestx / np.sum(bestx)\n",
    "    \n",
    "    # third step, offer price\n",
    "    price_offered_index = np.random.choice(np.arange(1, K + 2), p = bestx)\n",
    "\n",
    "    # fourth step, update estimate of parameter\n",
    "    H_P[t - 1] = price_offered_index # record the index of offered price\n",
    "    \n",
    "    # fourth step, record the constraint value in optimization\n",
    "    H_constraint_value[t - 1, 0] = np.sum(bestx[0:K])\n",
    "    for jj in range(1, M+1):\n",
    "        con_coefficient = np.array(list(model.getValsLinear(constraint_index[jj]).values()))\n",
    "        H_constraint_value[t - 1, jj] = np.sum(bestx[0:K] * con_coefficient)\n",
    "\n",
    "    # fourth step, record the optimal solution in this round\n",
    "    H_bestX[t - 1, :] = bestx\n",
    "\n",
    "    # fourth step, record the realization of demand\n",
    "    if price_offered_index < K + 1:\n",
    "        H_D[t - 1, :] = mybinomial(np.ones(N), theta[price_offered_index - 1, :]) # record the realization of demand\n",
    "    else: # the demand must be zero\n",
    "        H_D[t - 1, :] = np.zeros(N)\n",
    "\n",
    "    # fourth step, record the reward in this period\n",
    "    if price_offered_index < K + 1:\n",
    "        H_reward[t - 1] = P_list[price_offered_index - 1, :].dot(H_D[t - 1, :])  # record the realization of demand\n",
    "    else: # the demand must be zero\n",
    "        H_reward[t - 1] = 0\n",
    "\n",
    "    # fourth step, record the remain inventory, size(A) = [N, M]\n",
    "    H_I[t] = H_I[t - 1] - np.transpose(A).dot(H_D[t - 1, :])\n",
    "    if not all(H_I[t] >= 0):\n",
    "        break\n",
    "\n",
    "    # fourth step, record the new estimate of alpha and beta\n",
    "    if price_offered_index < K + 1:\n",
    "        # if demand = 1, then alpha plus 1; if demand = 0, then alpha remain unchanged\n",
    "        H_alpha[t, :, :] = H_alpha[t - 1, :, :]\n",
    "        H_alpha[t, price_offered_index - 1, :] = H_alpha[t, price_offered_index - 1, :] + H_D[t - 1, :]\n",
    "\n",
    "        # if demand = 1, then beta remained unchanged; if demand = 0, then beta plus 1\n",
    "        H_beta[t, :, :] = H_beta[t - 1, :, :]\n",
    "        H_beta[t, price_offered_index - 1, :] = H_beta[t - 1, price_offered_index - 1, :] + np.ones(N) - H_D[t - 1, :]\n",
    "    else: # the demand must be zero, then all the estimate remain unchanged\n",
    "        H_alpha[t, :, :] = H_alpha[t - 1, :, :]\n",
    "        H_beta[t, :, :] = H_beta[t - 1, :, :]\n",
    "print(\"Total reward of algorithm = {:f}\".format(np.sum(H_reward)))"
   ]
  },
  {
   "cell_type": "raw",
   "id": "b0641b5f",
   "metadata": {},
   "source": [
    "t, M, N, K\n",
    "constraint_index \n",
    "model.getValsLinear(constraint_index [1]), \n",
    "model.getValsLinear(constraint_index [2])\n",
    "x\n",
    "model.getVal(x[1]), model.getVal(x[2]), model.getVal(x[3])\n",
    "bestx\n",
    "0.530018723612461 * 10.376003106593089, 0.530018723612461 * 17.74088269167503, \n",
    "c\n",
    "model.getValsLinear(constraint_index [1])\n",
    "model.getValsLinear(constraint_index [2])\n",
    "model.getConss()\n",
    "model.getNConss()\n",
    "model.getValsLinear(model.getConss()[0])\n",
    "model.getValsLinear(model.getConss()[1])"
   ]
  },
  {
   "cell_type": "code",
   "execution_count": 4,
   "id": "18e9887f",
   "metadata": {},
   "outputs": [
    {
     "data": {
      "text/plain": [
       "array([10.393, 10.339])"
      ]
     },
     "execution_count": 4,
     "metadata": {},
     "output_type": "execute_result"
    }
   ],
   "source": [
    "c"
   ]
  },
  {
   "cell_type": "code",
   "execution_count": 5,
   "id": "9c4102e5",
   "metadata": {
    "code_folding": [
     0
    ]
   },
   "outputs": [],
   "source": [
    "# generate the csv data file and restore it into csv file\n",
    "from datetime import datetime\n",
    "moment = str(datetime.now()).replace(':', '-').replace(' ', '_')[:-7]\n",
    "# the value of moment:  '2021-10-21_11-39-24', we used this varibale to name our files\n",
    "\n",
    "# we firstly input the parameter into txt file\n",
    "prameter_filename = moment + \"_K-{:d}_N-{:d}_M-{:d}_T-{:d}_randomseed-{:d}_ParameterList.txt\".format(K, N, M, T, random_seed)\n",
    "with open(\".\\\\Result_Ferreira et.al. 2018 Algorithm 1\\\\\" + prameter_filename, 'w') as f:\n",
    "    f.write(\"K = {:d}\\n\".format(K))\n",
    "    f.write(\"N = {:d}\\n\".format(N))\n",
    "    f.write(\"M = {:d}\\n\".format(M))\n",
    "    f.write(\"randomseed = {:d}\\n\".format(random_seed))\n",
    "    \n",
    "    f.write(\"-----Admissible Prive Vector------\\n\")\n",
    "    for kindex in range(K):\n",
    "        f.write(\"Price vector {:d} : {:s}\\n\".format(kindex, str(P_list[kindex, :])))\n",
    "                \n",
    "    f.write(\"-----Initial Inventory------\\n\")\n",
    "    f.write(\"Initial Inventory: {:s}\\n\".format(str(I_0)))\n",
    "                \n",
    "    f.write(\"-----Resource Consumption------\\n\")\n",
    "    for nindex in range(N):\n",
    "        f.write(\"Cost of resource of product {:d}: {:s}\\n\".format(nindex + 1, str(A[nindex, :])))\n",
    "    \n",
    "    f.write(\"-----Resouce Constraint in each round------\\n\")\n",
    "    for nindex in range(N):\n",
    "        f.write(\"c : {:s}\\n\".format(str(c)))\n",
    "                \n",
    "    f.write(\"-----Real theta------\\n\")\n",
    "    for kindex in range(K):\n",
    "        f.write(\"Given price vector {:d}, the real theta is {:s}\\n\".format(kindex + 1, str(theta[kindex, :])))\n",
    "        \n",
    "# then we input the experiment into csc file, we use period as index\n",
    "data = pd.DataFrame({\"Pricing_index\": H_P, \"Reward\": H_reward})\n",
    "data['Period_index'] = range(1, T+1)\n",
    "# add the demand of each product\n",
    "data = pd.concat([data, pd.DataFrame(H_D, columns = [\"product_{:d}_demand\".format(nindex) for nindex in range(1,N+1)])], axis = 1) \n",
    "# add the remain invetory of each resource\n",
    "data = pd.concat([data, pd.DataFrame(H_I[0:T, :], columns = [\"resouce_{:d}\".format(mindex) for mindex in range(1,M+1)])], axis = 1)\n",
    "# add the constraint value\n",
    "data = pd.concat([data, pd.DataFrame(H_constraint_value[0:T, :], columns = [\"constraint_{:d}\".format(conindex) for conindex in range(0,M+1)])], axis = 1)\n",
    "# add the best solution in each round\n",
    "data = pd.concat([data, \n",
    "                  pd.DataFrame(H_bestX,\\\n",
    "                              columns = [\"use_price_index_{:d}\".format(kindex) for kindex in range(1,K+1)] + [\"use_infinite_price\"])],\n",
    "                  axis = 1)\n",
    "# add the estimation of alpha\n",
    "data = pd.concat([data,\\\n",
    "                 pd.DataFrame(np.reshape(a = H_alpha[0:T, :, :], newshape =(T, K * N)),\n",
    "                             columns = [\"alpha_k-{:d}_n-{:d}\".format(k, n) for k in range(1, K+1) for n in range(1, N+1) ])],\n",
    "                axis = 1)\n",
    "# add the estimation of alpha\n",
    "data = pd.concat([data,\\\n",
    "                 pd.DataFrame(np.reshape(a = H_beta[0:T, :, :], newshape =(T, K * N)),\n",
    "                             columns = [\"beta_k-{:d}_n-{:d}\".format(k, n) for k in range(1, K+1) for n in range(1, N+1) ])],\n",
    "                axis = 1)\n",
    "# add the estimation of theta\n",
    "data = pd.concat([data,\\\n",
    "                 pd.DataFrame(np.reshape(a = H_theta[0:T, :, :], newshape =(T, K * N)),\n",
    "                             columns = [\"theta_k-{:d}_n-{:d}\".format(k, n) for k in range(1, K+1) for n in range(1, N+1) ])],\n",
    "                axis = 1)\n",
    "exp_filename = moment + \"_K-{:d}_N-{:d}_M-{:d}_T-{:d}_randomseed-{:d}_Experiment.csv\".format(K, N, M, T, random_seed)\n",
    "data.to_csv(\".\\\\Result_Ferreira et.al. 2018 Algorithm 1\\\\\" + exp_filename, index = False)"
   ]
  },
  {
   "cell_type": "code",
   "execution_count": 6,
   "id": "aa97beb4",
   "metadata": {
    "code_folding": [
     0
    ]
   },
   "outputs": [],
   "source": [
    "# clear the memory\n",
    "H_reward = np.zeros(T) # the reward in each period\n",
    "H_bestX = np.zeros(shape = (T, K + 1)) # the best solution in each optimization\n",
    "H_P = np.zeros(shape = T) # the index of pricing vector we used in each period\n",
    "H_D = np.zeros(shape = (T, N)) # the demand of products in each period  \n",
    "H_I = np.zeros(shape = (T + 1, M)) # avaliable inventory in each period\n",
    "H_I[0, :] = np.float64(I_0)"
   ]
  },
  {
   "cell_type": "code",
   "execution_count": 7,
   "id": "dfd6cccd",
   "metadata": {
    "code_folding": [
     0
    ]
   },
   "outputs": [
    {
     "name": "stdout",
     "output_type": "stream",
     "text": [
      "Total reward of known distribution: 4254.000000\n"
     ]
    }
   ],
   "source": [
    "# if we replace step 1 with true theta\n",
    "for t in range(1, T+1):\n",
    "    # first step, sample from posterior distribution\n",
    "    # H_alpha[t-1, :, :], H_beta[t-1, :, :] is the history data from 0 to t\n",
    "    # H_theta[t-1, :, :] is the sample theta we used in round t\n",
    "#     H_theta[t-1, :, :] = mybeta(H_alpha[t-1, :, :], H_beta[t-1, :, :])\n",
    "\n",
    "    # first step, calculate the mean demand given sample theta\n",
    "    demand_mean = theta\n",
    "\n",
    "    # second step, optimize a linear function\n",
    "    model = pyscipopt.Model(\"Optimization in Rount {:d}\".format(t))\n",
    "    # generate decision variable\n",
    "    x = {}\n",
    "    for xindex in range(1, K+1):\n",
    "        x[xindex] = model.addVar(vtype=\"C\", lb = 0, ub = 1, name=\"x{:d}\".format(xindex))\n",
    "\n",
    "    # second step, generate object function\n",
    "    obj_coefficient = np.sum(demand_mean *  P_list, axis = 1)# obj_coefficient[k] = $\\sum_{i=1}^N d_{i,k+1}(t)p_{i,k+1}$\n",
    "    model.setObjective(quicksum(x[xindex]*obj_coefficient[xindex-1] for xindex in range(1, K+1)), \"maximize\")\n",
    "    # objective = $\\sum_{k=1}^K(\\sum_{i=1}^N d_{i,k+1}(t)p_{i,k+1})x_{k}$\n",
    "\n",
    "#     # second step, add constraint x_1+...+x_k<=1\n",
    "#     model.addCons(quicksum(x[xindex] for xindex in range(1, K+1)) <= 1)\n",
    "\n",
    "#     # second step, for each resources, we require \\sum_{k=1}^K\\sum_{i=1}^N d_{i,k}a_{i,j}x_l<=c_j\n",
    "#     for jj in range(1, M+1):\n",
    "#         # size(A) = [N, M], size(demand_mean) = [K, N]\n",
    "#         con_coefficient = A[:, jj - 1].dot(np.transpose(demand_mean))# con_coefficient[k] = $\\sum_{i=1}^N a_{i,j}d_{i,k+1}$\n",
    "#         model.addCons(quicksum(x[xindex] * con_coefficient[xindex - 1] for xindex in range(1, K+1)) <= c[jj - 1])\n",
    "\n",
    "#     # second step, optimize the problem\n",
    "#     model.optimize()\n",
    "#     bestx = np.zeros(K+1) # p_{K+1} would force the demand be zero\n",
    "#     for xindex in range(1,K+1):\n",
    "#         bestx[xindex - 1] = model.getVal(x[xindex])\n",
    "#     bestx[K] = 1 - np.sum(bestx[0:K])\n",
    "#     eliminate_error = lambda x: 0 if np.abs(x) < 1e-10 else x #there would be numerical error in the best solution\n",
    "#     bestx = np.array([eliminate_error(x) for x in bestx])\n",
    "#     bestx = bestx / np.sum(bestx)\n",
    "\n",
    "#     # third step, offer price\n",
    "#     price_offered_index = np.random.choice(np.arange(1, K + 2), p = bestx)\n",
    "\n",
    "    # second step, add constraint x_1+...+x_k<=1\n",
    "    constraint_index = {}\n",
    "    constraint_index[0] = model.addCons(quicksum(x[xindex] for xindex in range(1, K+1)) <= 1)\n",
    "\n",
    "    # second step, for each resources, we require \\sum_{k=1}^K\\sum_{i=1}^N d_{i,k}a_{i,j}x_l<=c_j\n",
    "    for jj in range(1, M+1):\n",
    "        # size(A) = [N, M], size(demand_mean) = [K, N]\n",
    "        con_coefficient = A[:, jj - 1].dot(np.transpose(demand_mean))# con_coefficient[k] = $\\sum_{i=1}^N a_{i,j}d_{i,k+1}$\n",
    "        constraint_index[jj] = model.addCons(quicksum(x[xindex] * con_coefficient[xindex - 1] for xindex in range(1, K+1)) <= c[jj - 1])\n",
    "\n",
    "    # second step, optimize the problem\n",
    "    model.optimize()\n",
    "    bestx = np.zeros(K+1) # p_{K+1} would force the demand be zero\n",
    "    for xindex in range(1,K+1):\n",
    "        bestx[xindex - 1] = model.getVal(x[xindex])\n",
    "    bestx[K] = 1 - np.sum(bestx[0:K])\n",
    "    eliminate_error = lambda x: 0 if np.abs(x) < 1e-10 else x #there would be numerical error in the best solution\n",
    "    bestx = np.array([eliminate_error(x) for x in bestx])\n",
    "    bestx = bestx / np.sum(bestx)\n",
    "    \n",
    "    # third step, offer price\n",
    "    price_offered_index = np.random.choice(np.arange(1, K + 2), p = bestx)\n",
    "\n",
    "    # fourth step, update estimate of parameter\n",
    "    H_P[t - 1] = price_offered_index # record the index of offered price\n",
    "    \n",
    "    # fourth step, record the constraint value in optimization\n",
    "    H_constraint_value[t - 1, 0] = np.sum(bestx[0:K])\n",
    "    for jj in range(1, M+1):\n",
    "        con_coefficient = np.array(list(model.getValsLinear(constraint_index[jj]).values()))\n",
    "        H_constraint_value[t - 1, jj] = np.sum(bestx[0:K] * con_coefficient)\n",
    "\n",
    "    # fourth step, update estimate of parameter\n",
    "    H_P[t - 1] = price_offered_index # record the index of offered price\n",
    "\n",
    "    # fourth step, record the optimal solution in this round\n",
    "    H_bestX[t - 1, :] = bestx\n",
    "\n",
    "    # fourth step, record the realization of demand\n",
    "    if price_offered_index < K + 1:\n",
    "        H_D[t - 1, :] = mybinomial(np.ones(N), theta[price_offered_index - 1, :]) # record the realization of demand\n",
    "    else: # the demand must be zero\n",
    "        H_D[t - 1, :] = np.zeros(N)\n",
    "\n",
    "    # fourth step, record the reward in this period\n",
    "    if price_offered_index < K + 1:\n",
    "        H_reward[t - 1] = P_list[price_offered_index - 1, :].dot(H_D[t - 1, :])  # record the realization of demand\n",
    "    else: # the demand must be zero\n",
    "        H_reward[t - 1] = 0\n",
    "\n",
    "    # fourth step, record the remain inventory, size(A) = [N, M]\n",
    "    H_I[t, :] = H_I[t - 1, :] - np.transpose(A).dot(H_D[t - 1, :])\n",
    "    if not all(H_I[t, :] >= 0):\n",
    "        break\n",
    "\n",
    "print(\"Total reward of known distribution: {:f}\".format(np.sum(H_reward)))"
   ]
  },
  {
   "cell_type": "code",
   "execution_count": 8,
   "id": "d7ba7a13",
   "metadata": {
    "code_folding": [
     0
    ]
   },
   "outputs": [],
   "source": [
    "# then input the experiment into csc file, we use period as index\n",
    "data = pd.DataFrame({\"Pricing_index\": H_P, \"Reward\": H_reward})\n",
    "data['Period_index'] = range(1, T+1)\n",
    "# add the demand of each product\n",
    "data = pd.concat([data, pd.DataFrame(H_D, columns = [\"product_{:d}_demand\".format(nindex) for nindex in range(1,N+1)])], axis = 1) \n",
    "# add the remain invetory of each resource\n",
    "data = pd.concat([data, pd.DataFrame(H_I[0:T, :], columns = [\"resouce_{:d}\".format(mindex) for mindex in range(1,M+1)])], axis = 1) \n",
    "# add the constraint value\n",
    "data = pd.concat([data, pd.DataFrame(H_constraint_value[0:T, :], columns = [\"constraint_{:d}\".format(conindex) for conindex in range(0,M+1)])], axis = 1)\n",
    "# add the best solution in each round\n",
    "data = pd.concat([data, \n",
    "                  pd.DataFrame(H_bestX,\\\n",
    "                              columns = [\"use_price_index_{:d}\".format(kindex) for kindex in range(1,K+1)] + [\"use_infinite_price\"])],\n",
    "                  axis = 1)\n",
    "# add the estimation of alpha\n",
    "data = pd.concat([data,\\\n",
    "                 pd.DataFrame(np.reshape(a = H_alpha[0:T, :, :], newshape =(T, K * N)),\n",
    "                             columns = [\"alpha_k-{:d}_n-{:d}\".format(k, n) for k in range(1, K+1) for n in range(1, N+1) ])],\n",
    "                axis = 1)\n",
    "# add the estimation of alpha\n",
    "data = pd.concat([data,\\\n",
    "                 pd.DataFrame(np.reshape(a = H_beta[0:T, :, :], newshape =(T, K * N)),\n",
    "                             columns = [\"beta_k-{:d}_n-{:d}\".format(k, n) for k in range(1, K+1) for n in range(1, N+1) ])],\n",
    "                axis = 1)\n",
    "# add the estimation of theta\n",
    "data = pd.concat([data,\\\n",
    "                 pd.DataFrame(np.reshape(a = H_theta[0:T, :, :], newshape =(T, K * N)),\n",
    "                             columns = [\"theta_k-{:d}_n-{:d}\".format(k, n) for k in range(1, K+1) for n in range(1, N+1) ])],\n",
    "                axis = 1)\n",
    "exp_filename = moment + \"_K-{:d}_N-{:d}_M-{:d}_T-{:d}_randomseed-{:d}_RealThetaExperiment.csv\".format(K, N, M, T, random_seed)\n",
    "data.to_csv(\".\\\\Result_Ferreira et.al. 2018 Algorithm 1\\\\\" + exp_filename, index = False)"
   ]
  },
  {
   "cell_type": "markdown",
   "id": "1fbf78f0",
   "metadata": {
    "heading_collapsed": true
   },
   "source": [
    "## 2 nd algorithm\n",
    "\n",
    "We implement the 4th algorithm of Ferreira et.al. 2018\n",
    "\n",
    "<img src=\"./Figure/Algorithem_2_of_Ferreira_et_al_2018.png\" style=\"zoom:80%\" />\n",
    "\n",
    "$c_j(t) = \\frac{I_j(t-1)}{T-t+1}$"
   ]
  },
  {
   "cell_type": "code",
   "execution_count": 9,
   "id": "d4c4f480",
   "metadata": {
    "hidden": true
   },
   "outputs": [],
   "source": [
    "%reset -f\n",
    "import numpy as np\n",
    "import pandas as pd\n",
    "\n",
    "import pyscipopt\n",
    "from pyscipopt import quicksum\n",
    "\n",
    "random_seed = 12345\n",
    "np.random.seed(random_seed)"
   ]
  },
  {
   "cell_type": "code",
   "execution_count": 10,
   "id": "dae7b712",
   "metadata": {
    "code_folding": [
     0
    ],
    "hidden": true
   },
   "outputs": [],
   "source": [
    "# Generate parameters\n",
    "K = np.random.randint(low = 1, high = 5) # Total number of available price vectors\n",
    "N = np.random.randint(low = 1, high = 5) # Total number of products\n",
    "M = np.random.randint(low = 1, high = 5) # Total number of kinds of resource\n",
    "T = 1000 # Total number of periods\n",
    "\n",
    "# generate the demand \n",
    "\n",
    "# each row represent an admissible pricing strategy\n",
    "P_list = np.float64(np.random.randint(low = 1, high = 10, size = (K, N)))\n",
    "\n",
    "# initialize inventory\n",
    "I_0 = np.float64(np.random.randint(low = 9000, high = 11000, size = M))\n",
    "c = np.zeros(shape = (T, M)) # we would update c in each period\n",
    "\n",
    "# initialize a_ij\n",
    "A = np.float64(np.random.randint(low = 5, high = 15, size = (N,M)))\n",
    "\n",
    "# initialize real parameter theta\n",
    "theta = np.random.beta(a = 1, b = 1, size = (K,N))\n",
    "\n",
    "# initialize history\n",
    "H_P = np.zeros(shape = T) # the index of pricing vector we used in each period\n",
    "H_D = np.zeros(shape = (T, N)) # the demand of products in each period  \n",
    "\n",
    "H_I = np.zeros(shape = (T + 1, M)) # avaliable inventory in each period\n",
    "H_I[0, :] = np.float64(I_0)\n",
    "\n",
    "H_bestX = np.zeros(shape = (T, K + 1)) # the best solution in each optimization\n",
    "\n",
    "H_reward = np.zeros(T) # the reward in each period\n",
    "\n",
    "# each realization of price vector, index of period,\n",
    "# corresponds to a estimate of theta\n",
    "H_alpha = np.zeros(shape = (T + 1,K,N))\n",
    "H_beta = np.zeros(shape = (T + 1,K,N))\n",
    "H_alpha[0, :, :] = 1*np.ones(shape = (K,N))\n",
    "H_beta[0, :, :] = 1*np.ones(shape = (K,N))\n",
    "\n",
    "# initialize the constraint value in each round\n",
    "# M kinds of resources correspond to M constraints, and one more constraint is x1 + ... + xN <=1\n",
    "H_constraint_value = np.zeros(shape = (T, M + 1))\n",
    "\n",
    "# vectorize beta sample function to accelerate\n",
    "mybeta = np.vectorize(np.random.beta)\n",
    "H_theta = np.zeros(shape = (T,K,N))\n",
    "\n",
    "# vectorize binomial sample function to accelerate\n",
    "mybinomial = np.vectorize(np.random.binomial)"
   ]
  },
  {
   "cell_type": "code",
   "execution_count": 11,
   "id": "dfd2a30e",
   "metadata": {
    "code_folding": [
     0
    ],
    "hidden": true
   },
   "outputs": [
    {
     "name": "stdout",
     "output_type": "stream",
     "text": [
      "Total reward of algorithm = 4259.000000\n"
     ]
    }
   ],
   "source": [
    "# implementation of algorithm 2\n",
    "for t in range(1, T+1):\n",
    "    # first step, sample from posterior distribution\n",
    "    # H_alpha[t-1, :, :], H_beta[t-1, :, :] is the history data from 0 to t\n",
    "    # H_theta[t-1, :, :] is the sample theta we used in round t\n",
    "    H_theta[t-1, :, :] = mybeta(H_alpha[t-1, :, :], H_beta[t-1, :, :])\n",
    "\n",
    "    # first step, calculate the mean demand given sample theta\n",
    "    demand_mean = H_theta[t-1, :, :]\n",
    "\n",
    "    # second step, optimize a linear function\n",
    "    model = pyscipopt.Model(\"Optimization in Rount {:d}\".format(t))\n",
    "    # generate decision variable\n",
    "    x = {}\n",
    "    for xindex in range(1, K+1):\n",
    "        x[xindex] = model.addVar(vtype=\"C\", lb = 0, ub = 1, name=\"x{:d}\".format(xindex))\n",
    "\n",
    "    # second step, generate object function\n",
    "    obj_coefficient = np.sum(demand_mean *  P_list, axis = 1)# obj_coefficient[k] = $\\sum_{i=1}^N d_{i,k+1}(t)p_{i,k+1}$\n",
    "    model.setObjective(quicksum(x[xindex]*obj_coefficient[xindex-1] for xindex in range(1, K+1)), \"maximize\")\n",
    "    # objective = $\\sum_{k=1}^K(\\sum_{i=1}^N d_{i,k+1}(t)p_{i,k+1})x_{k}$\n",
    "\n",
    "#     # second step, add constraint x_1+...+x_k<=1\n",
    "#     model.addCons(quicksum(x[xindex] for xindex in range(1, K+1)) <= 1)\n",
    "\n",
    "#     # second step, for each resources, we require \\sum_{k=1}^K\\sum_{i=1}^N d_{i,k}a_{i,j}x_l<=c_j\n",
    "#     c[t - 1, :] = H_I[t - 1, :] / (T - t + 1)\n",
    "#     for jj in range(1, M+1):\n",
    "#         # size(A) = [N, M], size(demand_mean) = [K, N]\n",
    "#         con_coefficient = A[:, jj - 1].dot(np.transpose(demand_mean))# con_coefficient[k] = $\\sum_{i=1}^N a_{i,j}d_{i,k+1}$\n",
    "#         model.addCons(quicksum(x[xindex] * con_coefficient[xindex - 1] for xindex in range(1, K+1)) <= c[t - 1, jj - 1])\n",
    "\n",
    "#     # second step, optimize the problem\n",
    "#     model.optimize()\n",
    "#     bestx = np.zeros(K+1) # p_{K+1} would force the demand be zero\n",
    "#     for xindex in range(1,K+1):\n",
    "#         bestx[xindex - 1] = model.getVal(x[xindex])\n",
    "#     bestx[K] = 1 - np.sum(bestx[0:K])\n",
    "#     eliminate_error = lambda x: 0 if np.abs(x) < 1e-10 else x #there would be numerical error in the best solution\n",
    "#     bestx = np.array([eliminate_error(x) for x in bestx])\n",
    "#     bestx = bestx / np.sum(bestx)\n",
    "\n",
    "\n",
    "#     # third step, offer price\n",
    "#     price_offered_index = np.random.choice(np.arange(1, K + 2), p = bestx)\n",
    "\n",
    "    # second step, add constraint x_1+...+x_k<=1\n",
    "    constraint_index = {}\n",
    "    constraint_index[0] = model.addCons(quicksum(x[xindex] for xindex in range(1, K+1)) <= 1)\n",
    "\n",
    "    # second step, for each resources, we require \\sum_{k=1}^K\\sum_{i=1}^N d_{i,k}a_{i,j}x_l<=c_j\n",
    "    c[t - 1, :] = H_I[t - 1, :] / (T - t + 1)\n",
    "    for jj in range(1, M+1):\n",
    "        # size(A) = [N, M], size(demand_mean) = [K, N]\n",
    "        con_coefficient = A[:, jj - 1].dot(np.transpose(demand_mean))# con_coefficient[k] = $\\sum_{i=1}^N a_{i,j}d_{i,k+1}$\n",
    "        constraint_index[jj] = model.addCons(quicksum(x[xindex] * con_coefficient[xindex - 1] for xindex in range(1, K+1)) <= c[t - 1, jj - 1])\n",
    "\n",
    "    # second step, optimize the problem\n",
    "    model.optimize()\n",
    "    bestx = np.zeros(K+1) # p_{K+1} would force the demand be zero\n",
    "    for xindex in range(1,K+1):\n",
    "        bestx[xindex - 1] = model.getVal(x[xindex])\n",
    "    bestx[K] = 1 - np.sum(bestx[0:K])\n",
    "    eliminate_error = lambda x: 0 if np.abs(x) < 1e-10 else x #there would be numerical error in the best solution\n",
    "    bestx = np.array([eliminate_error(x) for x in bestx])\n",
    "    bestx = bestx / np.sum(bestx)\n",
    "    \n",
    "    # third step, offer price\n",
    "    price_offered_index = np.random.choice(np.arange(1, K + 2), p = bestx)\n",
    "\n",
    "    # fourth step, update estimate of parameter\n",
    "    H_P[t - 1] = price_offered_index # record the index of offered price\n",
    "    \n",
    "    # fourth step, record the constraint value in optimization\n",
    "    H_constraint_value[t - 1, 0] = np.sum(bestx[0:K])\n",
    "    for jj in range(1, M+1):\n",
    "        con_coefficient = np.array(list(model.getValsLinear(constraint_index[jj]).values()))\n",
    "        H_constraint_value[t - 1, jj] = np.sum(bestx[0:K] * con_coefficient)\n",
    "\n",
    "    # fourth step, update estimate of parameter\n",
    "    H_P[t - 1] = price_offered_index # record the index of offered price\n",
    "\n",
    "    # fourth step, record the optimal solution in this round\n",
    "    H_bestX[t - 1, :] = bestx\n",
    "\n",
    "    # fourth step, record the realization of demand\n",
    "    if price_offered_index < K + 1:\n",
    "        H_D[t - 1, :] = mybinomial(np.ones(N), theta[price_offered_index - 1, :]) # record the realization of demand\n",
    "    else: # the demand must be zero\n",
    "        H_D[t - 1, :] = np.zeros(N)\n",
    "\n",
    "    # fourth step, record the reward in this period\n",
    "    if price_offered_index < K + 1:\n",
    "        H_reward[t - 1] = P_list[price_offered_index - 1, :].dot(H_D[t - 1, :])  # record the realization of demand\n",
    "    else: # the demand must be zero\n",
    "        H_reward[t - 1] = 0\n",
    "\n",
    "    # fourth step, record the remain inventory, size(A) = [N, M]\n",
    "    H_I[t] = H_I[t - 1] - np.transpose(A).dot(H_D[t - 1, :])\n",
    "    if not all(H_I[t] >= 0):\n",
    "        break\n",
    "\n",
    "    # fourth step, record the new estimate of alpha and beta\n",
    "    if price_offered_index < K + 1:\n",
    "        # if demand = 1, then alpha plus 1; if demand = 0, then alpha remain unchanged\n",
    "        H_alpha[t, :, :] = H_alpha[t - 1, :, :]\n",
    "        H_alpha[t, price_offered_index - 1, :] = H_alpha[t, price_offered_index - 1, :] + H_D[t - 1, :]\n",
    "\n",
    "        # if demand = 1, then beta remained unchanged; if demand = 0, then beta plus 1\n",
    "        H_beta[t, :, :] = H_beta[t - 1, :, :]\n",
    "        H_beta[t, price_offered_index - 1, :] = H_beta[t - 1, price_offered_index - 1, :] + np.ones(N) - H_D[t - 1, :]\n",
    "    else: # the demand must be zero, then all the estimate remain unchanged\n",
    "        H_alpha[t, :, :] = H_alpha[t - 1, :, :]\n",
    "        H_beta[t, :, :] = H_beta[t - 1, :, :]\n",
    "print(\"Total reward of algorithm = {:f}\".format(np.sum(H_reward)))"
   ]
  },
  {
   "cell_type": "code",
   "execution_count": 12,
   "id": "1140aede",
   "metadata": {
    "code_folding": [
     0
    ],
    "hidden": true
   },
   "outputs": [],
   "source": [
    "# generate the csv data file and restore it into csv file\n",
    "from datetime import datetime\n",
    "moment = str(datetime.now()).replace(':', '-').replace(' ', '_')[:-7]\n",
    "# the value of moment:  '2021-10-21_11-39-24', we used this varibale to name our files\n",
    "\n",
    "# we firstly input the parameter into txt file\n",
    "prameter_filename = moment + \"_K-{:d}_N-{:d}_M-{:d}_T-{:d}_randomseed-{:d}_ParameterList.txt\".format(K, N, M, T, random_seed)\n",
    "with open(\".\\\\Result_Ferreira et.al. 2018 Algorithm 2\\\\\" + prameter_filename, 'w') as f:\n",
    "    f.write(\"K = {:d}\\n\".format(K))\n",
    "    f.write(\"N = {:d}\\n\".format(N))\n",
    "    f.write(\"M = {:d}\\n\".format(M))\n",
    "    f.write(\"randomseed = {:d}\\n\".format(random_seed))\n",
    "    \n",
    "    f.write(\"-----Admissible Prive Vector------\\n\")\n",
    "    for kindex in range(K):\n",
    "        f.write(\"Price vector {:d} : {:s}\\n\".format(kindex, str(P_list[kindex, :])))\n",
    "                \n",
    "    f.write(\"-----Initial Inventory------\\n\")\n",
    "    f.write(\"Initial Inventory: {:s}\\n\".format(str(I_0)))\n",
    "                \n",
    "    f.write(\"-----Resource Consumption------\\n\")\n",
    "    for nindex in range(N):\n",
    "        f.write(\"Cost of resource of product {:d}: {:s}\\n\".format(nindex + 1, str(A[nindex, :])))\n",
    "                \n",
    "    f.write(\"-----Real theta------\\n\")\n",
    "    for kindex in range(K):\n",
    "        f.write(\"Given price vector {:d}, the real theta is {:s}\\n\".format(kindex + 1, str(theta[kindex, :])))\n",
    "        \n",
    "# then we input the experiment into csc file, we use period as index\n",
    "data = pd.DataFrame({\"Pricing_index\": H_P, \"Reward\": H_reward})\n",
    "data['Period_index'] = range(1, T+1)\n",
    "# add the demand of each product\n",
    "data = pd.concat([data, pd.DataFrame(H_D, columns = [\"product_{:d}_demand\".format(nindex) for nindex in range(1,N+1)])], axis = 1) \n",
    "# add the remain invetory of each resource\n",
    "data = pd.concat([data, pd.DataFrame(H_I[0:T, :], columns = [\"resouce_{:d}\".format(mindex) for mindex in range(1,M+1)])], axis = 1) \n",
    "# add the constraint value\n",
    "data = pd.concat([data, pd.DataFrame(H_constraint_value[0:T, :], columns = [\"constraint_{:d}\".format(conindex) for conindex in range(0,M+1)])], axis = 1)\n",
    "# add the resource limits\n",
    "data = pd.concat([data, pd.DataFrame(c[0:T, :], columns = [\"c_{:d}\".format(conindex) for conindex in range(1,M+1)])], axis = 1)\n",
    "# add the best solution in each round\n",
    "data = pd.concat([data, \n",
    "                  pd.DataFrame(H_bestX,\\\n",
    "                              columns = [\"use_price_index_{:d}\".format(kindex) for kindex in range(1,K+1)] + [\"use_infinite_price\"])],\n",
    "                  axis = 1)\n",
    "# add the estimation of alpha\n",
    "data = pd.concat([data,\\\n",
    "                 pd.DataFrame(np.reshape(a = H_alpha[0:T, :, :], newshape =(T, K * N)),\n",
    "                             columns = [\"alpha_k-{:d}_n-{:d}\".format(k, n) for k in range(1, K+1) for n in range(1, N+1) ])],\n",
    "                axis = 1)\n",
    "# add the estimation of alpha\n",
    "data = pd.concat([data,\\\n",
    "                 pd.DataFrame(np.reshape(a = H_beta[0:T, :, :], newshape =(T, K * N)),\n",
    "                             columns = [\"beta_k-{:d}_n-{:d}\".format(k, n) for k in range(1, K+1) for n in range(1, N+1) ])],\n",
    "                axis = 1)\n",
    "# add the estimation of theta\n",
    "data = pd.concat([data,\\\n",
    "                 pd.DataFrame(np.reshape(a = H_theta[0:T, :, :], newshape =(T, K * N)),\n",
    "                             columns = [\"theta_k-{:d}_n-{:d}\".format(k, n) for k in range(1, K+1) for n in range(1, N+1) ])],\n",
    "                axis = 1)\n",
    "exp_filename = moment + \"_K-{:d}_N-{:d}_M-{:d}_T-{:d}_randomseed-{:d}_Experiment.csv\".format(K, N, M, T, random_seed)\n",
    "data.to_csv(\".\\\\Result_Ferreira et.al. 2018 Algorithm 2\\\\\" + exp_filename, index = False)"
   ]
  },
  {
   "cell_type": "raw",
   "id": "a97663b6",
   "metadata": {
    "code_folding": [
     0
    ],
    "hidden": true
   },
   "source": [
    "# clear the memory\n",
    "H_reward = np.zeros(T) # the reward in each period\n",
    "H_bestX = np.zeros(shape = (T, K + 1)) # the best solution in each optimization\n",
    "H_P = np.zeros(shape = T) # the index of pricing vector we used in each period\n",
    "H_D = np.zeros(shape = (T, N)) # the demand of products in each period  \n",
    "H_I = np.zeros(shape = (T + 1, M)) # avaliable inventory in each period\n",
    "H_I[0, :] = np.float64(I_0)\n",
    "c = np.zeros(shape = (T, M))"
   ]
  },
  {
   "cell_type": "raw",
   "id": "b2380c55",
   "metadata": {
    "code_folding": [
     0
    ],
    "hidden": true
   },
   "source": [
    "# if we replace step 1 with true theta\n",
    "for t in range(1, T+1):\n",
    "    # first step, sample from posterior distribution\n",
    "    # H_alpha[t-1, :, :], H_beta[t-1, :, :] is the history data from 0 to t\n",
    "    # H_theta[t-1, :, :] is the sample theta we used in round t\n",
    "#     H_theta[t-1, :, :] = mybeta(H_alpha[t-1, :, :], H_beta[t-1, :, :])\n",
    "\n",
    "    # first step, calculate the mean demand given sample theta\n",
    "    demand_mean = theta\n",
    "\n",
    "    # second step, optimize a linear function\n",
    "    model = pyscipopt.Model(\"Optimization in Rount {:d}\".format(t))\n",
    "    # generate decision variable\n",
    "    x = {}\n",
    "    for xindex in range(1, K+1):\n",
    "        x[xindex] = model.addVar(vtype=\"C\", lb = 0, ub = 1, name=\"x{:d}\".format(xindex))\n",
    "\n",
    "    # second step, generate object function\n",
    "    obj_coefficient = np.sum(demand_mean *  P_list, axis = 1)# obj_coefficient[k] = $\\sum_{i=1}^N d_{i,k+1}(t)p_{i,k+1}$\n",
    "    model.setObjective(quicksum(x[xindex]*obj_coefficient[xindex-1] for xindex in range(1, K+1)), \"maximize\")\n",
    "    # objective = $\\sum_{k=1}^K(\\sum_{i=1}^N d_{i,k+1}(t)p_{i,k+1})x_{k}$\n",
    "\n",
    "    # second step, add constraint x_1+...+x_k<=1\n",
    "    model.addCons(quicksum(x[xindex] for xindex in range(1, K+1)) <= 1)\n",
    "\n",
    "    # second step, for each resources, we require \\sum_{k=1}^K\\sum_{i=1}^N d_{i,k}a_{i,j}x_l<=c_j\n",
    "    c[t-1, :] = H_I[t-1, :] / (T - t + 1)\n",
    "    for jj in range(1, M+1):\n",
    "        # size(A) = [N, M], size(demand_mean) = [K, N]\n",
    "        con_coefficient = A[:, jj - 1].dot(np.transpose(demand_mean))# con_coefficient[k] = $\\sum_{i=1}^N a_{i,j}d_{i,k+1}$\n",
    "        model.addCons(quicksum(x[xindex] * con_coefficient[xindex - 1] for xindex in range(1, K+1)) <= c[t - 1, jj - 1])\n",
    "\n",
    "    # second step, optimize the problem\n",
    "    model.optimize()\n",
    "    bestx = np.zeros(K+1) # p_{K+1} would force the demand be zero\n",
    "    for xindex in range(1,K+1):\n",
    "        bestx[xindex - 1] = model.getVal(x[xindex])\n",
    "    bestx[K] = 1 - np.sum(bestx[0:K])\n",
    "    eliminate_error = lambda x: 0 if np.abs(x) < 1e-10 else x #there would be numerical error in the best solution\n",
    "    bestx = np.array([eliminate_error(x) for x in bestx])\n",
    "    bestx = bestx / np.sum(bestx)\n",
    "\n",
    "    # third step, offer price\n",
    "    price_offered_index = np.random.choice(np.arange(1, K + 2), p = bestx)\n",
    "\n",
    "    # fourth step, update estimate of parameter\n",
    "    H_P[t - 1] = price_offered_index # record the index of offered price\n",
    "\n",
    "    # fourth step, record the optimal solution in this round\n",
    "    H_bestX[t - 1, :] = bestx\n",
    "\n",
    "    # fourth step, record the realization of demand\n",
    "    if price_offered_index < K + 1:\n",
    "        H_D[t - 1, :] = mybinomial(np.ones(N), theta[price_offered_index - 1, :]) # record the realization of demand\n",
    "    else: # the demand must be zero\n",
    "        H_D[t - 1, :] = np.zeros(N)\n",
    "\n",
    "    # fourth step, record the reward in this period\n",
    "    if price_offered_index < K + 1:\n",
    "        H_reward[t - 1] = P_list[price_offered_index - 1, :].dot(H_D[t - 1, :])  # record the realization of demand\n",
    "    else: # the demand must be zero\n",
    "        H_reward[t - 1] = 0\n",
    "\n",
    "    # fourth step, record the remain inventory, size(A) = [N, M]\n",
    "    H_I[t, :] = H_I[t - 1, :] - np.transpose(A).dot(H_D[t - 1, :])\n",
    "    if not all(H_I[t, :] >= 0):\n",
    "        break\n",
    "\n",
    "print(\"Total reward of known distribution: {:f}\".format(np.sum(H_reward)))"
   ]
  },
  {
   "cell_type": "raw",
   "id": "0e9f0370",
   "metadata": {
    "code_folding": [
     0
    ],
    "hidden": true
   },
   "source": [
    "# then input the experiment into csc file, we use period as index\n",
    "data = pd.DataFrame({\"Pricing_index\": H_P, \"Reward\": H_reward})\n",
    "data['Period_index'] = range(1, T+1)\n",
    "# add the demand of each product\n",
    "data = pd.concat([data, pd.DataFrame(H_D, columns = [\"product_{:d}_demand\".format(nindex) for nindex in range(1,N+1)])], axis = 1) \n",
    "# add the remain invetory of each resource\n",
    "data = pd.concat([data, pd.DataFrame(H_I[0:T, :], columns = [\"resouce_{:d}\".format(mindex) for mindex in range(1,M+1)])], axis = 1) \n",
    "# add the best solution in each round\n",
    "data = pd.concat([data, \n",
    "                  pd.DataFrame(H_bestX,\\\n",
    "                              columns = [\"use_price_index_{:d}\".format(kindex) for kindex in range(1,K+1)] + [\"use_infinite_price\"])],\n",
    "                  axis = 1)\n",
    "# add the estimation of alpha\n",
    "data = pd.concat([data,\\\n",
    "                 pd.DataFrame(np.reshape(a = H_alpha[0:T, :, :], newshape =(T, K * N)),\n",
    "                             columns = [\"alpha_k-{:d}_n-{:d}\".format(k, n) for k in range(1, K+1) for n in range(1, N+1) ])],\n",
    "                axis = 1)\n",
    "# add the estimation of alpha\n",
    "data = pd.concat([data,\\\n",
    "                 pd.DataFrame(np.reshape(a = H_beta[0:T, :, :], newshape =(T, K * N)),\n",
    "                             columns = [\"beta_k-{:d}_n-{:d}\".format(k, n) for k in range(1, K+1) for n in range(1, N+1) ])],\n",
    "                axis = 1)\n",
    "# add the estimation of theta\n",
    "data = pd.concat([data,\\\n",
    "                 pd.DataFrame(np.reshape(a = H_theta[0:T, :, :], newshape =(T, K * N)),\n",
    "                             columns = [\"theta_k-{:d}_n-{:d}\".format(k, n) for k in range(1, K+1) for n in range(1, N+1) ])],\n",
    "                axis = 1)\n",
    "exp_filename = moment + \"_K-{:d}_N-{:d}_M-{:d}_T-{:d}_randomseed-{:d}_RealThetaExperiment.csv\".format(K, N, M, T, random_seed)\n",
    "data.to_csv(\".\\\\Result_Ferreira et.al. 2018 Algorithm 2\\\\\" + exp_filename, index = False)"
   ]
  },
  {
   "cell_type": "raw",
   "id": "2df11e94",
   "metadata": {
    "hidden": true
   },
   "source": [
    "c"
   ]
  },
  {
   "cell_type": "markdown",
   "id": "01f9222f",
   "metadata": {},
   "source": [
    "## 3rd algotithm"
   ]
  },
  {
   "cell_type": "markdown",
   "id": "06409025",
   "metadata": {},
   "source": [
    "## 4 th alogrithm\n",
    "We implement the 4th algorithm of Ferreira et.al. 2018\n",
    "\n",
    "<img src=\"./Figure/Algorithem_4_of_Ferreira_et_al_2018.png\" style=\"zoom:70%\" />\n",
    "\n",
    "Following is its notation and description\n",
    "\n",
    "|      Parameter       | description                                                  |\n",
    "| :------------------: | :----------------------------------------------------------- |\n",
    "|         $K$          | Total number of available price vectors                      |\n",
    "|         $N$          | Total number of products                                    |\n",
    "|         $M$          | Total number of kinds of resource                            |\n",
    "|         $T$          | Total number of periods                                      |\n",
    "|        $[x]$         | We define $[x]$ as a set, $[x]=\\{1,2,\\cdots, x\\}$            |\n",
    "|         $i$          | Index of products                                            |\n",
    "|         $j$          | Index of resources                                           |\n",
    "|         $t$          | Index of period                                              |\n",
    "|     $I_j,I_j(t)$     | $I_j$ is the initial inventory for each resource $j\\in [M]$, $I_j(t)$ is the inventory at the end of period $t$. $I_j(0)=I_j$ |\n",
    "|       $a_{ij}$       | When we produced one unit item $i$, it would consume $a_{ij}$ unit $j$ |\n",
    "|        $c_j$         | we define $c_j=\\frac{I_j}{t}$                                |\n",
    "|        $p_k$         | We define $\\{p_1,p_2,\\cdots,p_K\\}$ as the admissible price vectors, each $p_k$ is a $N\\times 1$ vector, specifying the price of each product, $p_k=(p_{1k},\\cdots,p_{Nk})$, where $p_{ik}$ is the price of product $i$, for $i\\in [N]$. We define $p_{\\infty}$ as a \"shut-off\" price, such that the demand for any product under this price is zero. |\n",
    "|        $P(t)$        | We denote by $P(t)=(P_1(t),\\cdots,P_N(t))$ the prices chosen by the retailer in this period, and require that $P(t)\\in \\{p_1,p_2,\\cdots,p_K,p_{\\infty}\\}$ |\n",
    "|        $D(t)$        | We denote by $D(t) = (D_1(t),\\cdots,D_N(t))$ the demand of each product at period $t$. We assume that given $P(t)=p_k$, the demand $D(t)$ is sampled from a probability distribution on $\\mathbb{R}^{N}_+$ with joint cumulative distribution function (CDF) $F (x_1,\\cdots,x_N, pk, \\theta )$. $D(t)$ is independent of the history $\\mathcal{H}_{t-1}$, given $P(t)$ |\n",
    "|       $\\theta$       | $\\theta$ is the parameter of demand distribution, takes values in the parameter space $\\Theta\\subset\\mathbb{R}^l$. The nature would sample $\\theta$ from a prior distribution at the beginning form the process. The distribution is assumed to be subexponential; |\n",
    "|  $\\mathcal{H}_{t }$  | $\\mathcal{H}_{t}=(P(1),D(1),\\cdots,P(t),D(t))$               |\n",
    "|       $\\xi(t)$       | At the beginning of each period $t\\in[T]$, the retailer observes some context $\\xi(t)$, $\\xi(t)$ belongs to some discrete set $\\mathcal{X}$. We assume $\\xi(t)$ is sampled i.i.d from a known distribution. |\n",
    " | $d_{ik}(\\xi|\\theta)$ | The mean demand of product $i\\in [N]$ under price vector $p_k$, $\\forall k\\in[K]$, given context $\\xi$ and parameter $\\theta$ |\n"
   ]
  },
  {
   "cell_type": "markdown",
   "id": "783a8b4f",
   "metadata": {},
   "source": [
    "We assume the distribution of demand is calculated as follows: \n",
    "\\begin{equation}\n",
    "(D_1,D_2,\\cdots,D_{N}) \\sim F(d_1, d_2,\\cdots,d_N|P,\\xi,\\theta)\n",
    "\\end{equation}\n",
    "\n",
    "$P$ is the price vector we offer, $\\xi$ is the observed context variable, $\\theta$ is the parameter that we need to estimate, it is sampled from the nature at the beginning of our study. We assume $\\theta \\sim f_{\\Theta}(\\theta)$\n",
    "\n",
    "We furtherly assume the density function of this distribution is $f(d_1, d_2,\\cdots,d_N|P,\\xi,\\theta)$.  Then we will derive the posterior distribution of $ \\theta$\n",
    "\n",
    "$$\n",
    "\\begin{align}\n",
    "&f(\\theta \\ | \\ (P_1,\\xi_1,D^{(1)}), \\ (P_2,\\xi_2,D^{(2)}),\\cdots, \\ (P_t,\\xi_t,D^{(t)}))\\\\\n",
    "=&\\frac{f(\\theta, \\ (P_1,\\xi_1,D^{(1)}), \\ (P_2,\\xi_2,D^{(2)}),\\cdots, \\ (P_t,\\xi_t,D^{(t)}))}{\\int_{-\\infty}^{\\infty}f_{\\Theta}(\\theta)\\prod_{i=1}^tf(d^{(i)}_1, d^{(i)}_2,\\cdots,d^{(i)}_N|P_i,\\xi_i,\\theta)d\\theta}\\\\\n",
    "=&\\frac{f(\\ (P_1,\\xi_1,D^{(1)}), \\ (P_2,\\xi_2,D^{(2)}),\\cdots, \\ (P_t,\\xi_t,D^{(t)})\\ | \\ \\theta) f_{\\Theta}(\\theta)}{\\int_{-\\infty}^{\\infty}f_{\\Theta}(\\theta)\\prod_{i=1}^tf(d^{(i)}_1, d^{(i)}_2,\\cdots,d^{(i)}_N|P_i,\\xi_i,\\theta)d\\theta}\\\\\n",
    "=&\\frac{ f_{\\Theta}(\\theta)\\prod_{i=1}^t f(P_t,\\xi_t,D^{(t)}| \\ \\theta)}{\\int_{-\\infty}^{\\infty}f_{\\Theta}(\\theta)\\prod_{i=1}^tf(d^{(i)}_1, d^{(i)}_2,\\cdots,d^{(i)}_N|P_i,\\xi_i,\\theta)d\\theta}\\\\\n",
    "=&\\frac{ f_{\\Theta}(\\theta)\\prod_{i=1}^t f(D^{(i)}| \\ \\theta, P_t,\\xi_t,)}{\\int_{-\\infty}^{\\infty}f_{\\Theta}(\\theta)\\prod_{i=1}^tf(d^{(i)}_1, d^{(i)}_2,\\cdots,d^{(i)}_N|P_i,\\xi_i,\\theta)d\\theta}\\\\\n",
    "=&\\frac{ f_{\\Theta}(\\theta)\\prod_{i=1}^t f(d^{(i)}_1, d^{(i)}_2,\\cdots,d^{(i)}_N| \\ \\theta, P_t,\\xi_t,)}{\\int_{-\\infty}^{\\infty}f_{\\Theta}(\\theta)\\prod_{i=1}^tf(d^{(i)}_1, d^{(i)}_2,\\cdots,d^{(i)}_N|P_i,\\xi_i,\\theta)d\\theta}\\\\\n",
    "\\end{align}\n",
    "$$\n",
    "\n",
    "\n",
    "$P_i$ is the pricing vector we choose in the $i^{th}$ period\n",
    "\n",
    "$\\xi_i$ is the context we observed in the $i^{th}$ period\n",
    "\n",
    "$D^{(i)}$ is the demand vector in $i^{th}$ period\n",
    "\n",
    "$d^{(i)}_j$ is the demand of $j^{th}$ product in $i^{th}$ period\n",
    "\n",
    "To implement this procedure, we need to solve 3 problems\n",
    "1. Given the real demand generator, we need to calculate its density function.\n",
    "2. sample random number from a customized density function\n",
    "3. calculate the integral, numerically\n",
    "\n",
    "We assume the demand follows discrete distribution, that is $d_i$"
   ]
  },
  {
   "cell_type": "code",
   "execution_count": 24,
   "id": "9e362ec7",
   "metadata": {
    "code_folding": []
   },
   "outputs": [],
   "source": [
    "# Generate parameters\n",
    "np.random.seed(12345)\n",
    "\n",
    "K = np.random.randint(low = 1, high = 5) # Total number of available price vectors\n",
    "N = np.random.randint(low = 1, high = 5) # Total number of products\n",
    "M = np.random.randint(low = 1, high = 5) # Total number of kinds of resource\n",
    "T = 1000 # Total number of periods\n",
    "\n",
    "# generate the demand \n",
    "\n",
    "# each row represent an admissible pricing strategy\n",
    "P_list = np.float64(np.random.randint(low = 1, high = 10, size = (K, M)))\n",
    "\n",
    "# type of context\n",
    "xi_type_num = np.random.randint(low = 3, high = 5 ) # maximum number of context type\n",
    "xi_list = np.float64(np.arange(1, xi_type_num, 1))\n",
    "\n",
    "# initialize inventory\n",
    "I_0 = np.random.randint(low = 9000, high = 11000, size = M)\n",
    "\n",
    "# initialize a_ij\n",
    "A = np.float64(np.random.randint(low = 5, high = 15, size = (N,M)))\n",
    "\n",
    "# real distribution of theta, we adopt beta distribution here, \n",
    "# here theta is the parameter of beta dirstribution\n",
    "# we assume the alpha and beta is independent of pricing vector , observed vector, and product\n",
    "alpha_real_scalar = np.random.randint(low = 1, high = 3)\n",
    "beta_real_scalar = np.random.randint(low = 2, high = 5)\n",
    "alpha_real = alpha_real_scalar * np.ones(shape = (K, xi_type, N))\n",
    "beta_real = beta_real_scalar * np.ones(shape = (K, xi_type, N))\n",
    "# alpha_real = np.random.randint(low = 1, high = 3, size = (K, xi_type, N))\n",
    "# beta_real = np.random.randint(low = 2, high = 5, size = (K, xi_type, N))\n",
    "\n",
    "# initialize history\n",
    "H_P = np.zeros(shape = T) # the index of pricing vector we used in each period\n",
    "H_xi = np.zeros(shape = T)# the index of observed context in each period\n",
    "H_D = np.zeros(shape = (T, N)) # the demand of products in each period  \n",
    "\n",
    "H_I = np.zeros(shape = (T, M)) # avaliable inventory in each period\n",
    "H_I[0, :] = np.float64(I_0)\n",
    "\n",
    "# each realization of price vector, observed context, index of period,\n",
    "# corresponds to a estimate\n",
    "H_alpha = np.zeros(shape = (T,K,xi_type_num,N))\n",
    "H_beta = np.zeros(shape = (T,K,xi_type_num,N))\n",
    "for kk in range(0, K):\n",
    "    for xi_index in range(0, xi_type_num):\n",
    "        H_alpha[0, kk, xi_index, :] = 1*np.ones(N)\n",
    "        H_beta[0, kk, xi_index, :] = 1*np.ones(N)"
   ]
  },
  {
   "cell_type": "code",
   "execution_count": null,
   "id": "39b87114",
   "metadata": {},
   "outputs": [],
   "source": [
    "# Given the pricing vector and parameter, we use this function to generate demand\n",
    "def GetDemand(P, xi, theta, num = 1):\n",
    "    # P is the pricing vector, N*1\n",
    "    # xi is the context observed by the merchant\n",
    "    # theta is the parameter of beta distribution, a N*2 vector\n",
    "    # num is the size of return demand, we would return M*num array, each column denote a sample demand\n",
    "    \n",
    "    # return value is a M*num array, each column denote a sample demand\n",
    "    demand_sample = np.zeros(N, num)\n",
    "    for ii in range(N):\n",
    "        demand_sample[ii, :] = np.random.beta(alpha = alpha[ii], beta = beta[ii], size = num) + xi*5 - P[ii]*2\n",
    "    return demand_sample"
   ]
  },
  {
   "cell_type": "markdown",
   "id": "5c0a62af",
   "metadata": {},
   "source": [
    "We derive the update formular here"
   ]
  },
  {
   "cell_type": "code",
   "execution_count": null,
   "id": "65c24c5d",
   "metadata": {},
   "outputs": [],
   "source": [
    "def UpdatePosteriorDistribution(t, H_P, H_xi, H_D, H_alpha, H_beta):\n",
    "    # t is the index of period, the history is available from 0-t\n",
    "    # H_P is the index of pricing vector in each period\n",
    "    # H_xi is the index of obeserved context in each period\n",
    "    \n",
    "    # alpha_real and beta_real is the estimation of alpha and beta, given \n",
    "    alpha_real = alpha_real_scalar * np.ones(shape = (K, xi_type, N))\n",
    "    beta_real = beta_real_scalar * np.ones(shape = (K, xi_type, N))"
   ]
  },
  {
   "cell_type": "code",
   "execution_count": 31,
   "id": "74cede58",
   "metadata": {},
   "outputs": [
    {
     "ename": "AttributeError",
     "evalue": "module 'pyscipopt' has no attribute 'model'",
     "output_type": "error",
     "traceback": [
      "\u001b[1;31m---------------------------------------------------------------------------\u001b[0m",
      "\u001b[1;31mAttributeError\u001b[0m                            Traceback (most recent call last)",
      "\u001b[1;32m<ipython-input-31-0e6b062a2a6a>\u001b[0m in \u001b[0;36m<module>\u001b[1;34m\u001b[0m\n\u001b[0;32m      1\u001b[0m \u001b[1;31m# implementation of algorithm\u001b[0m\u001b[1;33m\u001b[0m\u001b[1;33m\u001b[0m\u001b[1;33m\u001b[0m\u001b[0m\n\u001b[1;32m----> 2\u001b[1;33m \u001b[0mmodel\u001b[0m \u001b[1;33m=\u001b[0m \u001b[0mpyscipopt\u001b[0m\u001b[1;33m.\u001b[0m\u001b[0mmodel\u001b[0m\u001b[1;33m\u001b[0m\u001b[1;33m\u001b[0m\u001b[0m\n\u001b[0m",
      "\u001b[1;31mAttributeError\u001b[0m: module 'pyscipopt' has no attribute 'model'"
     ]
    }
   ],
   "source": [
    "# implementation of algorithm\n",
    "for tt in range(0, T):\n",
    "    # step 1, sample a randome parameter theta\n",
    "    alpha_tt = H_alpha[tt]\n",
    "    beta_tt = H_beta[tt]\n",
    "    # step 1, calculate the mean demand\n",
    "    d_mean_tt = np.zeros(N, K)\n",
    "    for kk in range(0, K): # traverse all the admissable pricing vector\n",
    "\n"
   ]
  },
  {
   "cell_type": "code",
   "execution_count": null,
   "id": "886a3e62",
   "metadata": {},
   "outputs": [],
   "source": []
  },
  {
   "cell_type": "code",
   "execution_count": 23,
   "id": "0feaac5f",
   "metadata": {},
   "outputs": [
    {
     "name": "stderr",
     "output_type": "stream",
     "text": [
      "<ipython-input-23-92a6b828a7ec>:1: DeprecationWarning: `np.float` is a deprecated alias for the builtin `float`. To silence this warning, use `float` by itself. Doing this will not modify any behavior and is safe. If you specifically wanted the numpy scalar type, use `np.float64` here.\n",
      "Deprecated in NumPy 1.20; for more details and guidance: https://numpy.org/devdocs/release/1.20.0-notes.html#deprecations\n",
      "  np.float(12)\n"
     ]
    },
    {
     "data": {
      "text/plain": [
       "12.0"
      ]
     },
     "execution_count": 23,
     "metadata": {},
     "output_type": "execute_result"
    }
   ],
   "source": [
    "np.float64(12)"
   ]
  },
  {
   "cell_type": "code",
   "execution_count": 22,
   "id": "79472837",
   "metadata": {},
   "outputs": [
    {
     "data": {
      "text/plain": [
       "array([1., 1., 1., 1., 1.])"
      ]
     },
     "execution_count": 22,
     "metadata": {},
     "output_type": "execute_result"
    }
   ],
   "source": [
    "np.ones(5)"
   ]
  },
  {
   "cell_type": "code",
   "execution_count": 21,
   "id": "201d9881",
   "metadata": {},
   "outputs": [
    {
     "data": {
      "text/plain": [
       "array([0.25      , 0.33333333])"
      ]
     },
     "execution_count": 21,
     "metadata": {},
     "output_type": "execute_result"
    }
   ],
   "source": [
    "theta_real"
   ]
  },
  {
   "cell_type": "code",
   "execution_count": 15,
   "id": "947c2a82",
   "metadata": {},
   "outputs": [
    {
     "data": {
      "text/plain": [
       "array([1, 2, 3])"
      ]
     },
     "execution_count": 15,
     "metadata": {},
     "output_type": "execute_result"
    }
   ],
   "source": [
    "xi_list"
   ]
  },
  {
   "cell_type": "code",
   "execution_count": 16,
   "id": "fffffc00",
   "metadata": {},
   "outputs": [
    {
     "data": {
      "text/plain": [
       "array([[2, 5],\n",
       "       [6, 3],\n",
       "       [2, 7]])"
      ]
     },
     "execution_count": 16,
     "metadata": {},
     "output_type": "execute_result"
    }
   ],
   "source": [
    "P_list"
   ]
  },
  {
   "cell_type": "code",
   "execution_count": 17,
   "id": "47a3f784",
   "metadata": {},
   "outputs": [
    {
     "data": {
      "text/plain": [
       "array([4, 8, 4])"
      ]
     },
     "execution_count": 17,
     "metadata": {},
     "output_type": "execute_result"
    }
   ],
   "source": [
    "P_list[:,0] + 2"
   ]
  },
  {
   "cell_type": "code",
   "execution_count": 9,
   "id": "3256e3f5",
   "metadata": {},
   "outputs": [
    {
     "data": {
      "text/plain": [
       "array([10339,  9654])"
      ]
     },
     "execution_count": 9,
     "metadata": {},
     "output_type": "execute_result"
    }
   ],
   "source": [
    "I_0"
   ]
  },
  {
   "cell_type": "code",
   "execution_count": 10,
   "id": "ec26f18d",
   "metadata": {},
   "outputs": [
    {
     "data": {
      "text/plain": [
       "array([[10339.,     0.,     0., ...,     0.,     0.,     0.],\n",
       "       [ 9654.,     0.,     0., ...,     0.,     0.,     0.]])"
      ]
     },
     "execution_count": 10,
     "metadata": {},
     "output_type": "execute_result"
    }
   ],
   "source": [
    "I"
   ]
  },
  {
   "cell_type": "code",
   "execution_count": 2,
   "id": "c8c5d8b6",
   "metadata": {
    "collapsed": true
   },
   "outputs": [
    {
     "name": "stdout",
     "output_type": "stream",
     "text": [
      "Help on built-in function zeros in module numpy:\n",
      "\n",
      "zeros(...)\n",
      "    zeros(shape, dtype=float, order='C', *, like=None)\n",
      "    \n",
      "    Return a new array of given shape and type, filled with zeros.\n",
      "    \n",
      "    Parameters\n",
      "    ----------\n",
      "    shape : int or tuple of ints\n",
      "        Shape of the new array, e.g., ``(2, 3)`` or ``2``.\n",
      "    dtype : data-type, optional\n",
      "        The desired data-type for the array, e.g., `numpy.int8`.  Default is\n",
      "        `numpy.float64`.\n",
      "    order : {'C', 'F'}, optional, default: 'C'\n",
      "        Whether to store multi-dimensional data in row-major\n",
      "        (C-style) or column-major (Fortran-style) order in\n",
      "        memory.\n",
      "    like : array_like\n",
      "        Reference object to allow the creation of arrays which are not\n",
      "        NumPy arrays. If an array-like passed in as ``like`` supports\n",
      "        the ``__array_function__`` protocol, the result will be defined\n",
      "        by it. In this case, it ensures the creation of an array object\n",
      "        compatible with that passed in via this argument.\n",
      "    \n",
      "        .. note::\n",
      "            The ``like`` keyword is an experimental feature pending on\n",
      "            acceptance of :ref:`NEP 35 <NEP35>`.\n",
      "    \n",
      "        .. versionadded:: 1.20.0\n",
      "    \n",
      "    Returns\n",
      "    -------\n",
      "    out : ndarray\n",
      "        Array of zeros with the given shape, dtype, and order.\n",
      "    \n",
      "    See Also\n",
      "    --------\n",
      "    zeros_like : Return an array of zeros with shape and type of input.\n",
      "    empty : Return a new uninitialized array.\n",
      "    ones : Return a new array setting values to one.\n",
      "    full : Return a new array of given shape filled with value.\n",
      "    \n",
      "    Examples\n",
      "    --------\n",
      "    >>> np.zeros(5)\n",
      "    array([ 0.,  0.,  0.,  0.,  0.])\n",
      "    \n",
      "    >>> np.zeros((5,), dtype=int)\n",
      "    array([0, 0, 0, 0, 0])\n",
      "    \n",
      "    >>> np.zeros((2, 1))\n",
      "    array([[ 0.],\n",
      "           [ 0.]])\n",
      "    \n",
      "    >>> s = (2,2)\n",
      "    >>> np.zeros(s)\n",
      "    array([[ 0.,  0.],\n",
      "           [ 0.,  0.]])\n",
      "    \n",
      "    >>> np.zeros((2,), dtype=[('x', 'i4'), ('y', 'i4')]) # custom dtype\n",
      "    array([(0, 0), (0, 0)],\n",
      "          dtype=[('x', '<i4'), ('y', '<i4')])\n",
      "\n"
     ]
    }
   ],
   "source": [
    "help(np.zeros)"
   ]
  },
  {
   "cell_type": "code",
   "execution_count": null,
   "id": "ff1da6c6",
   "metadata": {},
   "outputs": [],
   "source": []
  }
 ],
 "metadata": {
  "kernelspec": {
   "display_name": "Python 3",
   "language": "python",
   "name": "python3"
  },
  "language_info": {
   "codemirror_mode": {
    "name": "ipython",
    "version": 3
   },
   "file_extension": ".py",
   "mimetype": "text/x-python",
   "name": "python",
   "nbconvert_exporter": "python",
   "pygments_lexer": "ipython3",
   "version": "3.8.8"
  }
 },
 "nbformat": 4,
 "nbformat_minor": 5
}
