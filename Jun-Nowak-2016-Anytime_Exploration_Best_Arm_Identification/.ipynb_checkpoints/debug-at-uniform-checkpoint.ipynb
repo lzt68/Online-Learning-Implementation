{
 "cells": [
  {
   "cell_type": "code",
   "execution_count": 7,
   "id": "053483d6",
   "metadata": {},
   "outputs": [
    {
     "ename": "ModuleNotFoundError",
     "evalue": "No module named 'env'",
     "output_type": "error",
     "traceback": [
      "\u001b[1;31m---------------------------------------------------------------------------\u001b[0m",
      "\u001b[1;31mModuleNotFoundError\u001b[0m                       Traceback (most recent call last)",
      "\u001b[1;32m<ipython-input-7-8be082d96a93>\u001b[0m in \u001b[0;36m<module>\u001b[1;34m\u001b[0m\n\u001b[0;32m      3\u001b[0m \u001b[0msys\u001b[0m\u001b[1;33m.\u001b[0m\u001b[0mpath\u001b[0m\u001b[1;33m.\u001b[0m\u001b[0mappend\u001b[0m\u001b[1;33m(\u001b[0m\u001b[1;34m'./BAI-Resource-Constraint/'\u001b[0m\u001b[1;33m)\u001b[0m\u001b[1;33m\u001b[0m\u001b[1;33m\u001b[0m\u001b[0m\n\u001b[0;32m      4\u001b[0m \u001b[1;33m\u001b[0m\u001b[0m\n\u001b[1;32m----> 5\u001b[1;33m \u001b[1;32mfrom\u001b[0m \u001b[0menv\u001b[0m \u001b[1;32mimport\u001b[0m \u001b[1;33m*\u001b[0m\u001b[1;33m\u001b[0m\u001b[1;33m\u001b[0m\u001b[0m\n\u001b[0m",
      "\u001b[1;31mModuleNotFoundError\u001b[0m: No module named 'env'"
     ]
    }
   ],
   "source": [
    "import sys\n",
    "sys.path.append('../BAI-Resource-Constraint/')\n",
    "\n",
    "# from parentdirectory.geeks import geek_method\n",
    "from BAI-Resource-Constraint.env import *"
   ]
  },
  {
   "cell_type": "code",
   "execution_count": 11,
   "id": "32251457",
   "metadata": {},
   "outputs": [
    {
     "name": "stdout",
     "output_type": "stream",
     "text": [
      "[WinError 2] 系统找不到指定的文件。: './BAI-Resource-Constraint/'\n",
      "E:\\工作事务\\个人工作\\学术研究\\BAI-Resource-Constraint\\Reproduce-Jun2016\n"
     ]
    }
   ],
   "source": [
    "cd ./BAI-Resource-Constraint/"
   ]
  },
  {
   "cell_type": "code",
   "execution_count": null,
   "id": "fb70f5be",
   "metadata": {},
   "outputs": [],
   "source": []
  }
 ],
 "metadata": {
  "kernelspec": {
   "display_name": "Python 3",
   "language": "python",
   "name": "python3"
  },
  "language_info": {
   "codemirror_mode": {
    "name": "ipython",
    "version": 3
   },
   "file_extension": ".py",
   "mimetype": "text/x-python",
   "name": "python",
   "nbconvert_exporter": "python",
   "pygments_lexer": "ipython3",
   "version": "3.8.8"
  }
 },
 "nbformat": 4,
 "nbformat_minor": 5
}
