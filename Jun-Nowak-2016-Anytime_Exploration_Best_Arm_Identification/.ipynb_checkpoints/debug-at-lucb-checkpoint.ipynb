{
 "cells": [
  {
   "cell_type": "markdown",
   "id": "430b82f0",
   "metadata": {
    "papermill": {
     "duration": 0.00596,
     "end_time": "2022-12-02T14:21:43.333912",
     "exception": false,
     "start_time": "2022-12-02T14:21:43.327952",
     "status": "completed"
    },
    "tags": []
   },
   "source": [
    "# Reimplement Jun2016\n",
    "\n",
    "In this notebook, we are going to reimplement the numeric experiment in Jun 2016, to make sure we correctly implement the \n",
    "AT-LUCB algorithm"
   ]
  },
  {
   "cell_type": "code",
   "execution_count": 1,
   "id": "19377271",
   "metadata": {
    "execution": {
     "iopub.execute_input": "2022-12-02T14:21:43.346187Z",
     "iopub.status.busy": "2022-12-02T14:21:43.345554Z",
     "iopub.status.idle": "2022-12-02T14:21:43.364869Z",
     "shell.execute_reply": "2022-12-02T14:21:43.362781Z"
    },
    "papermill": {
     "duration": 0.030138,
     "end_time": "2022-12-02T14:21:43.368590",
     "exception": false,
     "start_time": "2022-12-02T14:21:43.338452",
     "status": "completed"
    },
    "tags": []
   },
   "outputs": [
    {
     "name": "stdout",
     "output_type": "stream",
     "text": [
      "/kaggle/input/bairesourceconstaintnumericexperiment\n"
     ]
    }
   ],
   "source": [
    "cd /kaggle/input/bairesourceconstaintnumericexperiment"
   ]
  },
  {
   "cell_type": "code",
   "execution_count": 4,
   "id": "050316d0",
   "metadata": {
    "execution": {
     "iopub.execute_input": "2022-12-02T14:21:43.380270Z",
     "iopub.status.busy": "2022-12-02T14:21:43.379341Z",
     "iopub.status.idle": "2022-12-02T14:21:43.411979Z",
     "shell.execute_reply": "2022-12-02T14:21:43.410662Z"
    },
    "papermill": {
     "duration": 0.041887,
     "end_time": "2022-12-02T14:21:43.415076",
     "exception": false,
     "start_time": "2022-12-02T14:21:43.373189",
     "status": "completed"
    },
    "tags": []
   },
   "outputs": [
    {
     "ename": "ImportError",
     "evalue": "attempted relative import with no known parent package",
     "output_type": "error",
     "traceback": [
      "\u001b[1;31m---------------------------------------------------------------------------\u001b[0m",
      "\u001b[1;31mImportError\u001b[0m                               Traceback (most recent call last)",
      "\u001b[1;32m<ipython-input-4-9f43d768cfed>\u001b[0m in \u001b[0;36m<module>\u001b[1;34m\u001b[0m\n\u001b[0;32m      1\u001b[0m \u001b[1;32mimport\u001b[0m \u001b[0mnumpy\u001b[0m \u001b[1;32mas\u001b[0m \u001b[0mnp\u001b[0m\u001b[1;33m\u001b[0m\u001b[1;33m\u001b[0m\u001b[0m\n\u001b[1;32m----> 2\u001b[1;33m \u001b[1;32mfrom\u001b[0m \u001b[1;33m.\u001b[0m\u001b[1;33m.\u001b[0m\u001b[0menv\u001b[0m \u001b[1;32mimport\u001b[0m \u001b[1;33m*\u001b[0m\u001b[1;33m\u001b[0m\u001b[1;33m\u001b[0m\u001b[0m\n\u001b[0m\u001b[0;32m      3\u001b[0m \u001b[1;32mfrom\u001b[0m \u001b[1;33m.\u001b[0m\u001b[1;33m.\u001b[0m\u001b[0mgent\u001b[0m \u001b[1;32mimport\u001b[0m \u001b[1;33m*\u001b[0m\u001b[1;33m\u001b[0m\u001b[1;33m\u001b[0m\u001b[0m\n\u001b[0;32m      4\u001b[0m \u001b[1;32mfrom\u001b[0m \u001b[1;33m.\u001b[0m\u001b[1;33m.\u001b[0m\u001b[0mutils\u001b[0m \u001b[1;32mimport\u001b[0m \u001b[1;33m*\u001b[0m\u001b[1;33m\u001b[0m\u001b[1;33m\u001b[0m\u001b[0m\n",
      "\u001b[1;31mImportError\u001b[0m: attempted relative import with no known parent package"
     ]
    }
   ],
   "source": [
    "import numpy as np\n",
    "from ..env import *\n",
    "from ..agent import *\n",
    "from ..utils import *"
   ]
  },
  {
   "cell_type": "code",
   "execution_count": 3,
   "id": "86188836",
   "metadata": {
    "execution": {
     "iopub.execute_input": "2022-12-02T14:21:43.425390Z",
     "iopub.status.busy": "2022-12-02T14:21:43.424944Z",
     "iopub.status.idle": "2022-12-02T14:21:43.432315Z",
     "shell.execute_reply": "2022-12-02T14:21:43.430995Z"
    },
    "papermill": {
     "duration": 0.017432,
     "end_time": "2022-12-02T14:21:43.436863",
     "exception": false,
     "start_time": "2022-12-02T14:21:43.419431",
     "status": "completed"
    },
    "tags": []
   },
   "outputs": [
    {
     "name": "stdout",
     "output_type": "stream",
     "text": [
      "/kaggle/working\n"
     ]
    }
   ],
   "source": [
    "cd /kaggle/working/"
   ]
  },
  {
   "cell_type": "code",
   "execution_count": 7,
   "id": "87bf37c1",
   "metadata": {
    "code_folding": [
     0
    ],
    "collapsed": true,
    "execution": {
     "iopub.execute_input": "2022-12-02T14:21:43.503296Z",
     "iopub.status.busy": "2022-12-02T14:21:43.502872Z",
     "iopub.status.idle": "2022-12-02T17:41:02.573546Z",
     "shell.execute_reply": "2022-12-02T17:41:02.572279Z"
    },
    "papermill": {
     "duration": 11959.078784,
     "end_time": "2022-12-02T17:41:02.576143",
     "exception": false,
     "start_time": "2022-12-02T14:21:43.497359",
     "status": "completed"
    },
    "tags": []
   },
   "outputs": [
    {
     "name": "stdout",
     "output_type": "stream",
     "text": [
      "1/200 experiment begins\n",
      "2/200 experiment begins\n",
      "3/200 experiment begins\n",
      "4/200 experiment begins\n",
      "5/200 experiment begins\n",
      "6/200 experiment begins\n",
      "7/200 experiment begins\n",
      "8/200 experiment begins\n",
      "9/200 experiment begins\n",
      "10/200 experiment begins\n",
      "11/200 experiment begins\n",
      "12/200 experiment begins\n",
      "13/200 experiment begins\n",
      "14/200 experiment begins\n",
      "15/200 experiment begins\n",
      "16/200 experiment begins\n",
      "17/200 experiment begins\n",
      "18/200 experiment begins\n",
      "19/200 experiment begins\n",
      "20/200 experiment begins\n",
      "21/200 experiment begins\n",
      "22/200 experiment begins\n",
      "23/200 experiment begins\n",
      "24/200 experiment begins\n",
      "25/200 experiment begins\n",
      "26/200 experiment begins\n",
      "27/200 experiment begins\n",
      "28/200 experiment begins\n",
      "29/200 experiment begins\n",
      "30/200 experiment begins\n",
      "31/200 experiment begins\n",
      "32/200 experiment begins\n",
      "33/200 experiment begins\n",
      "34/200 experiment begins\n",
      "35/200 experiment begins\n",
      "36/200 experiment begins\n",
      "37/200 experiment begins\n",
      "38/200 experiment begins\n",
      "39/200 experiment begins\n",
      "40/200 experiment begins\n",
      "41/200 experiment begins\n",
      "42/200 experiment begins\n",
      "43/200 experiment begins\n",
      "44/200 experiment begins\n",
      "45/200 experiment begins\n",
      "46/200 experiment begins\n",
      "47/200 experiment begins\n",
      "48/200 experiment begins\n",
      "49/200 experiment begins\n",
      "50/200 experiment begins\n",
      "51/200 experiment begins\n",
      "52/200 experiment begins\n",
      "53/200 experiment begins\n",
      "54/200 experiment begins\n",
      "55/200 experiment begins\n",
      "56/200 experiment begins\n",
      "57/200 experiment begins\n",
      "58/200 experiment begins\n",
      "59/200 experiment begins\n",
      "60/200 experiment begins\n",
      "61/200 experiment begins\n",
      "62/200 experiment begins\n",
      "63/200 experiment begins\n",
      "64/200 experiment begins\n",
      "65/200 experiment begins\n",
      "66/200 experiment begins\n",
      "67/200 experiment begins\n",
      "68/200 experiment begins\n",
      "69/200 experiment begins\n",
      "70/200 experiment begins\n",
      "71/200 experiment begins\n",
      "72/200 experiment begins\n",
      "73/200 experiment begins\n",
      "74/200 experiment begins\n",
      "75/200 experiment begins\n",
      "76/200 experiment begins\n",
      "77/200 experiment begins\n",
      "78/200 experiment begins\n",
      "79/200 experiment begins\n",
      "80/200 experiment begins\n",
      "81/200 experiment begins\n",
      "82/200 experiment begins\n",
      "83/200 experiment begins\n",
      "84/200 experiment begins\n",
      "85/200 experiment begins\n",
      "86/200 experiment begins\n",
      "87/200 experiment begins\n",
      "88/200 experiment begins\n",
      "89/200 experiment begins\n",
      "90/200 experiment begins\n",
      "91/200 experiment begins\n",
      "92/200 experiment begins\n",
      "93/200 experiment begins\n",
      "94/200 experiment begins\n",
      "95/200 experiment begins\n",
      "96/200 experiment begins\n",
      "97/200 experiment begins\n",
      "98/200 experiment begins\n",
      "99/200 experiment begins\n",
      "100/200 experiment begins\n",
      "101/200 experiment begins\n",
      "102/200 experiment begins\n",
      "103/200 experiment begins\n",
      "104/200 experiment begins\n",
      "105/200 experiment begins\n",
      "106/200 experiment begins\n",
      "107/200 experiment begins\n",
      "108/200 experiment begins\n",
      "109/200 experiment begins\n",
      "110/200 experiment begins\n",
      "111/200 experiment begins\n",
      "112/200 experiment begins\n",
      "113/200 experiment begins\n",
      "114/200 experiment begins\n",
      "115/200 experiment begins\n",
      "116/200 experiment begins\n",
      "117/200 experiment begins\n",
      "118/200 experiment begins\n",
      "119/200 experiment begins\n",
      "120/200 experiment begins\n",
      "121/200 experiment begins\n",
      "122/200 experiment begins\n",
      "123/200 experiment begins\n",
      "124/200 experiment begins\n",
      "125/200 experiment begins\n",
      "126/200 experiment begins\n",
      "127/200 experiment begins\n",
      "128/200 experiment begins\n",
      "129/200 experiment begins\n",
      "130/200 experiment begins\n",
      "131/200 experiment begins\n",
      "132/200 experiment begins\n",
      "133/200 experiment begins\n",
      "134/200 experiment begins\n",
      "135/200 experiment begins\n",
      "136/200 experiment begins\n",
      "137/200 experiment begins\n",
      "138/200 experiment begins\n",
      "139/200 experiment begins\n",
      "140/200 experiment begins\n",
      "141/200 experiment begins\n",
      "142/200 experiment begins\n",
      "143/200 experiment begins\n",
      "144/200 experiment begins\n",
      "145/200 experiment begins\n",
      "146/200 experiment begins\n",
      "147/200 experiment begins\n",
      "148/200 experiment begins\n",
      "149/200 experiment begins\n",
      "150/200 experiment begins\n",
      "151/200 experiment begins\n",
      "152/200 experiment begins\n",
      "153/200 experiment begins\n",
      "154/200 experiment begins\n",
      "155/200 experiment begins\n",
      "156/200 experiment begins\n",
      "157/200 experiment begins\n",
      "158/200 experiment begins\n",
      "159/200 experiment begins\n",
      "160/200 experiment begins\n",
      "161/200 experiment begins\n",
      "162/200 experiment begins\n",
      "163/200 experiment begins\n",
      "164/200 experiment begins\n",
      "165/200 experiment begins\n",
      "166/200 experiment begins\n",
      "167/200 experiment begins\n",
      "168/200 experiment begins\n",
      "169/200 experiment begins\n",
      "170/200 experiment begins\n",
      "171/200 experiment begins\n",
      "172/200 experiment begins\n",
      "173/200 experiment begins\n",
      "174/200 experiment begins\n",
      "175/200 experiment begins\n",
      "176/200 experiment begins\n",
      "177/200 experiment begins\n",
      "178/200 experiment begins\n",
      "179/200 experiment begins\n",
      "180/200 experiment begins\n",
      "181/200 experiment begins\n",
      "182/200 experiment begins\n",
      "183/200 experiment begins\n",
      "184/200 experiment begins\n",
      "185/200 experiment begins\n",
      "186/200 experiment begins\n",
      "187/200 experiment begins\n",
      "188/200 experiment begins\n",
      "189/200 experiment begins\n",
      "190/200 experiment begins\n",
      "191/200 experiment begins\n",
      "192/200 experiment begins\n",
      "193/200 experiment begins\n",
      "194/200 experiment begins\n",
      "195/200 experiment begins\n",
      "196/200 experiment begins\n",
      "197/200 experiment begins\n",
      "198/200 experiment begins\n",
      "199/200 experiment begins\n",
      "200/200 experiment begins\n"
     ]
    }
   ],
   "source": [
    "# Figure 2, Anytime Explore-1 sparse \n",
    "from tqdm import tqdm\n",
    "\n",
    "K = 1000\n",
    "demand = np.ones(K) # fixed consumption\n",
    "m = 1\n",
    "# mu = 0.9*( np.arange(K-1, -1, -1)   / (K-1))\n",
    "mu = np.zeros(K)\n",
    "mu[0] = 0.5\n",
    "n_experiment = 200\n",
    "experiment_length = 15000\n",
    "result = np.zeros((n_experiment, experiment_length))\n",
    "predict = np.zeros((n_experiment, experiment_length))\n",
    "best_arm_ = np.zeros(n_experiment)\n",
    "\n",
    "# redfine the environment, the reward here follows gaussian distribution\n",
    "class Env_FixedConsumption_Gaussian:\n",
    "    def __init__(self, r_list=[0.5, 0.25], d_list=[0.1, 0.1], K=2, C=10, random_seed=12345) -> None:\n",
    "        \"\"\"In this environment, the reward and demand are independent\n",
    "        Args:\n",
    "            r_list (list, optional): The mean reward of each arm. Defaults to [0.5, 0.25].\n",
    "            d_list (list, optional): The mean consumption of each arm. Defaults to [0.1, 0.1].\n",
    "            K (int, optional): The total number of arms. Defaults to 2.\n",
    "            C (int, optional): Initial Resource. Defaults to 10.\n",
    "            random_seed (int, optional): Random seed. Defaults to 12345.\n",
    "        \"\"\"\n",
    "        assert len(r_list) == len(d_list), \"number of arms doesn't match\"\n",
    "        assert len(r_list) == K, \"number of arms doesn't match\"\n",
    "        assert C > 0, \"initial resource should be greater than 0\"\n",
    "\n",
    "        self.r_list = r_list\n",
    "        self.d_list = d_list\n",
    "        self.K = K\n",
    "        self.C = C\n",
    "        self.consumption = 0\n",
    "        self.stop = False  # when the consumption > C-1, the algorithm stops\n",
    "        self.random_seed = random_seed\n",
    "        np.random.seed(random_seed)\n",
    "\n",
    "    def response(self, arm):\n",
    "        if not self.stop:\n",
    "            consumption = self.d_list[arm - 1]\n",
    "            reward = np.random.normal(loc=0.0, scale=0.5) + self.r_list[arm - 1] # variance = 0.25\n",
    "            self.consumption += consumption\n",
    "            if self.consumption >= self.C - 1:\n",
    "                self.stop = True\n",
    "            return consumption, reward\n",
    "        else:\n",
    "            return None\n",
    "\n",
    "    def if_stop(self):\n",
    "        return self.stop\n",
    "    \n",
    "\n",
    "for exp_index in range(n_experiment):\n",
    "    np.random.seed(exp_index)\n",
    "    print(f\"{exp_index+1}/{n_experiment} experiment begins\")\n",
    "    \n",
    "    permutation_index = np.arange(0, K)\n",
    "    np.random.shuffle(permutation_index)\n",
    "    temp_mu = mu[permutation_index]\n",
    "    temp_demand = demand[permutation_index]\n",
    "    \n",
    "    best_arm = np.argmax(temp_mu)+1\n",
    "    best_arm_[exp_index] = best_arm\n",
    "    \n",
    "    env = Env_FixedConsumption_Gaussian(r_list=temp_mu, d_list=temp_demand, K=K, C=999999, random_seed=exp_index)\n",
    "    agent = AT_LUCB_Agent(K=K, C=999999, delta_1=0.5, alpha=0.99, epsilon=0., m=m)\n",
    "    for round_index in range(experiment_length):\n",
    "        arm = agent.action()\n",
    "        d, r = env.response(arm)\n",
    "        agent.observe(demand=d, reward=r)\n",
    "        \n",
    "        # record the minimum reward of recommended arm\n",
    "        # J_t = agent.predict(m=m)\n",
    "        # result[exp_index, round_index] = np.min(temp_mu[J_t-1])\n",
    "        \n",
    "        J_t = agent.predict(m=1)\n",
    "        predict[exp_index, round_index] = J_t\n",
    "        result[exp_index, round_index] = J_t != best_arm\n",
    "    "
   ]
  },
  {
   "cell_type": "code",
   "execution_count": 8,
   "id": "8eecc001",
   "metadata": {
    "execution": {
     "iopub.execute_input": "2022-12-02T17:41:02.609788Z",
     "iopub.status.busy": "2022-12-02T17:41:02.609351Z",
     "iopub.status.idle": "2022-12-02T17:41:02.655422Z",
     "shell.execute_reply": "2022-12-02T17:41:02.654264Z"
    },
    "papermill": {
     "duration": 0.065716,
     "end_time": "2022-12-02T17:41:02.658015",
     "exception": false,
     "start_time": "2022-12-02T17:41:02.592299",
     "status": "completed"
    },
    "tags": []
   },
   "outputs": [],
   "source": [
    "np.save(\"Debug-AT-LUCB-Figure2-m_1-sparse_result.npy\", result)\n",
    "np.save(\"Debug-AT-LUCB-Figure2-m_1-sparse_predict.npy\", predict)\n",
    "np.save(\"Debug-AT-LUCB-Figure2-m_1-sparse_best-arm.npy\", best_arm_)"
   ]
  },
  {
   "cell_type": "code",
   "execution_count": 9,
   "id": "60b8b649",
   "metadata": {
    "execution": {
     "iopub.execute_input": "2022-12-02T17:41:02.692278Z",
     "iopub.status.busy": "2022-12-02T17:41:02.691582Z",
     "iopub.status.idle": "2022-12-02T17:41:02.941736Z",
     "shell.execute_reply": "2022-12-02T17:41:02.940619Z"
    },
    "papermill": {
     "duration": 0.270282,
     "end_time": "2022-12-02T17:41:02.944429",
     "exception": false,
     "start_time": "2022-12-02T17:41:02.674147",
     "status": "completed"
    },
    "tags": []
   },
   "outputs": [
    {
     "data": {
      "image/png": "[encoded data removed]",
      "text/plain": [
       "<Figure size 432x288 with 1 Axes>"
      ]
     },
     "metadata": {
      "needs_background": "light"
     },
     "output_type": "display_data"
    }
   ],
   "source": [
    "import matplotlib.pyplot as plt\n",
    "\n",
    "plt.plot(np.mean(result, axis=0))\n",
    "# plt.axhline(mu[m-1], color=\"red\")\n",
    "plt.show()"
   ]
  },
  {
   "cell_type": "code",
   "execution_count": 10,
   "id": "4632e497",
   "metadata": {
    "execution": {
     "iopub.execute_input": "2022-12-02T17:41:02.979831Z",
     "iopub.status.busy": "2022-12-02T17:41:02.978885Z",
     "iopub.status.idle": "2022-12-02T17:41:02.986875Z",
     "shell.execute_reply": "2022-12-02T17:41:02.985686Z"
    },
    "papermill": {
     "duration": 0.028,
     "end_time": "2022-12-02T17:41:02.989077",
     "exception": false,
     "start_time": "2022-12-02T17:41:02.961077",
     "status": "completed"
    },
    "tags": []
   },
   "outputs": [
    {
     "data": {
      "text/plain": [
       "array([[  1.,   1.,   1., ..., 525., 525., 525.],\n",
       "       [  1.,   1.,   1., ..., 325., 325., 325.],\n",
       "       [  2.,   3.,   4., ..., 857., 857., 857.],\n",
       "       [  1.,   1.,   1., ..., 940., 940., 940.],\n",
       "       [  1.,   2.,   2., ..., 974., 974., 974.]])"
      ]
     },
     "execution_count": 10,
     "metadata": {},
     "output_type": "execute_result"
    }
   ],
   "source": [
    "predict[0:5, ]"
   ]
  },
  {
   "cell_type": "code",
   "execution_count": 11,
   "id": "46b386b4",
   "metadata": {
    "execution": {
     "iopub.execute_input": "2022-12-02T17:41:03.023757Z",
     "iopub.status.busy": "2022-12-02T17:41:03.023357Z",
     "iopub.status.idle": "2022-12-02T17:41:03.030621Z",
     "shell.execute_reply": "2022-12-02T17:41:03.029549Z"
    },
    "papermill": {
     "duration": 0.026835,
     "end_time": "2022-12-02T17:41:03.032845",
     "exception": false,
     "start_time": "2022-12-02T17:41:03.006010",
     "status": "completed"
    },
    "tags": []
   },
   "outputs": [
    {
     "data": {
      "text/plain": [
       "array([525., 325., 857., 940., 974.])"
      ]
     },
     "execution_count": 11,
     "metadata": {},
     "output_type": "execute_result"
    }
   ],
   "source": [
    "best_arm_[0:5]"
   ]
  },
  {
   "cell_type": "code",
   "execution_count": null,
   "id": "38be36b2",
   "metadata": {
    "papermill": {
     "duration": 0.015945,
     "end_time": "2022-12-02T17:41:03.065961",
     "exception": false,
     "start_time": "2022-12-02T17:41:03.050016",
     "status": "completed"
    },
    "tags": []
   },
   "outputs": [],
   "source": []
  }
 ],
 "metadata": {
  "kernelspec": {
   "display_name": "Python 3",
   "language": "python",
   "name": "python3"
  },
  "language_info": {
   "codemirror_mode": {
    "name": "ipython",
    "version": 3
   },
   "file_extension": ".py",
   "mimetype": "text/x-python",
   "name": "python",
   "nbconvert_exporter": "python",
   "pygments_lexer": "ipython3",
   "version": "3.8.8"
  },
  "papermill": {
   "default_parameters": {},
   "duration": 11969.0919,
   "end_time": "2022-12-02T17:41:03.926614",
   "environment_variables": {},
   "exception": null,
   "input_path": "__notebook__.ipynb",
   "output_path": "__notebook__.ipynb",
   "parameters": {},
   "start_time": "2022-12-02T14:21:34.834714",
   "version": "2.3.4"
  }
 },
 "nbformat": 4,
 "nbformat_minor": 5
}
