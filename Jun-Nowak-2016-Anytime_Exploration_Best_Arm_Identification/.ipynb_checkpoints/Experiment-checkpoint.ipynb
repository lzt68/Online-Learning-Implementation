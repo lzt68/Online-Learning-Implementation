{
 "cells": [
  {
   "cell_type": "markdown",
   "id": "b4381f29",
   "metadata": {},
   "source": [
    "# Experiment\n",
    "In this notebook we compare the performance of DSH, UCB, Uniform and AT-LUCB in the synthesis setting. We aims to reproduce the Figure 2 sparse setting in Jun&Nowak 2016"
   ]
  },
  {
   "cell_type": "code",
   "execution_count": 1,
   "id": "2a460d6a",
   "metadata": {},
   "outputs": [],
   "source": [
    "# import packages\n",
    "import numpy as np\n",
    "from Source.env import Env_FixedConsumption_Gaussian\n",
    "from Source.agent import *"
   ]
  },
  {
   "cell_type": "markdown",
   "id": "d5561b57",
   "metadata": {
    "heading_collapsed": true
   },
   "source": [
    "## Uniform"
   ]
  },
  {
   "cell_type": "code",
   "execution_count": 2,
   "id": "9d46bbe0",
   "metadata": {
    "hidden": true
   },
   "outputs": [],
   "source": [
    "# setting\n",
    "K = 1000\n",
    "demand = np.ones(K) # fixed consumption\n",
    "m = 1\n",
    "mu = np.zeros(K)\n",
    "mu[0] = 0.5\n",
    "n_experiment = 200\n",
    "experiment_length = 15000"
   ]
  },
  {
   "cell_type": "code",
   "execution_count": 3,
   "id": "0deb07a9",
   "metadata": {
    "code_folding": [
     0
    ],
    "hidden": true
   },
   "outputs": [
    {
     "name": "stderr",
     "output_type": "stream",
     "text": [
      "100%|████████████████████████████████████████████████████████████████████████████████| 200/200 [00:39<00:00,  5.12it/s]\n"
     ]
    }
   ],
   "source": [
    "# run the experiment\n",
    "from tqdm import tqdm\n",
    "\n",
    "result = np.zeros((n_experiment, experiment_length))\n",
    "predict = np.zeros((n_experiment, experiment_length))\n",
    "best_arm_ = np.zeros(n_experiment)\n",
    "for exp_index in tqdm(range(n_experiment)):\n",
    "    np.random.seed(exp_index)\n",
    "    \n",
    "    # shuffle the best arms\n",
    "    permutation_index = np.arange(0, K)\n",
    "    np.random.shuffle(permutation_index)\n",
    "    temp_mu = mu[permutation_index]\n",
    "    temp_demand = demand[permutation_index]\n",
    "    \n",
    "    # identify the best arm\n",
    "    best_arm = np.argmax(temp_mu)+1\n",
    "    best_arm_[exp_index] = best_arm\n",
    "    \n",
    "    # run the experiments\n",
    "    env = Env_FixedConsumption_Gaussian(r_list=temp_mu, d_list=temp_demand, K=K, C=999999, random_seed=exp_index)\n",
    "    agent = Uniform_Agent(K=K, C=999999)\n",
    "    for round_index in range(experiment_length):\n",
    "        arm = agent.action()\n",
    "        d, r = env.response(arm)\n",
    "        agent.observe(demand=d, reward=r)\n",
    "        \n",
    "        J_t = agent.predict()\n",
    "        predict[exp_index, round_index] = J_t\n",
    "        result[exp_index, round_index] = J_t != best_arm"
   ]
  },
  {
   "cell_type": "code",
   "execution_count": 6,
   "id": "3324ac6a",
   "metadata": {
    "hidden": true
   },
   "outputs": [],
   "source": [
    "# save the result\n",
    "np.save(\"./Numeric-Record/Uniform-Figure2-m_1-sparse_Failure.npy\", result)\n",
    "np.save(\"./Numeric-Record/Uniform-Figure2-m_1-sparse_predict.npy\", predict)\n",
    "np.save(\"./Numeric-Record/Uniform-Figure2-m_1-sparse_best-arm.npy\", best_arm_)"
   ]
  },
  {
   "cell_type": "markdown",
   "id": "9e927b1e",
   "metadata": {
    "heading_collapsed": true
   },
   "source": [
    "## Doubling Trick on Sequential Halving"
   ]
  },
  {
   "cell_type": "code",
   "execution_count": 7,
   "id": "dd9dba36",
   "metadata": {
    "hidden": true
   },
   "outputs": [],
   "source": [
    "# setting\n",
    "K = 1000\n",
    "demand = np.ones(K) # fixed consumption\n",
    "m = 1\n",
    "mu = np.zeros(K)\n",
    "mu[0] = 0.5\n",
    "n_experiment = 200\n",
    "experiment_length = 15000"
   ]
  },
  {
   "cell_type": "code",
   "execution_count": 8,
   "id": "520eb9f7",
   "metadata": {
    "hidden": true
   },
   "outputs": [
    {
     "name": "stderr",
     "output_type": "stream",
     "text": [
      "100%|████████████████████████████████████████████████████████████████████████████████| 200/200 [01:07<00:00,  2.97it/s]\n"
     ]
    }
   ],
   "source": [
    "# run the experiment\n",
    "from tqdm import tqdm\n",
    "\n",
    "result = np.zeros((n_experiment, experiment_length))\n",
    "predict = np.zeros((n_experiment, experiment_length))\n",
    "best_arm_ = np.zeros(n_experiment)\n",
    "for exp_index in tqdm(range(n_experiment)):\n",
    "    np.random.seed(exp_index)\n",
    "    \n",
    "    # shuffle the best arms\n",
    "    permutation_index = np.arange(0, K)\n",
    "    np.random.shuffle(permutation_index)\n",
    "    temp_mu = mu[permutation_index]\n",
    "    temp_demand = demand[permutation_index]\n",
    "    \n",
    "    # identify the best arm\n",
    "    best_arm = np.argmax(temp_mu)+1\n",
    "    best_arm_[exp_index] = best_arm\n",
    "    \n",
    "    # run the experiments\n",
    "    env = Env_FixedConsumption_Gaussian(r_list=temp_mu, d_list=temp_demand, K=K, C=999999, random_seed=exp_index)\n",
    "    agent = DoublingSequentialHalving_ATMean_Agent(K=K, C=999999)\n",
    "    for round_index in range(experiment_length):\n",
    "        arm = agent.action()\n",
    "        d, r = env.response(arm)\n",
    "        agent.observe(demand=d, reward=r)\n",
    "        \n",
    "        J_t = agent.predict()\n",
    "        predict[exp_index, round_index] = J_t\n",
    "        result[exp_index, round_index] = J_t != best_arm"
   ]
  },
  {
   "cell_type": "code",
   "execution_count": 9,
   "id": "d5c9e077",
   "metadata": {
    "hidden": true
   },
   "outputs": [],
   "source": [
    "# save the result\n",
    "np.save(\"./Numeric-Record/DSH-Figure2-m_1-sparse_Failure.npy\", result)\n",
    "np.save(\"./Numeric-Record/DSH-Figure2-m_1-sparse_predict.npy\", predict)\n",
    "np.save(\"./Numeric-Record/DSH-Figure2-m_1-sparse_best-arm.npy\", best_arm_)"
   ]
  },
  {
   "cell_type": "markdown",
   "id": "e9d6fbac",
   "metadata": {},
   "source": [
    "## UCB"
   ]
  },
  {
   "cell_type": "code",
   "execution_count": 10,
   "id": "cffe33a6",
   "metadata": {},
   "outputs": [],
   "source": [
    "# setting\n",
    "K = 1000\n",
    "demand = np.ones(K) # fixed consumption\n",
    "m = 1\n",
    "mu = np.zeros(K)\n",
    "mu[0] = 0.5\n",
    "n_experiment = 200\n",
    "experiment_length = 15000"
   ]
  },
  {
   "cell_type": "code",
   "execution_count": 11,
   "id": "c2aeec5a",
   "metadata": {
    "code_folding": [
     0
    ]
   },
   "outputs": [
    {
     "name": "stderr",
     "output_type": "stream",
     "text": [
      "100%|████████████████████████████████████████████████████████████████████████████████| 200/200 [01:26<00:00,  2.32it/s]\n"
     ]
    }
   ],
   "source": [
    "# run the experiment\n",
    "from tqdm import tqdm\n",
    "\n",
    "result = np.zeros((n_experiment, experiment_length))\n",
    "predict = np.zeros((n_experiment, experiment_length))\n",
    "best_arm_ = np.zeros(n_experiment)\n",
    "for exp_index in tqdm(range(n_experiment)):\n",
    "    np.random.seed(exp_index)\n",
    "    \n",
    "    # shuffle the best arms\n",
    "    permutation_index = np.arange(0, K)\n",
    "    np.random.shuffle(permutation_index)\n",
    "    temp_mu = mu[permutation_index]\n",
    "    temp_demand = demand[permutation_index]\n",
    "    \n",
    "    # identify the best arm\n",
    "    best_arm = np.argmax(temp_mu)+1\n",
    "    best_arm_[exp_index] = best_arm\n",
    "    \n",
    "    # run the experiments\n",
    "    env = Env_FixedConsumption_Gaussian(r_list=temp_mu, d_list=temp_demand, K=K, C=999999, random_seed=exp_index)\n",
    "    agent = UCB_Agent(K=K, C=999999)\n",
    "    for round_index in range(experiment_length):\n",
    "        arm = agent.action()\n",
    "        d, r = env.response(arm)\n",
    "        agent.observe(demand=d, reward=r)\n",
    "        \n",
    "        J_t = agent.predict()\n",
    "        predict[exp_index, round_index] = J_t\n",
    "        result[exp_index, round_index] = J_t != best_arm"
   ]
  },
  {
   "cell_type": "code",
   "execution_count": 12,
   "id": "bbad5ed7",
   "metadata": {},
   "outputs": [],
   "source": [
    "# save the result\n",
    "np.save(\"./Numeric-Record/UCB-Figure2-m_1-sparse_Failure.npy\", result)\n",
    "np.save(\"./Numeric-Record/UCB-Figure2-m_1-sparse_predict.npy\", predict)\n",
    "np.save(\"./Numeric-Record/UCB-Figure2-m_1-sparse_best-arm.npy\", best_arm_)"
   ]
  },
  {
   "cell_type": "markdown",
   "id": "efd1974f",
   "metadata": {},
   "source": [
    "## AT-LUCB"
   ]
  },
  {
   "cell_type": "code",
   "execution_count": 13,
   "id": "e5b4942a",
   "metadata": {},
   "outputs": [],
   "source": [
    "# setting\n",
    "K = 1000\n",
    "demand = np.ones(K) # fixed consumption\n",
    "m = 1\n",
    "mu = np.zeros(K)\n",
    "mu[0] = 0.5\n",
    "n_experiment = 200\n",
    "experiment_length = 15000"
   ]
  },
  {
   "cell_type": "code",
   "execution_count": 14,
   "id": "1aed76e2",
   "metadata": {
    "code_folding": [
     0
    ]
   },
   "outputs": [
    {
     "name": "stderr",
     "output_type": "stream",
     "text": [
      "100%|██████████████████████████████████████████████████████████████████████████████| 200/200 [2:58:08<00:00, 53.44s/it]\n"
     ]
    }
   ],
   "source": [
    "# run the experiment\n",
    "from tqdm import tqdm\n",
    "\n",
    "result = np.zeros((n_experiment, experiment_length))\n",
    "predict = np.zeros((n_experiment, experiment_length))\n",
    "best_arm_ = np.zeros(n_experiment)\n",
    "for exp_index in tqdm(range(n_experiment)):\n",
    "    np.random.seed(exp_index)\n",
    "    \n",
    "    # shuffle the best arms\n",
    "    permutation_index = np.arange(0, K)\n",
    "    np.random.shuffle(permutation_index)\n",
    "    temp_mu = mu[permutation_index]\n",
    "    temp_demand = demand[permutation_index]\n",
    "    \n",
    "    # identify the best arm\n",
    "    best_arm = np.argmax(temp_mu)+1\n",
    "    best_arm_[exp_index] = best_arm\n",
    "    \n",
    "    # run the experiments\n",
    "    env = Env_FixedConsumption_Gaussian(r_list=temp_mu, d_list=temp_demand, K=K, C=999999, random_seed=exp_index)\n",
    "    agent = AT_LUCB_Agent(K=K, C=999999, delta_1=0.5, alpha=0.99, epsilon=0., m=m)\n",
    "    for round_index in range(experiment_length):\n",
    "        arm = agent.action()\n",
    "        d, r = env.response(arm)\n",
    "        agent.observe(demand=d, reward=r)\n",
    "        \n",
    "        J_t = agent.predict()\n",
    "        predict[exp_index, round_index] = J_t\n",
    "        result[exp_index, round_index] = J_t != best_arm"
   ]
  },
  {
   "cell_type": "code",
   "execution_count": 15,
   "id": "910af222",
   "metadata": {},
   "outputs": [],
   "source": [
    "# save the result\n",
    "np.save(\"./Numeric-Record/AT-LUCB-Figure2-m_1-sparse_Failure.npy\", result)\n",
    "np.save(\"./Numeric-Record/AT-LUCB-Figure2-m_1-sparse_predict.npy\", predict)\n",
    "np.save(\"./Numeric-Record/AT-LUCB-Figure2-m_1-sparse_best-arm.npy\", best_arm_)"
   ]
  },
  {
   "cell_type": "markdown",
   "id": "8520dc00",
   "metadata": {},
   "source": [
    "## Plot the figure"
   ]
  },
  {
   "cell_type": "code",
   "execution_count": 18,
   "id": "0b2c03ed",
   "metadata": {},
   "outputs": [
    {
     "data": {
      "image/png": "[encoded data removed]",
      "text/plain": [
       "<Figure size 720x576 with 1 Axes>"
      ]
     },
     "metadata": {
      "needs_background": "light"
     },
     "output_type": "display_data"
    }
   ],
   "source": [
    "import matplotlib.pyplot as plt\n",
    "import numpy as np\n",
    "\n",
    "plt.figure(figsize=(10, 8))\n",
    "# index = np.arange(0, 15000, 100)\n",
    "index = np.arange(0, 15000, 1)\n",
    "\n",
    "# result = np.load(\"./Reproduce_Jun2016/Debug-AT-LUCB-Figure2-m_1-sparse_result.npy\")\n",
    "# plt.plot(np.mean(result, axis=0), \"o-\", label=\"AT-LUCB\")\n",
    "# result = np.load(\"./Reproduce_Jun2016/Debug-Uniform-Figure2-m_1-sparse_result.npy\")\n",
    "# plt.plot(np.mean(result, axis=0), \"x-\", label=\"Uniform\")\n",
    "# result = np.load(\"./Reproduce_Jun2016/Debug-UCB-Figure2-m_1-sparse_result.npy\")\n",
    "# plt.plot(np.mean(result, axis=0), \".-\", label=\"UCB\")\n",
    "\n",
    "result = np.load(\"./Numeric-Record/AT-LUCB-Figure2-m_1-sparse_Failure.npy\")\n",
    "plt.plot(index, np.mean(result, axis=0)[index], \"d--\", label=\"AT-LUCB\")\n",
    "result = np.load(\"./Numeric-Record/Uniform-Figure2-m_1-sparse_Failure.npy\")\n",
    "plt.plot(index, np.mean(result, axis=0)[index], \"+--\", label=\"Uniform\")\n",
    "result = np.load(\"./Numeric-Record/UCB-Figure2-m_1-sparse_Failure.npy\")\n",
    "plt.plot(index, np.mean(result, axis=0)[index], \"--\", label=\"UCB\")\n",
    "result = np.load(\"./Numeric-Record/DSH-Figure2-m_1-sparse_Failure.npy\")\n",
    "plt.plot(index, np.mean(result, axis=0)[index], \"x-\", label=\"DSH-ATMean\")\n",
    "\n",
    "plt.legend()\n",
    "plt.title(\"Reproduce Figure 2 Sparse Case in Jun2016\")\n",
    "plt.ylim(bottom=0., top=1.)\n",
    "plt.xlim(left=0, right=16000)\n",
    "plt.xticks(np.arange(0, 16000, 5000))\n",
    "plt.ylabel(\"Failure Probability\")\n",
    "plt.xlabel(\"Round Index\")\n",
    "plt.show()"
   ]
  },
  {
   "cell_type": "code",
   "execution_count": null,
   "id": "44b6f193",
   "metadata": {},
   "outputs": [],
   "source": []
  }
 ],
 "metadata": {
  "kernelspec": {
   "display_name": "Python 3",
   "language": "python",
   "name": "python3"
  },
  "language_info": {
   "codemirror_mode": {
    "name": "ipython",
    "version": 3
   },
   "file_extension": ".py",
   "mimetype": "text/x-python",
   "name": "python",
   "nbconvert_exporter": "python",
   "pygments_lexer": "ipython3",
   "version": "3.8.8"
  }
 },
 "nbformat": 4,
 "nbformat_minor": 5
}
