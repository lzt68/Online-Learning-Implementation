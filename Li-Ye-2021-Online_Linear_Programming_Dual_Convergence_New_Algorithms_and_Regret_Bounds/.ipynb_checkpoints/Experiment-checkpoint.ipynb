{
 "cells": [
  {
   "cell_type": "markdown",
   "id": "d9688db2",
   "metadata": {},
   "source": [
    "# Experiment Demo\n",
    "\n",
    "We aims to reproduce the figure 2 in Li & Ye 2021 "
   ]
  },
  {
   "cell_type": "markdown",
   "id": "0efee505",
   "metadata": {
    "heading_collapsed": true
   },
   "source": [
    "## Left Panel in Figure 2\n",
    "\n",
    "m = 4, n = \\[25, 50, 100, 250, 500\\], Random Input I"
   ]
  },
  {
   "cell_type": "code",
   "execution_count": 1,
   "id": "500ec88d",
   "metadata": {
    "code_folding": [
     0
    ],
    "hidden": true
   },
   "outputs": [],
   "source": [
    "# import pacakges\n",
    "import numpy as np\n",
    "from Source.env import RandomInputI\n",
    "from Source.agent import NoNeedtoLearn, SimplifiedDynamicLearning, ActionHistoryDependentLearning\n",
    "from scipy.optimize import linprog\n",
    "from tqdm import tqdm\n",
    "\n",
    "# numeric setting\n",
    "m = 4\n",
    "n_ = [25, 50, 100, 250, 500]\n",
    "d = 0.25\n",
    "random_seed = 0"
   ]
  },
  {
   "cell_type": "code",
   "execution_count": 2,
   "id": "fe7f9ff0",
   "metadata": {
    "code_folding": [
     0
    ],
    "hidden": true
   },
   "outputs": [
    {
     "name": "stderr",
     "output_type": "stream",
     "text": [
      "100%|██████████████████████████████████████████████████████████████████████████████████| 10/10 [06:47<00:00, 40.74s/it]\n"
     ]
    }
   ],
   "source": [
    "# conduct the experiment\n",
    "n_experiment = 10\n",
    "reward_noneed = np.zeros((n_experiment, len(n_)))\n",
    "reward_simplified = np.zeros((n_experiment, len(n_)))\n",
    "reward_dependent = np.zeros((n_experiment, len(n_)))\n",
    "reward_opt = np.zeros((n_experiment, len(n_))) # offline benchmark\n",
    "\n",
    "for exp_index in tqdm(range(n_experiment)):\n",
    "# for exp_index in range(n_experiment):\n",
    "    for ii, n in enumerate(n_):\n",
    "        b = d * np.ones(m) * n\n",
    "\n",
    "        # No-Need-to-Learn\n",
    "        env = RandomInputI(m=m, n=n, b=b, random_seed=random_seed + exp_index)\n",
    "        agent = NoNeedtoLearn(m=m, n=n, b=b, input_name=\"RandomInputI\")\n",
    "        while not env.if_stop():\n",
    "            r_t, a_t = env.deal()\n",
    "            action = agent.action(r_t=r_t, a_t=a_t)\n",
    "            env.observe(action)\n",
    "        reward_noneed[exp_index, ii] = np.sum(agent.reward_)\n",
    "\n",
    "        # offline linear benchmark\n",
    "        a = env.a\n",
    "        r = env.r\n",
    "        res = linprog(c=-r, A_ub=a, b_ub=b, bounds = [(0.0, 1.0)] * n)\n",
    "        reward_opt[exp_index, ii] = -res.fun\n",
    "        \n",
    "        # Simplified\n",
    "        env = RandomInputI(m=m, n=n, b=b, random_seed=random_seed + exp_index)\n",
    "        agent = SimplifiedDynamicLearning(m=m, n=n, b=b)\n",
    "        while not env.if_stop():\n",
    "            r_t, a_t = env.deal()\n",
    "            action = agent.action(r_t=r_t, a_t=a_t)\n",
    "            env.observe(action)\n",
    "        reward_simplified[exp_index, ii] = np.sum(agent.reward_)\n",
    "        \n",
    "        # Dependent\n",
    "        env = RandomInputI(m=m, n=n, b=b, random_seed=random_seed + exp_index)\n",
    "        agent = ActionHistoryDependentLearning(m=m, n=n, b=b)\n",
    "        while not env.if_stop():\n",
    "            r_t, a_t = env.deal()\n",
    "            action = agent.action(r_t=r_t, a_t=a_t)\n",
    "            env.observe(action)\n",
    "        reward_dependent[exp_index, ii] = np.sum(agent.reward_)\n",
    "        \n",
    "        # print(f\"{n} done\")"
   ]
  },
  {
   "cell_type": "code",
   "execution_count": 3,
   "id": "5dad749a",
   "metadata": {
    "hidden": true,
    "scrolled": true
   },
   "outputs": [
    {
     "data": {
      "image/png": "[encoded data removed]",
      "text/plain": [
       "<Figure size 432x288 with 1 Axes>"
      ]
     },
     "metadata": {
      "needs_background": "light"
     },
     "output_type": "display_data"
    }
   ],
   "source": [
    "import matplotlib.pyplot as plt\n",
    "\n",
    "regret_noneed = reward_opt - reward_noneed\n",
    "regret_simplified = reward_opt - reward_simplified\n",
    "regret_dependent = reward_opt - reward_dependent\n",
    "\n",
    "regret_noneed_mean = np.mean(regret_noneed, axis=0)\n",
    "regret_simplified_mean = np.mean(regret_simplified, axis=0)\n",
    "regret_dependent_mean = np.mean(regret_dependent, axis=0)\n",
    "\n",
    "plt.plot(n_, regret_noneed_mean, label=\"No Need To Learn\", marker=\"*\")\n",
    "plt.plot(n_, regret_simplified_mean, label=\"Simplified Dynamic Learning\", marker=\"+\")\n",
    "plt.plot(n_, regret_dependent_mean, label=\"History Dependent\", marker=\"o\")\n",
    "plt.legend()\n",
    "plt.show()"
   ]
  },
  {
   "cell_type": "markdown",
   "id": "c40c2619",
   "metadata": {
    "heading_collapsed": true
   },
   "source": [
    "## Right Panel in Figure 2\n",
    "\n",
    "m = 4, n = \\[25, 50, 100, 250, 500\\], Random Input I"
   ]
  },
  {
   "cell_type": "code",
   "execution_count": 1,
   "id": "5c1bfaf7",
   "metadata": {
    "hidden": true
   },
   "outputs": [],
   "source": [
    "# import pacakges\n",
    "import numpy as np\n",
    "from Source.env import RandomInputII\n",
    "from Source.agent import NoNeedtoLearn, SimplifiedDynamicLearning, ActionHistoryDependentLearning\n",
    "from scipy.optimize import linprog\n",
    "from tqdm import tqdm\n",
    "\n",
    "# numeric setting\n",
    "m = 4\n",
    "n_ = [25, 50, 100, 250, 500]\n",
    "# n_ = [100]\n",
    "d = 0.2\n",
    "random_seed = 0"
   ]
  },
  {
   "cell_type": "code",
   "execution_count": 3,
   "id": "79be2bd8",
   "metadata": {
    "code_folding": [
     0
    ],
    "hidden": true
   },
   "outputs": [
    {
     "name": "stderr",
     "output_type": "stream",
     "text": [
      "100%|██████████████████████████████████████████████████████████████████████████████████| 10/10 [04:45<00:00, 28.60s/it]\n"
     ]
    }
   ],
   "source": [
    "# conduct the experiment\n",
    "n_experiment = 10\n",
    "reward_noneed = np.zeros((n_experiment, len(n_)))\n",
    "reward_simplified = np.zeros((n_experiment, len(n_)))\n",
    "reward_dependent = np.zeros((n_experiment, len(n_)))\n",
    "reward_opt = np.zeros((n_experiment, len(n_))) # offline benchmark\n",
    "\n",
    "for exp_index in tqdm(range(n_experiment)):\n",
    "# for exp_index in range(n_experiment):\n",
    "    for ii, n in enumerate(n_):\n",
    "        b = d * np.ones(m) * n\n",
    "\n",
    "        # No-Need-to-Learn\n",
    "        env = RandomInputII(m=m, n=n, b=b, random_seed=random_seed + exp_index)\n",
    "        agent = NoNeedtoLearn(m=m, n=n, b=b, input_name=\"RandomInputII\")\n",
    "        while not env.if_stop():\n",
    "            r_t, a_t = env.deal()\n",
    "            action = agent.action(r_t=r_t, a_t=a_t)\n",
    "            env.observe(action)\n",
    "        reward_noneed[exp_index, ii] = np.sum(agent.reward_)\n",
    "\n",
    "        # offline linear benchmark\n",
    "        a = env.a\n",
    "        r = env.r\n",
    "        res = linprog(c=-r, A_ub=a, b_ub=b, bounds = [(0.0, 1.0)] * n)\n",
    "        reward_opt[exp_index, ii] = -res.fun\n",
    "        \n",
    "        # Simplified\n",
    "        env = RandomInputII(m=m, n=n, b=b, random_seed=random_seed + exp_index)\n",
    "        agent = SimplifiedDynamicLearning(m=m, n=n, b=b, solver=\"SCIP\")\n",
    "        while not env.if_stop():\n",
    "            r_t, a_t = env.deal()\n",
    "            action = agent.action(r_t=r_t, a_t=a_t)\n",
    "            env.observe(action)\n",
    "        reward_simplified[exp_index, ii] = np.sum(agent.reward_)\n",
    "        \n",
    "        # Dependent\n",
    "        env = RandomInputII(m=m, n=n, b=b, random_seed=random_seed + exp_index)\n",
    "        agent = ActionHistoryDependentLearning(m=m, n=n, b=b, solver=\"SCIP\")\n",
    "        while not env.if_stop():\n",
    "            r_t, a_t = env.deal()\n",
    "            action = agent.action(r_t=r_t, a_t=a_t)\n",
    "            env.observe(action)\n",
    "        reward_dependent[exp_index, ii] = np.sum(agent.reward_)\n",
    "        \n",
    "        # print(f\"{n} done\")"
   ]
  },
  {
   "cell_type": "code",
   "execution_count": 4,
   "id": "f4ac624c",
   "metadata": {
    "hidden": true,
    "scrolled": true
   },
   "outputs": [
    {
     "data": {
      "image/png": "[encoded data removed]",
      "text/plain": [
       "<Figure size 432x288 with 1 Axes>"
      ]
     },
     "metadata": {
      "needs_background": "light"
     },
     "output_type": "display_data"
    }
   ],
   "source": [
    "import matplotlib.pyplot as plt\n",
    "\n",
    "regret_noneed = reward_opt - reward_noneed\n",
    "regret_simplified = reward_opt - reward_simplified\n",
    "regret_dependent = reward_opt - reward_dependent\n",
    "\n",
    "regret_noneed_mean = np.mean(regret_noneed, axis=0)\n",
    "regret_simplified_mean = np.mean(regret_simplified, axis=0)\n",
    "regret_dependent_mean = np.mean(regret_dependent, axis=0)\n",
    "\n",
    "plt.plot(n_, regret_noneed_mean, label=\"No Need To Learn\", marker=\"*\")\n",
    "plt.plot(n_, regret_simplified_mean, label=\"Simplified Dynamic Learning\", marker=\"+\")\n",
    "plt.plot(n_, regret_dependent_mean, label=\"History Dependent\", marker=\"o\")\n",
    "plt.legend()\n",
    "plt.show()"
   ]
  },
  {
   "cell_type": "code",
   "execution_count": null,
   "id": "d0dd5c8e",
   "metadata": {
    "hidden": true
   },
   "outputs": [],
   "source": []
  }
 ],
 "metadata": {
  "kernelspec": {
   "display_name": "Python 3",
   "language": "python",
   "name": "python3"
  },
  "language_info": {
   "codemirror_mode": {
    "name": "ipython",
    "version": 3
   },
   "file_extension": ".py",
   "mimetype": "text/x-python",
   "name": "python",
   "nbconvert_exporter": "python",
   "pygments_lexer": "ipython3",
   "version": "3.8.8"
  }
 },
 "nbformat": 4,
 "nbformat_minor": 5
}
